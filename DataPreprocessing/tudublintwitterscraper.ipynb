{
 "cells": [
  {
   "cell_type": "code",
   "execution_count": 2,
   "id": "fa4c736f",
   "metadata": {},
   "outputs": [
    {
     "name": "stdout",
     "output_type": "stream",
     "text": [
      "Collecting git+https://github.com/JustAnotherArchivist/snscrape.git\n",
      "  Cloning https://github.com/JustAnotherArchivist/snscrape.git to c:\\users\\rgons\\appdata\\local\\temp\\pip-req-build-9hpisecu\n",
      "Requirement already satisfied: requests[socks] in c:\\users\\rgons\\anaconda new\\lib\\site-packages (from snscrape==0.4.3.20220107.dev65+g46a6030) (2.25.1)\n",
      "Requirement already satisfied: lxml in c:\\users\\rgons\\anaconda new\\lib\\site-packages (from snscrape==0.4.3.20220107.dev65+g46a6030) (4.6.3)\n",
      "Requirement already satisfied: beautifulsoup4 in c:\\users\\rgons\\anaconda new\\lib\\site-packages (from snscrape==0.4.3.20220107.dev65+g46a6030) (4.9.3)\n",
      "Requirement already satisfied: filelock in c:\\users\\rgons\\anaconda new\\lib\\site-packages (from snscrape==0.4.3.20220107.dev65+g46a6030) (3.0.12)\n",
      "Requirement already satisfied: pytz in c:\\users\\rgons\\anaconda new\\lib\\site-packages (from snscrape==0.4.3.20220107.dev65+g46a6030) (2021.1)\n",
      "Requirement already satisfied: soupsieve>1.2 in c:\\users\\rgons\\anaconda new\\lib\\site-packages (from beautifulsoup4->snscrape==0.4.3.20220107.dev65+g46a6030) (2.2.1)\n",
      "Requirement already satisfied: idna<3,>=2.5 in c:\\users\\rgons\\anaconda new\\lib\\site-packages (from requests[socks]->snscrape==0.4.3.20220107.dev65+g46a6030) (2.10)\n",
      "Requirement already satisfied: urllib3<1.27,>=1.21.1 in c:\\users\\rgons\\anaconda new\\lib\\site-packages (from requests[socks]->snscrape==0.4.3.20220107.dev65+g46a6030) (1.26.4)\n",
      "Requirement already satisfied: certifi>=2017.4.17 in c:\\users\\rgons\\anaconda new\\lib\\site-packages (from requests[socks]->snscrape==0.4.3.20220107.dev65+g46a6030) (2022.9.24)\n",
      "Requirement already satisfied: chardet<5,>=3.0.2 in c:\\users\\rgons\\anaconda new\\lib\\site-packages (from requests[socks]->snscrape==0.4.3.20220107.dev65+g46a6030) (4.0.0)\n",
      "Requirement already satisfied: PySocks!=1.5.7,>=1.5.6 in c:\\users\\rgons\\anaconda new\\lib\\site-packages (from requests[socks]->snscrape==0.4.3.20220107.dev65+g46a6030) (1.7.1)\n",
      "Building wheels for collected packages: snscrape\n",
      "  Building wheel for snscrape (setup.py): started\n",
      "  Building wheel for snscrape (setup.py): finished with status 'done'\n",
      "  Created wheel for snscrape: filename=snscrape-0.4.3.20220107.dev65+g46a6030-py3-none-any.whl size=68450 sha256=fe5bee68792650d11bac73c12e6e18b21503ee6811beffc4247739df50c3f061\n",
      "  Stored in directory: C:\\Users\\rgons\\AppData\\Local\\Temp\\pip-ephem-wheel-cache-l2nziy9q\\wheels\\92\\42\\87\\33fa9b18f7a75d02643a9ca3743339aec9be28c6796267c7d8\n",
      "Successfully built snscrape\n",
      "Installing collected packages: snscrape\n",
      "Successfully installed snscrape-0.4.3.20220107.dev65+g46a6030\n"
     ]
    },
    {
     "name": "stderr",
     "output_type": "stream",
     "text": [
      "  Running command git clone -q https://github.com/JustAnotherArchivist/snscrape.git 'C:\\Users\\rgons\\AppData\\Local\\Temp\\pip-req-build-9hpisecu'\n"
     ]
    }
   ],
   "source": [
    "!pip3 install git+https://github.com/JustAnotherArchivist/snscrape.git"
   ]
  },
  {
   "cell_type": "code",
   "execution_count": 3,
   "id": "b77b7f3a",
   "metadata": {},
   "outputs": [],
   "source": [
    "import snscrape.modules.twitter as sntwitter\n",
    "import pandas as pd"
   ]
  },
  {
   "cell_type": "code",
   "execution_count": 4,
   "id": "dceed074",
   "metadata": {},
   "outputs": [
    {
     "name": "stderr",
     "output_type": "stream",
     "text": [
      "<ipython-input-4-804f78b96aed>:8: FutureWarning: content is deprecated, use rawContent instead\n",
      "  attributes_container.append([tweet.date, tweet.likeCount, tweet.sourceLabel, tweet.content])\n"
     ]
    }
   ],
   "source": [
    "# Create a list to append all tweet attributes(data)\n",
    "attributes_container = []\n",
    "\n",
    "# Use TwitterSearchScraper to scrape data and append tweets to list\n",
    "for i,tweet in enumerate(sntwitter.TwitterSearchScraper('from:stanfordnlp').get_items()):\n",
    "    if i>100:\n",
    "        break\n",
    "    attributes_container.append([tweet.date, tweet.likeCount, tweet.sourceLabel, tweet.content])"
   ]
  },
  {
   "cell_type": "code",
   "execution_count": 5,
   "id": "142d0286",
   "metadata": {},
   "outputs": [],
   "source": [
    "# Create a dataframe from the tweets list above \n",
    "tweets_df = pd.DataFrame(attributes_container, columns=[\"Date Created\", \"Number of Likes\", \"Source of Tweet\", \"Tweets\"])"
   ]
  },
  {
   "cell_type": "code",
   "execution_count": 8,
   "id": "6b79e310",
   "metadata": {},
   "outputs": [
    {
     "name": "stderr",
     "output_type": "stream",
     "text": [
      "<ipython-input-8-77da1f07ae42>:11: FutureWarning: content is deprecated, use rawContent instead\n",
      "  attributes_container.append([tweet.date, tweet.likeCount, tweet.sourceLabel, tweet.content])\n"
     ]
    }
   ],
   "source": [
    "import snscrape.modules.twitter as sntwitter\n",
    "import pandas as pd\n",
    "\n",
    "attributes_container = []\n",
    "\n",
    "\n",
    "for i, tweet in enumerate(sntwitter.TwitterSearchScraper('from:WeAreTUDublin').get_items()):\n",
    "    if i > 10:\n",
    "        break\n",
    "    attributes_container.append([tweet.date, tweet.likeCount, tweet.sourceLabel, tweet.content])\n",
    "\n",
    "# Create a dataframe from the tweets list above\n",
    "tweets_df = pd.DataFrame(attributes_container, columns=[\"Date Created\", \"Number of Likes\", \"Source of Tweet\", \"Tweets\"])"
   ]
  },
  {
   "cell_type": "code",
   "execution_count": 9,
   "id": "606de3d6",
   "metadata": {},
   "outputs": [],
   "source": [
    "tweets_df.to_csv(\"Top Posts.csv\", index=True)"
   ]
  },
  {
   "cell_type": "code",
   "execution_count": null,
   "id": "8ad3f412",
   "metadata": {},
   "outputs": [],
   "source": []
  }
 ],
 "metadata": {
  "kernelspec": {
   "display_name": "Python 3",
   "language": "python",
   "name": "python3"
  },
  "language_info": {
   "codemirror_mode": {
    "name": "ipython",
    "version": 3
   },
   "file_extension": ".py",
   "mimetype": "text/x-python",
   "name": "python",
   "nbconvert_exporter": "python",
   "pygments_lexer": "ipython3",
   "version": "3.8.8"
  }
 },
 "nbformat": 4,
 "nbformat_minor": 5
}
