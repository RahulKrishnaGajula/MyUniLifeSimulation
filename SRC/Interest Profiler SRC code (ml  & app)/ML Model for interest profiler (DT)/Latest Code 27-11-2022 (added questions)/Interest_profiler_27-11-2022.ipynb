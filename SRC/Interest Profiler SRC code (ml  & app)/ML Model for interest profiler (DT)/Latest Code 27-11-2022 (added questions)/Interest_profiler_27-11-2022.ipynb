{
 "cells": [
  {
   "cell_type": "markdown",
   "metadata": {},
   "source": [
    "## Import Libraries"
   ]
  },
  {
   "cell_type": "code",
   "execution_count": 1,
   "metadata": {
    "execution": {
     "iopub.execute_input": "2021-05-21T09:14:42.293965Z",
     "iopub.status.busy": "2021-05-21T09:14:42.293578Z",
     "iopub.status.idle": "2021-05-21T09:14:42.300598Z",
     "shell.execute_reply": "2021-05-21T09:14:42.299138Z",
     "shell.execute_reply.started": "2021-05-21T09:14:42.293932Z"
    }
   },
   "outputs": [],
   "source": [
    "import pandas as pd\n",
    "import numpy as np\n",
    "import matplotlib.pyplot as plt\n",
    "import seaborn as sns\n",
    "from sklearn.model_selection import train_test_split\n",
    "from sklearn.metrics import confusion_matrix,accuracy_score\n",
    "from sklearn import svm\n",
    "from sklearn.tree import DecisionTreeClassifier\n",
    "from sklearn.ensemble import RandomForestClassifier\n",
    "from xgboost import XGBClassifier\n",
    "from sklearn.naive_bayes import GaussianNB\n",
    "import warnings\n",
    "warnings.filterwarnings(\"ignore\")"
   ]
  },
  {
   "cell_type": "markdown",
   "metadata": {},
   "source": [
    "## Import Data"
   ]
  },
  {
   "cell_type": "code",
   "execution_count": 2,
   "metadata": {
    "execution": {
     "iopub.execute_input": "2021-05-21T09:14:43.702487Z",
     "iopub.status.busy": "2021-05-21T09:14:43.701875Z",
     "iopub.status.idle": "2021-05-21T09:14:43.913694Z",
     "shell.execute_reply": "2021-05-21T09:14:43.912306Z",
     "shell.execute_reply.started": "2021-05-21T09:14:43.702436Z"
    }
   },
   "outputs": [
    {
     "data": {
      "text/html": [
       "<div>\n",
       "<style scoped>\n",
       "    .dataframe tbody tr th:only-of-type {\n",
       "        vertical-align: middle;\n",
       "    }\n",
       "\n",
       "    .dataframe tbody tr th {\n",
       "        vertical-align: top;\n",
       "    }\n",
       "\n",
       "    .dataframe thead th {\n",
       "        text-align: right;\n",
       "    }\n",
       "</style>\n",
       "<table border=\"1\" class=\"dataframe\">\n",
       "  <thead>\n",
       "    <tr style=\"text-align: right;\">\n",
       "      <th></th>\n",
       "      <th>Logical_quotient_rating</th>\n",
       "      <th>i_get_stressed_out_easily</th>\n",
       "      <th>coding_skills_rating</th>\n",
       "      <th>public_speaking_points</th>\n",
       "      <th>i_am_always_prepared</th>\n",
       "      <th>i_follow_a_schedule</th>\n",
       "      <th>i_am_quick_to_understand_things</th>\n",
       "      <th>i_am_full_of_ideas</th>\n",
       "      <th>i_start_conversations</th>\n",
       "      <th>do_you_like_sports</th>\n",
       "      <th>...</th>\n",
       "      <th>reading_and _writing_skills</th>\n",
       "      <th>memory_capability_score</th>\n",
       "      <th>interested_career_area</th>\n",
       "      <th>Type_of_company_want_to_settle_in</th>\n",
       "      <th>Interested_Type_of_Books</th>\n",
       "      <th>Non_Technical_or_Technical</th>\n",
       "      <th>hard_smart_worker</th>\n",
       "      <th>worked_in_teams_ever</th>\n",
       "      <th>Introvert</th>\n",
       "      <th>Suggested_Job_Role</th>\n",
       "    </tr>\n",
       "  </thead>\n",
       "  <tbody>\n",
       "    <tr>\n",
       "      <th>0</th>\n",
       "      <td>8</td>\n",
       "      <td>5</td>\n",
       "      <td>7</td>\n",
       "      <td>7</td>\n",
       "      <td>1</td>\n",
       "      <td>2</td>\n",
       "      <td>7</td>\n",
       "      <td>8</td>\n",
       "      <td>3</td>\n",
       "      <td>no</td>\n",
       "      <td>...</td>\n",
       "      <td>medium</td>\n",
       "      <td>poor</td>\n",
       "      <td>testing</td>\n",
       "      <td>BPA</td>\n",
       "      <td>Series</td>\n",
       "      <td>Technical</td>\n",
       "      <td>smart worker</td>\n",
       "      <td>yes</td>\n",
       "      <td>yes</td>\n",
       "      <td>Applications Developer</td>\n",
       "    </tr>\n",
       "    <tr>\n",
       "      <th>1</th>\n",
       "      <td>9</td>\n",
       "      <td>2</td>\n",
       "      <td>2</td>\n",
       "      <td>2</td>\n",
       "      <td>5</td>\n",
       "      <td>3</td>\n",
       "      <td>2</td>\n",
       "      <td>2</td>\n",
       "      <td>1</td>\n",
       "      <td>yes</td>\n",
       "      <td>...</td>\n",
       "      <td>excellent</td>\n",
       "      <td>medium</td>\n",
       "      <td>system developer</td>\n",
       "      <td>Cloud Services</td>\n",
       "      <td>Autobiographies</td>\n",
       "      <td>Technical</td>\n",
       "      <td>hard worker</td>\n",
       "      <td>no</td>\n",
       "      <td>no</td>\n",
       "      <td>Applications Developer</td>\n",
       "    </tr>\n",
       "    <tr>\n",
       "      <th>2</th>\n",
       "      <td>6</td>\n",
       "      <td>2</td>\n",
       "      <td>1</td>\n",
       "      <td>4</td>\n",
       "      <td>1</td>\n",
       "      <td>0</td>\n",
       "      <td>9</td>\n",
       "      <td>0</td>\n",
       "      <td>4</td>\n",
       "      <td>yes</td>\n",
       "      <td>...</td>\n",
       "      <td>excellent</td>\n",
       "      <td>poor</td>\n",
       "      <td>Business process analyst</td>\n",
       "      <td>product development</td>\n",
       "      <td>Travel</td>\n",
       "      <td>Technical</td>\n",
       "      <td>smart worker</td>\n",
       "      <td>yes</td>\n",
       "      <td>yes</td>\n",
       "      <td>Applications Developer</td>\n",
       "    </tr>\n",
       "    <tr>\n",
       "      <th>3</th>\n",
       "      <td>1</td>\n",
       "      <td>7</td>\n",
       "      <td>3</td>\n",
       "      <td>7</td>\n",
       "      <td>3</td>\n",
       "      <td>8</td>\n",
       "      <td>9</td>\n",
       "      <td>9</td>\n",
       "      <td>9</td>\n",
       "      <td>no</td>\n",
       "      <td>...</td>\n",
       "      <td>excellent</td>\n",
       "      <td>poor</td>\n",
       "      <td>testing</td>\n",
       "      <td>Testing and Maintainance Services</td>\n",
       "      <td>Guide</td>\n",
       "      <td>Technical</td>\n",
       "      <td>smart worker</td>\n",
       "      <td>no</td>\n",
       "      <td>yes</td>\n",
       "      <td>Applications Developer</td>\n",
       "    </tr>\n",
       "    <tr>\n",
       "      <th>4</th>\n",
       "      <td>7</td>\n",
       "      <td>4</td>\n",
       "      <td>1</td>\n",
       "      <td>0</td>\n",
       "      <td>5</td>\n",
       "      <td>5</td>\n",
       "      <td>8</td>\n",
       "      <td>3</td>\n",
       "      <td>1</td>\n",
       "      <td>no</td>\n",
       "      <td>...</td>\n",
       "      <td>excellent</td>\n",
       "      <td>medium</td>\n",
       "      <td>system developer</td>\n",
       "      <td>BPA</td>\n",
       "      <td>Health</td>\n",
       "      <td>Non_Technical</td>\n",
       "      <td>hard worker</td>\n",
       "      <td>yes</td>\n",
       "      <td>no</td>\n",
       "      <td>Applications Developer</td>\n",
       "    </tr>\n",
       "  </tbody>\n",
       "</table>\n",
       "<p>5 rows × 25 columns</p>\n",
       "</div>"
      ],
      "text/plain": [
       "   Logical_quotient_rating  i_get_stressed_out_easily  coding_skills_rating  \\\n",
       "0                        8                          5                     7   \n",
       "1                        9                          2                     2   \n",
       "2                        6                          2                     1   \n",
       "3                        1                          7                     3   \n",
       "4                        7                          4                     1   \n",
       "\n",
       "   public_speaking_points  i_am_always_prepared  i_follow_a_schedule  \\\n",
       "0                       7                     1                    2   \n",
       "1                       2                     5                    3   \n",
       "2                       4                     1                    0   \n",
       "3                       7                     3                    8   \n",
       "4                       0                     5                    5   \n",
       "\n",
       "   i_am_quick_to_understand_things  i_am_full_of_ideas  i_start_conversations  \\\n",
       "0                                7                   8                      3   \n",
       "1                                2                   2                      1   \n",
       "2                                9                   0                      4   \n",
       "3                                9                   9                      9   \n",
       "4                                8                   3                      1   \n",
       "\n",
       "  do_you_like_sports  ... reading_and _writing_skills memory_capability_score  \\\n",
       "0                 no  ...                      medium                    poor   \n",
       "1                yes  ...                   excellent                  medium   \n",
       "2                yes  ...                   excellent                    poor   \n",
       "3                 no  ...                   excellent                    poor   \n",
       "4                 no  ...                   excellent                  medium   \n",
       "\n",
       "    interested_career_area   Type_of_company_want_to_settle_in  \\\n",
       "0                   testing                                BPA   \n",
       "1          system developer                     Cloud Services   \n",
       "2  Business process analyst                product development   \n",
       "3                   testing  Testing and Maintainance Services   \n",
       "4          system developer                                BPA   \n",
       "\n",
       "  Interested_Type_of_Books Non_Technical_or_Technical hard_smart_worker  \\\n",
       "0                   Series                  Technical      smart worker   \n",
       "1          Autobiographies                  Technical       hard worker   \n",
       "2                   Travel                  Technical      smart worker   \n",
       "3                    Guide                  Technical      smart worker   \n",
       "4                   Health              Non_Technical       hard worker   \n",
       "\n",
       "  worked_in_teams_ever Introvert      Suggested_Job_Role  \n",
       "0                  yes       yes  Applications Developer  \n",
       "1                   no        no  Applications Developer  \n",
       "2                  yes       yes  Applications Developer  \n",
       "3                   no       yes  Applications Developer  \n",
       "4                  yes        no  Applications Developer  \n",
       "\n",
       "[5 rows x 25 columns]"
      ]
     },
     "execution_count": 2,
     "metadata": {},
     "output_type": "execute_result"
    }
   ],
   "source": [
    "df = pd.read_csv('int_prof.csv')\n",
    "df['Non_Technical_or_Technical'] = df['Non_Technical_or_Technical'].replace(['Non Technical'], 'Non_Technical')\n",
    "df.head()"
   ]
  },
  {
   "cell_type": "code",
   "execution_count": 3,
   "metadata": {
    "execution": {
     "iopub.execute_input": "2021-05-21T09:14:44.069016Z",
     "iopub.status.busy": "2021-05-21T09:14:44.068615Z",
     "iopub.status.idle": "2021-05-21T09:14:44.074579Z",
     "shell.execute_reply": "2021-05-21T09:14:44.073475Z",
     "shell.execute_reply.started": "2021-05-21T09:14:44.068982Z"
    }
   },
   "outputs": [
    {
     "name": "stdout",
     "output_type": "stream",
     "text": [
      "Shape of data is: 9902 entries and 25 columns\n"
     ]
    }
   ],
   "source": [
    "print('Shape of data is: %s entries and %s columns'%(df.shape[0],df.shape[1]))"
   ]
  },
  {
   "cell_type": "markdown",
   "metadata": {},
   "source": [
    "## Data Preprocessing"
   ]
  },
  {
   "cell_type": "code",
   "execution_count": 4,
   "metadata": {
    "execution": {
     "iopub.execute_input": "2021-05-21T09:14:45.700499Z",
     "iopub.status.busy": "2021-05-21T09:14:45.700099Z",
     "iopub.status.idle": "2021-05-21T09:14:45.706846Z",
     "shell.execute_reply": "2021-05-21T09:14:45.705700Z",
     "shell.execute_reply.started": "2021-05-21T09:14:45.700466Z"
    }
   },
   "outputs": [
    {
     "name": "stdout",
     "output_type": "stream",
     "text": [
      "All the columns in the dataset:  Index(['Logical_quotient_rating', 'i_get_stressed_out_easily',\n",
      "       'coding_skills_rating', 'public_speaking_points',\n",
      "       'i_am_always_prepared', 'i_follow_a_schedule',\n",
      "       'i_am_quick_to_understand_things', 'i_am_full_of_ideas',\n",
      "       'i_start_conversations', 'do_you_like_sports',\n",
      "       'entrepreneurial_mindset', 'tendency_to_worry',\n",
      "       'self_learning_capability', 'Extra_courses_did',\n",
      "       'Taken_inputs_from_seniors_or_elders', 'reading_and _writing_skills',\n",
      "       'memory_capability_score', 'interested_career_area ',\n",
      "       'Type_of_company_want_to_settle_in', 'Interested_Type_of_Books',\n",
      "       'Non_Technical_or_Technical', 'hard_smart_worker',\n",
      "       'worked_in_teams_ever', 'Introvert', 'Suggested_Job_Role'],\n",
      "      dtype='object')\n"
     ]
    }
   ],
   "source": [
    "print(\"All the columns in the dataset: \" , df.columns)"
   ]
  },
  {
   "cell_type": "code",
   "execution_count": 5,
   "metadata": {
    "execution": {
     "iopub.execute_input": "2021-05-21T09:14:46.244503Z",
     "iopub.status.busy": "2021-05-21T09:14:46.244091Z",
     "iopub.status.idle": "2021-05-21T09:14:46.257358Z",
     "shell.execute_reply": "2021-05-21T09:14:46.256153Z",
     "shell.execute_reply.started": "2021-05-21T09:14:46.244469Z"
    }
   },
   "outputs": [
    {
     "name": "stdout",
     "output_type": "stream",
     "text": [
      "Numeric Columns in DF: \n",
      " ['Logical_quotient_rating', 'i_get_stressed_out_easily', 'coding_skills_rating', 'public_speaking_points', 'i_am_always_prepared', 'i_follow_a_schedule', 'i_am_quick_to_understand_things', 'i_am_full_of_ideas', 'i_start_conversations']\n",
      "\n",
      "\n",
      "Categorical Columns in DF: \n",
      " ['do_you_like_sports', 'entrepreneurial_mindset', 'tendency_to_worry', 'self_learning_capability', 'Extra_courses_did', 'Taken_inputs_from_seniors_or_elders', 'reading_and _writing_skills', 'memory_capability_score', 'interested_career_area ', 'Type_of_company_want_to_settle_in', 'Interested_Type_of_Books', 'Non_Technical_or_Technical', 'hard_smart_worker', 'worked_in_teams_ever', 'Introvert', 'Suggested_Job_Role']\n"
     ]
    }
   ],
   "source": [
    "print(\"Numeric Columns in DF: \\n\" , df.select_dtypes(include=np.number).columns.tolist())\n",
    "print(\"\\n\\nCategorical Columns in DF: \\n\" , df.select_dtypes(include=['object']).columns.tolist())"
   ]
  },
  {
   "cell_type": "markdown",
   "metadata": {},
   "source": [
    "### No Missing Values"
   ]
  },
  {
   "cell_type": "code",
   "execution_count": 6,
   "metadata": {
    "execution": {
     "iopub.execute_input": "2021-05-21T09:14:47.285358Z",
     "iopub.status.busy": "2021-05-21T09:14:47.284983Z",
     "iopub.status.idle": "2021-05-21T09:14:47.307445Z",
     "shell.execute_reply": "2021-05-21T09:14:47.306040Z",
     "shell.execute_reply.started": "2021-05-21T09:14:47.285328Z"
    }
   },
   "outputs": [
    {
     "data": {
      "text/plain": [
       "Logical_quotient_rating                0\n",
       "i_get_stressed_out_easily              0\n",
       "coding_skills_rating                   0\n",
       "public_speaking_points                 0\n",
       "i_am_always_prepared                   0\n",
       "i_follow_a_schedule                    0\n",
       "i_am_quick_to_understand_things        0\n",
       "i_am_full_of_ideas                     0\n",
       "i_start_conversations                  0\n",
       "do_you_like_sports                     0\n",
       "entrepreneurial_mindset                0\n",
       "tendency_to_worry                      0\n",
       "self_learning_capability               0\n",
       "Extra_courses_did                      0\n",
       "Taken_inputs_from_seniors_or_elders    0\n",
       "reading_and _writing_skills            0\n",
       "memory_capability_score                0\n",
       "interested_career_area                 0\n",
       "Type_of_company_want_to_settle_in      0\n",
       "Interested_Type_of_Books               0\n",
       "Non_Technical_or_Technical             0\n",
       "hard_smart_worker                      0\n",
       "worked_in_teams_ever                   0\n",
       "Introvert                              0\n",
       "Suggested_Job_Role                     0\n",
       "dtype: int64"
      ]
     },
     "execution_count": 6,
     "metadata": {},
     "output_type": "execute_result"
    }
   ],
   "source": [
    "df.isnull().sum(axis=0)"
   ]
  },
  {
   "cell_type": "markdown",
   "metadata": {},
   "source": [
    "### Uniques Categorical Values in DF"
   ]
  },
  {
   "cell_type": "code",
   "execution_count": 7,
   "metadata": {
    "execution": {
     "iopub.execute_input": "2021-05-21T09:14:48.679051Z",
     "iopub.status.busy": "2021-05-21T09:14:48.678627Z",
     "iopub.status.idle": "2021-05-21T09:14:48.733352Z",
     "shell.execute_reply": "2021-05-21T09:14:48.731989Z",
     "shell.execute_reply.started": "2021-05-21T09:14:48.679014Z"
    }
   },
   "outputs": [
    {
     "name": "stdout",
     "output_type": "stream",
     "text": [
      "no     4960\n",
      "yes    4942\n",
      "Name: do_you_like_sports, dtype: int64\n",
      "\n",
      "no     4999\n",
      "yes    4903\n",
      "Name: entrepreneurial_mindset, dtype: int64\n",
      "\n",
      "no     5034\n",
      "yes    4868\n",
      "Name: tendency_to_worry, dtype: int64\n",
      "\n",
      "no     4970\n",
      "yes    4932\n",
      "Name: self_learning_capability, dtype: int64\n",
      "\n",
      "yes    5054\n",
      "no     4848\n",
      "Name: Extra_courses_did, dtype: int64\n",
      "\n",
      "no     4957\n",
      "yes    4945\n",
      "Name: Taken_inputs_from_seniors_or_elders, dtype: int64\n",
      "\n",
      "excellent    3338\n",
      "medium       3285\n",
      "poor         3279\n",
      "Name: reading_and _writing_skills, dtype: int64\n",
      "\n",
      "medium       3333\n",
      "excellent    3313\n",
      "poor         3256\n",
      "Name: memory_capability_score, dtype: int64\n",
      "\n",
      "system developer            1701\n",
      "Business process analyst    1685\n",
      "security                    1667\n",
      "developer                   1623\n",
      "testing                     1619\n",
      "cloud computing             1607\n",
      "Name: interested_career_area , dtype: int64\n",
      "\n",
      "Service Based                        1056\n",
      "BPA                                  1043\n",
      "Web Services                         1031\n",
      "Product based                         995\n",
      "Finance                               991\n",
      "Cloud Services                        984\n",
      "Testing and Maintainance Services     980\n",
      "product development                   959\n",
      "Sales and Marketing                   949\n",
      "SAaS services                         914\n",
      "Name: Type_of_company_want_to_settle_in, dtype: int64\n",
      "\n",
      "Guide                    581\n",
      "Health                   574\n",
      "Horror                   541\n",
      "Self help                537\n",
      "Science fiction          316\n",
      "Satire                   314\n",
      "Childrens                305\n",
      "Autobiographies          304\n",
      "Trilogy                  302\n",
      "Biographies              302\n",
      "Fantasy                  299\n",
      "Prayer books             298\n",
      "Diaries                  293\n",
      "Anthology                292\n",
      "Journals                 290\n",
      "Drama                    287\n",
      "Mystery                  287\n",
      "Encyclopedias            286\n",
      "Religion-Spirituality    285\n",
      "Dictionaries             283\n",
      "Action and Adventure     277\n",
      "Science                  275\n",
      "History                  272\n",
      "Comics                   270\n",
      "Travel                   270\n",
      "Poetry                   269\n",
      "Cookbooks                264\n",
      "Math                     263\n",
      "Series                   263\n",
      "Art                      253\n",
      "Romance                  250\n",
      "Name: Interested_Type_of_Books, dtype: int64\n",
      "\n",
      "Technical        5024\n",
      "Non_Technical    4878\n",
      "Name: Non_Technical_or_Technical, dtype: int64\n",
      "\n",
      "smart worker    5060\n",
      "hard worker     4842\n",
      "Name: hard_smart_worker, dtype: int64\n",
      "\n",
      "no     4962\n",
      "yes    4940\n",
      "Name: worked_in_teams_ever, dtype: int64\n",
      "\n",
      "yes    4965\n",
      "no     4937\n",
      "Name: Introvert, dtype: int64\n",
      "\n",
      "Network Security Engineer                    630\n",
      "Software Engineer                            590\n",
      "UX Designer                                  589\n",
      "Software Developer                           587\n",
      "Database Developer                           581\n",
      "Software Quality Assurance (QA) / Testing    571\n",
      "Web Developer                                570\n",
      "CRM Technical Developer                      567\n",
      "Technical Support                            565\n",
      "Systems Security Administrator               562\n",
      "Applications Developer                       551\n",
      "Mobile Applications Developer                538\n",
      "Accountant                                   501\n",
      "Pilot                                        501\n",
      "Banker                                       500\n",
      "Human Resources                              500\n",
      "Teacher                                      500\n",
      "Business Analyst                             499\n",
      "Name: Suggested_Job_Role, dtype: int64\n",
      "\n"
     ]
    }
   ],
   "source": [
    "cat_col = df[['do_you_like_sports', 'entrepreneurial_mindset', 'tendency_to_worry', 'self_learning_capability', 'Extra_courses_did', 'Taken_inputs_from_seniors_or_elders', 'reading_and _writing_skills', 'memory_capability_score', 'interested_career_area ', 'Type_of_company_want_to_settle_in', 'Interested_Type_of_Books', 'Non_Technical_or_Technical', 'hard_smart_worker', 'worked_in_teams_ever', 'Introvert', 'Suggested_Job_Role']]\n",
    "for i in cat_col:\n",
    "    print(df[i].value_counts(), end=\"\\n\\n\")"
   ]
  },
  {
   "cell_type": "markdown",
   "metadata": {},
   "source": [
    "- By using binary encoding, categorical features with yes or no can be easily converted to numerical values."
   ]
  },
  {
   "cell_type": "markdown",
   "metadata": {},
   "source": [
    "### To check data variety in Interested Type of Books columns"
   ]
  },
  {
   "cell_type": "code",
   "execution_count": 8,
   "metadata": {
    "execution": {
     "iopub.execute_input": "2021-05-21T09:14:49.890509Z",
     "iopub.status.busy": "2021-05-21T09:14:49.890026Z",
     "iopub.status.idle": "2021-05-21T09:14:50.273797Z",
     "shell.execute_reply": "2021-05-21T09:14:50.272538Z",
     "shell.execute_reply.started": "2021-05-21T09:14:49.890449Z"
    }
   },
   "outputs": [
    {
     "data": {
      "text/plain": [
       "<AxesSubplot: xlabel='Interested_Type_of_Books', ylabel='count'>"
      ]
     },
     "execution_count": 8,
     "metadata": {},
     "output_type": "execute_result"
    },
    {
     "data": {
      "image/png": "[encoded data removed]",
      "text/plain": [
       "<Figure size 5000x2000 with 1 Axes>"
      ]
     },
     "metadata": {},
     "output_type": "display_data"
    }
   ],
   "source": [
    "sns.set(rc={'figure.figsize':(50,20)})\n",
    "sns.countplot(x = df[\"Interested_Type_of_Books\"])"
   ]
  },
  {
   "cell_type": "markdown",
   "metadata": {},
   "source": [
    "## EDA"
   ]
  },
  {
   "cell_type": "markdown",
   "metadata": {},
   "source": [
    "### Corr Between Numerical Columns"
   ]
  },
  {
   "cell_type": "code",
   "execution_count": 9,
   "metadata": {
    "execution": {
     "iopub.execute_input": "2021-05-21T09:14:51.054559Z",
     "iopub.status.busy": "2021-05-21T09:14:51.053970Z",
     "iopub.status.idle": "2021-05-21T09:14:51.424792Z",
     "shell.execute_reply": "2021-05-21T09:14:51.423212Z",
     "shell.execute_reply.started": "2021-05-21T09:14:51.054502Z"
    }
   },
   "outputs": [
    {
     "data": {
      "text/plain": [
       "<AxesSubplot: >"
      ]
     },
     "execution_count": 9,
     "metadata": {},
     "output_type": "execute_result"
    },
    {
     "data": {
      "image/png": "[encoded data removed]",
      "text/plain": [
       "<Figure size 1000x1000 with 2 Axes>"
      ]
     },
     "metadata": {},
     "output_type": "display_data"
    }
   ],
   "source": [
    "corr = df[['Logical_quotient_rating', 'i_get_stressed_out_easily', 'coding_skills_rating', 'public_speaking_points', 'i_am_always_prepared', 'i_follow_a_schedule', 'i_am_quick_to_understand_things', 'i_am_full_of_ideas', 'i_start_conversations']].corr()\n",
    "f,axes = plt.subplots(1,1,figsize = (10,10))\n",
    "sns.heatmap(corr,square=True,annot = True,linewidth = .4,center = 2,ax = axes)"
   ]
  },
  {
   "cell_type": "markdown",
   "metadata": {},
   "source": []
  },
  {
   "cell_type": "markdown",
   "metadata": {},
   "source": [
    "## Visualization for Categorical Values"
   ]
  },
  {
   "cell_type": "code",
   "execution_count": 10,
   "metadata": {},
   "outputs": [
    {
     "name": "stdout",
     "output_type": "stream",
     "text": [
      "Guide                    581\n",
      "Health                   574\n",
      "Horror                   541\n",
      "Self help                537\n",
      "Science fiction          316\n",
      "Satire                   314\n",
      "Childrens                305\n",
      "Autobiographies          304\n",
      "Trilogy                  302\n",
      "Biographies              302\n",
      "Fantasy                  299\n",
      "Prayer books             298\n",
      "Diaries                  293\n",
      "Anthology                292\n",
      "Journals                 290\n",
      "Drama                    287\n",
      "Mystery                  287\n",
      "Encyclopedias            286\n",
      "Religion-Spirituality    285\n",
      "Dictionaries             283\n",
      "Action and Adventure     277\n",
      "Science                  275\n",
      "History                  272\n",
      "Comics                   270\n",
      "Travel                   270\n",
      "Poetry                   269\n",
      "Cookbooks                264\n",
      "Math                     263\n",
      "Series                   263\n",
      "Art                      253\n",
      "Romance                  250\n",
      "Name: Interested_Type_of_Books, dtype: int64\n"
     ]
    }
   ],
   "source": [
    "print(df[\"Interested_Type_of_Books\"].value_counts())"
   ]
  },
  {
   "cell_type": "code",
   "execution_count": 11,
   "metadata": {},
   "outputs": [
    {
     "name": "stdout",
     "output_type": "stream",
     "text": [
      "Service Based                        1056\n",
      "BPA                                  1043\n",
      "Web Services                         1031\n",
      "Product based                         995\n",
      "Finance                               991\n",
      "Cloud Services                        984\n",
      "Testing and Maintainance Services     980\n",
      "product development                   959\n",
      "Sales and Marketing                   949\n",
      "SAaS services                         914\n",
      "Name: Type_of_company_want_to_settle_in, dtype: int64\n"
     ]
    }
   ],
   "source": [
    "print(df[\"Type_of_company_want_to_settle_in\"].value_counts())"
   ]
  },
  {
   "cell_type": "code",
   "execution_count": 12,
   "metadata": {},
   "outputs": [
    {
     "data": {
      "image/png": "[encoded data removed]",
      "text/plain": [
       "<Figure size 1200x600 with 1 Axes>"
      ]
     },
     "metadata": {},
     "output_type": "display_data"
    }
   ],
   "source": [
    "# Figure Size\n",
    "fig, ax = plt.subplots(figsize=(12,6))\n",
    "\n",
    "# Horizontal Bar Plot\n",
    "title_cnt=df[\"Type_of_company_want_to_settle_in\"].value_counts().sort_values(ascending=False).reset_index()\n",
    "mn= ax.barh(title_cnt.iloc[:,0], title_cnt.iloc[:,1],edgecolor='black', color=sns.color_palette('YlOrBr',len(title_cnt)))\n",
    "\n",
    "\n",
    "\n",
    "# Remove axes splines\n",
    "for s in ['top','bottom','left','right']:\n",
    "    ax.spines[s].set_visible(False)\n",
    "\n",
    "# Remove x,y Ticks\n",
    "ax.xaxis.set_ticks_position('none')\n",
    "ax.yaxis.set_ticks_position('none')\n",
    "# Add padding between axes and labels\n",
    "ax.xaxis.set_tick_params(pad=5)\n",
    "ax.yaxis.set_tick_params(pad=10)\n",
    "\n",
    "\n",
    "# Show top values \n",
    "ax.invert_yaxis()\n",
    "\n",
    "# Add Plot Title\n",
    "ax.set_title('Type of Company you want to settle in?',weight='bold',fontsize=20)\n",
    "ax.set_xlabel('Count', weight='bold')\n",
    "\n",
    "# Add annotation to bars\n",
    "for i in ax.patches:\n",
    "    ax.text(i.get_width()+1, i.get_y()+0.5, str(round((i.get_width()), 2)),\n",
    "             fontsize=10, fontweight='bold', color='grey')\n",
    "plt.yticks(weight='bold')\n",
    "plt.xticks(weight='bold')\n",
    "\n",
    "# Show Plot\n",
    "plt.show()"
   ]
  },
  {
   "cell_type": "code",
   "execution_count": 13,
   "metadata": {},
   "outputs": [
    {
     "name": "stdout",
     "output_type": "stream",
     "text": [
      "system developer            1701\n",
      "Business process analyst    1685\n",
      "security                    1667\n",
      "developer                   1623\n",
      "testing                     1619\n",
      "cloud computing             1607\n",
      "Name: interested_career_area , dtype: int64\n"
     ]
    }
   ],
   "source": [
    "print(df[\"interested_career_area \"].value_counts())"
   ]
  },
  {
   "cell_type": "code",
   "execution_count": 14,
   "metadata": {},
   "outputs": [
    {
     "data": {
      "image/png": "[encoded data removed]",
      "text/plain": [
       "<Figure size 1000x400 with 1 Axes>"
      ]
     },
     "metadata": {},
     "output_type": "display_data"
    }
   ],
   "source": [
    "# Figure Size\n",
    "fig, ax = plt.subplots(figsize=(10,4)) #width,height\n",
    "\n",
    "# Horizontal Bar Plot\n",
    "title_cnt=df[\"interested_career_area \"].value_counts().sort_values(ascending=False).reset_index()\n",
    "mn= ax.barh(title_cnt.iloc[:,0], title_cnt.iloc[:,1],edgecolor='black', color=sns.color_palette('YlOrBr',len(title_cnt)))\n",
    "\n",
    "\n",
    "\n",
    "# Remove axes splines\n",
    "for s in ['top','bottom','left','right']:\n",
    "    ax.spines[s].set_visible(False)\n",
    "\n",
    "# Remove x,y Ticks\n",
    "ax.xaxis.set_ticks_position('none')\n",
    "ax.yaxis.set_ticks_position('none')\n",
    "# Add padding between axes and labels\n",
    "ax.xaxis.set_tick_params(pad=5)\n",
    "ax.yaxis.set_tick_params(pad=10)\n",
    "\n",
    "\n",
    "# Show top values \n",
    "ax.invert_yaxis()\n",
    "\n",
    "# Add Plot Title\n",
    "ax.set_title('interested_career_area',weight='bold',fontsize=20)\n",
    "ax.set_xlabel('Count', weight='bold')\n",
    "\n",
    "# Add annotation to bars\n",
    "for i in ax.patches:\n",
    "    ax.text(i.get_width()+1, i.get_y()+0.5, str(round((i.get_width()), 2)),\n",
    "             fontsize=10, fontweight='bold', color='grey')\n",
    "plt.yticks(weight='bold')\n",
    "plt.xticks(weight='bold')\n",
    "\n",
    "# Show Plot\n",
    "plt.show()"
   ]
  },
  {
   "cell_type": "markdown",
   "metadata": {},
   "source": [
    "### Checking to see balance in the target variable"
   ]
  },
  {
   "cell_type": "code",
   "execution_count": 15,
   "metadata": {},
   "outputs": [
    {
     "data": {
      "text/plain": [
       "<AxesSubplot: xlabel='Suggested_Job_Role', ylabel='count'>"
      ]
     },
     "execution_count": 15,
     "metadata": {},
     "output_type": "execute_result"
    },
    {
     "data": {
      "image/png": "[encoded data removed]",
      "text/plain": [
       "<Figure size 5000x1000 with 1 Axes>"
      ]
     },
     "metadata": {},
     "output_type": "display_data"
    }
   ],
   "source": [
    "sns.set(rc={'figure.figsize':(50,10)})\n",
    "sns.countplot(x = df[\"Suggested_Job_Role\"], palette=\"Paired\")"
   ]
  },
  {
   "cell_type": "markdown",
   "metadata": {},
   "source": [
    "##  Feature Selection & Engineering"
   ]
  },
  {
   "cell_type": "markdown",
   "metadata": {},
   "source": [
    "### Binary Encoding for Categorical Variables"
   ]
  },
  {
   "cell_type": "code",
   "execution_count": 16,
   "metadata": {
    "execution": {
     "iopub.execute_input": "2021-05-21T09:15:00.059997Z",
     "iopub.status.busy": "2021-05-21T09:15:00.059636Z",
     "iopub.status.idle": "2021-05-21T09:15:00.101071Z",
     "shell.execute_reply": "2021-05-21T09:15:00.100277Z",
     "shell.execute_reply.started": "2021-05-21T09:15:00.059968Z"
    }
   },
   "outputs": [],
   "source": [
    "cols = df[['do_you_like_sports', 'entrepreneurial_mindset', 'tendency_to_worry', 'self_learning_capability', 'Extra_courses_did', 'Taken_inputs_from_seniors_or_elders', 'worked_in_teams_ever', 'Introvert']]\n",
    "for i in cols:\n",
    "    cleanup_nums = {i: {\"yes\": 1, \"no\": 0}}\n",
    "    df = df.replace(cleanup_nums)\n",
    "    df.head()"
   ]
  },
  {
   "cell_type": "code",
   "execution_count": 17,
   "metadata": {
    "execution": {
     "iopub.execute_input": "2021-05-21T09:15:00.401318Z",
     "iopub.status.busy": "2021-05-21T09:15:00.400761Z",
     "iopub.status.idle": "2021-05-21T09:15:00.409457Z",
     "shell.execute_reply": "2021-05-21T09:15:00.408574Z",
     "shell.execute_reply.started": "2021-05-21T09:15:00.401280Z"
    }
   },
   "outputs": [
    {
     "name": "stdout",
     "output_type": "stream",
     "text": [
      "\n",
      "\n",
      " Categorical Values: \n",
      " ['reading_and _writing_skills', 'memory_capability_score', 'interested_career_area ', 'Type_of_company_want_to_settle_in', 'Interested_Type_of_Books', 'Non_Technical_or_Technical', 'hard_smart_worker', 'Suggested_Job_Role']\n"
     ]
    }
   ],
   "source": [
    "print(\"\\n\\n Categorical Values: \\n\" , df.select_dtypes(include=['object']).columns.tolist())"
   ]
  },
  {
   "cell_type": "markdown",
   "metadata": {},
   "source": [
    "### One Hot Encoding For Categorical values"
   ]
  },
  {
   "cell_type": "code",
   "execution_count": 18,
   "metadata": {
    "execution": {
     "iopub.execute_input": "2021-05-21T09:15:02.630142Z",
     "iopub.status.busy": "2021-05-21T09:15:02.629617Z",
     "iopub.status.idle": "2021-05-21T09:15:02.680281Z",
     "shell.execute_reply": "2021-05-21T09:15:02.679472Z",
     "shell.execute_reply.started": "2021-05-21T09:15:02.630109Z"
    }
   },
   "outputs": [
    {
     "name": "stdout",
     "output_type": "stream",
     "text": [
      "\n",
      "\n",
      "List of Categorical values: \n",
      " ['Non_Technical_or_Technical', 'hard_smart_worker', 'Suggested_Job_Role']\n"
     ]
    }
   ],
   "source": [
    "mycol = df[[\"reading_and _writing_skills\", \"memory_capability_score\"]]\n",
    "for i in mycol:\n",
    "    cleanup_nums = {i: {\"poor\": 0, \"medium\": 1, \"excellent\": 2}}\n",
    "    df = df.replace(cleanup_nums)\n",
    "\n",
    "cat_col = df[['interested_career_area ', 'Type_of_company_want_to_settle_in', 'Interested_Type_of_Books']]\n",
    "for i in cat_col:\n",
    "    df[i] = df[i].astype('category')\n",
    "    df[i + \"_code\"] = df[i].cat.codes\n",
    "\n",
    "print(\"\\n\\nList of Categorical values: \\n\" , df.select_dtypes(include=['object']).columns.tolist())"
   ]
  },
  {
   "cell_type": "code",
   "execution_count": 19,
   "metadata": {},
   "outputs": [
    {
     "data": {
      "text/html": [
       "<div>\n",
       "<style scoped>\n",
       "    .dataframe tbody tr th:only-of-type {\n",
       "        vertical-align: middle;\n",
       "    }\n",
       "\n",
       "    .dataframe tbody tr th {\n",
       "        vertical-align: top;\n",
       "    }\n",
       "\n",
       "    .dataframe thead th {\n",
       "        text-align: right;\n",
       "    }\n",
       "</style>\n",
       "<table border=\"1\" class=\"dataframe\">\n",
       "  <thead>\n",
       "    <tr style=\"text-align: right;\">\n",
       "      <th></th>\n",
       "      <th>Logical_quotient_rating</th>\n",
       "      <th>i_get_stressed_out_easily</th>\n",
       "      <th>coding_skills_rating</th>\n",
       "      <th>public_speaking_points</th>\n",
       "      <th>i_am_always_prepared</th>\n",
       "      <th>i_follow_a_schedule</th>\n",
       "      <th>i_am_quick_to_understand_things</th>\n",
       "      <th>i_am_full_of_ideas</th>\n",
       "      <th>i_start_conversations</th>\n",
       "      <th>do_you_like_sports</th>\n",
       "      <th>...</th>\n",
       "      <th>Type_of_company_want_to_settle_in</th>\n",
       "      <th>Interested_Type_of_Books</th>\n",
       "      <th>Non_Technical_or_Technical</th>\n",
       "      <th>hard_smart_worker</th>\n",
       "      <th>worked_in_teams_ever</th>\n",
       "      <th>Introvert</th>\n",
       "      <th>Suggested_Job_Role</th>\n",
       "      <th>interested_career_area _code</th>\n",
       "      <th>Type_of_company_want_to_settle_in_code</th>\n",
       "      <th>Interested_Type_of_Books_code</th>\n",
       "    </tr>\n",
       "  </thead>\n",
       "  <tbody>\n",
       "    <tr>\n",
       "      <th>0</th>\n",
       "      <td>8</td>\n",
       "      <td>5</td>\n",
       "      <td>7</td>\n",
       "      <td>7</td>\n",
       "      <td>1</td>\n",
       "      <td>2</td>\n",
       "      <td>7</td>\n",
       "      <td>8</td>\n",
       "      <td>3</td>\n",
       "      <td>0</td>\n",
       "      <td>...</td>\n",
       "      <td>BPA</td>\n",
       "      <td>Series</td>\n",
       "      <td>Technical</td>\n",
       "      <td>smart worker</td>\n",
       "      <td>1</td>\n",
       "      <td>1</td>\n",
       "      <td>Applications Developer</td>\n",
       "      <td>5</td>\n",
       "      <td>0</td>\n",
       "      <td>28</td>\n",
       "    </tr>\n",
       "    <tr>\n",
       "      <th>1</th>\n",
       "      <td>9</td>\n",
       "      <td>2</td>\n",
       "      <td>2</td>\n",
       "      <td>2</td>\n",
       "      <td>5</td>\n",
       "      <td>3</td>\n",
       "      <td>2</td>\n",
       "      <td>2</td>\n",
       "      <td>1</td>\n",
       "      <td>1</td>\n",
       "      <td>...</td>\n",
       "      <td>Cloud Services</td>\n",
       "      <td>Autobiographies</td>\n",
       "      <td>Technical</td>\n",
       "      <td>hard worker</td>\n",
       "      <td>0</td>\n",
       "      <td>0</td>\n",
       "      <td>Applications Developer</td>\n",
       "      <td>4</td>\n",
       "      <td>1</td>\n",
       "      <td>3</td>\n",
       "    </tr>\n",
       "    <tr>\n",
       "      <th>2</th>\n",
       "      <td>6</td>\n",
       "      <td>2</td>\n",
       "      <td>1</td>\n",
       "      <td>4</td>\n",
       "      <td>1</td>\n",
       "      <td>0</td>\n",
       "      <td>9</td>\n",
       "      <td>0</td>\n",
       "      <td>4</td>\n",
       "      <td>1</td>\n",
       "      <td>...</td>\n",
       "      <td>product development</td>\n",
       "      <td>Travel</td>\n",
       "      <td>Technical</td>\n",
       "      <td>smart worker</td>\n",
       "      <td>1</td>\n",
       "      <td>1</td>\n",
       "      <td>Applications Developer</td>\n",
       "      <td>0</td>\n",
       "      <td>9</td>\n",
       "      <td>29</td>\n",
       "    </tr>\n",
       "    <tr>\n",
       "      <th>3</th>\n",
       "      <td>1</td>\n",
       "      <td>7</td>\n",
       "      <td>3</td>\n",
       "      <td>7</td>\n",
       "      <td>3</td>\n",
       "      <td>8</td>\n",
       "      <td>9</td>\n",
       "      <td>9</td>\n",
       "      <td>9</td>\n",
       "      <td>0</td>\n",
       "      <td>...</td>\n",
       "      <td>Testing and Maintainance Services</td>\n",
       "      <td>Guide</td>\n",
       "      <td>Technical</td>\n",
       "      <td>smart worker</td>\n",
       "      <td>0</td>\n",
       "      <td>1</td>\n",
       "      <td>Applications Developer</td>\n",
       "      <td>5</td>\n",
       "      <td>7</td>\n",
       "      <td>13</td>\n",
       "    </tr>\n",
       "    <tr>\n",
       "      <th>4</th>\n",
       "      <td>7</td>\n",
       "      <td>4</td>\n",
       "      <td>1</td>\n",
       "      <td>0</td>\n",
       "      <td>5</td>\n",
       "      <td>5</td>\n",
       "      <td>8</td>\n",
       "      <td>3</td>\n",
       "      <td>1</td>\n",
       "      <td>0</td>\n",
       "      <td>...</td>\n",
       "      <td>BPA</td>\n",
       "      <td>Health</td>\n",
       "      <td>Non_Technical</td>\n",
       "      <td>hard worker</td>\n",
       "      <td>1</td>\n",
       "      <td>0</td>\n",
       "      <td>Applications Developer</td>\n",
       "      <td>4</td>\n",
       "      <td>0</td>\n",
       "      <td>14</td>\n",
       "    </tr>\n",
       "  </tbody>\n",
       "</table>\n",
       "<p>5 rows × 28 columns</p>\n",
       "</div>"
      ],
      "text/plain": [
       "   Logical_quotient_rating  i_get_stressed_out_easily  coding_skills_rating  \\\n",
       "0                        8                          5                     7   \n",
       "1                        9                          2                     2   \n",
       "2                        6                          2                     1   \n",
       "3                        1                          7                     3   \n",
       "4                        7                          4                     1   \n",
       "\n",
       "   public_speaking_points  i_am_always_prepared  i_follow_a_schedule  \\\n",
       "0                       7                     1                    2   \n",
       "1                       2                     5                    3   \n",
       "2                       4                     1                    0   \n",
       "3                       7                     3                    8   \n",
       "4                       0                     5                    5   \n",
       "\n",
       "   i_am_quick_to_understand_things  i_am_full_of_ideas  i_start_conversations  \\\n",
       "0                                7                   8                      3   \n",
       "1                                2                   2                      1   \n",
       "2                                9                   0                      4   \n",
       "3                                9                   9                      9   \n",
       "4                                8                   3                      1   \n",
       "\n",
       "   do_you_like_sports  ...  Type_of_company_want_to_settle_in  \\\n",
       "0                   0  ...                                BPA   \n",
       "1                   1  ...                     Cloud Services   \n",
       "2                   1  ...                product development   \n",
       "3                   0  ...  Testing and Maintainance Services   \n",
       "4                   0  ...                                BPA   \n",
       "\n",
       "   Interested_Type_of_Books  Non_Technical_or_Technical  hard_smart_worker  \\\n",
       "0                    Series                   Technical       smart worker   \n",
       "1           Autobiographies                   Technical        hard worker   \n",
       "2                    Travel                   Technical       smart worker   \n",
       "3                     Guide                   Technical       smart worker   \n",
       "4                    Health               Non_Technical        hard worker   \n",
       "\n",
       "   worked_in_teams_ever  Introvert      Suggested_Job_Role  \\\n",
       "0                     1          1  Applications Developer   \n",
       "1                     0          0  Applications Developer   \n",
       "2                     1          1  Applications Developer   \n",
       "3                     0          1  Applications Developer   \n",
       "4                     1          0  Applications Developer   \n",
       "\n",
       "  interested_career_area _code Type_of_company_want_to_settle_in_code  \\\n",
       "0                            5                                      0   \n",
       "1                            4                                      1   \n",
       "2                            0                                      9   \n",
       "3                            5                                      7   \n",
       "4                            4                                      0   \n",
       "\n",
       "  Interested_Type_of_Books_code  \n",
       "0                            28  \n",
       "1                             3  \n",
       "2                            29  \n",
       "3                            13  \n",
       "4                            14  \n",
       "\n",
       "[5 rows x 28 columns]"
      ]
     },
     "execution_count": 19,
     "metadata": {},
     "output_type": "execute_result"
    }
   ],
   "source": [
    "df.head(5)"
   ]
  },
  {
   "cell_type": "markdown",
   "metadata": {},
   "source": [
    "###  DV Encoding"
   ]
  },
  {
   "cell_type": "code",
   "execution_count": 20,
   "metadata": {
    "execution": {
     "iopub.execute_input": "2021-05-21T09:15:04.145103Z",
     "iopub.status.busy": "2021-05-21T09:15:04.144613Z",
     "iopub.status.idle": "2021-05-21T09:15:04.152520Z",
     "shell.execute_reply": "2021-05-21T09:15:04.151594Z",
     "shell.execute_reply.started": "2021-05-21T09:15:04.145064Z"
    }
   },
   "outputs": [
    {
     "name": "stdout",
     "output_type": "stream",
     "text": [
      "['Technical' 'Non_Technical']\n",
      "['smart worker' 'hard worker']\n"
     ]
    }
   ],
   "source": [
    "print(df['Non_Technical_or_Technical'].unique())\n",
    "print(df['hard_smart_worker'].unique())"
   ]
  },
  {
   "cell_type": "code",
   "execution_count": 21,
   "metadata": {
    "execution": {
     "iopub.execute_input": "2021-05-21T09:15:05.552686Z",
     "iopub.status.busy": "2021-05-21T09:15:05.552121Z",
     "iopub.status.idle": "2021-05-21T09:15:05.585075Z",
     "shell.execute_reply": "2021-05-21T09:15:05.584283Z",
     "shell.execute_reply.started": "2021-05-21T09:15:05.552609Z"
    }
   },
   "outputs": [
    {
     "data": {
      "text/html": [
       "<div>\n",
       "<style scoped>\n",
       "    .dataframe tbody tr th:only-of-type {\n",
       "        vertical-align: middle;\n",
       "    }\n",
       "\n",
       "    .dataframe tbody tr th {\n",
       "        vertical-align: top;\n",
       "    }\n",
       "\n",
       "    .dataframe thead th {\n",
       "        text-align: right;\n",
       "    }\n",
       "</style>\n",
       "<table border=\"1\" class=\"dataframe\">\n",
       "  <thead>\n",
       "    <tr style=\"text-align: right;\">\n",
       "      <th></th>\n",
       "      <th>Logical_quotient_rating</th>\n",
       "      <th>i_get_stressed_out_easily</th>\n",
       "      <th>coding_skills_rating</th>\n",
       "      <th>public_speaking_points</th>\n",
       "      <th>i_am_always_prepared</th>\n",
       "      <th>i_follow_a_schedule</th>\n",
       "      <th>i_am_quick_to_understand_things</th>\n",
       "      <th>i_am_full_of_ideas</th>\n",
       "      <th>i_start_conversations</th>\n",
       "      <th>do_you_like_sports</th>\n",
       "      <th>...</th>\n",
       "      <th>worked_in_teams_ever</th>\n",
       "      <th>Introvert</th>\n",
       "      <th>Suggested_Job_Role</th>\n",
       "      <th>interested_career_area _code</th>\n",
       "      <th>Type_of_company_want_to_settle_in_code</th>\n",
       "      <th>Interested_Type_of_Books_code</th>\n",
       "      <th>A_Non_Technical</th>\n",
       "      <th>A_Technical</th>\n",
       "      <th>B_hard worker</th>\n",
       "      <th>B_smart worker</th>\n",
       "    </tr>\n",
       "  </thead>\n",
       "  <tbody>\n",
       "    <tr>\n",
       "      <th>0</th>\n",
       "      <td>8</td>\n",
       "      <td>5</td>\n",
       "      <td>7</td>\n",
       "      <td>7</td>\n",
       "      <td>1</td>\n",
       "      <td>2</td>\n",
       "      <td>7</td>\n",
       "      <td>8</td>\n",
       "      <td>3</td>\n",
       "      <td>0</td>\n",
       "      <td>...</td>\n",
       "      <td>1</td>\n",
       "      <td>1</td>\n",
       "      <td>Applications Developer</td>\n",
       "      <td>5</td>\n",
       "      <td>0</td>\n",
       "      <td>28</td>\n",
       "      <td>0</td>\n",
       "      <td>1</td>\n",
       "      <td>0</td>\n",
       "      <td>1</td>\n",
       "    </tr>\n",
       "    <tr>\n",
       "      <th>1</th>\n",
       "      <td>9</td>\n",
       "      <td>2</td>\n",
       "      <td>2</td>\n",
       "      <td>2</td>\n",
       "      <td>5</td>\n",
       "      <td>3</td>\n",
       "      <td>2</td>\n",
       "      <td>2</td>\n",
       "      <td>1</td>\n",
       "      <td>1</td>\n",
       "      <td>...</td>\n",
       "      <td>0</td>\n",
       "      <td>0</td>\n",
       "      <td>Applications Developer</td>\n",
       "      <td>4</td>\n",
       "      <td>1</td>\n",
       "      <td>3</td>\n",
       "      <td>0</td>\n",
       "      <td>1</td>\n",
       "      <td>1</td>\n",
       "      <td>0</td>\n",
       "    </tr>\n",
       "    <tr>\n",
       "      <th>2</th>\n",
       "      <td>6</td>\n",
       "      <td>2</td>\n",
       "      <td>1</td>\n",
       "      <td>4</td>\n",
       "      <td>1</td>\n",
       "      <td>0</td>\n",
       "      <td>9</td>\n",
       "      <td>0</td>\n",
       "      <td>4</td>\n",
       "      <td>1</td>\n",
       "      <td>...</td>\n",
       "      <td>1</td>\n",
       "      <td>1</td>\n",
       "      <td>Applications Developer</td>\n",
       "      <td>0</td>\n",
       "      <td>9</td>\n",
       "      <td>29</td>\n",
       "      <td>0</td>\n",
       "      <td>1</td>\n",
       "      <td>0</td>\n",
       "      <td>1</td>\n",
       "    </tr>\n",
       "    <tr>\n",
       "      <th>3</th>\n",
       "      <td>1</td>\n",
       "      <td>7</td>\n",
       "      <td>3</td>\n",
       "      <td>7</td>\n",
       "      <td>3</td>\n",
       "      <td>8</td>\n",
       "      <td>9</td>\n",
       "      <td>9</td>\n",
       "      <td>9</td>\n",
       "      <td>0</td>\n",
       "      <td>...</td>\n",
       "      <td>0</td>\n",
       "      <td>1</td>\n",
       "      <td>Applications Developer</td>\n",
       "      <td>5</td>\n",
       "      <td>7</td>\n",
       "      <td>13</td>\n",
       "      <td>0</td>\n",
       "      <td>1</td>\n",
       "      <td>0</td>\n",
       "      <td>1</td>\n",
       "    </tr>\n",
       "    <tr>\n",
       "      <th>4</th>\n",
       "      <td>7</td>\n",
       "      <td>4</td>\n",
       "      <td>1</td>\n",
       "      <td>0</td>\n",
       "      <td>5</td>\n",
       "      <td>5</td>\n",
       "      <td>8</td>\n",
       "      <td>3</td>\n",
       "      <td>1</td>\n",
       "      <td>0</td>\n",
       "      <td>...</td>\n",
       "      <td>1</td>\n",
       "      <td>0</td>\n",
       "      <td>Applications Developer</td>\n",
       "      <td>4</td>\n",
       "      <td>0</td>\n",
       "      <td>14</td>\n",
       "      <td>1</td>\n",
       "      <td>0</td>\n",
       "      <td>1</td>\n",
       "      <td>0</td>\n",
       "    </tr>\n",
       "  </tbody>\n",
       "</table>\n",
       "<p>5 rows × 30 columns</p>\n",
       "</div>"
      ],
      "text/plain": [
       "   Logical_quotient_rating  i_get_stressed_out_easily  coding_skills_rating  \\\n",
       "0                        8                          5                     7   \n",
       "1                        9                          2                     2   \n",
       "2                        6                          2                     1   \n",
       "3                        1                          7                     3   \n",
       "4                        7                          4                     1   \n",
       "\n",
       "   public_speaking_points  i_am_always_prepared  i_follow_a_schedule  \\\n",
       "0                       7                     1                    2   \n",
       "1                       2                     5                    3   \n",
       "2                       4                     1                    0   \n",
       "3                       7                     3                    8   \n",
       "4                       0                     5                    5   \n",
       "\n",
       "   i_am_quick_to_understand_things  i_am_full_of_ideas  i_start_conversations  \\\n",
       "0                                7                   8                      3   \n",
       "1                                2                   2                      1   \n",
       "2                                9                   0                      4   \n",
       "3                                9                   9                      9   \n",
       "4                                8                   3                      1   \n",
       "\n",
       "   do_you_like_sports  ...  worked_in_teams_ever  Introvert  \\\n",
       "0                   0  ...                     1          1   \n",
       "1                   1  ...                     0          0   \n",
       "2                   1  ...                     1          1   \n",
       "3                   0  ...                     0          1   \n",
       "4                   0  ...                     1          0   \n",
       "\n",
       "       Suggested_Job_Role  interested_career_area _code  \\\n",
       "0  Applications Developer                             5   \n",
       "1  Applications Developer                             4   \n",
       "2  Applications Developer                             0   \n",
       "3  Applications Developer                             5   \n",
       "4  Applications Developer                             4   \n",
       "\n",
       "   Type_of_company_want_to_settle_in_code  Interested_Type_of_Books_code  \\\n",
       "0                                       0                             28   \n",
       "1                                       1                              3   \n",
       "2                                       9                             29   \n",
       "3                                       7                             13   \n",
       "4                                       0                             14   \n",
       "\n",
       "   A_Non_Technical A_Technical B_hard worker B_smart worker  \n",
       "0                0           1             0              1  \n",
       "1                0           1             1              0  \n",
       "2                0           1             0              1  \n",
       "3                0           1             0              1  \n",
       "4                1           0             1              0  \n",
       "\n",
       "[5 rows x 30 columns]"
      ]
     },
     "execution_count": 21,
     "metadata": {},
     "output_type": "execute_result"
    }
   ],
   "source": [
    "df = pd.get_dummies(df, columns=[\"Non_Technical_or_Technical\", \"hard_smart_worker\"], prefix=[\"A\", \"B\"])\n",
    "df.head()"
   ]
  },
  {
   "cell_type": "code",
   "execution_count": 22,
   "metadata": {},
   "outputs": [],
   "source": [
    "df.to_csv('test.csv')"
   ]
  },
  {
   "cell_type": "code",
   "execution_count": 23,
   "metadata": {
    "execution": {
     "iopub.execute_input": "2021-05-21T09:15:06.492745Z",
     "iopub.status.busy": "2021-05-21T09:15:06.492131Z",
     "iopub.status.idle": "2021-05-21T09:15:06.506687Z",
     "shell.execute_reply": "2021-05-21T09:15:06.505612Z",
     "shell.execute_reply.started": "2021-05-21T09:15:06.492706Z"
    }
   },
   "outputs": [
    {
     "name": "stdout",
     "output_type": "stream",
     "text": [
      "List of Numerical values: \n",
      " ['Logical_quotient_rating', 'i_get_stressed_out_easily', 'coding_skills_rating', 'public_speaking_points', 'i_am_always_prepared', 'i_follow_a_schedule', 'i_am_quick_to_understand_things', 'i_am_full_of_ideas', 'i_start_conversations', 'do_you_like_sports', 'entrepreneurial_mindset', 'tendency_to_worry', 'self_learning_capability', 'Extra_courses_did', 'Taken_inputs_from_seniors_or_elders', 'reading_and _writing_skills', 'memory_capability_score', 'worked_in_teams_ever', 'Introvert', 'interested_career_area _code', 'Type_of_company_want_to_settle_in_code', 'Interested_Type_of_Books_code', 'A_Non_Technical', 'A_Technical', 'B_hard worker', 'B_smart worker']\n"
     ]
    }
   ],
   "source": [
    "print(\"List of Numerical values: \\n\" , df.select_dtypes(include=np.number).columns.tolist())"
   ]
  },
  {
   "cell_type": "markdown",
   "metadata": {},
   "source": [
    "## Machine Learning Models to get best accuracy"
   ]
  },
  {
   "cell_type": "code",
   "execution_count": 50,
   "metadata": {
    "execution": {
     "iopub.execute_input": "2021-05-21T09:15:08.496869Z",
     "iopub.status.busy": "2021-05-21T09:15:08.496508Z",
     "iopub.status.idle": "2021-05-21T09:15:08.512249Z",
     "shell.execute_reply": "2021-05-21T09:15:08.510942Z",
     "shell.execute_reply.started": "2021-05-21T09:15:08.496837Z"
    }
   },
   "outputs": [],
   "source": [
    "feed = df[['Logical_quotient_rating', 'i_get_stressed_out_easily', 'coding_skills_rating', 'public_speaking_points', 'i_am_always_prepared', 'i_follow_a_schedule', 'i_am_quick_to_understand_things', 'i_am_full_of_ideas', 'i_start_conversations', 'do_you_like_sports', 'entrepreneurial_mindset', 'tendency_to_worry', 'self_learning_capability', 'Extra_courses_did', 'Taken_inputs_from_seniors_or_elders', 'reading_and _writing_skills', 'memory_capability_score', 'worked_in_teams_ever', 'Introvert', 'interested_career_area _code', 'Type_of_company_want_to_settle_in_code', 'Interested_Type_of_Books_code', 'A_Non_Technical', 'A_Technical', 'B_hard worker', 'B_smart worker','Suggested_Job_Role']]\n",
    "\n",
    "# Choosing independent vars\n",
    "df_train_x = feed.drop('Suggested_Job_Role',axis = 1)\n",
    "\n",
    "# Choosing all target vars\n",
    "df_train_y = feed['Suggested_Job_Role']\n",
    "\n",
    "x_train, x_test, y_train, y_test = train_test_split(df_train_x, df_train_y, test_size=0.10, random_state=42)"
   ]
  },
  {
   "cell_type": "code",
   "execution_count": 25,
   "metadata": {},
   "outputs": [
    {
     "data": {
      "text/html": [
       "<div>\n",
       "<style scoped>\n",
       "    .dataframe tbody tr th:only-of-type {\n",
       "        vertical-align: middle;\n",
       "    }\n",
       "\n",
       "    .dataframe tbody tr th {\n",
       "        vertical-align: top;\n",
       "    }\n",
       "\n",
       "    .dataframe thead th {\n",
       "        text-align: right;\n",
       "    }\n",
       "</style>\n",
       "<table border=\"1\" class=\"dataframe\">\n",
       "  <thead>\n",
       "    <tr style=\"text-align: right;\">\n",
       "      <th></th>\n",
       "      <th>Suggested_Job_Role</th>\n",
       "    </tr>\n",
       "  </thead>\n",
       "  <tbody>\n",
       "    <tr>\n",
       "      <th>3058</th>\n",
       "      <td>Software Developer</td>\n",
       "    </tr>\n",
       "    <tr>\n",
       "      <th>8188</th>\n",
       "      <td>Banker</td>\n",
       "    </tr>\n",
       "    <tr>\n",
       "      <th>1509</th>\n",
       "      <td>Database Developer</td>\n",
       "    </tr>\n",
       "    <tr>\n",
       "      <th>4993</th>\n",
       "      <td>Systems Security Administrator</td>\n",
       "    </tr>\n",
       "    <tr>\n",
       "      <th>9493</th>\n",
       "      <td>Pilot</td>\n",
       "    </tr>\n",
       "    <tr>\n",
       "      <th>...</th>\n",
       "      <td>...</td>\n",
       "    </tr>\n",
       "    <tr>\n",
       "      <th>2588</th>\n",
       "      <td>Network Security Engineer</td>\n",
       "    </tr>\n",
       "    <tr>\n",
       "      <th>4181</th>\n",
       "      <td>Software Quality Assurance (QA) / Testing</td>\n",
       "    </tr>\n",
       "    <tr>\n",
       "      <th>5106</th>\n",
       "      <td>Systems Security Administrator</td>\n",
       "    </tr>\n",
       "    <tr>\n",
       "      <th>1372</th>\n",
       "      <td>Database Developer</td>\n",
       "    </tr>\n",
       "    <tr>\n",
       "      <th>594</th>\n",
       "      <td>CRM Technical Developer</td>\n",
       "    </tr>\n",
       "  </tbody>\n",
       "</table>\n",
       "<p>991 rows × 1 columns</p>\n",
       "</div>"
      ],
      "text/plain": [
       "                             Suggested_Job_Role\n",
       "3058                         Software Developer\n",
       "8188                                     Banker\n",
       "1509                         Database Developer\n",
       "4993             Systems Security Administrator\n",
       "9493                                      Pilot\n",
       "...                                         ...\n",
       "2588                  Network Security Engineer\n",
       "4181  Software Quality Assurance (QA) / Testing\n",
       "5106             Systems Security Administrator\n",
       "1372                         Database Developer\n",
       "594                     CRM Technical Developer\n",
       "\n",
       "[991 rows x 1 columns]"
      ]
     },
     "execution_count": 25,
     "metadata": {},
     "output_type": "execute_result"
    }
   ],
   "source": [
    "y_train = pd.DataFrame(y_train, columns = [\"Suggested_Job_Role\"])\n",
    "y_train.head()\n",
    "y_test = pd.DataFrame(y_test, columns = [\"Suggested_Job_Role\"])\n",
    "y_test"
   ]
  },
  {
   "cell_type": "markdown",
   "metadata": {},
   "source": [
    "### Machine Learning Model Fittings"
   ]
  },
  {
   "cell_type": "markdown",
   "metadata": {},
   "source": [
    "### 1. Decision Tree\n"
   ]
  },
  {
   "cell_type": "code",
   "execution_count": 26,
   "metadata": {
    "execution": {
     "iopub.execute_input": "2021-05-21T09:15:13.994959Z",
     "iopub.status.busy": "2021-05-21T09:15:13.994602Z",
     "iopub.status.idle": "2021-05-21T09:15:14.071007Z",
     "shell.execute_reply": "2021-05-21T09:15:14.069396Z",
     "shell.execute_reply.started": "2021-05-21T09:15:13.994928Z"
    }
   },
   "outputs": [
    {
     "name": "stdout",
     "output_type": "stream",
     "text": [
      "confusion matrics= [[ 2  2  0  2  2  4  0  3  5  2  2  3  2  2  1  2  7  2]\n",
      " [ 2  0  4  3  4  6  3  5  3  4  6  5  1  8  4  3  4  4]\n",
      " [ 3  4  1  2  6  4  2  2  2  0  3  2  1  5  3  2  1  4]\n",
      " [ 4  1  3  3  2  2  2  3  3  5  1  4  1  3  1  1  3  2]\n",
      " [ 7  3  3  2  3  3  2  4  7  1  6  1  2  3  0  4  4  1]\n",
      " [ 4  0  1  5  4  2  3  4  4  1  4  3  5  4  1  0  5  4]\n",
      " [ 5  2  1  5  2  1  5  3  1  2  1  3  2  2  2  3  3  3]\n",
      " [ 2  3  2  2  3  2  2  1  2  3  4  4  4  5  0  4  3  1]\n",
      " [ 3  1  3  4  6  2  5  3  5  3  3  2  4  3  6  6  5  3]\n",
      " [ 3  5  6  1  2  2  3  2  3  4  5  4  2  6  0  4  2  5]\n",
      " [ 3  2  5  3  4  4  2  3  3  2  2  3 10  3  2  3  4  6]\n",
      " [ 1  2  6  3  5  5  3  2  3  4  3  5  3  5  3  0  7  2]\n",
      " [ 2  6  1  3  1  4  2  4  3  2  4  2  5  2  1  2  3  2]\n",
      " [ 1  2  3  2  3  4  3  7  2  1  5  8  2  4  1  6  5  0]\n",
      " [ 2  1  1  3  2  4  1  2  4  3  3  4  3  3  1  4  5  5]\n",
      " [ 6  1  2  4  5  4  2  2  1  1  6  2 10  1  1  4  3  8]\n",
      " [ 1  5  4  4  2  7  3  3  4  2  2  3  2  0  1  2  4  2]\n",
      " [ 4  6  1  2  3  4  6  5  5  3  2  2  2  2  3  2  4  4]]\n",
      "  \n",
      "accuracy= 0.5549949545913219\n"
     ]
    }
   ],
   "source": [
    "dtree = DecisionTreeClassifier(random_state=1)\n",
    "dtree = dtree.fit(x_train, y_train)\n",
    "\n",
    "y_pred = dtree.predict(x_test)\n",
    "cm = confusion_matrix(y_test,y_pred)\n",
    "accuracy = accuracy_score(y_test,y_pred)\n",
    "print(\"confusion matrics=\",cm)\n",
    "print(\"  \")\n",
    "print(\"accuracy=\",accuracy*10)"
   ]
  },
  {
   "cell_type": "code",
   "execution_count": 27,
   "metadata": {},
   "outputs": [
    {
     "name": "stdout",
     "output_type": "stream",
     "text": [
      "['Business Analyst']\n",
      "Probabilities of all classes:  [[0. 0. 0. 1. 0. 0. 0. 0. 0. 0. 0. 0. 0. 0. 0. 0. 0. 0.]]\n",
      "Probability of Predicted class :  1.0\n"
     ]
    }
   ],
   "source": [
    "userdata = [['8','7','3','4','5','5','6','3','8','1','1','1','1','1','1','2','2','1','1','4','5','8','1','1','1','1']]\n",
    "ynewclass = dtree.predict(userdata)\n",
    "ynew = dtree.predict_proba(userdata)\n",
    "print(ynewclass)\n",
    "print(\"Probabilities of all classes: \", ynew)\n",
    "print(\"Probability of Predicted class : \", np.max(ynew))"
   ]
  },
  {
   "cell_type": "markdown",
   "metadata": {},
   "source": [
    "### Data for single instance prediction"
   ]
  },
  {
   "cell_type": "code",
   "execution_count": 28,
   "metadata": {
    "execution": {
     "iopub.execute_input": "2021-05-21T09:15:16.340785Z",
     "iopub.status.busy": "2021-05-21T09:15:16.340422Z",
     "iopub.status.idle": "2021-05-21T09:15:16.349794Z",
     "shell.execute_reply": "2021-05-21T09:15:16.348558Z",
     "shell.execute_reply.started": "2021-05-21T09:15:16.340753Z"
    }
   },
   "outputs": [
    {
     "name": "stdout",
     "output_type": "stream",
     "text": [
      "['Business Analyst']\n",
      "Probabilities of all classes:  [[0. 0. 0. 1. 0. 0. 0. 0. 0. 0. 0. 0. 0. 0. 0. 0. 0. 0.]]\n",
      "Probability of Predicted class :  1.0\n"
     ]
    }
   ],
   "source": [
    "userdata = [['8','7','3','4','5','5','6','3','8','1','1','1','1','1','1','2','2','1','1','4','5','8','1','1','1','1']]\n",
    "ynewclass = dtree.predict(userdata)\n",
    "ynew = dtree.predict_proba(userdata)\n",
    "print(ynewclass)\n",
    "print(\"Probabilities of all classes: \", ynew)\n",
    "print(\"Probability of Predicted class : \", np.max(ynew))"
   ]
  },
  {
   "cell_type": "markdown",
   "metadata": {},
   "source": [
    "K-Fold Cross Validation"
   ]
  },
  {
   "cell_type": "code",
   "execution_count": 33,
   "metadata": {},
   "outputs": [
    {
     "data": {
      "text/plain": [
       "array([0.05496354, 0.0617284 , 0.05387205, 0.05611672, 0.04713805])"
      ]
     },
     "execution_count": 33,
     "metadata": {},
     "output_type": "execute_result"
    }
   ],
   "source": [
    "from sklearn.model_selection import cross_val_score\n",
    "dtree = DecisionTreeClassifier(random_state=1)\n",
    "scores = cross_val_score(dtree, x_train, y_train, cv = 10)\n",
    "scores"
   ]
  },
  {
   "cell_type": "code",
   "execution_count": 36,
   "metadata": {},
   "outputs": [
    {
     "name": "stdout",
     "output_type": "stream",
     "text": [
      "0.55 accuracy with a standard deviation of 0.00\n"
     ]
    }
   ],
   "source": [
    "print(\"%0.2f accuracy with a standard deviation of %0.2f\" % (scores.mean()*10, scores.std()))"
   ]
  },
  {
   "cell_type": "markdown",
   "metadata": {},
   "source": [
    "### Support Vector Machine"
   ]
  },
  {
   "cell_type": "code",
   "execution_count": 32,
   "metadata": {},
   "outputs": [
    {
     "name": "stdout",
     "output_type": "stream",
     "text": [
      "confusion matrics= [[ 0  1  0  1  3  0  0  2 10  0  5  4  6  2  0  0  4  5]\n",
      " [ 0  0  0  2  4  1  0  1 20  0 11  5  7  1  0  2  9  6]\n",
      " [ 0  0  0  0  9  1  2  1 11  0  5  3  3  1  0  3  5  3]\n",
      " [ 0  0  0  0  4  1  2  0 13  0  2  3  8  2  0  3  3  3]\n",
      " [ 0  0  0  2  3  1  0  0 15  0  9  6  4  1  0  2  6  7]\n",
      " [ 0  1  0  0  1  5  0  0 22  0  3  5  6  2  0  1  3  5]\n",
      " [ 0  0  1  0  7  0  0  0 14  0  6  7  3  1  0  1  2  4]\n",
      " [ 0  0  0  0  4  2  0  0 16  0  1  7  2  5  0  2  7  1]\n",
      " [ 0  0  0  1  6  1  1  0 23  0  5  3  8  2  0  2 10  5]\n",
      " [ 0  0  0  0  5  4  0  1 26  0  6  4  2  0  0  1  5  5]\n",
      " [ 0  0  0  3  7  0  0  0 14  0  6 11  4  2  0  3  8  6]\n",
      " [ 0  0  0  1  4  2  1  1 24  0  2  4  4  3  0  1  5 10]\n",
      " [ 0  0  0  2  3  1  0  2 16  0  2  6  6  0  0  4  3  4]\n",
      " [ 0  0  0  0  8  1  0  0 20  0  1  6  5  3  0  1  9  5]\n",
      " [ 0  0  1  2  4  3  0  0 16  0  3  4  6  0  0  2  5  5]\n",
      " [ 0  0  0  2  6  2  3  0 14  0  4 10  3  1  0  2 12  4]\n",
      " [ 0  0  0  3  4  1  0  1 14  0  3  5  6  3  0  3  5  3]\n",
      " [ 0  0  1  1  7  5  0  0 16  0  4  6  7  1  0  2  7  3]]\n",
      "  \n",
      "accuracy= 0.6054490413723511\n"
     ]
    }
   ],
   "source": [
    "from sklearn import svm\n",
    "svm = svm.SVC()\n",
    "svm.fit(x_train, y_train)\n",
    "svm_y_pred = svm.predict(x_test)\n",
    "svm_cm = confusion_matrix(y_test,svm_y_pred)\n",
    "svm_accuracy = accuracy_score(y_test,svm_y_pred)\n",
    "print(\"confusion matrics=\",svm_cm)\n",
    "print(\"  \")\n",
    "print(\"accuracy=\",svm_accuracy*10)"
   ]
  },
  {
   "cell_type": "markdown",
   "metadata": {},
   "source": [
    "### K-Fold Cross Validation"
   ]
  },
  {
   "cell_type": "code",
   "execution_count": 37,
   "metadata": {},
   "outputs": [
    {
     "data": {
      "text/plain": [
       "array([0.05776781, 0.06060606, 0.05218855, 0.05948373, 0.07856341])"
      ]
     },
     "execution_count": 37,
     "metadata": {},
     "output_type": "execute_result"
    }
   ],
   "source": [
    "from sklearn import svm\n",
    "svm = svm.SVC()\n",
    "scores = cross_val_score(svm, x_train, y_train, cv = 10)\n",
    "scores"
   ]
  },
  {
   "cell_type": "code",
   "execution_count": 38,
   "metadata": {},
   "outputs": [
    {
     "name": "stdout",
     "output_type": "stream",
     "text": [
      "0.62 accuracy with a standard deviation of 0.01\n"
     ]
    }
   ],
   "source": [
    "print(\"%0.2f accuracy with a standard deviation of %0.2f\" % (scores.mean()*10, scores.std()))"
   ]
  },
  {
   "cell_type": "markdown",
   "metadata": {},
   "source": [
    "### Random Forest Classifier"
   ]
  },
  {
   "cell_type": "code",
   "execution_count": 39,
   "metadata": {},
   "outputs": [
    {
     "name": "stdout",
     "output_type": "stream",
     "text": [
      "confusion matrics= [[ 2  2  2  1  4  2  1  5  2  2  1  0  3  2  2  8  4  0]\n",
      " [ 3  6  2  4  5  8  4  5  8  1  3  1  4  2  2  6  4  1]\n",
      " [ 2  2  3  1  5  5  3  2  3  2  1  2  2  3  1  4  4  2]\n",
      " [ 0  4  0  1  4  6  2  2  3  3  3  4  2  3  0  4  1  2]\n",
      " [ 5  4  4  2  5  2  3  5  5  2  2  6  2  1  2  2  3  1]\n",
      " [ 2  5  2  2  4  8  2  4  2  0  6  2  2  4  0  5  3  1]\n",
      " [ 2  6  3  2  3  1  2  1  7  0  2  2  6  2  2  1  3  1]\n",
      " [ 1  6  0  3  6  1  3  5  5  1  2  5  0  4  1  1  2  1]\n",
      " [ 2  2  4  4  5  4  3  2  6  1  6  2  5  5  2  3  4  7]\n",
      " [ 1  5  4  1  2  3  4  6  5  4  1  5  2  2  6  2  3  3]\n",
      " [ 1  2  0  5  7  5  3  2  5  4  6  7  3  4  2  3  3  2]\n",
      " [ 5  3  2  2  4  3  1  2 10  5  5  3  5  2  2  0  5  3]\n",
      " [ 2  2  2  2  5  5  0  2  4  5  2  4  1  3  2  5  1  2]\n",
      " [ 4  4  0  2  4  5  2  2  7  1  5  6  7  2  0  2  6  0]\n",
      " [ 4  3  3  1  6  5  1  4  5  2  4  1  1  1  1  4  2  3]\n",
      " [ 4  7  2  6  4  4  5  2  3  2  5  4  5  3  1  2  1  3]\n",
      " [ 4  3  4  0  4  7  2  2  1  3  4  5  2  2  1  1  2  4]\n",
      " [ 2  1  4  5  5 10  1  6  5  0  5  3  3  2  4  1  3  0]]\n",
      "  \n",
      "accuracy= 0.5953582240161452\n"
     ]
    }
   ],
   "source": [
    "rf = RandomForestClassifier(random_state = 1)\n",
    "rf.fit(x_train, y_train)\n",
    "rfc_y_pred = rf.predict(x_test)\n",
    "rfc_cm = confusion_matrix(y_test,rfc_y_pred)\n",
    "rfc_accuracy = accuracy_score(y_test,rfc_y_pred)\n",
    "print(\"confusion matrics=\",rfc_cm)\n",
    "print(\"  \")\n",
    "print(\"accuracy=\",rfc_accuracy*10)"
   ]
  },
  {
   "cell_type": "markdown",
   "metadata": {},
   "source": [
    "K-Fold Cross Validation"
   ]
  },
  {
   "cell_type": "code",
   "execution_count": 41,
   "metadata": {},
   "outputs": [
    {
     "data": {
      "text/plain": [
       "array([0.06278027, 0.07070707, 0.0684624 , 0.04713805, 0.04489338,\n",
       "       0.05611672, 0.0684624 , 0.04826038, 0.0684624 , 0.05948373])"
      ]
     },
     "execution_count": 41,
     "metadata": {},
     "output_type": "execute_result"
    }
   ],
   "source": [
    "rf = RandomForestClassifier(random_state = 1)\n",
    "scores = cross_val_score(rf, x_train, y_train, cv = 10)\n",
    "scores"
   ]
  },
  {
   "cell_type": "code",
   "execution_count": 42,
   "metadata": {},
   "outputs": [
    {
     "name": "stdout",
     "output_type": "stream",
     "text": [
      "0.59 accuracy with a standard deviation of 0.01\n"
     ]
    }
   ],
   "source": [
    "print(\"%0.2f accuracy with a standard deviation of %0.2f\" % (scores.mean()*10, scores.std()))"
   ]
  },
  {
   "cell_type": "markdown",
   "metadata": {},
   "source": [
    "### XGBOOST"
   ]
  },
  {
   "cell_type": "code",
   "execution_count": 43,
   "metadata": {},
   "outputs": [],
   "source": [
    "from sklearn.preprocessing import LabelEncoder\n",
    "le = LabelEncoder()\n",
    "y_train = le.fit_transform(y_train)"
   ]
  },
  {
   "cell_type": "code",
   "execution_count": 44,
   "metadata": {},
   "outputs": [
    {
     "data": {
      "text/html": [
       "<style>#sk-container-id-1 {color: black;background-color: white;}#sk-container-id-1 pre{padding: 0;}#sk-container-id-1 div.sk-toggleable {background-color: white;}#sk-container-id-1 label.sk-toggleable__label {cursor: pointer;display: block;width: 100%;margin-bottom: 0;padding: 0.3em;box-sizing: border-box;text-align: center;}#sk-container-id-1 label.sk-toggleable__label-arrow:before {content: \"▸\";float: left;margin-right: 0.25em;color: #696969;}#sk-container-id-1 label.sk-toggleable__label-arrow:hover:before {color: black;}#sk-container-id-1 div.sk-estimator:hover label.sk-toggleable__label-arrow:before {color: black;}#sk-container-id-1 div.sk-toggleable__content {max-height: 0;max-width: 0;overflow: hidden;text-align: left;background-color: #f0f8ff;}#sk-container-id-1 div.sk-toggleable__content pre {margin: 0.2em;color: black;border-radius: 0.25em;background-color: #f0f8ff;}#sk-container-id-1 input.sk-toggleable__control:checked~div.sk-toggleable__content {max-height: 200px;max-width: 100%;overflow: auto;}#sk-container-id-1 input.sk-toggleable__control:checked~label.sk-toggleable__label-arrow:before {content: \"▾\";}#sk-container-id-1 div.sk-estimator input.sk-toggleable__control:checked~label.sk-toggleable__label {background-color: #d4ebff;}#sk-container-id-1 div.sk-label input.sk-toggleable__control:checked~label.sk-toggleable__label {background-color: #d4ebff;}#sk-container-id-1 input.sk-hidden--visually {border: 0;clip: rect(1px 1px 1px 1px);clip: rect(1px, 1px, 1px, 1px);height: 1px;margin: -1px;overflow: hidden;padding: 0;position: absolute;width: 1px;}#sk-container-id-1 div.sk-estimator {font-family: monospace;background-color: #f0f8ff;border: 1px dotted black;border-radius: 0.25em;box-sizing: border-box;margin-bottom: 0.5em;}#sk-container-id-1 div.sk-estimator:hover {background-color: #d4ebff;}#sk-container-id-1 div.sk-parallel-item::after {content: \"\";width: 100%;border-bottom: 1px solid gray;flex-grow: 1;}#sk-container-id-1 div.sk-label:hover label.sk-toggleable__label {background-color: #d4ebff;}#sk-container-id-1 div.sk-serial::before {content: \"\";position: absolute;border-left: 1px solid gray;box-sizing: border-box;top: 0;bottom: 0;left: 50%;z-index: 0;}#sk-container-id-1 div.sk-serial {display: flex;flex-direction: column;align-items: center;background-color: white;padding-right: 0.2em;padding-left: 0.2em;position: relative;}#sk-container-id-1 div.sk-item {position: relative;z-index: 1;}#sk-container-id-1 div.sk-parallel {display: flex;align-items: stretch;justify-content: center;background-color: white;position: relative;}#sk-container-id-1 div.sk-item::before, #sk-container-id-1 div.sk-parallel-item::before {content: \"\";position: absolute;border-left: 1px solid gray;box-sizing: border-box;top: 0;bottom: 0;left: 50%;z-index: -1;}#sk-container-id-1 div.sk-parallel-item {display: flex;flex-direction: column;z-index: 1;position: relative;background-color: white;}#sk-container-id-1 div.sk-parallel-item:first-child::after {align-self: flex-end;width: 50%;}#sk-container-id-1 div.sk-parallel-item:last-child::after {align-self: flex-start;width: 50%;}#sk-container-id-1 div.sk-parallel-item:only-child::after {width: 0;}#sk-container-id-1 div.sk-dashed-wrapped {border: 1px dashed gray;margin: 0 0.4em 0.5em 0.4em;box-sizing: border-box;padding-bottom: 0.4em;background-color: white;}#sk-container-id-1 div.sk-label label {font-family: monospace;font-weight: bold;display: inline-block;line-height: 1.2em;}#sk-container-id-1 div.sk-label-container {text-align: center;}#sk-container-id-1 div.sk-container {/* jupyter's `normalize.less` sets `[hidden] { display: none; }` but bootstrap.min.css set `[hidden] { display: none !important; }` so we also need the `!important` here to be able to override the default hidden behavior on the sphinx rendered scikit-learn.org. See: https://github.com/scikit-learn/scikit-learn/issues/21755 */display: inline-block !important;position: relative;}#sk-container-id-1 div.sk-text-repr-fallback {display: none;}</style><div id=\"sk-container-id-1\" class=\"sk-top-container\"><div class=\"sk-text-repr-fallback\"><pre>XGBClassifier(base_score=0.5, booster=&#x27;gbtree&#x27;, callbacks=None,\n",
       "              colsample_bylevel=1, colsample_bynode=1, colsample_bytree=1,\n",
       "              early_stopping_rounds=None, enable_categorical=False,\n",
       "              eval_metric=None, feature_types=None, gamma=0, gpu_id=-1,\n",
       "              grow_policy=&#x27;depthwise&#x27;, importance_type=None,\n",
       "              interaction_constraints=&#x27;&#x27;, learning_rate=0.02, max_bin=256,\n",
       "              max_cat_threshold=64, max_cat_to_onehot=4, max_delta_step=0,\n",
       "              max_depth=6, max_leaves=0, min_child_weight=1, missing=nan,\n",
       "              monotone_constraints=&#x27;()&#x27;, n_estimators=300, n_jobs=0,\n",
       "              num_parallel_tree=1, objective=&#x27;multi:softprob&#x27;, predictor=&#x27;auto&#x27;, ...)</pre><b>In a Jupyter environment, please rerun this cell to show the HTML representation or trust the notebook. <br />On GitHub, the HTML representation is unable to render, please try loading this page with nbviewer.org.</b></div><div class=\"sk-container\" hidden><div class=\"sk-item\"><div class=\"sk-estimator sk-toggleable\"><input class=\"sk-toggleable__control sk-hidden--visually\" id=\"sk-estimator-id-1\" type=\"checkbox\" checked><label for=\"sk-estimator-id-1\" class=\"sk-toggleable__label sk-toggleable__label-arrow\">XGBClassifier</label><div class=\"sk-toggleable__content\"><pre>XGBClassifier(base_score=0.5, booster=&#x27;gbtree&#x27;, callbacks=None,\n",
       "              colsample_bylevel=1, colsample_bynode=1, colsample_bytree=1,\n",
       "              early_stopping_rounds=None, enable_categorical=False,\n",
       "              eval_metric=None, feature_types=None, gamma=0, gpu_id=-1,\n",
       "              grow_policy=&#x27;depthwise&#x27;, importance_type=None,\n",
       "              interaction_constraints=&#x27;&#x27;, learning_rate=0.02, max_bin=256,\n",
       "              max_cat_threshold=64, max_cat_to_onehot=4, max_delta_step=0,\n",
       "              max_depth=6, max_leaves=0, min_child_weight=1, missing=nan,\n",
       "              monotone_constraints=&#x27;()&#x27;, n_estimators=300, n_jobs=0,\n",
       "              num_parallel_tree=1, objective=&#x27;multi:softprob&#x27;, predictor=&#x27;auto&#x27;, ...)</pre></div></div></div></div></div>"
      ],
      "text/plain": [
       "XGBClassifier(base_score=0.5, booster='gbtree', callbacks=None,\n",
       "              colsample_bylevel=1, colsample_bynode=1, colsample_bytree=1,\n",
       "              early_stopping_rounds=None, enable_categorical=False,\n",
       "              eval_metric=None, feature_types=None, gamma=0, gpu_id=-1,\n",
       "              grow_policy='depthwise', importance_type=None,\n",
       "              interaction_constraints='', learning_rate=0.02, max_bin=256,\n",
       "              max_cat_threshold=64, max_cat_to_onehot=4, max_delta_step=0,\n",
       "              max_depth=6, max_leaves=0, min_child_weight=1, missing=nan,\n",
       "              monotone_constraints='()', n_estimators=300, n_jobs=0,\n",
       "              num_parallel_tree=1, objective='multi:softprob', predictor='auto', ...)"
      ]
     },
     "execution_count": 44,
     "metadata": {},
     "output_type": "execute_result"
    }
   ],
   "source": [
    "from xgboost import XGBClassifier\n",
    "xgb = XGBClassifier(random_state = 1, learning_rate=0.02, n_estimators=300)\n",
    "xgb.fit(X = x_train,y =  y_train)"
   ]
  },
  {
   "cell_type": "code",
   "execution_count": 45,
   "metadata": {},
   "outputs": [
    {
     "name": "stdout",
     "output_type": "stream",
     "text": [
      "confusion matrics= [[ 2  0  3  2  3  3  3  2  5  1  4  3  2  3  1  2  3  1]\n",
      " [ 3  5  0  2  4 10  3  4  4  0 11  5  2  2  4  2  6  2]\n",
      " [ 2  2  4  2  3  1  1  2  4  3  5  3  3  2  1  3  2  4]\n",
      " [ 2  2  1  5  3  4  4  2  1  1  3  2  5  1  2  1  2  3]\n",
      " [ 3  3  2  3  6  1  0  0  7  1  4  4  4  1  2  2  6  7]\n",
      " [ 0  2  0  2  3 10  3  3  4  1  6  3  2  5  1  2  2  5]\n",
      " [ 2  2  3  1  1  3  0  4  8  1  3  0  3  2  2  2  4  5]\n",
      " [ 0  2  1  0  1  6  3  3  4  2  1  6  6  1  2  5  3  1]\n",
      " [ 2  4  2  2  1  3  5  3  4  1  9  6  6  2  3  4  4  6]\n",
      " [ 4  3  4  2  4  6  2  2  7  3  7  1  3  2  1  2  1  5]\n",
      " [ 1  5  2  4  8  3  3  3  5  2  8  6  1  2  0  4  6  1]\n",
      " [ 2  3  0  2  7  2  2  4  7  4  4  3  4  3  2  3  5  5]\n",
      " [ 1  2  0  1  3  5  3  1  3  1  2  5  6  0  2  5  6  3]\n",
      " [ 2  4  2  3  0  3  5  4  8  0  4  3  4  5  2  4  4  2]\n",
      " [ 3  5  1  2  2  2  2  3  4  0  3  1  3  4  2  3  6  5]\n",
      " [ 2  8  4  7  3  6  1  3  5  1  6  3  0  2  2  6  3  1]\n",
      " [ 2  1  4  1  3  4  1  4  4  2  5  6  2  1  2  7  0  2]\n",
      " [ 1  5  1  0  4  6  4  6  7  0  2  5  2  2  1  3  8  3]]\n",
      "  \n",
      "accuracy= 0.7568113017154389\n"
     ]
    }
   ],
   "source": [
    "from sklearn.metrics import confusion_matrix, accuracy_score\n",
    "y_pred = xgb.predict(x_test)\n",
    "y_pred = le.inverse_transform(y_pred)\n",
    "cm = confusion_matrix(y_test, y_pred)\n",
    "xgb_accuracy = accuracy_score(y_test, y_pred)\n",
    "print(\"confusion matrics=\",cm)\n",
    "print(\"  \")\n",
    "print(\"accuracy=\",xgb_accuracy*10)"
   ]
  },
  {
   "cell_type": "markdown",
   "metadata": {},
   "source": [
    "K-Fold Cross Validation"
   ]
  },
  {
   "cell_type": "code",
   "execution_count": 46,
   "metadata": {},
   "outputs": [
    {
     "data": {
      "text/plain": [
       "array([0.06053812, 0.05836139, 0.05499439, 0.05836139, 0.06734007,\n",
       "       0.05162738, 0.06060606, 0.05162738, 0.04826038, 0.04826038])"
      ]
     },
     "execution_count": 46,
     "metadata": {},
     "output_type": "execute_result"
    }
   ],
   "source": [
    "xgb = XGBClassifier(random_state = 1, learning_rate=0.02, n_estimators=300)\n",
    "scores = cross_val_score(xgb, x_train, y_train, cv = 10)\n",
    "scores"
   ]
  },
  {
   "cell_type": "code",
   "execution_count": 47,
   "metadata": {},
   "outputs": [
    {
     "name": "stdout",
     "output_type": "stream",
     "text": [
      "0.56 accuracy with a standard deviation of 0.01\n"
     ]
    }
   ],
   "source": [
    "print(\"%0.2f accuracy with a standard deviation of %0.2f\" % (scores.mean()*10, scores.std()))"
   ]
  },
  {
   "cell_type": "markdown",
   "metadata": {},
   "source": [
    "### K-Nearest Neighbors"
   ]
  },
  {
   "cell_type": "code",
   "execution_count": 51,
   "metadata": {},
   "outputs": [],
   "source": [
    "from sklearn.neighbors import KNeighborsClassifier\n",
    "from sklearn.metrics import classification_report\n",
    "knn = KNeighborsClassifier(n_neighbors=12)\n",
    "knn.fit(x_train, y_train)\n",
    "y_pred = knn.predict(x_test)"
   ]
  },
  {
   "cell_type": "code",
   "execution_count": 52,
   "metadata": {},
   "outputs": [
    {
     "name": "stdout",
     "output_type": "stream",
     "text": [
      "accuracy =  0.5247225025227044\n",
      "Classification Report: \n",
      "                                            precision    recall  f1-score   support\n",
      "\n",
      "                               Accountant       0.04      0.09      0.06        43\n",
      "                   Applications Developer       0.05      0.06      0.05        69\n",
      "                                   Banker       0.06      0.09      0.07        47\n",
      "                         Business Analyst       0.05      0.07      0.06        44\n",
      "                  CRM Technical Developer       0.03      0.05      0.04        56\n",
      "                       Database Developer       0.07      0.09      0.08        54\n",
      "                          Human Resources       0.06      0.09      0.07        46\n",
      "            Mobile Applications Developer       0.02      0.02      0.02        47\n",
      "                Network Security Engineer       0.11      0.12      0.12        67\n",
      "                                    Pilot       0.03      0.02      0.02        59\n",
      "                       Software Developer       0.04      0.03      0.04        64\n",
      "                        Software Engineer       0.05      0.03      0.04        62\n",
      "Software Quality Assurance (QA) / Testing       0.02      0.02      0.02        49\n",
      "           Systems Security Administrator       0.11      0.07      0.08        59\n",
      "                                  Teacher       0.04      0.02      0.03        51\n",
      "                        Technical Support       0.03      0.02      0.02        63\n",
      "                              UX Designer       0.10      0.08      0.09        51\n",
      "                            Web Developer       0.00      0.00      0.00        60\n",
      "\n",
      "                                 accuracy                           0.05       991\n",
      "                                macro avg       0.05      0.05      0.05       991\n",
      "                             weighted avg       0.05      0.05      0.05       991\n",
      "\n",
      "Confusion Matrix:  [[ 4  1  6  3  4  4  4  4  1  1  2  2  0  2  2  3  0  0]\n",
      " [ 5  4  7  4  6  8  3  6  6  3  4  3  2  1  3  1  2  1]\n",
      " [ 2  4  4  0  8  6  3  5  3  1  2  2  2  3  1  0  0  1]\n",
      " [ 3  5  4  3  2  3  2  2  4  2  3  3  2  0  0  3  3  0]\n",
      " [ 5  3  2  4  3  4  6  4  7  2  3  1  0  2  1  3  2  4]\n",
      " [ 3  9  3  5  5  5  5  1  5  1  1  4  2  1  1  1  2  0]\n",
      " [ 6  6  2  1  3  3  4  1  3  0  2  2  3  5  2  0  2  1]\n",
      " [ 6  5  5  3  3  3  2  1  3  1  1  2  4  3  3  0  1  1]\n",
      " [ 7  8  2  7  5  4  1  4  8  2  3  1  4  1  1  4  4  1]\n",
      " [ 2  6  4  3  8  4  4  1  5  1  2  4  5  2  2  4  1  1]\n",
      " [ 9  9  4  3  4  3  5  4  4  1  2  1  2  3  2  4  2  2]\n",
      " [ 4  2  4  4  6  3  2  6  4  5  4  2  3  2  2  2  4  3]\n",
      " [11  3  3  4  6  2  3  0  3  1  3  3  1  0  0  0  2  4]\n",
      " [ 5  7  1  3  8  3  2  3  2  4  4  4  2  4  0  5  1  1]\n",
      " [ 5  2  4  3  5  2  5  4  2  2  2  1  5  0  1  2  3  3]\n",
      " [11  6  3  4  4  5  4  1  5  3  3  2  3  3  2  1  2  1]\n",
      " [ 4  2  5  2  3  6  6  4  1  2  0  3  4  3  1  0  4  1]\n",
      " [ 1  3  7  7  3  5  4  5  4  0  5  0  1  2  3  5  5  0]]\n"
     ]
    }
   ],
   "source": [
    "knn_accuracy = accuracy_score(y_test, y_pred)\n",
    "print(\"accuracy = \", knn_accuracy*10)\n",
    "knn_classification_report = classification_report(y_test, y_pred)\n",
    "print(\"Classification Report: \\n\" , knn_classification_report)\n",
    "knn_cm = confusion_matrix(y_test, y_pred)\n",
    "print(\"Confusion Matrix: \", knn_cm)"
   ]
  },
  {
   "cell_type": "markdown",
   "metadata": {},
   "source": [
    "K-Fold Cross Validation"
   ]
  },
  {
   "cell_type": "code",
   "execution_count": 53,
   "metadata": {},
   "outputs": [
    {
     "data": {
      "text/plain": [
       "array([0.06390135, 0.0650954 , 0.0684624 , 0.05162738, 0.04826038,\n",
       "       0.0650954 , 0.04826038, 0.05836139, 0.04377104, 0.05387205])"
      ]
     },
     "execution_count": 53,
     "metadata": {},
     "output_type": "execute_result"
    }
   ],
   "source": [
    "knn = KNeighborsClassifier(n_neighbors=12)\n",
    "scores = cross_val_score(knn, x_train, y_train, cv = 10)\n",
    "scores"
   ]
  },
  {
   "cell_type": "code",
   "execution_count": 54,
   "metadata": {},
   "outputs": [
    {
     "name": "stdout",
     "output_type": "stream",
     "text": [
      "0.57 accuracy with a standard deviation of 0.01\n"
     ]
    }
   ],
   "source": [
    "print(\"%0.2f accuracy with a standard deviation of %0.2f\" % (scores.mean()*10, scores.std()))"
   ]
  },
  {
   "cell_type": "markdown",
   "metadata": {},
   "source": [
    "### Naive Bayes"
   ]
  },
  {
   "cell_type": "code",
   "execution_count": 55,
   "metadata": {},
   "outputs": [
    {
     "name": "stdout",
     "output_type": "stream",
     "text": [
      "accuracy =  0.5953582240161452\n",
      "Confusion Matrix:  [[ 1  4  0  1  2  5  2  3  7  0  4  3  4  0  2  0  1  4]\n",
      " [ 1  1  4  4  3  6  1  4 15  1  9  5  3  0  4  1  3  4]\n",
      " [ 0  3  3  0  3  6  1  3  6  0  4  6  5  3  2  2  0  0]\n",
      " [ 0  1  0  0  3  5  7  5  1  0  1  4  7  0  1  0  1  8]\n",
      " [ 0  1  0  0  2  4  2  1  8  0  5  8  6  3  3  5  4  4]\n",
      " [ 0  2  1  0  1  6  6  6  6  0  5  5  3  3  2  1  4  3]\n",
      " [ 0  3  1  0  3  3  0  1 13  0  6  8  0  0  4  2  0  2]\n",
      " [ 0  4  1  1  4  2  1  2  9  0  3  6  2  3  3  1  3  2]\n",
      " [ 0  4  1  3  0  5  3  3 11  0  4  6  5  3  4  5  5  5]\n",
      " [ 1  6  0  0  3  2  7  5  8  1  4  4  3  0  1  6  4  4]\n",
      " [ 0  1  1  0  3  3  2  3  8  1  4 12  2  2  2  9  8  3]\n",
      " [ 2  2  0  0  4  1  4  3 11  1  4  8  4  2  4  1  2  9]\n",
      " [ 0  1  2  2  4  3  2  2  4  0  5  2  8  0  4  3  2  5]\n",
      " [ 0  6  0  0  6  2  4  4  7  0  5  9  5  3  0  3  3  2]\n",
      " [ 0  1  1  0  4  7  1  2 12  0  3  6  6  2  4  0  0  2]\n",
      " [ 3  3  1  1  0  7  0  5  7  0 11  8  3  1  3  1  6  3]\n",
      " [ 0  2  0  2  1  4  3  4  7  0  4  6  9  1  1  3  2  2]\n",
      " [ 0  2  2  2  2  4  8  2  6  0  3 11  9  0  1  3  3  2]]\n"
     ]
    }
   ],
   "source": [
    "gnb = GaussianNB()\n",
    "y_pred = gnb.fit(x_train, y_train).predict(x_test)\n",
    "gnb_accuracy = accuracy_score(y_test, y_pred)\n",
    "print(\"accuracy = \", gnb_accuracy*10)\n",
    "gnb_cm = confusion_matrix(y_test, y_pred)\n",
    "print(\"Confusion Matrix: \", gnb_cm)"
   ]
  },
  {
   "cell_type": "markdown",
   "metadata": {},
   "source": [
    "K-Fold Cross Validation"
   ]
  },
  {
   "cell_type": "code",
   "execution_count": 56,
   "metadata": {},
   "outputs": [
    {
     "data": {
      "text/plain": [
       "array([0.06281548, 0.04882155, 0.06397306, 0.05667789, 0.06228956])"
      ]
     },
     "execution_count": 56,
     "metadata": {},
     "output_type": "execute_result"
    }
   ],
   "source": [
    "gnb = GaussianNB()\n",
    "scores = cross_val_score(gnb, x_train, y_train, cv = 5)\n",
    "scores"
   ]
  },
  {
   "cell_type": "code",
   "execution_count": 57,
   "metadata": {},
   "outputs": [
    {
     "name": "stdout",
     "output_type": "stream",
     "text": [
      "0.59 accuracy with a standard deviation of 0.01\n"
     ]
    }
   ],
   "source": [
    "print(\"%0.2f accuracy with a standard deviation of %0.2f\" % (scores.mean()*10, scores.std()))"
   ]
  },
  {
   "cell_type": "code",
   "execution_count": 29,
   "metadata": {},
   "outputs": [],
   "source": [
    "import pickle \n",
    "pickle.dump(dtree,open('interest_profiler_model.pkl','wb'))"
   ]
  },
  {
   "cell_type": "code",
   "execution_count": 31,
   "metadata": {},
   "outputs": [
    {
     "name": "stdout",
     "output_type": "stream",
     "text": [
      " * Serving Flask app '__main__'\n",
      " * Debug mode: on\n"
     ]
    },
    {
     "name": "stderr",
     "output_type": "stream",
     "text": [
      "WARNING: This is a development server. Do not use it in a production deployment. Use a production WSGI server instead.\n",
      " * Running on http://127.0.0.1:5000\n",
      "Press CTRL+C to quit\n"
     ]
    }
   ],
   "source": [
    "from flask import Flask, request, jsonify, render_template\n",
    "from flask_cors import cross_origin\n",
    "import sklearn\n",
    "import pickle\n",
    "import pandas as pd\n",
    "\n",
    "\n",
    "app = Flask(__name__)\n",
    "model = pickle.load(open(\"interest_profiler_model.pkl\", \"rb\"))\n",
    "\n",
    "\n",
    "@app.route(\"/\")\n",
    "@cross_origin()\n",
    "def home():\n",
    "    return render_template(\"home.html\")\n",
    "\n",
    "@app.route(\"/predict\", methods = [\"GET\", \"POST\"])\n",
    "@cross_origin()\n",
    "def predict():\n",
    "    if request.method == \"POST\":      \n",
    "      \n",
    "    #   Receive inputs from Post req\n",
    "        print('made inside post req')\n",
    "        content = request.json\n",
    "        print(content)\n",
    "\n",
    "#        Logical_quotient_rating,i_get_stressed_out_easily,coding_skills_rating,public_speaking_points,i_am_always_prepared,\n",
    "# i_follow_a_schedule,i_am_quick_to_understand_things,i_am_full_of_ideas,i_start_conversations,do_you_like_sports,\n",
    "# entrepreneurial_mindset,tendency_to_worry,self_learning_capability,Extra_courses_did,Taken_inputs_from_seniors_or_elders,\n",
    "# reading_and_writing_skills,memory_capability_score,worked_in_teams_ever,Introvert,interested_career_area_code,\n",
    "# Type_of_company_want_to_settle_in_code,Interested_Type_of_Books_code,A_Non_Technical,A_Technical,B_hard_worker,B_smart_worker  \n",
    "\n",
    "        prediction=model.predict([[\n",
    "            content[\"Logical_quotient_rating\"],content[\"i_get_stressed_out_easily\"], content[\"coding_skills_rating\"], \n",
    "            content[\"public_speaking_points\"], content[\"i_am_always_prepared\"], content[\"i_follow_a_schedule\"], \n",
    "            content[\"i_am_quick_to_understand_things\"], content[\"i_am_full_of_ideas\"], content[\"i_start_conversations\"], \n",
    "            content[\"do_you_like_sports\"],\n",
    "            content[\"entrepreneurial_mindset\"], \n",
    "            content[\"tendency_to_worry\"], content[\"self_learning_capability\"], \n",
    "            content[\"Extra_courses_did\"], content[\"Taken_inputs_from_seniors_or_elders\"], \n",
    "            \n",
    "            content[\"reading_and_writing_skills\"], content[\"memory_capability_score\"], \n",
    "            content[\"worked_in_teams_ever\"],  content[\"Introvert\"], content[\"interested_career_area_code\"],\n",
    "             content[\"Type_of_company_want_to_settle_in_code\"],  content[\"Interested_Type_of_Books_code\"], \n",
    "            content[\"A_Non Technical\"],\n",
    "              content[\"A_Technical\"], \n",
    "             content[\"B_hard_worker\"] , \n",
    "            content[\"B_smart_worker\"]\n",
    "            \n",
    "          \n",
    "           \n",
    "            \n",
    "             \n",
    "             \n",
    "        ]])\n",
    "\n",
    "        print(\"===========================\")\n",
    "        print(prediction)\n",
    "        print(prediction[0])\n",
    "        print(\"===========================\")\n",
    "            \n",
    "        return prediction[0]\n",
    "\n",
    "        prediction=model.predict([[\n",
    "            Logical_quotient_rating, coding_skills_rating, hackathons, public_speaking_points,\n",
    "           self_learning_capability,Extra_courses_did, \n",
    "           Taken_inputs_from_seniors_or_elders, worked_in_teams_ever, Introvert, reading_and_writing_skills,\n",
    "           memory_capability_score,  \n",
    "           B_hard_worker,B_smart_worker, A_Management, A_Technical, Interested_subjects_code, \n",
    "           Interested_Type_of_Books_code, certifications_code, \n",
    "           workshops_code, Type_of_company_want_to_settle_in_code,  interested_career_area_code\n",
    "            \n",
    "        ]])\n",
    "\n",
    "        output=(prediction[0],2)\n",
    "        \n",
    "        print(output)\n",
    "\n",
    "        return jsonify(output)\n",
    "\n",
    "    return render_template('home.html',prediction_text=\"The Course for you is. {}\".format(output))\n",
    "\n",
    "\n",
    "    return render_template(\"home.html\")\n",
    "\n",
    "\n",
    "\n",
    "if __name__ == \"__main__\":\n",
    "     app.run(debug=True,use_reloader=False)"
   ]
  },
  {
   "cell_type": "code",
   "execution_count": null,
   "metadata": {},
   "outputs": [
    {
     "name": "stdout",
     "output_type": "stream",
     "text": [
      " * Serving Flask app '__main__'\n",
      " * Debug mode: on\n"
     ]
    },
    {
     "name": "stderr",
     "output_type": "stream",
     "text": [
      "WARNING: This is a development server. Do not use it in a production deployment. Use a production WSGI server instead.\n",
      " * Running on http://127.0.0.1:5000\n",
      "Press CTRL+C to quit\n",
      "127.0.0.1 - - [28/Nov/2022 22:57:43] \"GET / HTTP/1.1\" 200 -\n",
      "127.0.0.1 - - [28/Nov/2022 22:57:43] \"GET /static/css/styles.css HTTP/1.1\" 304 -\n",
      "c:\\Users\\rgons\\AppData\\Local\\Programs\\Python\\Python310\\lib\\site-packages\\sklearn\\base.py:450: UserWarning: X does not have valid feature names, but DecisionTreeClassifier was fitted with feature names\n",
      "  warnings.warn(\n",
      "127.0.0.1 - - [28/Nov/2022 22:57:46] \"POST /predict HTTP/1.1\" 200 -\n",
      "127.0.0.1 - - [28/Nov/2022 22:57:46] \"GET /static/css/styles.css HTTP/1.1\" 304 -\n"
     ]
    },
    {
     "name": "stdout",
     "output_type": "stream",
     "text": [
      "('Banker', 2)\n"
     ]
    }
   ],
   "source": [
    "from flask import Flask, request, render_template\n",
    "from flask_cors import cross_origin\n",
    "import sklearn\n",
    "import pickle\n",
    "import pandas as pd\n",
    "\n",
    "\n",
    "app = Flask(__name__)\n",
    "model = pickle.load(open(\"predict.pkl\", \"rb\"))\n",
    "\n",
    "\n",
    "@app.route(\"/\")\n",
    "@cross_origin()\n",
    "def home():\n",
    "    return render_template(\"home.html\")\n",
    "\n",
    "@app.route(\"/predict\", methods = [\"GET\", \"POST\"])\n",
    "@cross_origin()\n",
    "def predict():\n",
    "    if request.method == \"POST\":       \n",
    "\n",
    " ###################   Logical_quotient_rating   #################################        \n",
    "        Logical_quotient_rating = request.form[\"Logical_quotient_rating\"]\n",
    "        if (Logical_quotient_rating == 1):\n",
    "            Logical_quotient_rating = 1\n",
    "\n",
    "        \n",
    "        elif (Logical_quotient_rating == 2):\n",
    "            Logical_quotient_rating = 2\n",
    "        elif (Logical_quotient_rating == 3):\n",
    "            Logical_quotient_rating = 3\n",
    "        elif (Logical_quotient_rating == 4):\n",
    "            Logical_quotient_rating = 4\n",
    "        elif (Logical_quotient_rating == 5):\n",
    "            Logical_quotient_rating = 5\n",
    "        elif (Logical_quotient_rating == 6):\n",
    "            Logical_quotient_rating = 6\n",
    "        elif (Logical_quotient_rating == 7):\n",
    "            Logical_quotient_rating = 7\n",
    "        elif (Logical_quotient_rating == 8):\n",
    "            Logical_quotient_rating = 8\n",
    "        elif (Logical_quotient_rating == 9):\n",
    "            Logical_quotient_rating = 9           \n",
    "\n",
    "\n",
    "        else:\n",
    "            Logical_quotient_rating = 0\n",
    "            \n",
    "\n",
    "            \n",
    " ###################   coding_skills_rating   #################################                    \n",
    "\n",
    "        coding_skills_rating = request.form[\"coding_skills_rating\"]\n",
    "        if (coding_skills_rating == 1):\n",
    "            coding_skills_rating = 1\n",
    "\n",
    "        \n",
    "        elif (coding_skills_rating == 2):\n",
    "            coding_skills_rating = 2\n",
    "        elif (coding_skills_rating == 3):\n",
    "            coding_skills_rating = 3\n",
    "        elif (coding_skills_rating == 4):\n",
    "            coding_skills_rating = 4\n",
    "        elif (coding_skills_rating == 5):\n",
    "            coding_skills_rating = 5\n",
    "        elif (coding_skills_rating == 6):\n",
    "            coding_skills_rating = 6\n",
    "        elif (coding_skills_rating == 7):\n",
    "            coding_skills_rating = 7\n",
    "        elif (coding_skills_rating == 8):\n",
    "            coding_skills_rating = 8\n",
    "        elif (coding_skills_rating == 9):\n",
    "            coding_skills_rating = 9           \n",
    "\n",
    "\n",
    "        else:\n",
    "            coding_skills_rating = 0\n",
    "            \n",
    " ###################   public_speaking_points   #################################                    \n",
    "\n",
    "        public_speaking_points = request.form[\"public_speaking_points\"]\n",
    "        if (public_speaking_points == 1):\n",
    "            public_speaking_points = 1\n",
    "\n",
    "        \n",
    "        elif (public_speaking_points == 2):\n",
    "            public_speaking_points = 2\n",
    "        elif (public_speaking_points == 3):\n",
    "            public_speaking_points = 3\n",
    "        elif (public_speaking_points == 4):\n",
    "            public_speaking_points = 4\n",
    "        elif (public_speaking_points == 5):\n",
    "            public_speaking_points = 5\n",
    "        elif (public_speaking_points == 6):\n",
    "            public_speaking_points = 6\n",
    "        elif (public_speaking_points == 7):\n",
    "            public_speaking_points = 7\n",
    "        elif (public_speaking_points == 8):\n",
    "            public_speaking_points = 8\n",
    "        elif (public_speaking_points == 9):\n",
    "            public_speaking_points = 9           \n",
    "\n",
    "\n",
    "        else:\n",
    "            public_speaking_points = 0    \n",
    "            \n",
    " ###################   self_learning_capability   #################################        \n",
    "            \n",
    "        self_learning_capability = request.form[\"self_learning_capability\"]\n",
    "        if (self_learning_capability == 'no'):\n",
    "            self_learning_capability = 0\n",
    "\n",
    "        \n",
    "        elif (self_learning_capability == 'yes'):\n",
    "            self_learning_capability = 1\n",
    "        \n",
    "\n",
    "\n",
    "        else:\n",
    "            self_learning_capability = 0    \n",
    "            \n",
    " ###################   Extra_courses_did   #################################                    \n",
    "            \n",
    "            \n",
    "        Extra_courses_did = request.form[\"Extra_courses_did\"]\n",
    "        if (Extra_courses_did =='no' ):\n",
    "            Extra_courses_did = 0\n",
    "\n",
    "        \n",
    "        elif (Extra_courses_did == 'yes'):\n",
    "            Extra_courses_did = 1\n",
    "                  \n",
    "\n",
    "\n",
    "        else:\n",
    "            Extra_courses_did = 0\n",
    "            \n",
    " ###################   reading_and_writing_skills   #################################                \n",
    "            \n",
    "        reading_and_writing_skills = request.form[\"reading_and_writing_skills\"]\n",
    "        if (reading_and_writing_skills == 1):\n",
    "            reading_and_writing_skills = 1        \n",
    "        elif (reading_and_writing_skills == 2):\n",
    "            reading_and_writing_skills = 2\n",
    "        elif (reading_and_writing_skills == 0):\n",
    "            reading_and_writing_skills = 0\n",
    "                 \n",
    "\n",
    "\n",
    "        else:\n",
    "            reading_and_writing_skills = 0\n",
    "            \n",
    " ###################   memory_capability_score   #################################               \n",
    "            \n",
    "        memory_capability_score = request.form[\"memory_capability_score\"]\n",
    "        if (memory_capability_score == 0):\n",
    "            memory_capability_score = 0\n",
    "\n",
    "        \n",
    "        elif (memory_capability_score == 1):\n",
    "            memory_capability_score = 1\n",
    "        elif (memory_capability_score == 2):\n",
    "            memory_capability_score = 2          \n",
    "\n",
    "\n",
    "        else:\n",
    "            memory_capability_score = 0  \n",
    " ###################   Taken_inputs_from_seniors_or_elders   #################################           \n",
    "        Taken_inputs_from_seniors_or_elders = request.form[\"Taken_inputs_from_seniors_or_elders\"]\n",
    "        if (Taken_inputs_from_seniors_or_elders == 0):\n",
    "            Taken_inputs_from_seniors_or_elders = 0\n",
    "        \n",
    "        elif (Taken_inputs_from_seniors_or_elders == 1):\n",
    "            Taken_inputs_from_seniors_or_elders = 1     \n",
    "\n",
    "        else:\n",
    "            Taken_inputs_from_seniors_or_elders = 0 \n",
    "            \n",
    "###################   worked_in_teams_ever   #################################\n",
    "        worked_in_teams_ever = request.form[\"worked_in_teams_ever\"]\n",
    "        if (worked_in_teams_ever == 0):\n",
    "            worked_in_teams_ever = 0\n",
    "        elif (worked_in_teams_ever == 1):\n",
    "            worked_in_teams_ever = 1   \n",
    "        else:\n",
    "            worked_in_teams_ever = 0 \n",
    "\n",
    "            \n",
    "###################   interested_career_area   #################################         \n",
    "                        \n",
    "        interested_career_area = request.form[\"interested_career_area\"]\n",
    "        if (interested_career_area == 'Business process analyst'):\n",
    "            interested_career_area_code = 0\n",
    "        \n",
    "        elif (interested_career_area == 'cloud computing'):\n",
    "            interested_career_area_code = 1\n",
    "            \n",
    "        elif (interested_career_area == 'developer'):\n",
    "            interested_career_area_code = 2 \n",
    "\n",
    "        elif (interested_career_area == 'security'):\n",
    "            interested_career_area_code = 3\n",
    "\n",
    "        elif (interested_career_area == 'system developer'):\n",
    "            interested_career_area_code = 4\n",
    "\n",
    "        elif (interested_career_area == 'testing'):\n",
    "            interested_career_area_code = 5\n",
    "\n",
    "#         else:\n",
    "#             interested_career_area_code = 0   \n",
    "            \n",
    "###################   Type_of_company_want_to_settle_in   #################################         \n",
    "                        \n",
    "        Type_of_company_want_to_settle_in = request.form[\"Type_of_company_want_to_settle_in\"]\n",
    "        if (Type_of_company_want_to_settle_in == 'BPA'):\n",
    "            Type_of_company_want_to_settle_in_code = 0\n",
    "        \n",
    "        elif (Type_of_company_want_to_settle_in == 'Cloud Services'):\n",
    "            Type_of_company_want_to_settle_in_code = 1\n",
    "            \n",
    "        elif (Type_of_company_want_to_settle_in == 'Finance'):\n",
    "            Type_of_company_want_to_settle_in_code = 2 \n",
    "\n",
    "        elif (Type_of_company_want_to_settle_in == 'Product based'):\n",
    "            Type_of_company_want_to_settle_in_code = 3\n",
    "\n",
    "        elif (Type_of_company_want_to_settle_in == 'SAaS services'):\n",
    "            Type_of_company_want_to_settle_in_code = 4\n",
    "\n",
    "        elif (Type_of_company_want_to_settle_in == 'Sales and Marketing'):\n",
    "            Type_of_company_want_to_settle_in_code = 5\n",
    "\n",
    "        elif (Type_of_company_want_to_settle_in == 'Service Based'):\n",
    "            Type_of_company_want_to_settle_in_code = 6\n",
    "\n",
    "        elif (Type_of_company_want_to_settle_in == 'Testing and Maintainance Services'):\n",
    "            Type_of_company_want_to_settle_in_code = 7\n",
    "        elif (Type_of_company_want_to_settle_in == 'Web Services'):\n",
    "            Type_of_company_want_to_settle_in_code = 8 \n",
    "        elif (Type_of_company_want_to_settle_in == 'product development'):\n",
    "            Type_of_company_want_to_settle_in_code = 9\n",
    "        else:\n",
    "            Type_of_company_want_to_settle_in_code = 0 \n",
    "            \n",
    "###################   Interested_Type_of_Books   #################################   \n",
    "            \n",
    "        Interested_Type_of_Books = request.form[\"Interested_Type_of_Books\"]\n",
    "        if (Interested_Type_of_Books == 'Autobiographies'):\n",
    "            Interested_Type_of_Books_code = 3\n",
    "        elif (Interested_Type_of_Books == 'Series'):\n",
    "            Interested_Type_of_Books_code = 28\n",
    "        \n",
    "        else:\n",
    "            Interested_Type_of_Books_code = 28 \n",
    "            \n",
    "            \n",
    "###################   hard_smart_worker   #################################   \n",
    "            \n",
    "        hard_smart_worker = request.form[\"hard_smart_worker\"]\n",
    "        if (hard_smart_worker == 'hard worker'):\n",
    "            B_hard_worker = 1\n",
    "            B_smart_worker= 0\n",
    "        elif (hard_smart_worker == 'smart worker'):\n",
    "            B_hard_worker = 0\n",
    "            B_smart_worker= 1     \n",
    "        else:\n",
    "            B_hard_worker = 0\n",
    "            B_smart_worker= 1  \n",
    "            \n",
    "###################   Management_or_Technical   #################################   \n",
    "            \n",
    "        Technical_or_Non_Technical = request.form[\"Technical_or_Non_Technical\"]\n",
    "        if (Technical_or_Non_Technical == 'Non Technical'):\n",
    "            A_Non_Technical = 1\n",
    "            A_Technical = 0\n",
    "        elif (Technical_or_Non_Technical == 'Technical'):\n",
    "            A_Management = 0\n",
    "            A_Technical = 1   \n",
    "        else:\n",
    "            A_Management = 0\n",
    "            A_Technical = 1   \n",
    "###################   Introvert   #################################   \n",
    "            \n",
    "        Introvert = request.form[\"Introvert\"]\n",
    "        if (Introvert == 'no'):\n",
    "            Introvert = 0\n",
    "        elif (Introvert == 'yes'):\n",
    "            Introvert = 1\n",
    "  \n",
    "        else:\n",
    "             Introvert = 1         \n",
    "             \n",
    "###################   do_you_like_sports   #################################   \n",
    "            \n",
    "        do_you_like_sports = request.form[\"do_you_like_sports\"]\n",
    "        if (do_you_like_sports == 'no'):\n",
    "            do_you_like_sports = 0\n",
    "        elif (do_you_like_sports == 'yes'):\n",
    "            do_you_like_sports = 1\n",
    "  \n",
    "        else:\n",
    "             Introvert = 1                      \n",
    " ###################   entrepreneurial_mindset   #################################   \n",
    "            \n",
    "        entrepreneurial_mindset = request.form[\"entrepreneurial_mindset\"]\n",
    "        if (entrepreneurial_mindset == 'no'):\n",
    "            entrepreneurial_mindset = 0\n",
    "        elif (entrepreneurial_mindset == 'yes'):\n",
    "            entrepreneurial_mindset = 1\n",
    "  \n",
    "        else:\n",
    "             Introvert = 1      \n",
    " ###################   Introvert   #################################   \n",
    "            \n",
    "        tendency_to_worry = request.form[\"tendency_to_worry\"]\n",
    "        if (tendency_to_worry == 'no'):\n",
    "            tendency_to_worry = 0\n",
    "        elif (tendency_to_worry == 'yes'):\n",
    "            tendency_to_worry = 1\n",
    "  \n",
    "        else:\n",
    "             tendency_to_worry = 1        \n",
    "  ###################   i_get_stressed_out_easily   #################################                    \n",
    "\n",
    "        i_get_stressed_out_easily = request.form[\"i_get_stressed_out_easily\"]\n",
    "        if (i_get_stressed_out_easily == 1):\n",
    "            i_get_stressed_out_easily = 1\n",
    "\n",
    "        \n",
    "        elif (i_get_stressed_out_easily == 2):\n",
    "            i_get_stressed_out_easily = 2\n",
    "        elif (i_get_stressed_out_easily == 3):\n",
    "            i_get_stressed_out_easily = 3\n",
    "        elif (i_get_stressed_out_easily == 4):\n",
    "            i_get_stressed_out_easily = 4\n",
    "        elif (i_get_stressed_out_easily == 5):\n",
    "            i_get_stressed_out_easily = 5\n",
    "        elif (i_get_stressed_out_easily == 6):\n",
    "            i_get_stressed_out_easily = 6\n",
    "        elif (i_get_stressed_out_easily == 7):\n",
    "            i_get_stressed_out_easily = 7\n",
    "        elif (i_get_stressed_out_easily == 8):\n",
    "            i_get_stressed_out_easily = 8\n",
    "        elif (i_get_stressed_out_easily == 9):\n",
    "            i_get_stressed_out_easily = 9           \n",
    "\n",
    "\n",
    "        else:\n",
    "            i_get_stressed_out_easily = 0  \n",
    "  ###################   i_am_always_prepared   #################################                    \n",
    "\n",
    "        i_am_always_prepared = request.form[\"i_am_always_prepared\"]\n",
    "        if (i_am_always_prepared == 1):\n",
    "            i_am_always_prepared = 1\n",
    "\n",
    "        \n",
    "        elif (i_am_always_prepared == 2):\n",
    "            i_am_always_prepared = 2\n",
    "        elif (i_am_always_prepared == 3):\n",
    "            i_am_always_prepared = 3\n",
    "        elif (i_am_always_prepared == 4):\n",
    "            i_am_always_prepared = 4\n",
    "        elif (i_am_always_prepared == 5):\n",
    "            i_am_always_prepared = 5\n",
    "        elif (i_am_always_prepared == 6):\n",
    "            i_am_always_prepared = 6\n",
    "        elif (i_am_always_prepared == 7):\n",
    "            i_am_always_prepared = 7\n",
    "        elif (i_am_always_prepared == 8):\n",
    "            i_am_always_prepared = 8\n",
    "        elif (i_am_always_prepared == 9):\n",
    "            i_am_always_prepared = 9           \n",
    "\n",
    "\n",
    "        else:\n",
    "            i_am_always_prepared = 0  \n",
    "    ###################   i_follow_a_schedule   #################################                    \n",
    "\n",
    "        i_follow_a_schedule = request.form[\"i_follow_a_schedule\"]\n",
    "        if (i_follow_a_schedule == 1):\n",
    "            i_follow_a_schedule = 1\n",
    "\n",
    "        \n",
    "        elif (i_follow_a_schedule == 2):\n",
    "            i_follow_a_schedule = 2\n",
    "        elif (i_follow_a_schedule == 3):\n",
    "            i_follow_a_schedule = 3\n",
    "        elif (i_follow_a_schedule == 4):\n",
    "            i_follow_a_schedule = 4\n",
    "        elif (i_follow_a_schedule == 5):\n",
    "            i_follow_a_schedule = 5\n",
    "        elif (i_follow_a_schedule == 6):\n",
    "            i_follow_a_schedule = 6\n",
    "        elif (i_follow_a_schedule == 7):\n",
    "            i_follow_a_schedule = 7\n",
    "        elif (i_follow_a_schedule == 8):\n",
    "            i_follow_a_schedule = 8\n",
    "        elif (i_follow_a_schedule == 9):\n",
    "            i_follow_a_schedule = 9           \n",
    "\n",
    "\n",
    "        else:\n",
    "            i_follow_a_schedule = 0  \n",
    "  ###################   i_am_quick_to_understand_things   #################################                    \n",
    "\n",
    "        i_am_quick_to_understand_things = request.form[\"i_am_quick_to_understand_things\"]\n",
    "        if (i_am_quick_to_understand_things == 1):\n",
    "            i_am_quick_to_understand_things = 1\n",
    "\n",
    "        \n",
    "        elif (i_am_quick_to_understand_things == 2):\n",
    "            i_am_quick_to_understand_things = 2\n",
    "        elif (i_am_quick_to_understand_things == 3):\n",
    "            i_am_quick_to_understand_things = 3\n",
    "        elif (i_am_quick_to_understand_things == 4):\n",
    "            i_am_quick_to_understand_things = 4\n",
    "        elif (i_am_quick_to_understand_things == 5):\n",
    "            i_am_quick_to_understand_things = 5\n",
    "        elif (i_am_quick_to_understand_things == 6):\n",
    "            i_am_quick_to_understand_things = 6\n",
    "        elif (i_am_quick_to_understand_things == 7):\n",
    "            i_am_quick_to_understand_things = 7\n",
    "        elif (i_am_quick_to_understand_things == 8):\n",
    "            i_am_quick_to_understand_things = 8\n",
    "        elif (i_am_quick_to_understand_things == 9):\n",
    "            i_am_quick_to_understand_things = 9           \n",
    "\n",
    "\n",
    "        else:\n",
    "            i_am_quick_to_understand_things = 0  \n",
    "  ###################   i_am_full_of_ideas   #################################                    \n",
    "\n",
    "        i_am_full_of_ideas = request.form[\"i_am_full_of_ideas\"]\n",
    "        if (i_am_full_of_ideas == 1):\n",
    "            i_am_full_of_ideas = 1\n",
    "\n",
    "        \n",
    "        elif (i_am_full_of_ideas == 2):\n",
    "            i_am_full_of_ideas = 2\n",
    "        elif (i_am_full_of_ideas == 3):\n",
    "            i_am_full_of_ideas = 3\n",
    "        elif (i_am_full_of_ideas == 4):\n",
    "            i_am_full_of_ideas = 4\n",
    "        elif (i_am_full_of_ideas == 5):\n",
    "            i_am_full_of_ideas = 5\n",
    "        elif (i_am_full_of_ideas == 6):\n",
    "            i_am_full_of_ideas = 6\n",
    "        elif (i_am_full_of_ideas == 7):\n",
    "            i_am_full_of_ideas = 7\n",
    "        elif (i_am_full_of_ideas == 8):\n",
    "            i_am_full_of_ideas = 8\n",
    "        elif (i_am_full_of_ideas == 9):\n",
    "            i_am_full_of_ideas = 9           \n",
    "\n",
    "\n",
    "        else:\n",
    "            i_am_full_of_ideas = 0  \n",
    "  ###################   i_start_conversations   #################################                    \n",
    "\n",
    "        i_start_conversations = request.form[\"i_start_conversations\"]\n",
    "        if (i_start_conversations == 1):\n",
    "            i_start_conversations = 1\n",
    "\n",
    "        \n",
    "        elif (i_start_conversations == 2):\n",
    "            i_start_conversations = 2\n",
    "        elif (i_start_conversations == 3):\n",
    "            i_start_conversations = 3\n",
    "        elif (i_start_conversations == 4):\n",
    "            i_start_conversations = 4\n",
    "        elif (i_start_conversations == 5):\n",
    "            i_start_conversations = 5\n",
    "        elif (i_start_conversations == 6):\n",
    "            i_start_conversations = 6\n",
    "        elif (i_start_conversations == 7):\n",
    "            i_start_conversations = 7\n",
    "        elif (i_start_conversations == 8):\n",
    "            i_start_conversations = 8\n",
    "        elif (i_start_conversations == 9):\n",
    "            i_start_conversations = 9           \n",
    "\n",
    "\n",
    "        else:\n",
    "            i_start_conversations = 0  \t\t\t\n",
    "################################################################################################\n",
    "      \n",
    "            \n",
    "\n",
    "        prediction=model.predict([[ \n",
    "Logical_quotient_rating,i_get_stressed_out_easily,coding_skills_rating,public_speaking_points,i_am_always_prepared,\n",
    "i_follow_a_schedule,i_am_quick_to_understand_things,i_am_full_of_ideas,i_start_conversations,do_you_like_sports,\n",
    "entrepreneurial_mindset,tendency_to_worry,self_learning_capability,Extra_courses_did,Taken_inputs_from_seniors_or_elders,\n",
    "reading_and_writing_skills,memory_capability_score,worked_in_teams_ever,Introvert,interested_career_area_code,\n",
    "Type_of_company_want_to_settle_in_code,Interested_Type_of_Books_code,A_Non_Technical,A_Technical,B_hard_worker,B_smart_worker \n",
    "\n",
    "#  Logical_quotient_rating, i_get_stressed_out_easily, coding_skills_rating, public_speaking_points, i_am_always_prepared,\n",
    "#  i_follow_a_schedule, i_am_quick_to_understand_things, i_am_full_of_ideas, i_start_conversations, do_you_like_sports, \n",
    "#  entrepreneurial_mindset, tendency_to_worry, self_learning_capability, Extra_courses_did\n",
    "#  Taken_inputs_from_seniors_or_elders,\n",
    "#   reading_and_writing_skills, memory_capability_score, worked_in_teams_ever, Introvert, interested_career_area_code, \n",
    "#   Type_of_company_want_to_settle_in_code, Interested_Type_of_Books_code, A_Non_Technical, A_Technical, B_hard worker,\n",
    "#    B_smart worker\n",
    "\n",
    "            \n",
    "        ]])\n",
    "\n",
    "        output=(prediction[0],2)\n",
    "        \n",
    "        print(output)\n",
    "\n",
    "    return render_template('home.html',prediction_text=\"The Course for you is. {}\".format(output))\n",
    "\n",
    "\n",
    "    return render_template(\"home.html\")\n",
    "\n",
    "\n",
    "\n",
    "if __name__ == \"__main__\":\n",
    "     app.run(debug=True,use_reloader=False)"
   ]
  },
  {
   "cell_type": "code",
   "execution_count": null,
   "metadata": {},
   "outputs": [],
   "source": []
  }
 ],
 "metadata": {
  "kernelspec": {
   "display_name": "Python 3.9.12 64-bit",
   "language": "python",
   "name": "python3"
  },
  "language_info": {
   "codemirror_mode": {
    "name": "ipython",
    "version": 3
   },
   "file_extension": ".py",
   "mimetype": "text/x-python",
   "name": "python",
   "nbconvert_exporter": "python",
   "pygments_lexer": "ipython3",
   "version": "3.9.12"
  },
  "vscode": {
   "interpreter": {
    "hash": "74896034db1845be5000ed9314487ee297f444d1b9bf6f172497bb9704b8efa0"
   }
  }
 },
 "nbformat": 4,
 "nbformat_minor": 4
}
