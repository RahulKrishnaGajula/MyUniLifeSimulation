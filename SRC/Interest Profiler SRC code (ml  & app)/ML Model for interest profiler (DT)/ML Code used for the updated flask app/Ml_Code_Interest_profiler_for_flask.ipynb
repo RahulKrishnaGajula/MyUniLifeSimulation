{
 "cells": [
  {
   "cell_type": "markdown",
   "metadata": {},
   "source": [
    "## Import Libraries"
   ]
  },
  {
   "cell_type": "code",
   "execution_count": 1,
   "metadata": {},
   "outputs": [
    {
     "name": "stdout",
     "output_type": "stream",
     "text": [
      "Requirement already satisfied: xgboost in c:\\users\\rgons\\anaconda new\\lib\\site-packages (1.7.1)\n",
      "Requirement already satisfied: numpy in c:\\users\\rgons\\anaconda new\\lib\\site-packages (from xgboost) (1.20.1)\n",
      "Requirement already satisfied: scipy in c:\\users\\rgons\\anaconda new\\lib\\site-packages (from xgboost) (1.6.2)\n"
     ]
    }
   ],
   "source": [
    "!pip install xgboost"
   ]
  },
  {
   "cell_type": "code",
   "execution_count": 2,
   "metadata": {
    "execution": {
     "iopub.execute_input": "2021-05-21T09:14:42.293965Z",
     "iopub.status.busy": "2021-05-21T09:14:42.293578Z",
     "iopub.status.idle": "2021-05-21T09:14:42.300598Z",
     "shell.execute_reply": "2021-05-21T09:14:42.299138Z",
     "shell.execute_reply.started": "2021-05-21T09:14:42.293932Z"
    }
   },
   "outputs": [],
   "source": [
    "import pandas as pd\n",
    "import numpy as np\n",
    "import matplotlib.pyplot as plt\n",
    "import seaborn as sns\n",
    "from sklearn.model_selection import train_test_split\n",
    "from sklearn.metrics import confusion_matrix,accuracy_score\n",
    "from sklearn import svm\n",
    "from sklearn.tree import DecisionTreeClassifier\n",
    "from sklearn.ensemble import RandomForestClassifier\n",
    "from xgboost import XGBClassifier\n",
    "from sklearn.naive_bayes import GaussianNB\n",
    "import warnings\n",
    "warnings.filterwarnings(\"ignore\")"
   ]
  },
  {
   "cell_type": "markdown",
   "metadata": {},
   "source": [
    "## Import Data"
   ]
  },
  {
   "cell_type": "code",
   "execution_count": 3,
   "metadata": {
    "execution": {
     "iopub.execute_input": "2021-05-21T09:14:43.702487Z",
     "iopub.status.busy": "2021-05-21T09:14:43.701875Z",
     "iopub.status.idle": "2021-05-21T09:14:43.913694Z",
     "shell.execute_reply": "2021-05-21T09:14:43.912306Z",
     "shell.execute_reply.started": "2021-05-21T09:14:43.702436Z"
    }
   },
   "outputs": [
    {
     "data": {
      "text/html": [
       "<div>\n",
       "<style scoped>\n",
       "    .dataframe tbody tr th:only-of-type {\n",
       "        vertical-align: middle;\n",
       "    }\n",
       "\n",
       "    .dataframe tbody tr th {\n",
       "        vertical-align: top;\n",
       "    }\n",
       "\n",
       "    .dataframe thead th {\n",
       "        text-align: right;\n",
       "    }\n",
       "</style>\n",
       "<table border=\"1\" class=\"dataframe\">\n",
       "  <thead>\n",
       "    <tr style=\"text-align: right;\">\n",
       "      <th></th>\n",
       "      <th>Logical_quotient_rating</th>\n",
       "      <th>hackathons</th>\n",
       "      <th>coding_skills_rating</th>\n",
       "      <th>public_speaking_points</th>\n",
       "      <th>self_learning_capability</th>\n",
       "      <th>Extra_courses_did</th>\n",
       "      <th>certifications</th>\n",
       "      <th>workshops</th>\n",
       "      <th>reading_and_writing_skills</th>\n",
       "      <th>memory_capability_score</th>\n",
       "      <th>Interested_subjects</th>\n",
       "      <th>interested_career_area</th>\n",
       "      <th>Type_of_company_want_to_settle_in</th>\n",
       "      <th>Taken_inputs_from_seniors_or_elders</th>\n",
       "      <th>Interested_Type_of_Books</th>\n",
       "      <th>Management_or_Technical</th>\n",
       "      <th>hard_smart_worker</th>\n",
       "      <th>worked_in_teams_ever</th>\n",
       "      <th>Introvert</th>\n",
       "      <th>Suggested_Job_Role</th>\n",
       "    </tr>\n",
       "  </thead>\n",
       "  <tbody>\n",
       "    <tr>\n",
       "      <th>0</th>\n",
       "      <td>5</td>\n",
       "      <td>0</td>\n",
       "      <td>6</td>\n",
       "      <td>2</td>\n",
       "      <td>yes</td>\n",
       "      <td>no</td>\n",
       "      <td>information security</td>\n",
       "      <td>testing</td>\n",
       "      <td>poor</td>\n",
       "      <td>poor</td>\n",
       "      <td>programming</td>\n",
       "      <td>testing</td>\n",
       "      <td>BPA</td>\n",
       "      <td>no</td>\n",
       "      <td>Series</td>\n",
       "      <td>Management</td>\n",
       "      <td>smart worker</td>\n",
       "      <td>yes</td>\n",
       "      <td>no</td>\n",
       "      <td>Applications Developer</td>\n",
       "    </tr>\n",
       "    <tr>\n",
       "      <th>1</th>\n",
       "      <td>7</td>\n",
       "      <td>6</td>\n",
       "      <td>4</td>\n",
       "      <td>3</td>\n",
       "      <td>no</td>\n",
       "      <td>yes</td>\n",
       "      <td>shell programming</td>\n",
       "      <td>testing</td>\n",
       "      <td>excellent</td>\n",
       "      <td>medium</td>\n",
       "      <td>Management</td>\n",
       "      <td>system developer</td>\n",
       "      <td>Cloud Services</td>\n",
       "      <td>yes</td>\n",
       "      <td>Autobiographies</td>\n",
       "      <td>Technical</td>\n",
       "      <td>hard worker</td>\n",
       "      <td>no</td>\n",
       "      <td>yes</td>\n",
       "      <td>Applications Developer</td>\n",
       "    </tr>\n",
       "    <tr>\n",
       "      <th>2</th>\n",
       "      <td>2</td>\n",
       "      <td>3</td>\n",
       "      <td>9</td>\n",
       "      <td>1</td>\n",
       "      <td>no</td>\n",
       "      <td>yes</td>\n",
       "      <td>information security</td>\n",
       "      <td>testing</td>\n",
       "      <td>excellent</td>\n",
       "      <td>poor</td>\n",
       "      <td>data engineering</td>\n",
       "      <td>Business process analyst</td>\n",
       "      <td>product development</td>\n",
       "      <td>yes</td>\n",
       "      <td>Travel</td>\n",
       "      <td>Technical</td>\n",
       "      <td>smart worker</td>\n",
       "      <td>no</td>\n",
       "      <td>no</td>\n",
       "      <td>Applications Developer</td>\n",
       "    </tr>\n",
       "    <tr>\n",
       "      <th>3</th>\n",
       "      <td>2</td>\n",
       "      <td>6</td>\n",
       "      <td>3</td>\n",
       "      <td>5</td>\n",
       "      <td>no</td>\n",
       "      <td>yes</td>\n",
       "      <td>r programming</td>\n",
       "      <td>database security</td>\n",
       "      <td>excellent</td>\n",
       "      <td>poor</td>\n",
       "      <td>networks</td>\n",
       "      <td>testing</td>\n",
       "      <td>Testing and Maintainance Services</td>\n",
       "      <td>yes</td>\n",
       "      <td>Guide</td>\n",
       "      <td>Management</td>\n",
       "      <td>smart worker</td>\n",
       "      <td>yes</td>\n",
       "      <td>yes</td>\n",
       "      <td>Applications Developer</td>\n",
       "    </tr>\n",
       "    <tr>\n",
       "      <th>4</th>\n",
       "      <td>2</td>\n",
       "      <td>0</td>\n",
       "      <td>3</td>\n",
       "      <td>4</td>\n",
       "      <td>yes</td>\n",
       "      <td>no</td>\n",
       "      <td>distro making</td>\n",
       "      <td>game development</td>\n",
       "      <td>excellent</td>\n",
       "      <td>medium</td>\n",
       "      <td>Software Engineering</td>\n",
       "      <td>system developer</td>\n",
       "      <td>BPA</td>\n",
       "      <td>no</td>\n",
       "      <td>Health</td>\n",
       "      <td>Technical</td>\n",
       "      <td>hard worker</td>\n",
       "      <td>yes</td>\n",
       "      <td>no</td>\n",
       "      <td>Applications Developer</td>\n",
       "    </tr>\n",
       "  </tbody>\n",
       "</table>\n",
       "</div>"
      ],
      "text/plain": [
       "   Logical_quotient_rating  hackathons  coding_skills_rating  \\\n",
       "0                        5           0                     6   \n",
       "1                        7           6                     4   \n",
       "2                        2           3                     9   \n",
       "3                        2           6                     3   \n",
       "4                        2           0                     3   \n",
       "\n",
       "   public_speaking_points self_learning_capability Extra_courses_did  \\\n",
       "0                       2                      yes                no   \n",
       "1                       3                       no               yes   \n",
       "2                       1                       no               yes   \n",
       "3                       5                       no               yes   \n",
       "4                       4                      yes                no   \n",
       "\n",
       "         certifications          workshops reading_and_writing_skills  \\\n",
       "0  information security            testing                       poor   \n",
       "1     shell programming            testing                  excellent   \n",
       "2  information security            testing                  excellent   \n",
       "3         r programming  database security                  excellent   \n",
       "4         distro making   game development                  excellent   \n",
       "\n",
       "  memory_capability_score   Interested_subjects    interested_career_area  \\\n",
       "0                    poor           programming                   testing   \n",
       "1                  medium            Management          system developer   \n",
       "2                    poor      data engineering  Business process analyst   \n",
       "3                    poor              networks                   testing   \n",
       "4                  medium  Software Engineering          system developer   \n",
       "\n",
       "   Type_of_company_want_to_settle_in Taken_inputs_from_seniors_or_elders  \\\n",
       "0                                BPA                                  no   \n",
       "1                     Cloud Services                                 yes   \n",
       "2                product development                                 yes   \n",
       "3  Testing and Maintainance Services                                 yes   \n",
       "4                                BPA                                  no   \n",
       "\n",
       "  Interested_Type_of_Books Management_or_Technical hard_smart_worker  \\\n",
       "0                   Series              Management      smart worker   \n",
       "1          Autobiographies               Technical       hard worker   \n",
       "2                   Travel               Technical      smart worker   \n",
       "3                    Guide              Management      smart worker   \n",
       "4                   Health               Technical       hard worker   \n",
       "\n",
       "  worked_in_teams_ever Introvert      Suggested_Job_Role  \n",
       "0                  yes        no  Applications Developer  \n",
       "1                   no       yes  Applications Developer  \n",
       "2                   no        no  Applications Developer  \n",
       "3                  yes       yes  Applications Developer  \n",
       "4                  yes        no  Applications Developer  "
      ]
     },
     "execution_count": 3,
     "metadata": {},
     "output_type": "execute_result"
    }
   ],
   "source": [
    "df = pd.read_csv('int_prof.csv')\n",
    "df.head()"
   ]
  },
  {
   "cell_type": "code",
   "execution_count": 4,
   "metadata": {
    "execution": {
     "iopub.execute_input": "2021-05-21T09:14:44.069016Z",
     "iopub.status.busy": "2021-05-21T09:14:44.068615Z",
     "iopub.status.idle": "2021-05-21T09:14:44.074579Z",
     "shell.execute_reply": "2021-05-21T09:14:44.073475Z",
     "shell.execute_reply.started": "2021-05-21T09:14:44.068982Z"
    }
   },
   "outputs": [
    {
     "name": "stdout",
     "output_type": "stream",
     "text": [
      "Shape of data is: 6901 entries and 20 column\n"
     ]
    }
   ],
   "source": [
    "print('Shape of data is: %s entries and %s column'%(df.shape[0],df.shape[1]))"
   ]
  },
  {
   "cell_type": "code",
   "execution_count": null,
   "metadata": {},
   "outputs": [],
   "source": []
  },
  {
   "cell_type": "markdown",
   "metadata": {},
   "source": [
    "## Data Preprocessing"
   ]
  },
  {
   "cell_type": "code",
   "execution_count": 5,
   "metadata": {
    "execution": {
     "iopub.execute_input": "2021-05-21T09:14:45.700499Z",
     "iopub.status.busy": "2021-05-21T09:14:45.700099Z",
     "iopub.status.idle": "2021-05-21T09:14:45.706846Z",
     "shell.execute_reply": "2021-05-21T09:14:45.705700Z",
     "shell.execute_reply.started": "2021-05-21T09:14:45.700466Z"
    }
   },
   "outputs": [
    {
     "name": "stdout",
     "output_type": "stream",
     "text": [
      "All the columns in the dataset:  Index(['Logical_quotient_rating', 'hackathons', 'coding_skills_rating',\n",
      "       'public_speaking_points', 'self_learning_capability',\n",
      "       'Extra_courses_did', 'certifications', 'workshops',\n",
      "       'reading_and_writing_skills', 'memory_capability_score',\n",
      "       'Interested_subjects', 'interested_career_area',\n",
      "       'Type_of_company_want_to_settle_in',\n",
      "       'Taken_inputs_from_seniors_or_elders', 'Interested_Type_of_Books',\n",
      "       'Management_or_Technical', 'hard_smart_worker', 'worked_in_teams_ever',\n",
      "       'Introvert', 'Suggested_Job_Role'],\n",
      "      dtype='object')\n"
     ]
    }
   ],
   "source": [
    "print(\"All the columns in the dataset: \" , df.columns)"
   ]
  },
  {
   "cell_type": "code",
   "execution_count": 6,
   "metadata": {
    "execution": {
     "iopub.execute_input": "2021-05-21T09:14:46.244503Z",
     "iopub.status.busy": "2021-05-21T09:14:46.244091Z",
     "iopub.status.idle": "2021-05-21T09:14:46.257358Z",
     "shell.execute_reply": "2021-05-21T09:14:46.256153Z",
     "shell.execute_reply.started": "2021-05-21T09:14:46.244469Z"
    }
   },
   "outputs": [
    {
     "name": "stdout",
     "output_type": "stream",
     "text": [
      "Numeric Columns in DF: \n",
      " ['Logical_quotient_rating', 'hackathons', 'coding_skills_rating', 'public_speaking_points']\n",
      "\n",
      "\n",
      "Categorical Columns in DF: \n",
      " ['self_learning_capability', 'Extra_courses_did', 'certifications', 'workshops', 'reading_and_writing_skills', 'memory_capability_score', 'Interested_subjects', 'interested_career_area', 'Type_of_company_want_to_settle_in', 'Taken_inputs_from_seniors_or_elders', 'Interested_Type_of_Books', 'Management_or_Technical', 'hard_smart_worker', 'worked_in_teams_ever', 'Introvert', 'Suggested_Job_Role']\n"
     ]
    }
   ],
   "source": [
    "print(\"Numeric Columns in DF: \\n\" , df.select_dtypes(include=np.number).columns.tolist())\n",
    "print(\"\\n\\nCategorical Columns in DF: \\n\" , df.select_dtypes(include=['object']).columns.tolist())"
   ]
  },
  {
   "cell_type": "markdown",
   "metadata": {},
   "source": [
    "### No Missing Values"
   ]
  },
  {
   "cell_type": "code",
   "execution_count": 7,
   "metadata": {
    "execution": {
     "iopub.execute_input": "2021-05-21T09:14:47.285358Z",
     "iopub.status.busy": "2021-05-21T09:14:47.284983Z",
     "iopub.status.idle": "2021-05-21T09:14:47.307445Z",
     "shell.execute_reply": "2021-05-21T09:14:47.306040Z",
     "shell.execute_reply.started": "2021-05-21T09:14:47.285328Z"
    }
   },
   "outputs": [
    {
     "data": {
      "text/plain": [
       "Logical_quotient_rating                0\n",
       "hackathons                             0\n",
       "coding_skills_rating                   0\n",
       "public_speaking_points                 0\n",
       "self_learning_capability               0\n",
       "Extra_courses_did                      0\n",
       "certifications                         0\n",
       "workshops                              0\n",
       "reading_and_writing_skills             0\n",
       "memory_capability_score                0\n",
       "Interested_subjects                    0\n",
       "interested_career_area                 0\n",
       "Type_of_company_want_to_settle_in      0\n",
       "Taken_inputs_from_seniors_or_elders    0\n",
       "Interested_Type_of_Books               0\n",
       "Management_or_Technical                0\n",
       "hard_smart_worker                      0\n",
       "worked_in_teams_ever                   0\n",
       "Introvert                              0\n",
       "Suggested_Job_Role                     0\n",
       "dtype: int64"
      ]
     },
     "execution_count": 7,
     "metadata": {},
     "output_type": "execute_result"
    }
   ],
   "source": [
    "df.isnull().sum(axis=0)"
   ]
  },
  {
   "cell_type": "markdown",
   "metadata": {},
   "source": [
    "### Uniques Categorical Values in DF"
   ]
  },
  {
   "cell_type": "code",
   "execution_count": 8,
   "metadata": {
    "execution": {
     "iopub.execute_input": "2021-05-21T09:14:48.679051Z",
     "iopub.status.busy": "2021-05-21T09:14:48.678627Z",
     "iopub.status.idle": "2021-05-21T09:14:48.733352Z",
     "shell.execute_reply": "2021-05-21T09:14:48.731989Z",
     "shell.execute_reply.started": "2021-05-21T09:14:48.679014Z"
    }
   },
   "outputs": [
    {
     "name": "stdout",
     "output_type": "stream",
     "text": [
      "yes    3496\n",
      "no     3405\n",
      "Name: self_learning_capability, dtype: int64\n",
      "\n",
      "no     3529\n",
      "yes    3372\n",
      "Name: Extra_courses_did, dtype: int64\n",
      "\n",
      "r programming           803\n",
      "information security    785\n",
      "machine learning        783\n",
      "shell programming       783\n",
      "full stack              768\n",
      "hadoop                  764\n",
      "python                  756\n",
      "distro making           740\n",
      "app development         719\n",
      "Name: certifications, dtype: int64\n",
      "\n",
      "database security    897\n",
      "system designing     891\n",
      "web technologies     891\n",
      "hacking              867\n",
      "testing              852\n",
      "data science         842\n",
      "game development     831\n",
      "cloud computing      830\n",
      "Name: workshops, dtype: int64\n",
      "\n",
      "excellent    2328\n",
      "medium       2315\n",
      "poor         2258\n",
      "Name: reading_and_writing_skills, dtype: int64\n",
      "\n",
      "medium       2317\n",
      "excellent    2303\n",
      "poor         2281\n",
      "Name: memory_capability_score, dtype: int64\n",
      "\n",
      "Software Engineering     731\n",
      "IOT                      722\n",
      "cloud computing          721\n",
      "programming              716\n",
      "networks                 713\n",
      "Computer Architecture    703\n",
      "data engineering         672\n",
      "hacking                  663\n",
      "Management               644\n",
      "parallel computing       616\n",
      "Name: Interested_subjects, dtype: int64\n",
      "\n",
      "system developer            1178\n",
      "security                    1177\n",
      "Business process analyst    1154\n",
      "developer                   1145\n",
      "testing                     1128\n",
      "cloud computing             1119\n",
      "Name: interested_career_area, dtype: int64\n",
      "\n",
      "Service Based                        725\n",
      "Web Services                         719\n",
      "BPA                                  711\n",
      "Testing and Maintainance Services    698\n",
      "Product based                        695\n",
      "Finance                              694\n",
      "Cloud Services                       692\n",
      "product development                  669\n",
      "Sales and Marketing                  658\n",
      "SAaS services                        640\n",
      "Name: Type_of_company_want_to_settle_in, dtype: int64\n",
      "\n",
      "yes    3501\n",
      "no     3400\n",
      "Name: Taken_inputs_from_seniors_or_elders, dtype: int64\n",
      "\n",
      "Guide                    405\n",
      "Health                   401\n",
      "Self help                377\n",
      "Horror                   377\n",
      "Biographies              219\n",
      "Science fiction          218\n",
      "Satire                   212\n",
      "Childrens                212\n",
      "Autobiographies          210\n",
      "Prayer books             207\n",
      "Fantasy                  205\n",
      "Journals                 203\n",
      "Trilogy                  203\n",
      "Anthology                202\n",
      "Encyclopedias            201\n",
      "Drama                    201\n",
      "Mystery                  200\n",
      "History                  199\n",
      "Science                  198\n",
      "Dictionaries             198\n",
      "Diaries                  197\n",
      "Religion-Spirituality    197\n",
      "Poetry                   193\n",
      "Action and Adventure     193\n",
      "Comics                   186\n",
      "Art                      186\n",
      "Travel                   186\n",
      "Cookbooks                186\n",
      "Series                   180\n",
      "Math                     176\n",
      "Romance                  173\n",
      "Name: Interested_Type_of_Books, dtype: int64\n",
      "\n",
      "Management    3461\n",
      "Technical     3440\n",
      "Name: Management_or_Technical, dtype: int64\n",
      "\n",
      "smart worker    3523\n",
      "hard worker     3378\n",
      "Name: hard_smart_worker, dtype: int64\n",
      "\n",
      "no     3470\n",
      "yes    3431\n",
      "Name: worked_in_teams_ever, dtype: int64\n",
      "\n",
      "yes    3544\n",
      "no     3357\n",
      "Name: Introvert, dtype: int64\n",
      "\n",
      "Network Security Engineer                    630\n",
      "Software Engineer                            590\n",
      "UX Designer                                  589\n",
      "Software Developer                           587\n",
      "Database Developer                           581\n",
      "Software Quality Assurance (QA) / Testing    571\n",
      "Web Developer                                570\n",
      "CRM Technical Developer                      567\n",
      "Technical Support                            565\n",
      "Systems Security Administrator               562\n",
      "Applications Developer                       551\n",
      "Mobile Applications Developer                538\n",
      "Name: Suggested_Job_Role, dtype: int64\n",
      "\n"
     ]
    }
   ],
   "source": [
    "cat_col = df[['self_learning_capability', 'Extra_courses_did', 'certifications', 'workshops'\n",
    "              , 'reading_and_writing_skills', 'memory_capability_score',\n",
    "              'Interested_subjects', 'interested_career_area', 'Type_of_company_want_to_settle_in'\n",
    "              , 'Taken_inputs_from_seniors_or_elders', 'Interested_Type_of_Books',\n",
    "              'Management_or_Technical', 'hard_smart_worker', 'worked_in_teams_ever', 'Introvert', 'Suggested_Job_Role']]\n",
    "for i in cat_col:\n",
    "    print(df[i].value_counts(), end=\"\\n\\n\")"
   ]
  },
  {
   "cell_type": "markdown",
   "metadata": {},
   "source": [
    "- By using binary encoding, categorical features with yes or no can be easily converted to numerical values."
   ]
  },
  {
   "cell_type": "markdown",
   "metadata": {},
   "source": [
    "### To check data variety in Interested Type of Books columns"
   ]
  },
  {
   "cell_type": "code",
   "execution_count": 9,
   "metadata": {
    "execution": {
     "iopub.execute_input": "2021-05-21T09:14:49.890509Z",
     "iopub.status.busy": "2021-05-21T09:14:49.890026Z",
     "iopub.status.idle": "2021-05-21T09:14:50.273797Z",
     "shell.execute_reply": "2021-05-21T09:14:50.272538Z",
     "shell.execute_reply.started": "2021-05-21T09:14:49.890449Z"
    }
   },
   "outputs": [
    {
     "data": {
      "text/plain": [
       "<AxesSubplot:xlabel='Interested_Type_of_Books', ylabel='count'>"
      ]
     },
     "execution_count": 9,
     "metadata": {},
     "output_type": "execute_result"
    },
    {
     "data": {
      "image/png": "[encoded data removed]",
      "text/plain": [
       "<Figure size 3600x1440 with 1 Axes>"
      ]
     },
     "metadata": {},
     "output_type": "display_data"
    }
   ],
   "source": [
    "sns.set(rc={'figure.figsize':(50,20)})\n",
    "sns.countplot(x = df[\"Interested_Type_of_Books\"])"
   ]
  },
  {
   "cell_type": "markdown",
   "metadata": {},
   "source": [
    "## EDA"
   ]
  },
  {
   "cell_type": "markdown",
   "metadata": {},
   "source": [
    "### Corr Between Numerical Columns"
   ]
  },
  {
   "cell_type": "code",
   "execution_count": 10,
   "metadata": {
    "execution": {
     "iopub.execute_input": "2021-05-21T09:14:51.054559Z",
     "iopub.status.busy": "2021-05-21T09:14:51.053970Z",
     "iopub.status.idle": "2021-05-21T09:14:51.424792Z",
     "shell.execute_reply": "2021-05-21T09:14:51.423212Z",
     "shell.execute_reply.started": "2021-05-21T09:14:51.054502Z"
    }
   },
   "outputs": [
    {
     "data": {
      "text/plain": [
       "<AxesSubplot:>"
      ]
     },
     "execution_count": 10,
     "metadata": {},
     "output_type": "execute_result"
    },
    {
     "data": {
      "image/png": "[encoded data removed]",
      "text/plain": [
       "<Figure size 720x720 with 2 Axes>"
      ]
     },
     "metadata": {},
     "output_type": "display_data"
    }
   ],
   "source": [
    "corr = df[['Logical_quotient_rating', 'hackathons', \n",
    "           'coding_skills_rating', 'public_speaking_points']].corr()\n",
    "f,axes = plt.subplots(1,1,figsize = (10,10))\n",
    "sns.heatmap(corr,square=True,annot = True,linewidth = .4,center = 2,ax = axes)"
   ]
  },
  {
   "cell_type": "markdown",
   "metadata": {},
   "source": []
  },
  {
   "cell_type": "markdown",
   "metadata": {},
   "source": [
    "## Visualization for Categorical Values"
   ]
  },
  {
   "cell_type": "code",
   "execution_count": 11,
   "metadata": {
    "execution": {
     "iopub.execute_input": "2021-05-21T09:14:52.138482Z",
     "iopub.status.busy": "2021-05-21T09:14:52.138050Z",
     "iopub.status.idle": "2021-05-21T09:14:52.148135Z",
     "shell.execute_reply": "2021-05-21T09:14:52.146704Z",
     "shell.execute_reply.started": "2021-05-21T09:14:52.138446Z"
    }
   },
   "outputs": [
    {
     "name": "stdout",
     "output_type": "stream",
     "text": [
      "Software Engineering     731\n",
      "IOT                      722\n",
      "cloud computing          721\n",
      "programming              716\n",
      "networks                 713\n",
      "Computer Architecture    703\n",
      "data engineering         672\n",
      "hacking                  663\n",
      "Management               644\n",
      "parallel computing       616\n",
      "Name: Interested_subjects, dtype: int64\n"
     ]
    }
   ],
   "source": [
    "print(df[\"Interested_subjects\"].value_counts())"
   ]
  },
  {
   "cell_type": "code",
   "execution_count": 12,
   "metadata": {
    "execution": {
     "iopub.execute_input": "2021-05-21T09:14:52.547914Z",
     "iopub.status.busy": "2021-05-21T09:14:52.547550Z",
     "iopub.status.idle": "2021-05-21T09:14:52.847939Z",
     "shell.execute_reply": "2021-05-21T09:14:52.846740Z",
     "shell.execute_reply.started": "2021-05-21T09:14:52.547884Z"
    }
   },
   "outputs": [
    {
     "data": {
      "image/png": "[encoded data removed]",
      "text/plain": [
       "<Figure size 864x432 with 1 Axes>"
      ]
     },
     "metadata": {},
     "output_type": "display_data"
    }
   ],
   "source": [
    "# Figure Size\n",
    "fig, ax = plt.subplots(figsize=(12,6))\n",
    "\n",
    "# Horizontal Bar Plot\n",
    "title_cnt=df[\"Interested_subjects\"].value_counts().sort_values(ascending=False).reset_index()\n",
    "mn= ax.barh(title_cnt.iloc[:,0], title_cnt.iloc[:,1],edgecolor='black', color=sns.color_palette('rocket_r',len(title_cnt)))\n",
    "\n",
    "# Remove axes splines\n",
    "for s in ['top','bottom','left','right']:\n",
    "    ax.spines[s].set_visible(False)\n",
    "\n",
    "# Remove x,y Ticks\n",
    "ax.xaxis.set_ticks_position('none')\n",
    "ax.yaxis.set_ticks_position('none')\n",
    "# Add padding between axes and labels\n",
    "ax.xaxis.set_tick_params(pad=5)\n",
    "ax.yaxis.set_tick_params(pad=10)\n",
    "\n",
    "\n",
    "# Show top values \n",
    "#ax.invert_yaxis()\n",
    "\n",
    "# Add Plot Title\n",
    "ax.set_title('Interested_Subjects',weight='bold',fontsize=20)\n",
    "ax.set_xlabel('Count', weight='bold')\n",
    "\n",
    "# Add annotation to bars\n",
    "for i in ax.patches:\n",
    "    ax.text(i.get_width()+1, i.get_y()+0.5, str(round((i.get_width()), 2)),\n",
    "             fontsize=10, fontweight='bold', color='grey')\n",
    "plt.yticks(weight='bold')\n",
    "plt.xticks(weight='bold')\n",
    "\n",
    "# Show Plot\n",
    "plt.show()"
   ]
  },
  {
   "cell_type": "code",
   "execution_count": 13,
   "metadata": {},
   "outputs": [
    {
     "name": "stdout",
     "output_type": "stream",
     "text": [
      "Guide                    405\n",
      "Health                   401\n",
      "Self help                377\n",
      "Horror                   377\n",
      "Biographies              219\n",
      "Science fiction          218\n",
      "Satire                   212\n",
      "Childrens                212\n",
      "Autobiographies          210\n",
      "Prayer books             207\n",
      "Fantasy                  205\n",
      "Journals                 203\n",
      "Trilogy                  203\n",
      "Anthology                202\n",
      "Encyclopedias            201\n",
      "Drama                    201\n",
      "Mystery                  200\n",
      "History                  199\n",
      "Science                  198\n",
      "Dictionaries             198\n",
      "Diaries                  197\n",
      "Religion-Spirituality    197\n",
      "Poetry                   193\n",
      "Action and Adventure     193\n",
      "Comics                   186\n",
      "Art                      186\n",
      "Travel                   186\n",
      "Cookbooks                186\n",
      "Series                   180\n",
      "Math                     176\n",
      "Romance                  173\n",
      "Name: Interested_Type_of_Books, dtype: int64\n"
     ]
    }
   ],
   "source": [
    "print(df[\"Interested_Type_of_Books\"].value_counts())"
   ]
  },
  {
   "cell_type": "code",
   "execution_count": 14,
   "metadata": {},
   "outputs": [
    {
     "data": {
      "image/png": "[encoded data removed]",
      "text/plain": [
       "<Figure size 864x1080 with 1 Axes>"
      ]
     },
     "metadata": {},
     "output_type": "display_data"
    }
   ],
   "source": [
    "# Figure Size\n",
    "fig, ax = plt.subplots(figsize=(12,15))\n",
    "\n",
    "# Horizontal Bar Plot\n",
    "title_cnt=df[\"Interested_Type_of_Books\"].value_counts().sort_values(ascending=False).reset_index()\n",
    "mn= ax.barh(title_cnt.iloc[:,0], title_cnt.iloc[:,1],edgecolor='black', color=sns.color_palette('YlOrBr',len(title_cnt)))\n",
    "\n",
    "\n",
    "\n",
    "# Remove axes splines\n",
    "for s in ['top','bottom','left','right']:\n",
    "    ax.spines[s].set_visible(False)\n",
    "\n",
    "# Remove x,y Ticks\n",
    "ax.xaxis.set_ticks_position('none')\n",
    "ax.yaxis.set_ticks_position('none')\n",
    "# Add padding between axes and labels\n",
    "ax.xaxis.set_tick_params(pad=5)\n",
    "ax.yaxis.set_tick_params(pad=10)\n",
    "\n",
    "\n",
    "# Show top values \n",
    "#ax.invert_yaxis()\n",
    "\n",
    "# Add Plot Title\n",
    "ax.set_title('Interested Books',weight='bold',fontsize=20)\n",
    "ax.set_xlabel('Count', weight='bold')\n",
    "\n",
    "# Add annotation to bars\n",
    "for i in ax.patches:\n",
    "    ax.text(i.get_width()+1, i.get_y()+0.5, str(round((i.get_width()), 2)),\n",
    "             fontsize=10, fontweight='bold', color='grey')\n",
    "plt.yticks(weight='bold')\n",
    "plt.xticks(weight='bold')\n",
    "\n",
    "# Show Plot\n",
    "plt.show()"
   ]
  },
  {
   "cell_type": "code",
   "execution_count": 15,
   "metadata": {},
   "outputs": [
    {
     "name": "stdout",
     "output_type": "stream",
     "text": [
      "r programming           803\n",
      "information security    785\n",
      "machine learning        783\n",
      "shell programming       783\n",
      "full stack              768\n",
      "hadoop                  764\n",
      "python                  756\n",
      "distro making           740\n",
      "app development         719\n",
      "Name: certifications, dtype: int64\n"
     ]
    }
   ],
   "source": [
    "print(df[\"certifications\"].value_counts())"
   ]
  },
  {
   "cell_type": "code",
   "execution_count": 16,
   "metadata": {},
   "outputs": [
    {
     "data": {
      "image/png": "[encoded data removed]",
      "text/plain": [
       "<Figure size 864x432 with 1 Axes>"
      ]
     },
     "metadata": {},
     "output_type": "display_data"
    }
   ],
   "source": [
    "# Figure Size\n",
    "fig, ax = plt.subplots(figsize=(12,6))\n",
    "\n",
    "# Horizontal Bar Plot\n",
    "title_cnt=df.certifications.value_counts().sort_values(ascending=False).reset_index()\n",
    "mn= ax.barh(title_cnt.iloc[:,0], title_cnt.iloc[:,1],edgecolor='black', color=sns.color_palette('YlOrBr',len(title_cnt)))\n",
    "\n",
    "\n",
    "\n",
    "# Remove axes splines\n",
    "for s in ['top','bottom','left','right']:\n",
    "    ax.spines[s].set_visible(False)\n",
    "\n",
    "# Remove x,y Ticks\n",
    "ax.xaxis.set_ticks_position('none')\n",
    "ax.yaxis.set_ticks_position('none')\n",
    "# Add padding between axes and labels\n",
    "ax.xaxis.set_tick_params(pad=5)\n",
    "ax.yaxis.set_tick_params(pad=10)\n",
    "\n",
    "\n",
    "# Show top values \n",
    "ax.invert_yaxis()\n",
    "\n",
    "# Add Plot Title\n",
    "ax.set_title('Certifications',weight='bold',fontsize=20)\n",
    "ax.set_xlabel('Count', weight='bold')\n",
    "\n",
    "# Add annotation to bars\n",
    "for i in ax.patches:\n",
    "    ax.text(i.get_width()+1, i.get_y()+0.5, str(round((i.get_width()), 2)),\n",
    "             fontsize=10, fontweight='bold', color='grey')\n",
    "plt.yticks(weight='bold')\n",
    "plt.xticks(weight='bold')\n",
    "\n",
    "# Show Plot\n",
    "plt.show()"
   ]
  },
  {
   "cell_type": "code",
   "execution_count": 17,
   "metadata": {},
   "outputs": [
    {
     "name": "stdout",
     "output_type": "stream",
     "text": [
      "database security    897\n",
      "system designing     891\n",
      "web technologies     891\n",
      "hacking              867\n",
      "testing              852\n",
      "data science         842\n",
      "game development     831\n",
      "cloud computing      830\n",
      "Name: workshops, dtype: int64\n"
     ]
    }
   ],
   "source": [
    "print(df[\"workshops\"].value_counts())"
   ]
  },
  {
   "cell_type": "code",
   "execution_count": 18,
   "metadata": {},
   "outputs": [
    {
     "data": {
      "image/png": "[encoded data removed]",
      "text/plain": [
       "<Figure size 864x432 with 1 Axes>"
      ]
     },
     "metadata": {},
     "output_type": "display_data"
    }
   ],
   "source": [
    "# Figure Size\n",
    "fig, ax = plt.subplots(figsize=(12,6))\n",
    "\n",
    "# Horizontal Bar Plot\n",
    "title_cnt=df.workshops.value_counts().sort_values(ascending=False).reset_index()\n",
    "mn= ax.barh(title_cnt.iloc[:,0], title_cnt.iloc[:,1],edgecolor='black', color=sns.color_palette('YlOrBr',len(title_cnt)))\n",
    "\n",
    "\n",
    "\n",
    "# Remove axes splines\n",
    "for s in ['top','bottom','left','right']:\n",
    "    ax.spines[s].set_visible(False)\n",
    "\n",
    "# Remove x,y Ticks\n",
    "ax.xaxis.set_ticks_position('none')\n",
    "ax.yaxis.set_ticks_position('none')\n",
    "# Add padding between axes and labels\n",
    "ax.xaxis.set_tick_params(pad=5)\n",
    "ax.yaxis.set_tick_params(pad=10)\n",
    "\n",
    "\n",
    "# Show top values \n",
    "ax.invert_yaxis()\n",
    "\n",
    "# Add Plot Title\n",
    "ax.set_title('Workshops Attended',weight='bold',fontsize=20)\n",
    "ax.set_xlabel('Count', weight='bold')\n",
    "\n",
    "# Add annotation to bars\n",
    "for i in ax.patches:\n",
    "    ax.text(i.get_width()+1, i.get_y()+0.5, str(round((i.get_width()), 2)),\n",
    "             fontsize=10, fontweight='bold', color='grey')\n",
    "plt.yticks(weight='bold')\n",
    "plt.xticks(weight='bold')\n",
    "\n",
    "# Show Plot\n",
    "plt.show()"
   ]
  },
  {
   "cell_type": "code",
   "execution_count": 19,
   "metadata": {},
   "outputs": [
    {
     "name": "stdout",
     "output_type": "stream",
     "text": [
      "Service Based                        725\n",
      "Web Services                         719\n",
      "BPA                                  711\n",
      "Testing and Maintainance Services    698\n",
      "Product based                        695\n",
      "Finance                              694\n",
      "Cloud Services                       692\n",
      "product development                  669\n",
      "Sales and Marketing                  658\n",
      "SAaS services                        640\n",
      "Name: Type_of_company_want_to_settle_in, dtype: int64\n"
     ]
    }
   ],
   "source": [
    "print(df[\"Type_of_company_want_to_settle_in\"].value_counts())"
   ]
  },
  {
   "cell_type": "code",
   "execution_count": 20,
   "metadata": {},
   "outputs": [
    {
     "data": {
      "image/png": "[encoded data removed]",
      "text/plain": [
       "<Figure size 864x432 with 1 Axes>"
      ]
     },
     "metadata": {},
     "output_type": "display_data"
    }
   ],
   "source": [
    "# Figure Size\n",
    "fig, ax = plt.subplots(figsize=(12,6))\n",
    "\n",
    "# Horizontal Bar Plot\n",
    "title_cnt=df[\"Type_of_company_want_to_settle_in\"].value_counts().sort_values(ascending=False).reset_index()\n",
    "mn= ax.barh(title_cnt.iloc[:,0], title_cnt.iloc[:,1],edgecolor='black', color=sns.color_palette('YlOrBr',len(title_cnt)))\n",
    "\n",
    "\n",
    "\n",
    "# Remove axes splines\n",
    "for s in ['top','bottom','left','right']:\n",
    "    ax.spines[s].set_visible(False)\n",
    "\n",
    "# Remove x,y Ticks\n",
    "ax.xaxis.set_ticks_position('none')\n",
    "ax.yaxis.set_ticks_position('none')\n",
    "# Add padding between axes and labels\n",
    "ax.xaxis.set_tick_params(pad=5)\n",
    "ax.yaxis.set_tick_params(pad=10)\n",
    "\n",
    "\n",
    "# Show top values \n",
    "ax.invert_yaxis()\n",
    "\n",
    "# Add Plot Title\n",
    "ax.set_title('Type of Company you want to settle in?',weight='bold',fontsize=20)\n",
    "ax.set_xlabel('Count', weight='bold')\n",
    "\n",
    "# Add annotation to bars\n",
    "for i in ax.patches:\n",
    "    ax.text(i.get_width()+1, i.get_y()+0.5, str(round((i.get_width()), 2)),\n",
    "             fontsize=10, fontweight='bold', color='grey')\n",
    "plt.yticks(weight='bold')\n",
    "plt.xticks(weight='bold')\n",
    "\n",
    "# Show Plot\n",
    "plt.show()"
   ]
  },
  {
   "cell_type": "code",
   "execution_count": 21,
   "metadata": {},
   "outputs": [
    {
     "name": "stdout",
     "output_type": "stream",
     "text": [
      "system developer            1178\n",
      "security                    1177\n",
      "Business process analyst    1154\n",
      "developer                   1145\n",
      "testing                     1128\n",
      "cloud computing             1119\n",
      "Name: interested_career_area, dtype: int64\n"
     ]
    }
   ],
   "source": [
    "print(df[\"interested_career_area\"].value_counts())"
   ]
  },
  {
   "cell_type": "code",
   "execution_count": 22,
   "metadata": {},
   "outputs": [
    {
     "data": {
      "image/png": "[encoded data removed]",
      "text/plain": [
       "<Figure size 720x288 with 1 Axes>"
      ]
     },
     "metadata": {},
     "output_type": "display_data"
    }
   ],
   "source": [
    "# Figure Size\n",
    "fig, ax = plt.subplots(figsize=(10,4)) #width,height\n",
    "\n",
    "# Horizontal Bar Plot\n",
    "title_cnt=df[\"interested_career_area\"].value_counts().sort_values(ascending=False).reset_index()\n",
    "mn= ax.barh(title_cnt.iloc[:,0], title_cnt.iloc[:,1],edgecolor='black', color=sns.color_palette('YlOrBr',len(title_cnt)))\n",
    "\n",
    "\n",
    "\n",
    "# Remove axes splines\n",
    "for s in ['top','bottom','left','right']:\n",
    "    ax.spines[s].set_visible(False)\n",
    "\n",
    "# Remove x,y Ticks\n",
    "ax.xaxis.set_ticks_position('none')\n",
    "ax.yaxis.set_ticks_position('none')\n",
    "# Add padding between axes and labels\n",
    "ax.xaxis.set_tick_params(pad=5)\n",
    "ax.yaxis.set_tick_params(pad=10)\n",
    "\n",
    "\n",
    "# Show top values \n",
    "ax.invert_yaxis()\n",
    "\n",
    "# Add Plot Title\n",
    "ax.set_title('Interested Career Area ',weight='bold',fontsize=20)\n",
    "ax.set_xlabel('Count', weight='bold')\n",
    "\n",
    "# Add annotation to bars\n",
    "for i in ax.patches:\n",
    "    ax.text(i.get_width()+1, i.get_y()+0.5, str(round((i.get_width()), 2)),\n",
    "             fontsize=10, fontweight='bold', color='grey')\n",
    "plt.yticks(weight='bold')\n",
    "plt.xticks(weight='bold')\n",
    "\n",
    "# Show Plot\n",
    "plt.show()"
   ]
  },
  {
   "cell_type": "markdown",
   "metadata": {},
   "source": [
    "### Checking to see balance in the target variable"
   ]
  },
  {
   "cell_type": "code",
   "execution_count": 23,
   "metadata": {},
   "outputs": [
    {
     "data": {
      "text/plain": [
       "<AxesSubplot:xlabel='Suggested_Job_Role', ylabel='count'>"
      ]
     },
     "execution_count": 23,
     "metadata": {},
     "output_type": "execute_result"
    },
    {
     "data": {
      "image/png": "[encoded data removed]",
      "text/plain": [
       "<Figure size 3600x720 with 1 Axes>"
      ]
     },
     "metadata": {},
     "output_type": "display_data"
    }
   ],
   "source": [
    "sns.set(rc={'figure.figsize':(50,10)})\n",
    "sns.countplot(x = df[\"Suggested_Job_Role\"], palette=\"Paired\")"
   ]
  },
  {
   "cell_type": "markdown",
   "metadata": {},
   "source": [
    "##  Feature Selection & Engineering"
   ]
  },
  {
   "cell_type": "markdown",
   "metadata": {},
   "source": [
    "### Binary Encoding for Categorical Variables"
   ]
  },
  {
   "cell_type": "code",
   "execution_count": 24,
   "metadata": {
    "execution": {
     "iopub.execute_input": "2021-05-21T09:15:00.059997Z",
     "iopub.status.busy": "2021-05-21T09:15:00.059636Z",
     "iopub.status.idle": "2021-05-21T09:15:00.101071Z",
     "shell.execute_reply": "2021-05-21T09:15:00.100277Z",
     "shell.execute_reply.started": "2021-05-21T09:15:00.059968Z"
    }
   },
   "outputs": [],
   "source": [
    "cols = df[[\"self_learning_capability\",\"Extra_courses_did\",\"Taken_inputs_from_seniors_or_elders\", \"worked_in_teams_ever\",\n",
    "           \"Introvert\"]]\n",
    "for i in cols:\n",
    "    cleanup_nums = {i: {\"yes\": 1, \"no\": 0}}\n",
    "    df = df.replace(cleanup_nums)"
   ]
  },
  {
   "cell_type": "code",
   "execution_count": 25,
   "metadata": {
    "execution": {
     "iopub.execute_input": "2021-05-21T09:15:00.401318Z",
     "iopub.status.busy": "2021-05-21T09:15:00.400761Z",
     "iopub.status.idle": "2021-05-21T09:15:00.409457Z",
     "shell.execute_reply": "2021-05-21T09:15:00.408574Z",
     "shell.execute_reply.started": "2021-05-21T09:15:00.401280Z"
    }
   },
   "outputs": [
    {
     "name": "stdout",
     "output_type": "stream",
     "text": [
      "\n",
      "\n",
      " Categorical Values: \n",
      " ['certifications', 'workshops', 'reading_and_writing_skills', 'memory_capability_score', 'Interested_subjects', 'interested_career_area', 'Type_of_company_want_to_settle_in', 'Interested_Type_of_Books', 'Management_or_Technical', 'hard_smart_worker', 'Suggested_Job_Role']\n"
     ]
    }
   ],
   "source": [
    "print(\"\\n\\n Categorical Values: \\n\" , df.select_dtypes(include=['object']).columns.tolist())"
   ]
  },
  {
   "cell_type": "markdown",
   "metadata": {},
   "source": [
    "### One Hot Encoding For Categorical values"
   ]
  },
  {
   "cell_type": "code",
   "execution_count": 26,
   "metadata": {
    "execution": {
     "iopub.execute_input": "2021-05-21T09:15:02.630142Z",
     "iopub.status.busy": "2021-05-21T09:15:02.629617Z",
     "iopub.status.idle": "2021-05-21T09:15:02.680281Z",
     "shell.execute_reply": "2021-05-21T09:15:02.679472Z",
     "shell.execute_reply.started": "2021-05-21T09:15:02.630109Z"
    }
   },
   "outputs": [
    {
     "name": "stdout",
     "output_type": "stream",
     "text": [
      "\n",
      "\n",
      "List of Categorical values: \n",
      " ['Management_or_Technical', 'hard_smart_worker', 'Suggested_Job_Role']\n"
     ]
    }
   ],
   "source": [
    "mycol = df[[\"reading_and_writing_skills\", \"memory_capability_score\"]]\n",
    "for i in mycol:\n",
    "    cleanup_nums = {i: {\"poor\": 0, \"medium\": 1, \"excellent\": 2}}\n",
    "    df = df.replace(cleanup_nums)\n",
    "\n",
    "cat_col = df[['certifications', 'workshops', 'Interested_subjects', 'interested_career_area',\n",
    "              'Type_of_company_want_to_settle_in', \n",
    "                    'Interested_Type_of_Books']]\n",
    "for i in cat_col:\n",
    "    df[i] = df[i].astype('category')\n",
    "    df[i + \"_code\"] = df[i].cat.codes\n",
    "\n",
    "print(\"\\n\\nList of Categorical values: \\n\" , df.select_dtypes(include=['object']).columns.tolist())"
   ]
  },
  {
   "cell_type": "code",
   "execution_count": 27,
   "metadata": {},
   "outputs": [
    {
     "data": {
      "text/html": [
       "<div>\n",
       "<style scoped>\n",
       "    .dataframe tbody tr th:only-of-type {\n",
       "        vertical-align: middle;\n",
       "    }\n",
       "\n",
       "    .dataframe tbody tr th {\n",
       "        vertical-align: top;\n",
       "    }\n",
       "\n",
       "    .dataframe thead th {\n",
       "        text-align: right;\n",
       "    }\n",
       "</style>\n",
       "<table border=\"1\" class=\"dataframe\">\n",
       "  <thead>\n",
       "    <tr style=\"text-align: right;\">\n",
       "      <th></th>\n",
       "      <th>Logical_quotient_rating</th>\n",
       "      <th>hackathons</th>\n",
       "      <th>coding_skills_rating</th>\n",
       "      <th>public_speaking_points</th>\n",
       "      <th>self_learning_capability</th>\n",
       "      <th>Extra_courses_did</th>\n",
       "      <th>certifications</th>\n",
       "      <th>workshops</th>\n",
       "      <th>reading_and_writing_skills</th>\n",
       "      <th>memory_capability_score</th>\n",
       "      <th>...</th>\n",
       "      <th>hard_smart_worker</th>\n",
       "      <th>worked_in_teams_ever</th>\n",
       "      <th>Introvert</th>\n",
       "      <th>Suggested_Job_Role</th>\n",
       "      <th>certifications_code</th>\n",
       "      <th>workshops_code</th>\n",
       "      <th>Interested_subjects_code</th>\n",
       "      <th>interested_career_area_code</th>\n",
       "      <th>Type_of_company_want_to_settle_in_code</th>\n",
       "      <th>Interested_Type_of_Books_code</th>\n",
       "    </tr>\n",
       "  </thead>\n",
       "  <tbody>\n",
       "    <tr>\n",
       "      <th>0</th>\n",
       "      <td>5</td>\n",
       "      <td>0</td>\n",
       "      <td>6</td>\n",
       "      <td>2</td>\n",
       "      <td>1</td>\n",
       "      <td>0</td>\n",
       "      <td>information security</td>\n",
       "      <td>testing</td>\n",
       "      <td>0</td>\n",
       "      <td>0</td>\n",
       "      <td>...</td>\n",
       "      <td>smart worker</td>\n",
       "      <td>1</td>\n",
       "      <td>0</td>\n",
       "      <td>Applications Developer</td>\n",
       "      <td>4</td>\n",
       "      <td>6</td>\n",
       "      <td>9</td>\n",
       "      <td>5</td>\n",
       "      <td>0</td>\n",
       "      <td>28</td>\n",
       "    </tr>\n",
       "    <tr>\n",
       "      <th>1</th>\n",
       "      <td>7</td>\n",
       "      <td>6</td>\n",
       "      <td>4</td>\n",
       "      <td>3</td>\n",
       "      <td>0</td>\n",
       "      <td>1</td>\n",
       "      <td>shell programming</td>\n",
       "      <td>testing</td>\n",
       "      <td>2</td>\n",
       "      <td>1</td>\n",
       "      <td>...</td>\n",
       "      <td>hard worker</td>\n",
       "      <td>0</td>\n",
       "      <td>1</td>\n",
       "      <td>Applications Developer</td>\n",
       "      <td>8</td>\n",
       "      <td>6</td>\n",
       "      <td>2</td>\n",
       "      <td>4</td>\n",
       "      <td>1</td>\n",
       "      <td>3</td>\n",
       "    </tr>\n",
       "    <tr>\n",
       "      <th>2</th>\n",
       "      <td>2</td>\n",
       "      <td>3</td>\n",
       "      <td>9</td>\n",
       "      <td>1</td>\n",
       "      <td>0</td>\n",
       "      <td>1</td>\n",
       "      <td>information security</td>\n",
       "      <td>testing</td>\n",
       "      <td>2</td>\n",
       "      <td>0</td>\n",
       "      <td>...</td>\n",
       "      <td>smart worker</td>\n",
       "      <td>0</td>\n",
       "      <td>0</td>\n",
       "      <td>Applications Developer</td>\n",
       "      <td>4</td>\n",
       "      <td>6</td>\n",
       "      <td>5</td>\n",
       "      <td>0</td>\n",
       "      <td>9</td>\n",
       "      <td>29</td>\n",
       "    </tr>\n",
       "    <tr>\n",
       "      <th>3</th>\n",
       "      <td>2</td>\n",
       "      <td>6</td>\n",
       "      <td>3</td>\n",
       "      <td>5</td>\n",
       "      <td>0</td>\n",
       "      <td>1</td>\n",
       "      <td>r programming</td>\n",
       "      <td>database security</td>\n",
       "      <td>2</td>\n",
       "      <td>0</td>\n",
       "      <td>...</td>\n",
       "      <td>smart worker</td>\n",
       "      <td>1</td>\n",
       "      <td>1</td>\n",
       "      <td>Applications Developer</td>\n",
       "      <td>7</td>\n",
       "      <td>2</td>\n",
       "      <td>7</td>\n",
       "      <td>5</td>\n",
       "      <td>7</td>\n",
       "      <td>13</td>\n",
       "    </tr>\n",
       "    <tr>\n",
       "      <th>4</th>\n",
       "      <td>2</td>\n",
       "      <td>0</td>\n",
       "      <td>3</td>\n",
       "      <td>4</td>\n",
       "      <td>1</td>\n",
       "      <td>0</td>\n",
       "      <td>distro making</td>\n",
       "      <td>game development</td>\n",
       "      <td>2</td>\n",
       "      <td>1</td>\n",
       "      <td>...</td>\n",
       "      <td>hard worker</td>\n",
       "      <td>1</td>\n",
       "      <td>0</td>\n",
       "      <td>Applications Developer</td>\n",
       "      <td>1</td>\n",
       "      <td>3</td>\n",
       "      <td>3</td>\n",
       "      <td>4</td>\n",
       "      <td>0</td>\n",
       "      <td>14</td>\n",
       "    </tr>\n",
       "  </tbody>\n",
       "</table>\n",
       "<p>5 rows × 26 columns</p>\n",
       "</div>"
      ],
      "text/plain": [
       "   Logical_quotient_rating  hackathons  coding_skills_rating  \\\n",
       "0                        5           0                     6   \n",
       "1                        7           6                     4   \n",
       "2                        2           3                     9   \n",
       "3                        2           6                     3   \n",
       "4                        2           0                     3   \n",
       "\n",
       "   public_speaking_points  self_learning_capability  Extra_courses_did  \\\n",
       "0                       2                         1                  0   \n",
       "1                       3                         0                  1   \n",
       "2                       1                         0                  1   \n",
       "3                       5                         0                  1   \n",
       "4                       4                         1                  0   \n",
       "\n",
       "         certifications          workshops  reading_and_writing_skills  \\\n",
       "0  information security            testing                           0   \n",
       "1     shell programming            testing                           2   \n",
       "2  information security            testing                           2   \n",
       "3         r programming  database security                           2   \n",
       "4         distro making   game development                           2   \n",
       "\n",
       "   memory_capability_score  ... hard_smart_worker worked_in_teams_ever  \\\n",
       "0                        0  ...      smart worker                    1   \n",
       "1                        1  ...       hard worker                    0   \n",
       "2                        0  ...      smart worker                    0   \n",
       "3                        0  ...      smart worker                    1   \n",
       "4                        1  ...       hard worker                    1   \n",
       "\n",
       "  Introvert      Suggested_Job_Role certifications_code workshops_code  \\\n",
       "0         0  Applications Developer                   4              6   \n",
       "1         1  Applications Developer                   8              6   \n",
       "2         0  Applications Developer                   4              6   \n",
       "3         1  Applications Developer                   7              2   \n",
       "4         0  Applications Developer                   1              3   \n",
       "\n",
       "  Interested_subjects_code  interested_career_area_code  \\\n",
       "0                        9                            5   \n",
       "1                        2                            4   \n",
       "2                        5                            0   \n",
       "3                        7                            5   \n",
       "4                        3                            4   \n",
       "\n",
       "   Type_of_company_want_to_settle_in_code Interested_Type_of_Books_code  \n",
       "0                                       0                            28  \n",
       "1                                       1                             3  \n",
       "2                                       9                            29  \n",
       "3                                       7                            13  \n",
       "4                                       0                            14  \n",
       "\n",
       "[5 rows x 26 columns]"
      ]
     },
     "execution_count": 27,
     "metadata": {},
     "output_type": "execute_result"
    }
   ],
   "source": [
    "df.head(5)"
   ]
  },
  {
   "cell_type": "markdown",
   "metadata": {},
   "source": [
    "###  DV Encoding"
   ]
  },
  {
   "cell_type": "code",
   "execution_count": 28,
   "metadata": {
    "execution": {
     "iopub.execute_input": "2021-05-21T09:15:04.145103Z",
     "iopub.status.busy": "2021-05-21T09:15:04.144613Z",
     "iopub.status.idle": "2021-05-21T09:15:04.152520Z",
     "shell.execute_reply": "2021-05-21T09:15:04.151594Z",
     "shell.execute_reply.started": "2021-05-21T09:15:04.145064Z"
    }
   },
   "outputs": [
    {
     "name": "stdout",
     "output_type": "stream",
     "text": [
      "['Management' 'Technical']\n",
      "['smart worker' 'hard worker']\n"
     ]
    }
   ],
   "source": [
    "print(df['Management_or_Technical'].unique())\n",
    "print(df['hard_smart_worker'].unique())"
   ]
  },
  {
   "cell_type": "code",
   "execution_count": 29,
   "metadata": {
    "execution": {
     "iopub.execute_input": "2021-05-21T09:15:05.552686Z",
     "iopub.status.busy": "2021-05-21T09:15:05.552121Z",
     "iopub.status.idle": "2021-05-21T09:15:05.585075Z",
     "shell.execute_reply": "2021-05-21T09:15:05.584283Z",
     "shell.execute_reply.started": "2021-05-21T09:15:05.552609Z"
    }
   },
   "outputs": [
    {
     "data": {
      "text/html": [
       "<div>\n",
       "<style scoped>\n",
       "    .dataframe tbody tr th:only-of-type {\n",
       "        vertical-align: middle;\n",
       "    }\n",
       "\n",
       "    .dataframe tbody tr th {\n",
       "        vertical-align: top;\n",
       "    }\n",
       "\n",
       "    .dataframe thead th {\n",
       "        text-align: right;\n",
       "    }\n",
       "</style>\n",
       "<table border=\"1\" class=\"dataframe\">\n",
       "  <thead>\n",
       "    <tr style=\"text-align: right;\">\n",
       "      <th></th>\n",
       "      <th>Logical_quotient_rating</th>\n",
       "      <th>hackathons</th>\n",
       "      <th>coding_skills_rating</th>\n",
       "      <th>public_speaking_points</th>\n",
       "      <th>self_learning_capability</th>\n",
       "      <th>Extra_courses_did</th>\n",
       "      <th>certifications</th>\n",
       "      <th>workshops</th>\n",
       "      <th>reading_and_writing_skills</th>\n",
       "      <th>memory_capability_score</th>\n",
       "      <th>...</th>\n",
       "      <th>certifications_code</th>\n",
       "      <th>workshops_code</th>\n",
       "      <th>Interested_subjects_code</th>\n",
       "      <th>interested_career_area_code</th>\n",
       "      <th>Type_of_company_want_to_settle_in_code</th>\n",
       "      <th>Interested_Type_of_Books_code</th>\n",
       "      <th>A_Management</th>\n",
       "      <th>A_Technical</th>\n",
       "      <th>B_hard worker</th>\n",
       "      <th>B_smart worker</th>\n",
       "    </tr>\n",
       "  </thead>\n",
       "  <tbody>\n",
       "    <tr>\n",
       "      <th>0</th>\n",
       "      <td>5</td>\n",
       "      <td>0</td>\n",
       "      <td>6</td>\n",
       "      <td>2</td>\n",
       "      <td>1</td>\n",
       "      <td>0</td>\n",
       "      <td>information security</td>\n",
       "      <td>testing</td>\n",
       "      <td>0</td>\n",
       "      <td>0</td>\n",
       "      <td>...</td>\n",
       "      <td>4</td>\n",
       "      <td>6</td>\n",
       "      <td>9</td>\n",
       "      <td>5</td>\n",
       "      <td>0</td>\n",
       "      <td>28</td>\n",
       "      <td>1</td>\n",
       "      <td>0</td>\n",
       "      <td>0</td>\n",
       "      <td>1</td>\n",
       "    </tr>\n",
       "    <tr>\n",
       "      <th>1</th>\n",
       "      <td>7</td>\n",
       "      <td>6</td>\n",
       "      <td>4</td>\n",
       "      <td>3</td>\n",
       "      <td>0</td>\n",
       "      <td>1</td>\n",
       "      <td>shell programming</td>\n",
       "      <td>testing</td>\n",
       "      <td>2</td>\n",
       "      <td>1</td>\n",
       "      <td>...</td>\n",
       "      <td>8</td>\n",
       "      <td>6</td>\n",
       "      <td>2</td>\n",
       "      <td>4</td>\n",
       "      <td>1</td>\n",
       "      <td>3</td>\n",
       "      <td>0</td>\n",
       "      <td>1</td>\n",
       "      <td>1</td>\n",
       "      <td>0</td>\n",
       "    </tr>\n",
       "    <tr>\n",
       "      <th>2</th>\n",
       "      <td>2</td>\n",
       "      <td>3</td>\n",
       "      <td>9</td>\n",
       "      <td>1</td>\n",
       "      <td>0</td>\n",
       "      <td>1</td>\n",
       "      <td>information security</td>\n",
       "      <td>testing</td>\n",
       "      <td>2</td>\n",
       "      <td>0</td>\n",
       "      <td>...</td>\n",
       "      <td>4</td>\n",
       "      <td>6</td>\n",
       "      <td>5</td>\n",
       "      <td>0</td>\n",
       "      <td>9</td>\n",
       "      <td>29</td>\n",
       "      <td>0</td>\n",
       "      <td>1</td>\n",
       "      <td>0</td>\n",
       "      <td>1</td>\n",
       "    </tr>\n",
       "    <tr>\n",
       "      <th>3</th>\n",
       "      <td>2</td>\n",
       "      <td>6</td>\n",
       "      <td>3</td>\n",
       "      <td>5</td>\n",
       "      <td>0</td>\n",
       "      <td>1</td>\n",
       "      <td>r programming</td>\n",
       "      <td>database security</td>\n",
       "      <td>2</td>\n",
       "      <td>0</td>\n",
       "      <td>...</td>\n",
       "      <td>7</td>\n",
       "      <td>2</td>\n",
       "      <td>7</td>\n",
       "      <td>5</td>\n",
       "      <td>7</td>\n",
       "      <td>13</td>\n",
       "      <td>1</td>\n",
       "      <td>0</td>\n",
       "      <td>0</td>\n",
       "      <td>1</td>\n",
       "    </tr>\n",
       "    <tr>\n",
       "      <th>4</th>\n",
       "      <td>2</td>\n",
       "      <td>0</td>\n",
       "      <td>3</td>\n",
       "      <td>4</td>\n",
       "      <td>1</td>\n",
       "      <td>0</td>\n",
       "      <td>distro making</td>\n",
       "      <td>game development</td>\n",
       "      <td>2</td>\n",
       "      <td>1</td>\n",
       "      <td>...</td>\n",
       "      <td>1</td>\n",
       "      <td>3</td>\n",
       "      <td>3</td>\n",
       "      <td>4</td>\n",
       "      <td>0</td>\n",
       "      <td>14</td>\n",
       "      <td>0</td>\n",
       "      <td>1</td>\n",
       "      <td>1</td>\n",
       "      <td>0</td>\n",
       "    </tr>\n",
       "  </tbody>\n",
       "</table>\n",
       "<p>5 rows × 28 columns</p>\n",
       "</div>"
      ],
      "text/plain": [
       "   Logical_quotient_rating  hackathons  coding_skills_rating  \\\n",
       "0                        5           0                     6   \n",
       "1                        7           6                     4   \n",
       "2                        2           3                     9   \n",
       "3                        2           6                     3   \n",
       "4                        2           0                     3   \n",
       "\n",
       "   public_speaking_points  self_learning_capability  Extra_courses_did  \\\n",
       "0                       2                         1                  0   \n",
       "1                       3                         0                  1   \n",
       "2                       1                         0                  1   \n",
       "3                       5                         0                  1   \n",
       "4                       4                         1                  0   \n",
       "\n",
       "         certifications          workshops  reading_and_writing_skills  \\\n",
       "0  information security            testing                           0   \n",
       "1     shell programming            testing                           2   \n",
       "2  information security            testing                           2   \n",
       "3         r programming  database security                           2   \n",
       "4         distro making   game development                           2   \n",
       "\n",
       "   memory_capability_score  ... certifications_code workshops_code  \\\n",
       "0                        0  ...                   4              6   \n",
       "1                        1  ...                   8              6   \n",
       "2                        0  ...                   4              6   \n",
       "3                        0  ...                   7              2   \n",
       "4                        1  ...                   1              3   \n",
       "\n",
       "  Interested_subjects_code  interested_career_area_code  \\\n",
       "0                        9                            5   \n",
       "1                        2                            4   \n",
       "2                        5                            0   \n",
       "3                        7                            5   \n",
       "4                        3                            4   \n",
       "\n",
       "  Type_of_company_want_to_settle_in_code  Interested_Type_of_Books_code  \\\n",
       "0                                      0                             28   \n",
       "1                                      1                              3   \n",
       "2                                      9                             29   \n",
       "3                                      7                             13   \n",
       "4                                      0                             14   \n",
       "\n",
       "   A_Management A_Technical  B_hard worker  B_smart worker  \n",
       "0             1           0              0               1  \n",
       "1             0           1              1               0  \n",
       "2             0           1              0               1  \n",
       "3             1           0              0               1  \n",
       "4             0           1              1               0  \n",
       "\n",
       "[5 rows x 28 columns]"
      ]
     },
     "execution_count": 29,
     "metadata": {},
     "output_type": "execute_result"
    }
   ],
   "source": [
    "df = pd.get_dummies(df, columns=[\"Management_or_Technical\", \"hard_smart_worker\"], prefix=[\"A\", \"B\"])\n",
    "df.head()"
   ]
  },
  {
   "cell_type": "code",
   "execution_count": 30,
   "metadata": {},
   "outputs": [],
   "source": [
    "df.rename(columns = {'B_hard worker':'B_hard_worker'}, inplace = True)\n",
    "df.rename(columns = {'B_smart worker':'B_smart_worker'}, inplace = True)"
   ]
  },
  {
   "cell_type": "code",
   "execution_count": 31,
   "metadata": {},
   "outputs": [
    {
     "data": {
      "text/html": [
       "<div>\n",
       "<style scoped>\n",
       "    .dataframe tbody tr th:only-of-type {\n",
       "        vertical-align: middle;\n",
       "    }\n",
       "\n",
       "    .dataframe tbody tr th {\n",
       "        vertical-align: top;\n",
       "    }\n",
       "\n",
       "    .dataframe thead th {\n",
       "        text-align: right;\n",
       "    }\n",
       "</style>\n",
       "<table border=\"1\" class=\"dataframe\">\n",
       "  <thead>\n",
       "    <tr style=\"text-align: right;\">\n",
       "      <th></th>\n",
       "      <th>Logical_quotient_rating</th>\n",
       "      <th>hackathons</th>\n",
       "      <th>coding_skills_rating</th>\n",
       "      <th>public_speaking_points</th>\n",
       "      <th>self_learning_capability</th>\n",
       "      <th>Extra_courses_did</th>\n",
       "      <th>certifications</th>\n",
       "      <th>workshops</th>\n",
       "      <th>reading_and_writing_skills</th>\n",
       "      <th>memory_capability_score</th>\n",
       "      <th>...</th>\n",
       "      <th>certifications_code</th>\n",
       "      <th>workshops_code</th>\n",
       "      <th>Interested_subjects_code</th>\n",
       "      <th>interested_career_area_code</th>\n",
       "      <th>Type_of_company_want_to_settle_in_code</th>\n",
       "      <th>Interested_Type_of_Books_code</th>\n",
       "      <th>A_Management</th>\n",
       "      <th>A_Technical</th>\n",
       "      <th>B_hard_worker</th>\n",
       "      <th>B_smart_worker</th>\n",
       "    </tr>\n",
       "  </thead>\n",
       "  <tbody>\n",
       "    <tr>\n",
       "      <th>0</th>\n",
       "      <td>5</td>\n",
       "      <td>0</td>\n",
       "      <td>6</td>\n",
       "      <td>2</td>\n",
       "      <td>1</td>\n",
       "      <td>0</td>\n",
       "      <td>information security</td>\n",
       "      <td>testing</td>\n",
       "      <td>0</td>\n",
       "      <td>0</td>\n",
       "      <td>...</td>\n",
       "      <td>4</td>\n",
       "      <td>6</td>\n",
       "      <td>9</td>\n",
       "      <td>5</td>\n",
       "      <td>0</td>\n",
       "      <td>28</td>\n",
       "      <td>1</td>\n",
       "      <td>0</td>\n",
       "      <td>0</td>\n",
       "      <td>1</td>\n",
       "    </tr>\n",
       "    <tr>\n",
       "      <th>1</th>\n",
       "      <td>7</td>\n",
       "      <td>6</td>\n",
       "      <td>4</td>\n",
       "      <td>3</td>\n",
       "      <td>0</td>\n",
       "      <td>1</td>\n",
       "      <td>shell programming</td>\n",
       "      <td>testing</td>\n",
       "      <td>2</td>\n",
       "      <td>1</td>\n",
       "      <td>...</td>\n",
       "      <td>8</td>\n",
       "      <td>6</td>\n",
       "      <td>2</td>\n",
       "      <td>4</td>\n",
       "      <td>1</td>\n",
       "      <td>3</td>\n",
       "      <td>0</td>\n",
       "      <td>1</td>\n",
       "      <td>1</td>\n",
       "      <td>0</td>\n",
       "    </tr>\n",
       "    <tr>\n",
       "      <th>2</th>\n",
       "      <td>2</td>\n",
       "      <td>3</td>\n",
       "      <td>9</td>\n",
       "      <td>1</td>\n",
       "      <td>0</td>\n",
       "      <td>1</td>\n",
       "      <td>information security</td>\n",
       "      <td>testing</td>\n",
       "      <td>2</td>\n",
       "      <td>0</td>\n",
       "      <td>...</td>\n",
       "      <td>4</td>\n",
       "      <td>6</td>\n",
       "      <td>5</td>\n",
       "      <td>0</td>\n",
       "      <td>9</td>\n",
       "      <td>29</td>\n",
       "      <td>0</td>\n",
       "      <td>1</td>\n",
       "      <td>0</td>\n",
       "      <td>1</td>\n",
       "    </tr>\n",
       "    <tr>\n",
       "      <th>3</th>\n",
       "      <td>2</td>\n",
       "      <td>6</td>\n",
       "      <td>3</td>\n",
       "      <td>5</td>\n",
       "      <td>0</td>\n",
       "      <td>1</td>\n",
       "      <td>r programming</td>\n",
       "      <td>database security</td>\n",
       "      <td>2</td>\n",
       "      <td>0</td>\n",
       "      <td>...</td>\n",
       "      <td>7</td>\n",
       "      <td>2</td>\n",
       "      <td>7</td>\n",
       "      <td>5</td>\n",
       "      <td>7</td>\n",
       "      <td>13</td>\n",
       "      <td>1</td>\n",
       "      <td>0</td>\n",
       "      <td>0</td>\n",
       "      <td>1</td>\n",
       "    </tr>\n",
       "    <tr>\n",
       "      <th>4</th>\n",
       "      <td>2</td>\n",
       "      <td>0</td>\n",
       "      <td>3</td>\n",
       "      <td>4</td>\n",
       "      <td>1</td>\n",
       "      <td>0</td>\n",
       "      <td>distro making</td>\n",
       "      <td>game development</td>\n",
       "      <td>2</td>\n",
       "      <td>1</td>\n",
       "      <td>...</td>\n",
       "      <td>1</td>\n",
       "      <td>3</td>\n",
       "      <td>3</td>\n",
       "      <td>4</td>\n",
       "      <td>0</td>\n",
       "      <td>14</td>\n",
       "      <td>0</td>\n",
       "      <td>1</td>\n",
       "      <td>1</td>\n",
       "      <td>0</td>\n",
       "    </tr>\n",
       "  </tbody>\n",
       "</table>\n",
       "<p>5 rows × 28 columns</p>\n",
       "</div>"
      ],
      "text/plain": [
       "   Logical_quotient_rating  hackathons  coding_skills_rating  \\\n",
       "0                        5           0                     6   \n",
       "1                        7           6                     4   \n",
       "2                        2           3                     9   \n",
       "3                        2           6                     3   \n",
       "4                        2           0                     3   \n",
       "\n",
       "   public_speaking_points  self_learning_capability  Extra_courses_did  \\\n",
       "0                       2                         1                  0   \n",
       "1                       3                         0                  1   \n",
       "2                       1                         0                  1   \n",
       "3                       5                         0                  1   \n",
       "4                       4                         1                  0   \n",
       "\n",
       "         certifications          workshops  reading_and_writing_skills  \\\n",
       "0  information security            testing                           0   \n",
       "1     shell programming            testing                           2   \n",
       "2  information security            testing                           2   \n",
       "3         r programming  database security                           2   \n",
       "4         distro making   game development                           2   \n",
       "\n",
       "   memory_capability_score  ... certifications_code workshops_code  \\\n",
       "0                        0  ...                   4              6   \n",
       "1                        1  ...                   8              6   \n",
       "2                        0  ...                   4              6   \n",
       "3                        0  ...                   7              2   \n",
       "4                        1  ...                   1              3   \n",
       "\n",
       "  Interested_subjects_code  interested_career_area_code  \\\n",
       "0                        9                            5   \n",
       "1                        2                            4   \n",
       "2                        5                            0   \n",
       "3                        7                            5   \n",
       "4                        3                            4   \n",
       "\n",
       "  Type_of_company_want_to_settle_in_code  Interested_Type_of_Books_code  \\\n",
       "0                                      0                             28   \n",
       "1                                      1                              3   \n",
       "2                                      9                             29   \n",
       "3                                      7                             13   \n",
       "4                                      0                             14   \n",
       "\n",
       "   A_Management A_Technical  B_hard_worker  B_smart_worker  \n",
       "0             1           0              0               1  \n",
       "1             0           1              1               0  \n",
       "2             0           1              0               1  \n",
       "3             1           0              0               1  \n",
       "4             0           1              1               0  \n",
       "\n",
       "[5 rows x 28 columns]"
      ]
     },
     "execution_count": 31,
     "metadata": {},
     "output_type": "execute_result"
    }
   ],
   "source": [
    "df.head()"
   ]
  },
  {
   "cell_type": "code",
   "execution_count": 32,
   "metadata": {},
   "outputs": [],
   "source": [
    "df.to_csv(\"files_to_test.csv\")"
   ]
  },
  {
   "cell_type": "code",
   "execution_count": 33,
   "metadata": {
    "execution": {
     "iopub.execute_input": "2021-05-21T09:15:06.492745Z",
     "iopub.status.busy": "2021-05-21T09:15:06.492131Z",
     "iopub.status.idle": "2021-05-21T09:15:06.506687Z",
     "shell.execute_reply": "2021-05-21T09:15:06.505612Z",
     "shell.execute_reply.started": "2021-05-21T09:15:06.492706Z"
    }
   },
   "outputs": [
    {
     "name": "stdout",
     "output_type": "stream",
     "text": [
      "List of Numerical values: \n",
      " ['Logical_quotient_rating', 'hackathons', 'coding_skills_rating', 'public_speaking_points', 'self_learning_capability', 'Extra_courses_did', 'reading_and_writing_skills', 'memory_capability_score', 'Taken_inputs_from_seniors_or_elders', 'worked_in_teams_ever', 'Introvert', 'certifications_code', 'workshops_code', 'Interested_subjects_code', 'interested_career_area_code', 'Type_of_company_want_to_settle_in_code', 'Interested_Type_of_Books_code', 'A_Management', 'A_Technical', 'B_hard_worker', 'B_smart_worker']\n"
     ]
    }
   ],
   "source": [
    "print(\"List of Numerical values: \\n\" , df.select_dtypes(include=np.number).columns.tolist())"
   ]
  },
  {
   "cell_type": "markdown",
   "metadata": {},
   "source": [
    "## Machine Learning Models to get best accuracy"
   ]
  },
  {
   "cell_type": "code",
   "execution_count": 34,
   "metadata": {
    "execution": {
     "iopub.execute_input": "2021-05-21T09:15:08.496869Z",
     "iopub.status.busy": "2021-05-21T09:15:08.496508Z",
     "iopub.status.idle": "2021-05-21T09:15:08.512249Z",
     "shell.execute_reply": "2021-05-21T09:15:08.510942Z",
     "shell.execute_reply.started": "2021-05-21T09:15:08.496837Z"
    }
   },
   "outputs": [],
   "source": [
    "feed = df[['Logical_quotient_rating', 'coding_skills_rating', 'hackathons', 'public_speaking_points',\n",
    "           'self_learning_capability','Extra_courses_did', \n",
    "           'Taken_inputs_from_seniors_or_elders', 'worked_in_teams_ever', 'Introvert', 'reading_and_writing_skills',\n",
    "           'memory_capability_score',  \n",
    "           'B_hard_worker', 'B_smart_worker', 'A_Management', 'A_Technical', 'Interested_subjects_code', \n",
    "           'Interested_Type_of_Books_code', 'certifications_code', \n",
    "           'workshops_code', 'Type_of_company_want_to_settle_in_code',  'interested_career_area_code',\n",
    "             'Suggested_Job_Role']]\n",
    "\n",
    "# Choosing independent vars\n",
    "df_train_x = feed.drop('Suggested_Job_Role',axis = 1)\n",
    "\n",
    "# Choosing all target vars\n",
    "df_train_y = feed['Suggested_Job_Role']\n",
    "\n",
    "x_train, x_test, y_train, y_test = train_test_split(df_train_x, df_train_y, test_size=0.10, random_state=42)\n"
   ]
  },
  {
   "cell_type": "code",
   "execution_count": 35,
   "metadata": {},
   "outputs": [
    {
     "data": {
      "text/html": [
       "<div>\n",
       "<style scoped>\n",
       "    .dataframe tbody tr th:only-of-type {\n",
       "        vertical-align: middle;\n",
       "    }\n",
       "\n",
       "    .dataframe tbody tr th {\n",
       "        vertical-align: top;\n",
       "    }\n",
       "\n",
       "    .dataframe thead th {\n",
       "        text-align: right;\n",
       "    }\n",
       "</style>\n",
       "<table border=\"1\" class=\"dataframe\">\n",
       "  <thead>\n",
       "    <tr style=\"text-align: right;\">\n",
       "      <th></th>\n",
       "      <th>Suggested_Job_Role</th>\n",
       "    </tr>\n",
       "  </thead>\n",
       "  <tbody>\n",
       "    <tr>\n",
       "      <th>611</th>\n",
       "      <td>CRM Technical Developer</td>\n",
       "    </tr>\n",
       "    <tr>\n",
       "      <th>6417</th>\n",
       "      <td>Web Developer</td>\n",
       "    </tr>\n",
       "    <tr>\n",
       "      <th>3352</th>\n",
       "      <td>Software Developer</td>\n",
       "    </tr>\n",
       "    <tr>\n",
       "      <th>4224</th>\n",
       "      <td>Software Quality Assurance (QA) / Testing</td>\n",
       "    </tr>\n",
       "    <tr>\n",
       "      <th>3102</th>\n",
       "      <td>Software Developer</td>\n",
       "    </tr>\n",
       "    <tr>\n",
       "      <th>...</th>\n",
       "      <td>...</td>\n",
       "    </tr>\n",
       "    <tr>\n",
       "      <th>4151</th>\n",
       "      <td>Software Quality Assurance (QA) / Testing</td>\n",
       "    </tr>\n",
       "    <tr>\n",
       "      <th>1426</th>\n",
       "      <td>Database Developer</td>\n",
       "    </tr>\n",
       "    <tr>\n",
       "      <th>3193</th>\n",
       "      <td>Software Developer</td>\n",
       "    </tr>\n",
       "    <tr>\n",
       "      <th>6258</th>\n",
       "      <td>UX Designer</td>\n",
       "    </tr>\n",
       "    <tr>\n",
       "      <th>1498</th>\n",
       "      <td>Database Developer</td>\n",
       "    </tr>\n",
       "  </tbody>\n",
       "</table>\n",
       "<p>691 rows × 1 columns</p>\n",
       "</div>"
      ],
      "text/plain": [
       "                             Suggested_Job_Role\n",
       "611                     CRM Technical Developer\n",
       "6417                              Web Developer\n",
       "3352                         Software Developer\n",
       "4224  Software Quality Assurance (QA) / Testing\n",
       "3102                         Software Developer\n",
       "...                                         ...\n",
       "4151  Software Quality Assurance (QA) / Testing\n",
       "1426                         Database Developer\n",
       "3193                         Software Developer\n",
       "6258                                UX Designer\n",
       "1498                         Database Developer\n",
       "\n",
       "[691 rows x 1 columns]"
      ]
     },
     "execution_count": 35,
     "metadata": {},
     "output_type": "execute_result"
    }
   ],
   "source": [
    "y_train = pd.DataFrame(y_train, columns = [\"Suggested_Job_Role\"])\n",
    "y_train.head()\n",
    "y_test = pd.DataFrame(y_test, columns = [\"Suggested_Job_Role\"])\n",
    "y_test"
   ]
  },
  {
   "cell_type": "markdown",
   "metadata": {},
   "source": [
    "### 1. Decision Tree\n"
   ]
  },
  {
   "cell_type": "code",
   "execution_count": 36,
   "metadata": {
    "execution": {
     "iopub.execute_input": "2021-05-21T09:15:13.994959Z",
     "iopub.status.busy": "2021-05-21T09:15:13.994602Z",
     "iopub.status.idle": "2021-05-21T09:15:14.071007Z",
     "shell.execute_reply": "2021-05-21T09:15:14.069396Z",
     "shell.execute_reply.started": "2021-05-21T09:15:13.994928Z"
    }
   },
   "outputs": [
    {
     "name": "stdout",
     "output_type": "stream",
     "text": [
      "confusion matrics= [[ 4  5  3  4  6  4  8  3  6  4  8  8]\n",
      " [ 4  3  5  6  1  7  7  6  2  7  3  4]\n",
      " [ 6  6 10  8  6  5  1  4  3  2  5  6]\n",
      " [ 5  5  4  5  5  2  4  4  4  2  6  4]\n",
      " [ 2  8  6  8  8  6  4  6  4 10  8  7]\n",
      " [ 7  8  3  3  7  7  2  4  6  3  4  5]\n",
      " [ 4  6  7  2  6  4  5  6  3  6  5  4]\n",
      " [ 7  1  6  5  1  3  8  2  4  1  3  4]\n",
      " [ 5  7  7  4  3  6  3  5  2  1  5  8]\n",
      " [ 3  5  3  5  4  7  3  6  4  3  5  1]\n",
      " [ 3  8  3  3  7  1  1 11  4  4  6  7]\n",
      " [ 4  6  8  3  9  4  2  5  4  2  5  7]]\n",
      "  \n",
      "accuracy= 0.8972503617945007\n"
     ]
    }
   ],
   "source": [
    "dtree = DecisionTreeClassifier(random_state=1)\n",
    "dtree = dtree.fit(x_train, y_train)\n",
    "\n",
    "y_pred = dtree.predict(x_test)\n",
    "cm = confusion_matrix(y_test,y_pred)\n",
    "accuracy = accuracy_score(y_test,y_pred)\n",
    "print(\"confusion matrics=\",cm)\n",
    "print(\"  \")\n",
    "print(\"accuracy=\",accuracy*10)"
   ]
  },
  {
   "cell_type": "markdown",
   "metadata": {},
   "source": [
    "### Data for single instance prediction"
   ]
  },
  {
   "cell_type": "code",
   "execution_count": 37,
   "metadata": {
    "execution": {
     "iopub.execute_input": "2021-05-21T09:15:16.340785Z",
     "iopub.status.busy": "2021-05-21T09:15:16.340422Z",
     "iopub.status.idle": "2021-05-21T09:15:16.349794Z",
     "shell.execute_reply": "2021-05-21T09:15:16.348558Z",
     "shell.execute_reply.started": "2021-05-21T09:15:16.340753Z"
    }
   },
   "outputs": [
    {
     "name": "stdout",
     "output_type": "stream",
     "text": [
      "['Software Developer']\n",
      "Probabilities of all classes:  [[0. 0. 0. 0. 0. 1. 0. 0. 0. 0. 0. 0.]]\n",
      "Probability of Predicted class :  1.0\n"
     ]
    }
   ],
   "source": [
    "userdata = [['7','6','6','8','3','5','4', '4', '7', '3', '3', '6','8', \n",
    "                    '7','5','7','4','5','6','8','8']]\n",
    "ynewclass = dtree.predict(userdata)\n",
    "ynew = dtree.predict_proba(userdata)\n",
    "print(ynewclass)\n",
    "print(\"Probabilities of all classes: \", ynew)\n",
    "print(\"Probability of Predicted class : \", np.max(ynew))"
   ]
  },
  {
   "cell_type": "markdown",
   "metadata": {},
   "source": [
    "### 2. Supprt Vector Machine (SVM)"
   ]
  },
  {
   "cell_type": "code",
   "execution_count": 38,
   "metadata": {},
   "outputs": [],
   "source": [
    "from sklearn.svm import SVC"
   ]
  },
  {
   "cell_type": "code",
   "execution_count": 39,
   "metadata": {
    "execution": {
     "iopub.execute_input": "2021-05-21T09:15:17.589858Z",
     "iopub.status.busy": "2021-05-21T09:15:17.589485Z",
     "iopub.status.idle": "2021-05-21T09:15:22.119128Z",
     "shell.execute_reply": "2021-05-21T09:15:22.117845Z",
     "shell.execute_reply.started": "2021-05-21T09:15:17.589826Z"
    }
   },
   "outputs": [
    {
     "name": "stdout",
     "output_type": "stream",
     "text": [
      "confusion matrics= [[ 3  3  0  0 17  8  3  6  9  5  7  2]\n",
      " [ 3  2  1  0 13  4  5 11  2  4  7  3]\n",
      " [ 2  2  2  0 12 10 10  7  6  6  5  0]\n",
      " [ 2  0  1  0 14  8  6  6  3  7  3  0]\n",
      " [ 2  2  2  1 20  9  7 14  2 11  5  2]\n",
      " [ 2  4  0  0 17  6  6 13  5  5  1  0]\n",
      " [ 4  1  1  1 17  6  3 13  3  4  4  1]\n",
      " [ 2  4  0  0 12  5  9  5  1  5  2  0]\n",
      " [ 1  4  0  0 18  7  8  6  1  6  2  3]\n",
      " [ 0  2  0  0 15  7  6  7  3  6  2  1]\n",
      " [ 3  1  1  0 11 14  6  9  3  5  4  1]\n",
      " [ 2  7  1  0 15  7  5  7  8  2  3  2]]\n",
      "  \n",
      "accuracy= 0.7814761215629522\n"
     ]
    }
   ],
   "source": [
    "svm = svm.SVC()\n",
    "svm.fit(x_train, y_train)\n",
    "svm_y_pred = svm.predict(x_test)\n",
    "svm_cm = confusion_matrix(y_test,svm_y_pred)\n",
    "svm_accuracy = accuracy_score(y_test,svm_y_pred)\n",
    "print(\"confusion matrics=\",svm_cm)\n",
    "print(\"  \")\n",
    "print(\"accuracy=\",svm_accuracy*10)"
   ]
  },
  {
   "cell_type": "code",
   "execution_count": 40,
   "metadata": {
    "execution": {
     "iopub.execute_input": "2021-05-21T09:15:22.122725Z",
     "iopub.status.busy": "2021-05-21T09:15:22.122380Z",
     "iopub.status.idle": "2021-05-21T09:15:22.137421Z",
     "shell.execute_reply": "2021-05-21T09:15:22.135363Z",
     "shell.execute_reply.started": "2021-05-21T09:15:22.122694Z"
    }
   },
   "outputs": [
    {
     "name": "stdout",
     "output_type": "stream",
     "text": [
      "['Mobile Applications Developer']\n",
      "Probabilities of all classes:  [[ 1.73041176  8.24915687  0.71768582 10.27662838  0.72768304  4.83081212\n",
      "  10.27058316 10.25823028  1.74843059  6.20707485  7.25684391  3.76911874]]\n",
      "Probability of Predicted class :  10.276628381649312\n"
     ]
    }
   ],
   "source": [
    "ynewclass = svm.predict(userdata)\n",
    "ynew = svm.decision_function(userdata)\n",
    "print(ynewclass)\n",
    "print(\"Probabilities of all classes: \", ynew)\n",
    "print(\"Probability of Predicted class : \", np.max(ynew))"
   ]
  },
  {
   "cell_type": "markdown",
   "metadata": {},
   "source": [
    "### 3. Random Forest Classifier"
   ]
  },
  {
   "cell_type": "code",
   "execution_count": 41,
   "metadata": {
    "execution": {
     "iopub.execute_input": "2021-05-21T09:15:22.140049Z",
     "iopub.status.busy": "2021-05-21T09:15:22.139536Z",
     "iopub.status.idle": "2021-05-21T09:15:23.309802Z",
     "shell.execute_reply": "2021-05-21T09:15:23.308617Z",
     "shell.execute_reply.started": "2021-05-21T09:15:22.140011Z"
    }
   },
   "outputs": [
    {
     "name": "stdout",
     "output_type": "stream",
     "text": [
      "confusion matrics= [[ 5  2  9  3  3  6  8  8  5  4  2  8]\n",
      " [ 4  5  3  2 12  4  5  7  2  4  3  4]\n",
      " [ 7  6  4  4  6  3  7  5  5  7  3  5]\n",
      " [ 6 10  3  3  7  2  3  6  3  4  2  1]\n",
      " [ 4  5  6  3  6  8 10  8  4  8  7  8]\n",
      " [ 8  5  4  4  3  4  7  5  4  3  8  4]\n",
      " [ 5  4  5  6 10  5  3  5  3  6  3  3]\n",
      " [ 4  3  3  4  6  2  4  5  2  1  5  6]\n",
      " [ 4  2  5  6  7  6  5  3  3  4  7  4]\n",
      " [ 4  9  7  1  4  7  2  2  2  2  6  3]\n",
      " [ 7  5  5  2  5  5  4  5  7  4  7  2]\n",
      " [ 3  5  6  4  4  6  4  7  5  4  4  7]]\n",
      "  \n",
      "accuracy= 0.7814761215629522\n"
     ]
    }
   ],
   "source": [
    "rf = RandomForestClassifier(random_state = 10)\n",
    "rf.fit(x_train, y_train)\n",
    "rfc_y_pred = rf.predict(x_test)\n",
    "rfc_cm = confusion_matrix(y_test,rfc_y_pred)\n",
    "rfc_accuracy = accuracy_score(y_test,rfc_y_pred)\n",
    "print(\"confusion matrics=\",rfc_cm)\n",
    "print(\"  \")\n",
    "print(\"accuracy=\",rfc_accuracy*10)"
   ]
  },
  {
   "cell_type": "code",
   "execution_count": 42,
   "metadata": {},
   "outputs": [
    {
     "name": "stdout",
     "output_type": "stream",
     "text": [
      "['Database Developer']\n",
      "Probabilities of all classes:  [[0.02 0.08 0.12 0.07 0.09 0.07 0.07 0.11 0.07 0.1  0.09 0.11]]\n",
      "Probability of Predicted class :  0.12\n"
     ]
    }
   ],
   "source": [
    "ynewclass = rf.predict(userdata)\n",
    "ynew = rf.predict_proba(userdata)\n",
    "print(ynewclass)\n",
    "print(\"Probabilities of all classes: \", ynew)\n",
    "print(\"Probability of Predicted class : \", np.max(ynew))"
   ]
  },
  {
   "cell_type": "markdown",
   "metadata": {},
   "source": [
    "### 4. XGBOOST"
   ]
  },
  {
   "cell_type": "code",
   "execution_count": 43,
   "metadata": {},
   "outputs": [],
   "source": [
    "from sklearn.preprocessing import LabelEncoder\n",
    "le = LabelEncoder()\n",
    "y_train = le.fit_transform(y_train)"
   ]
  },
  {
   "cell_type": "code",
   "execution_count": 44,
   "metadata": {},
   "outputs": [
    {
     "data": {
      "text/plain": [
       "XGBClassifier(base_score=0.5, booster='gbtree', callbacks=None,\n",
       "              colsample_bylevel=1, colsample_bynode=1, colsample_bytree=1,\n",
       "              early_stopping_rounds=None, enable_categorical=False,\n",
       "              eval_metric=None, feature_types=None, gamma=0, gpu_id=-1,\n",
       "              grow_policy='depthwise', importance_type=None,\n",
       "              interaction_constraints='', learning_rate=0.02, max_bin=256,\n",
       "              max_cat_threshold=64, max_cat_to_onehot=4, max_delta_step=0,\n",
       "              max_depth=6, max_leaves=0, min_child_weight=1, missing=nan,\n",
       "              monotone_constraints='()', n_estimators=300, n_jobs=0,\n",
       "              num_parallel_tree=1, objective='multi:softprob', predictor='auto', ...)"
      ]
     },
     "execution_count": 44,
     "metadata": {},
     "output_type": "execute_result"
    }
   ],
   "source": [
    "from xgboost import XGBClassifier\n",
    "xgb = XGBClassifier(random_state = 42, learning_rate=0.02, n_estimators=300)\n",
    "xgb.fit(X = x_train,y =  y_train)"
   ]
  },
  {
   "cell_type": "code",
   "execution_count": 45,
   "metadata": {},
   "outputs": [
    {
     "name": "stdout",
     "output_type": "stream",
     "text": [
      "confusion matrics= [[ 5  5  6  4  4  8  5  1  5  4  8  8]\n",
      " [10  6  6  5  4  5  5  0  5  3  2  4]\n",
      " [ 5  4  6  4  5  5  6  4  4  7  4  8]\n",
      " [ 6  3  3  1  5  7  2  7  6  2  4  4]\n",
      " [ 5  5  8  6  9  4  7  3  7  9  5  9]\n",
      " [ 5  8  4  4  3  7  2  5  4  9  4  4]\n",
      " [ 6  3  7  3  7  4  2  4  7  6  6  3]\n",
      " [ 2  5  7  1  7  1  2  4  4  4  5  3]\n",
      " [ 2  5  5  3  6  7  6  4  3  3  6  6]\n",
      " [ 1  4  4  1  7  7  4  5  6  4  2  4]\n",
      " [ 6  6  9  3  6  6  3  7  2  2  5  3]\n",
      " [ 4  3 10  4  5  6  3  4  5  4  3  8]]\n",
      "  \n",
      "accuracy= 0.8683068017366136\n"
     ]
    }
   ],
   "source": [
    "from sklearn.metrics import confusion_matrix, accuracy_score\n",
    "y_pred = xgb.predict(x_test)\n",
    "y_pred = le.inverse_transform(y_pred)\n",
    "cm = confusion_matrix(y_test, y_pred)\n",
    "xgb_accuracy = accuracy_score(y_test, y_pred)\n",
    "print(\"confusion matrics=\",cm)\n",
    "print(\"  \")\n",
    "print(\"accuracy=\",xgb_accuracy*10)"
   ]
  },
  {
   "cell_type": "markdown",
   "metadata": {},
   "source": [
    "### 5. K-Nearest Neighbours"
   ]
  },
  {
   "cell_type": "code",
   "execution_count": 36,
   "metadata": {},
   "outputs": [],
   "source": [
    "from sklearn.neighbors import KNeighborsClassifier\n",
    "from sklearn.metrics import classification_report\n",
    "knn = KNeighborsClassifier(n_neighbors=12)\n",
    "knn.fit(x_train, y_train)\n",
    "y_pred = knn.predict(x_test)"
   ]
  },
  {
   "cell_type": "code",
   "execution_count": 37,
   "metadata": {},
   "outputs": [
    {
     "name": "stdout",
     "output_type": "stream",
     "text": [
      "accuracy =  0.9551374819102749\n",
      "Classification Report: \n",
      "                                            precision    recall  f1-score   support\n",
      "\n",
      "                   Applications Developer       0.14      0.21      0.17        63\n",
      "                  CRM Technical Developer       0.06      0.11      0.08        55\n",
      "                       Database Developer       0.11      0.15      0.12        62\n",
      "            Mobile Applications Developer       0.11      0.12      0.12        50\n",
      "                Network Security Engineer       0.12      0.12      0.12        77\n",
      "                       Software Developer       0.04      0.03      0.04        59\n",
      "                        Software Engineer       0.09      0.07      0.08        58\n",
      "Software Quality Assurance (QA) / Testing       0.06      0.07      0.06        45\n",
      "           Systems Security Administrator       0.17      0.14      0.16        56\n",
      "                        Technical Support       0.03      0.02      0.02        49\n",
      "                              UX Designer       0.09      0.05      0.07        58\n",
      "                            Web Developer       0.05      0.03      0.04        59\n",
      "\n",
      "                                 accuracy                           0.10       691\n",
      "                                macro avg       0.09      0.09      0.09       691\n",
      "                             weighted avg       0.09      0.10      0.09       691\n",
      "\n",
      "Confusion Matrix:  [[13  8  3  4  8  9  3  5  4  0  4  2]\n",
      " [ 6  6  5  6  3  8  4  3  1  4  3  6]\n",
      " [ 8 10  9  3  6  5  2  7  4  2  0  6]\n",
      " [ 8  9  3  6  8  1  4  4  2  0  4  1]\n",
      " [ 9 10 10 11  9  2  6  2  3  5  2  8]\n",
      " [10  9  9  4  8  2  1  3  3  2  5  3]\n",
      " [ 5  6  8  3  6  8  4  4  4  3  4  3]\n",
      " [ 5  4 11  2  3  2  6  3  2  4  2  1]\n",
      " [ 9 10  8  4  4  2  0  2  8  6  2  1]\n",
      " [ 2  6  8  5  6  6  3  5  3  1  2  2]\n",
      " [ 8  6  9  4  7  2  5  5  3  4  3  2]\n",
      " [ 8 10  2  1  5  5  5  7  9  4  1  2]]\n"
     ]
    }
   ],
   "source": [
    "knn_accuracy = accuracy_score(y_test, y_pred)\n",
    "print(\"accuracy = \", knn_accuracy*10)\n",
    "knn_classification_report = classification_report(y_test, y_pred)\n",
    "print(\"Classification Report: \\n\" , knn_classification_report)\n",
    "knn_cm = confusion_matrix(y_test, y_pred)\n",
    "print(\"Confusion Matrix: \", knn_cm)"
   ]
  },
  {
   "cell_type": "markdown",
   "metadata": {},
   "source": [
    "### 6. Naive Bayes"
   ]
  },
  {
   "cell_type": "code",
   "execution_count": 38,
   "metadata": {},
   "outputs": [
    {
     "name": "stdout",
     "output_type": "stream",
     "text": [
      "accuracy =  0.8972503617945007\n",
      "Confusion Matrix:  [[ 5  3  6  3 10  3  3 11  6  7  5  1]\n",
      " [ 7  5  5  3  7  1  6  8  0  7  3  3]\n",
      " [ 3  4  3  2  4  3 12 10  3  7  5  6]\n",
      " [ 1  2  5  3  5  3  8  5  4  8  5  1]\n",
      " [ 6  8  8  2 10  5  9  8  7 11  3  0]\n",
      " [ 3  4  3  1 12  1  6 10  5  9  3  2]\n",
      " [ 8  5  3  5  6  3  6 12  2  3  5  0]\n",
      " [ 3  6  2  0  4  1 10  7  3  5  2  2]\n",
      " [ 4  2  5  0 10  4  6  9  7  6  1  2]\n",
      " [ 0  2  4  1  7  5  1 13  5  9  1  1]\n",
      " [ 6  7  2  0  6  5 10  9  2  7  4  0]\n",
      " [ 3  5  7  3  9  5  7  8  6  1  3  2]]\n"
     ]
    }
   ],
   "source": [
    "gnb = GaussianNB()\n",
    "y_pred = gnb.fit(x_train, y_train).predict(x_test)\n",
    "gnb_accuracy = accuracy_score(y_test, y_pred)\n",
    "print(\"accuracy = \", gnb_accuracy*10)\n",
    "gnb_cm = confusion_matrix(y_test, y_pred)\n",
    "print(\"Confusion Matrix: \", gnb_cm)"
   ]
  },
  {
   "cell_type": "markdown",
   "metadata": {},
   "source": [
    "## The Best Accuracy with a 90/10 split is given by the KNN Model."
   ]
  },
  {
   "cell_type": "code",
   "execution_count": 49,
   "metadata": {},
   "outputs": [],
   "source": [
    "import pickle \n",
    "pickle.dump(dtree,open('predict.pkl','wb'))"
   ]
  },
  {
   "cell_type": "code",
   "execution_count": 50,
   "metadata": {},
   "outputs": [],
   "source": [
    "# from flask import Flask, request, render_template\n",
    "# from flask_cors import cross_origin\n",
    "# import sklearn\n",
    "# import pickle\n",
    "# import pandas as pd\n",
    "\n",
    "\n",
    "# app = Flask(__name__)\n",
    "# model = pickle.load(open(\"predict.pkl\", \"rb\"))\n",
    "\n",
    "# prediction=model.predict([[\n",
    "# '7','6','6','8','3','5','4', '4', '7', '3', '3', '6','8', \n",
    "#                     '7','5','7','4','5','6','8','8'\n",
    "            \n",
    "#         ]])\n",
    "# output=(prediction[0],2)\n",
    "# print(output)"
   ]
  },
  {
   "cell_type": "code",
   "execution_count": null,
   "metadata": {},
   "outputs": [
    {
     "name": "stdout",
     "output_type": "stream",
     "text": [
      " * Serving Flask app \"__main__\" (lazy loading)\n",
      " * Environment: production\n",
      "   WARNING: This is a development server. Do not use it in a production deployment.\n",
      "   Use a production WSGI server instead.\n",
      " * Debug mode: on\n"
     ]
    },
    {
     "name": "stderr",
     "output_type": "stream",
     "text": [
      " * Running on http://127.0.0.1:5000/ (Press CTRL+C to quit)\n",
      "127.0.0.1 - - [17/Nov/2022 10:54:49] \"\u001b[37mGET / HTTP/1.1\u001b[0m\" 200 -\n",
      "127.0.0.1 - - [17/Nov/2022 10:54:53] \"\u001b[37mPOST /predict HTTP/1.1\u001b[0m\" 200 -\n"
     ]
    },
    {
     "name": "stdout",
     "output_type": "stream",
     "text": [
      "('UX Designer', 2)\n"
     ]
    },
    {
     "name": "stderr",
     "output_type": "stream",
     "text": [
      "127.0.0.1 - - [17/Nov/2022 10:55:44] \"\u001b[37mPOST /predict HTTP/1.1\u001b[0m\" 200 -\n"
     ]
    },
    {
     "name": "stdout",
     "output_type": "stream",
     "text": [
      "('Systems Security Administrator', 2)\n"
     ]
    },
    {
     "name": "stderr",
     "output_type": "stream",
     "text": [
      "127.0.0.1 - - [17/Nov/2022 10:57:44] \"\u001b[37mPOST /predict HTTP/1.1\u001b[0m\" 200 -\n"
     ]
    },
    {
     "name": "stdout",
     "output_type": "stream",
     "text": [
      "('Applications Developer', 2)\n"
     ]
    }
   ],
   "source": [
    "from flask import Flask, request, render_template\n",
    "from flask_cors import cross_origin\n",
    "import sklearn\n",
    "import pickle\n",
    "import pandas as pd\n",
    "\n",
    "\n",
    "app = Flask(__name__)\n",
    "model = pickle.load(open(\"predict.pkl\", \"rb\"))\n",
    "\n",
    "\n",
    "@app.route(\"/\")\n",
    "@cross_origin()\n",
    "def home():\n",
    "    return render_template(\"home.html\")\n",
    "\n",
    "@app.route(\"/predict\", methods = [\"GET\", \"POST\"])\n",
    "@cross_origin()\n",
    "def predict():\n",
    "    if request.method == \"POST\":       \n",
    "\n",
    " ###################   Logical_quotient_rating   #################################        \n",
    "        Logical_quotient_rating = request.form[\"Logical_quotient_rating\"]\n",
    "        if (Logical_quotient_rating == 1):\n",
    "            Logical_quotient_rating = 1\n",
    "\n",
    "        \n",
    "        elif (Logical_quotient_rating == 2):\n",
    "            Logical_quotient_rating = 2\n",
    "        elif (Logical_quotient_rating == 3):\n",
    "            Logical_quotient_rating = 3\n",
    "        elif (Logical_quotient_rating == 4):\n",
    "            Logical_quotient_rating = 4\n",
    "        elif (Logical_quotient_rating == 5):\n",
    "            Logical_quotient_rating = 5\n",
    "        elif (Logical_quotient_rating == 6):\n",
    "            Logical_quotient_rating = 6\n",
    "        elif (Logical_quotient_rating == 7):\n",
    "            Logical_quotient_rating = 7\n",
    "        elif (Logical_quotient_rating == 8):\n",
    "            Logical_quotient_rating = 8\n",
    "        elif (Logical_quotient_rating == 9):\n",
    "            Logical_quotient_rating = 9           \n",
    "\n",
    "\n",
    "        else:\n",
    "            Logical_quotient_rating = 0\n",
    "            \n",
    " ###################   hackathons   #################################            \n",
    "\n",
    "        hackathons = request.form[\"hackathons\"]\n",
    "        if (hackathons == 1):\n",
    "            hackathons = 1\n",
    "\n",
    "        \n",
    "        elif (hackathons == 2):\n",
    "            hackathons = 2\n",
    "        elif (hackathons == 3):\n",
    "            hackathons = 3\n",
    "        elif (hackathons == 4):\n",
    "            hackathons = 4\n",
    "        elif (hackathons == 5):\n",
    "            hackathons = 5\n",
    "        elif (hackathons == 6):\n",
    "            hackathons = 6      \n",
    "        else:\n",
    "            Logical_quotient_rating = 0     \n",
    "            \n",
    " ###################   coding_skills_rating   #################################                    \n",
    "\n",
    "        coding_skills_rating = request.form[\"coding_skills_rating\"]\n",
    "        if (coding_skills_rating == 1):\n",
    "            coding_skills_rating = 1\n",
    "\n",
    "        \n",
    "        elif (coding_skills_rating == 2):\n",
    "            coding_skills_rating = 2\n",
    "        elif (coding_skills_rating == 3):\n",
    "            coding_skills_rating = 3\n",
    "        elif (coding_skills_rating == 4):\n",
    "            coding_skills_rating = 4\n",
    "        elif (coding_skills_rating == 5):\n",
    "            coding_skills_rating = 5\n",
    "        elif (coding_skills_rating == 6):\n",
    "            coding_skills_rating = 6\n",
    "        elif (coding_skills_rating == 7):\n",
    "            coding_skills_rating = 7\n",
    "        elif (coding_skills_rating == 8):\n",
    "            coding_skills_rating = 8\n",
    "        elif (coding_skills_rating == 9):\n",
    "            coding_skills_rating = 9           \n",
    "\n",
    "\n",
    "        else:\n",
    "            coding_skills_rating = 0\n",
    "            \n",
    " ###################   public_speaking_points   #################################                    \n",
    "\n",
    "        public_speaking_points = request.form[\"public_speaking_points\"]\n",
    "        if (public_speaking_points == 1):\n",
    "            public_speaking_points = 1\n",
    "\n",
    "        \n",
    "        elif (public_speaking_points == 2):\n",
    "            public_speaking_points = 2\n",
    "        elif (public_speaking_points == 3):\n",
    "            public_speaking_points = 3\n",
    "        elif (public_speaking_points == 4):\n",
    "            public_speaking_points = 4\n",
    "        elif (public_speaking_points == 5):\n",
    "            public_speaking_points = 5\n",
    "        elif (public_speaking_points == 6):\n",
    "            public_speaking_points = 6\n",
    "        elif (public_speaking_points == 7):\n",
    "            public_speaking_points = 7\n",
    "        elif (public_speaking_points == 8):\n",
    "            public_speaking_points = 8\n",
    "        elif (public_speaking_points == 9):\n",
    "            public_speaking_points = 9           \n",
    "\n",
    "\n",
    "        else:\n",
    "            public_speaking_points = 0    \n",
    "            \n",
    " ###################   self_learning_capability   #################################        \n",
    "            \n",
    "        self_learning_capability = request.form[\"self_learning_capability\"]\n",
    "        if (self_learning_capability == 'no'):\n",
    "            self_learning_capability = 0\n",
    "\n",
    "        \n",
    "        elif (self_learning_capability == 'yes'):\n",
    "            self_learning_capability = 1\n",
    "        \n",
    "\n",
    "\n",
    "        else:\n",
    "            self_learning_capability = 0    \n",
    "            \n",
    " ###################   Extra_courses_did   #################################                    \n",
    "            \n",
    "            \n",
    "        Extra_courses_did = request.form[\"Extra_courses_did\"]\n",
    "        if (Extra_courses_did =='no' ):\n",
    "            Extra_courses_did = 0\n",
    "\n",
    "        \n",
    "        elif (Extra_courses_did == 'yes'):\n",
    "            Extra_courses_did = 1\n",
    "                  \n",
    "\n",
    "\n",
    "        else:\n",
    "            Extra_courses_did = 0\n",
    "            \n",
    " ###################   reading_and_writing_skills   #################################                \n",
    "            \n",
    "        reading_and_writing_skills = request.form[\"reading_and_writing_skills\"]\n",
    "        if (reading_and_writing_skills == 1):\n",
    "            reading_and_writing_skills = 1        \n",
    "        elif (reading_and_writing_skills == 2):\n",
    "            reading_and_writing_skills = 2\n",
    "        elif (reading_and_writing_skills == 0):\n",
    "            reading_and_writing_skills = 0\n",
    "                 \n",
    "\n",
    "\n",
    "        else:\n",
    "            reading_and_writing_skills = 0\n",
    "            \n",
    " ###################   memory_capability_score   #################################               \n",
    "            \n",
    "        memory_capability_score = request.form[\"memory_capability_score\"]\n",
    "        if (memory_capability_score == 0):\n",
    "            memory_capability_score = 0\n",
    "\n",
    "        \n",
    "        elif (memory_capability_score == 1):\n",
    "            memory_capability_score = 1\n",
    "        elif (memory_capability_score == 2):\n",
    "            memory_capability_score = 2          \n",
    "\n",
    "\n",
    "        else:\n",
    "            memory_capability_score = 0  \n",
    " ###################   Taken_inputs_from_seniors_or_elders   #################################           \n",
    "        Taken_inputs_from_seniors_or_elders = request.form[\"Taken_inputs_from_seniors_or_elders\"]\n",
    "        if (Taken_inputs_from_seniors_or_elders == 0):\n",
    "            Taken_inputs_from_seniors_or_elders = 0\n",
    "        \n",
    "        elif (Taken_inputs_from_seniors_or_elders == 1):\n",
    "            Taken_inputs_from_seniors_or_elders = 1     \n",
    "\n",
    "        else:\n",
    "            Taken_inputs_from_seniors_or_elders = 0 \n",
    "            \n",
    "###################   worked_in_teams_ever   #################################\n",
    "        worked_in_teams_ever = request.form[\"worked_in_teams_ever\"]\n",
    "        if (worked_in_teams_ever == 0):\n",
    "            worked_in_teams_ever = 0\n",
    "        elif (worked_in_teams_ever == 1):\n",
    "            worked_in_teams_ever = 1   \n",
    "        else:\n",
    "            worked_in_teams_ever = 0 \n",
    "            \n",
    "###################   certifications   #################################            \n",
    "            \n",
    "            \n",
    "        certifications = request.form[\"certifications\"]\n",
    "        if (certifications == 'app development'):\n",
    "            certifications_code = 0\n",
    "        \n",
    "        elif (certifications == 'distro making'):\n",
    "            certifications_code = 1\n",
    "            \n",
    "        elif (certifications == 'full stack'):\n",
    "            certifications_code = 2 \n",
    "\n",
    "        elif (certifications == 'hadoop'):\n",
    "            certifications_code = 3\n",
    "\n",
    "        elif (certifications == 'information security'):\n",
    "            certifications_code = 4\n",
    "\n",
    "        elif (certifications == 'machine learning'):\n",
    "            certifications_code = 5\n",
    "\n",
    "        elif (certifications == 'python'):\n",
    "            certifications_code = 6\n",
    "\n",
    "        elif (certifications == 'r programming'):\n",
    "            certifications_code = 7\n",
    " \n",
    "        elif (certifications == 'shell programming'):\n",
    "            certifications_code = 8\n",
    "\n",
    "#         else:\n",
    "#             certifications_code = 0            \n",
    "            \n",
    "            \n",
    " ###################   workshops   #################################         \n",
    "                        \n",
    "        workshops = request.form[\"workshops\"]\n",
    "        if (workshops == 'cloud computing'):\n",
    "            workshops_code = 0\n",
    "        \n",
    "        elif (workshops == 'data science'):\n",
    "            workshops_code = 1\n",
    "            \n",
    "        elif (workshops == 'database security'):\n",
    "            workshops_code = 2 \n",
    "\n",
    "        elif (workshops == 'game development'):\n",
    "            workshops_code = 3\n",
    "\n",
    "        elif (workshops == 'hacking'):\n",
    "            workshops_code = 4\n",
    "\n",
    "        elif (workshops == 'system designing'):\n",
    "            workshops_code = 5\n",
    "\n",
    "        elif (workshops == 'testing'):\n",
    "            workshops_code = 6\n",
    "\n",
    "        elif (workshops == 'web technologies'):\n",
    "            workshops_code = 7\n",
    " \n",
    "\n",
    "        else:\n",
    "            workshops_code = 0         \n",
    "            \n",
    "            \n",
    " ###################   interested_subjects   #################################         \n",
    "                        \n",
    "        interested_subjects = request.form[\"interested_subjects\"]\n",
    "        if (interested_subjects == 'Computer Architecture'):\n",
    "            Interested_subjects_code = 0\n",
    "        \n",
    "        elif (interested_subjects == 'IOT'):\n",
    "            Interested_subjects_code = 1\n",
    "            \n",
    "        elif (interested_subjects == 'Management'):\n",
    "            Interested_subjects_code = 2 \n",
    "\n",
    "        elif (interested_subjects == 'Software Engineering'):\n",
    "            Interested_subjects_code = 3\n",
    "\n",
    "        elif (interested_subjects == 'cloud computing'):\n",
    "            Interested_subjects_code = 4\n",
    "\n",
    "        elif (interested_subjects == 'data engineering'):\n",
    "            Interested_subjects_code = 5\n",
    "\n",
    "        elif (interested_subjects == 'hacking'):\n",
    "            Interested_subjects_code = 6\n",
    "\n",
    "        elif (interested_subjects == 'networks'):\n",
    "            Interested_subjects_code = 7\n",
    "        elif (interested_subjects == 'parallel computing'):\n",
    "            Interested_subjects_code = 8 \n",
    "        elif (interested_subjects == 'programming'):\n",
    "            Interested_subjects_code = 9\n",
    "#         else:\n",
    "#             Interested_subjects_code = 0   \n",
    "            \n",
    "###################   interested_career_area   #################################         \n",
    "                        \n",
    "        interested_career_area = request.form[\"interested_career_area\"]\n",
    "        if (interested_career_area == 'Business process analyst'):\n",
    "            interested_career_area_code = 0\n",
    "        \n",
    "        elif (interested_career_area == 'cloud computing'):\n",
    "            interested_career_area_code = 1\n",
    "            \n",
    "        elif (interested_career_area == 'developer'):\n",
    "            interested_career_area_code = 2 \n",
    "\n",
    "        elif (interested_career_area == 'security'):\n",
    "            interested_career_area_code = 3\n",
    "\n",
    "        elif (interested_career_area == 'system developer'):\n",
    "            interested_career_area_code = 4\n",
    "\n",
    "        elif (interested_career_area == 'testing'):\n",
    "            interested_career_area_code = 5\n",
    "\n",
    "#         else:\n",
    "#             interested_career_area_code = 0   \n",
    "            \n",
    "###################   Type_of_company_want_to_settle_in   #################################         \n",
    "                        \n",
    "        Type_of_company_want_to_settle_in = request.form[\"Type_of_company_want_to_settle_in\"]\n",
    "        if (Type_of_company_want_to_settle_in == 'BPA'):\n",
    "            Type_of_company_want_to_settle_in_code = 0\n",
    "        \n",
    "        elif (Type_of_company_want_to_settle_in == 'Cloud Services'):\n",
    "            Type_of_company_want_to_settle_in_code = 1\n",
    "            \n",
    "        elif (Type_of_company_want_to_settle_in == 'Finance'):\n",
    "            Type_of_company_want_to_settle_in_code = 2 \n",
    "\n",
    "        elif (Type_of_company_want_to_settle_in == 'Product based'):\n",
    "            Type_of_company_want_to_settle_in_code = 3\n",
    "\n",
    "        elif (Type_of_company_want_to_settle_in == 'SAaS services'):\n",
    "            Type_of_company_want_to_settle_in_code = 4\n",
    "\n",
    "        elif (Type_of_company_want_to_settle_in == 'Sales and Marketing'):\n",
    "            Type_of_company_want_to_settle_in_code = 5\n",
    "\n",
    "        elif (Type_of_company_want_to_settle_in == 'Service Based'):\n",
    "            Type_of_company_want_to_settle_in_code = 6\n",
    "\n",
    "        elif (Type_of_company_want_to_settle_in == 'Testing and Maintainance Services'):\n",
    "            Type_of_company_want_to_settle_in_code = 7\n",
    "        elif (Type_of_company_want_to_settle_in == 'Web Services'):\n",
    "            Type_of_company_want_to_settle_in_code = 8 \n",
    "        elif (Type_of_company_want_to_settle_in == 'product development'):\n",
    "            Type_of_company_want_to_settle_in_code = 9\n",
    "        else:\n",
    "            Type_of_company_want_to_settle_in_code = 0 \n",
    "            \n",
    "###################   Interested_Type_of_Books   #################################   \n",
    "            \n",
    "        Interested_Type_of_Books = request.form[\"Interested_Type_of_Books\"]\n",
    "        if (Interested_Type_of_Books == 'Autobiographies'):\n",
    "            Interested_Type_of_Books_code = 3\n",
    "        elif (Interested_Type_of_Books == 'Series'):\n",
    "            Interested_Type_of_Books_code = 28\n",
    "        \n",
    "        else:\n",
    "            Interested_Type_of_Books_code = 28 \n",
    "            \n",
    "            \n",
    "###################   hard_smart_worker   #################################   \n",
    "            \n",
    "        hard_smart_worker = request.form[\"hard_smart_worker\"]\n",
    "        if (hard_smart_worker == 'hard worker'):\n",
    "            B_hard_worker = 1\n",
    "            B_smart_worker= 0\n",
    "        elif (hard_smart_worker == 'smart worker'):\n",
    "            B_hard_worker = 0\n",
    "            B_smart_worker= 1     \n",
    "        else:\n",
    "            B_hard_worker = 0\n",
    "            B_smart_worker= 1  \n",
    "            \n",
    "###################   Management_or_Technical   #################################   \n",
    "            \n",
    "        Management_or_Technical = request.form[\"Management_or_Technical\"]\n",
    "        if (Management_or_Technical == 'Management'):\n",
    "            A_Management = 1\n",
    "            A_Technical = 0\n",
    "        elif (Management_or_Technical == 'Technical'):\n",
    "            A_Management = 0\n",
    "            A_Technical = 1   \n",
    "        else:\n",
    "            A_Management = 0\n",
    "            A_Technical = 1   \n",
    "###################   Introvert   #################################   \n",
    "            \n",
    "        Introvert = request.form[\"Introvert\"]\n",
    "        if (Introvert == 'no'):\n",
    "            Introvert = 0\n",
    "        elif (Introvert == 'yes'):\n",
    "            Introvert = 1\n",
    "  \n",
    "        else:\n",
    "             Introvert = 1             \n",
    "            \n",
    "################################################################################################\n",
    "      \n",
    "            \n",
    "\n",
    "        prediction=model.predict([[\n",
    "Logical_quotient_rating, coding_skills_rating, hackathons, public_speaking_points,\n",
    "           self_learning_capability,Extra_courses_did, \n",
    "           Taken_inputs_from_seniors_or_elders, worked_in_teams_ever, Introvert, reading_and_writing_skills,\n",
    "           memory_capability_score,  \n",
    "           B_hard_worker,B_smart_worker, A_Management, A_Technical, Interested_subjects_code, \n",
    "           Interested_Type_of_Books_code, certifications_code, \n",
    "           workshops_code, Type_of_company_want_to_settle_in_code,  interested_career_area_code\n",
    "            \n",
    "        ]])\n",
    "\n",
    "        output=(prediction[0],2)\n",
    "        \n",
    "        print(output)\n",
    "\n",
    "    return render_template('home.html',prediction_text=\"The Course for you is. {}\".format(output))\n",
    "\n",
    "\n",
    "    return render_template(\"home.html\")\n",
    "\n",
    "\n",
    "\n",
    "if __name__ == \"__main__\":\n",
    "     app.run(debug=True,use_reloader=False)"
   ]
  },
  {
   "cell_type": "code",
   "execution_count": null,
   "metadata": {},
   "outputs": [],
   "source": []
  }
 ],
 "metadata": {
  "kernelspec": {
   "display_name": "Python 3",
   "language": "python",
   "name": "python3"
  },
  "language_info": {
   "codemirror_mode": {
    "name": "ipython",
    "version": 3
   },
   "file_extension": ".py",
   "mimetype": "text/x-python",
   "name": "python",
   "nbconvert_exporter": "python",
   "pygments_lexer": "ipython3",
   "version": "3.8.8"
  },
  "vscode": {
   "interpreter": {
    "hash": "74896034db1845be5000ed9314487ee297f444d1b9bf6f172497bb9704b8efa0"
   }
  }
 },
 "nbformat": 4,
 "nbformat_minor": 4
}
