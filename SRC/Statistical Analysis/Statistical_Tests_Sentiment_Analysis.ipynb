{
 "cells": [
  {
   "cell_type": "code",
   "execution_count": 2,
   "metadata": {},
   "outputs": [],
   "source": [
    "import math\n",
    "import numpy as np\n",
    "import pandas as pd\n",
    "import statistics\n",
    "import scipy.stats\n",
    "import matplotlib.pyplot as plt\n",
    "import seaborn as sns\n",
    "%matplotlib inline\n",
    "import warnings\n",
    "warnings.filterwarnings(\"ignore\")"
   ]
  },
  {
   "cell_type": "code",
   "execution_count": 3,
   "metadata": {},
   "outputs": [
    {
     "data": {
      "text/html": [
       "<div>\n",
       "<style scoped>\n",
       "    .dataframe tbody tr th:only-of-type {\n",
       "        vertical-align: middle;\n",
       "    }\n",
       "\n",
       "    .dataframe tbody tr th {\n",
       "        vertical-align: top;\n",
       "    }\n",
       "\n",
       "    .dataframe thead th {\n",
       "        text-align: right;\n",
       "    }\n",
       "</style>\n",
       "<table border=\"1\" class=\"dataframe\">\n",
       "  <thead>\n",
       "    <tr style=\"text-align: right;\">\n",
       "      <th></th>\n",
       "      <th>author</th>\n",
       "      <th>reviewBody</th>\n",
       "      <th>reviewRating</th>\n",
       "      <th>ratingMaxvalue</th>\n",
       "      <th>dateCreated</th>\n",
       "      <th>reviewUrl</th>\n",
       "      <th>reviewSource</th>\n",
       "      <th>name</th>\n",
       "      <th>address</th>\n",
       "      <th>Sentiment</th>\n",
       "    </tr>\n",
       "  </thead>\n",
       "  <tbody>\n",
       "    <tr>\n",
       "      <th>0</th>\n",
       "      <td>Dermot Dunne</td>\n",
       "      <td>Stunning new university campus near Dublin cit...</td>\n",
       "      <td>5.0</td>\n",
       "      <td>5.0</td>\n",
       "      <td>2014</td>\n",
       "      <td>https://www.google.com/maps/contrib/1172180627...</td>\n",
       "      <td>www.google.com</td>\n",
       "      <td>TU Dublin, Aungier Street</td>\n",
       "      <td>TU Dublin, Aungier Street</td>\n",
       "      <td>Positive</td>\n",
       "    </tr>\n",
       "    <tr>\n",
       "      <th>1</th>\n",
       "      <td>jorge garcia rey</td>\n",
       "      <td>Great campus to go for a walk, and with a coup...</td>\n",
       "      <td>5.0</td>\n",
       "      <td>5.0</td>\n",
       "      <td>2014</td>\n",
       "      <td>https://www.google.com/maps/contrib/1018313073...</td>\n",
       "      <td>www.google.com</td>\n",
       "      <td>TU Dublin, Aungier Street</td>\n",
       "      <td>TU Dublin, Aungier Street</td>\n",
       "      <td>Positive</td>\n",
       "    </tr>\n",
       "    <tr>\n",
       "      <th>2</th>\n",
       "      <td>Omar Nicolai</td>\n",
       "      <td>I know this building has over 200 years of var...</td>\n",
       "      <td>5.0</td>\n",
       "      <td>5.0</td>\n",
       "      <td>2014</td>\n",
       "      <td>https://www.google.com/maps/contrib/1069724274...</td>\n",
       "      <td>www.google.com</td>\n",
       "      <td>TU Dublin, Aungier Street</td>\n",
       "      <td>TU Dublin, Aungier Street</td>\n",
       "      <td>Positive</td>\n",
       "    </tr>\n",
       "    <tr>\n",
       "      <th>3</th>\n",
       "      <td>ruth connolly</td>\n",
       "      <td>Great place to sit or exercise. Well kept safe...</td>\n",
       "      <td>5.0</td>\n",
       "      <td>5.0</td>\n",
       "      <td>2014</td>\n",
       "      <td>https://www.google.com/maps/contrib/1090465921...</td>\n",
       "      <td>www.google.com</td>\n",
       "      <td>TU Dublin, Aungier Street</td>\n",
       "      <td>TU Dublin, Aungier Street</td>\n",
       "      <td>Positive</td>\n",
       "    </tr>\n",
       "    <tr>\n",
       "      <th>4</th>\n",
       "      <td>Fintan Moloney</td>\n",
       "      <td>Nice college grounds area for walking, jogging...</td>\n",
       "      <td>5.0</td>\n",
       "      <td>5.0</td>\n",
       "      <td>2014</td>\n",
       "      <td>https://www.google.com/maps/contrib/1052988761...</td>\n",
       "      <td>www.google.com</td>\n",
       "      <td>TU Dublin, Aungier Street</td>\n",
       "      <td>TU Dublin, Aungier Street</td>\n",
       "      <td>Positive</td>\n",
       "    </tr>\n",
       "  </tbody>\n",
       "</table>\n",
       "</div>"
      ],
      "text/plain": [
       "             author                                         reviewBody  \\\n",
       "0      Dermot Dunne  Stunning new university campus near Dublin cit...   \n",
       "1  jorge garcia rey  Great campus to go for a walk, and with a coup...   \n",
       "2      Omar Nicolai  I know this building has over 200 years of var...   \n",
       "3     ruth connolly  Great place to sit or exercise. Well kept safe...   \n",
       "4    Fintan Moloney  Nice college grounds area for walking, jogging...   \n",
       "\n",
       "   reviewRating  ratingMaxvalue  dateCreated  \\\n",
       "0           5.0             5.0         2014   \n",
       "1           5.0             5.0         2014   \n",
       "2           5.0             5.0         2014   \n",
       "3           5.0             5.0         2014   \n",
       "4           5.0             5.0         2014   \n",
       "\n",
       "                                           reviewUrl    reviewSource  \\\n",
       "0  https://www.google.com/maps/contrib/1172180627...  www.google.com   \n",
       "1  https://www.google.com/maps/contrib/1018313073...  www.google.com   \n",
       "2  https://www.google.com/maps/contrib/1069724274...  www.google.com   \n",
       "3  https://www.google.com/maps/contrib/1090465921...  www.google.com   \n",
       "4  https://www.google.com/maps/contrib/1052988761...  www.google.com   \n",
       "\n",
       "                        name                    address Sentiment  \n",
       "0  TU Dublin, Aungier Street  TU Dublin, Aungier Street  Positive  \n",
       "1  TU Dublin, Aungier Street  TU Dublin, Aungier Street  Positive  \n",
       "2  TU Dublin, Aungier Street  TU Dublin, Aungier Street  Positive  \n",
       "3  TU Dublin, Aungier Street  TU Dublin, Aungier Street  Positive  \n",
       "4  TU Dublin, Aungier Street  TU Dublin, Aungier Street  Positive  "
      ]
     },
     "execution_count": 3,
     "metadata": {},
     "output_type": "execute_result"
    }
   ],
   "source": [
    "df = pd.read_csv('CompileReviews-8-11-2022.csv')\n",
    "df.head()"
   ]
  },
  {
   "cell_type": "code",
   "execution_count": 4,
   "metadata": {},
   "outputs": [],
   "source": [
    "numeric_data = df.select_dtypes(exclude='object')\n",
    "categorical_data = df.select_dtypes(include='object')"
   ]
  },
  {
   "cell_type": "code",
   "execution_count": 5,
   "metadata": {},
   "outputs": [
    {
     "data": {
      "text/plain": [
       "reviewRating         3.431928\n",
       "ratingMaxvalue       5.000000\n",
       "dateCreated       2016.186186\n",
       "dtype: float64"
      ]
     },
     "execution_count": 5,
     "metadata": {},
     "output_type": "execute_result"
    }
   ],
   "source": [
    "df.mean()"
   ]
  },
  {
   "cell_type": "markdown",
   "metadata": {},
   "source": [
    "### Geometric Mean\n",
    "The Geometric Mean (GM) is the average value or mean which signifies the central tendency of the set of numbers by finding the product of their values."
   ]
  },
  {
   "cell_type": "code",
   "execution_count": 6,
   "metadata": {},
   "outputs": [
    {
     "name": "stdout",
     "output_type": "stream",
     "text": [
      "Geometric mean of Review Ratings:  nan\n"
     ]
    }
   ],
   "source": [
    "from scipy.stats import gmean\n",
    "print (\"Geometric mean of Review Ratings: \",gmean(df['reviewRating']))"
   ]
  },
  {
   "cell_type": "markdown",
   "metadata": {},
   "source": [
    "### Harmonic Mean\n",
    "The Harmonic Mean (HM) is defined as the reciprocal of the average of the reciprocals of the data values.\n",
    "It is based on all the observations, and it is rigidly defined.\n",
    "Harmonic mean gives less weightage to the large values and large weightage to the small values to balance the values correctly"
   ]
  },
  {
   "cell_type": "code",
   "execution_count": 8,
   "metadata": {},
   "outputs": [
    {
     "name": "stdout",
     "output_type": "stream",
     "text": [
      "Harmonic mean of Review Ratings:  nan\n"
     ]
    }
   ],
   "source": [
    "print (\"Harmonic mean of Review Ratings: \",statistics.harmonic_mean(df['reviewRating']))"
   ]
  },
  {
   "cell_type": "markdown",
   "metadata": {},
   "source": [
    "### Mode"
   ]
  },
  {
   "cell_type": "code",
   "execution_count": 9,
   "metadata": {},
   "outputs": [
    {
     "data": {
      "text/html": [
       "<div>\n",
       "<style scoped>\n",
       "    .dataframe tbody tr th:only-of-type {\n",
       "        vertical-align: middle;\n",
       "    }\n",
       "\n",
       "    .dataframe tbody tr th {\n",
       "        vertical-align: top;\n",
       "    }\n",
       "\n",
       "    .dataframe thead th {\n",
       "        text-align: right;\n",
       "    }\n",
       "</style>\n",
       "<table border=\"1\" class=\"dataframe\">\n",
       "  <thead>\n",
       "    <tr style=\"text-align: right;\">\n",
       "      <th></th>\n",
       "      <th>author</th>\n",
       "      <th>reviewBody</th>\n",
       "      <th>reviewRating</th>\n",
       "      <th>ratingMaxvalue</th>\n",
       "      <th>dateCreated</th>\n",
       "      <th>reviewUrl</th>\n",
       "      <th>reviewSource</th>\n",
       "      <th>name</th>\n",
       "      <th>address</th>\n",
       "      <th>Sentiment</th>\n",
       "    </tr>\n",
       "  </thead>\n",
       "  <tbody>\n",
       "    <tr>\n",
       "      <th>0</th>\n",
       "      <td>Student</td>\n",
       "      <td>Great team, great people, great campus, good w...</td>\n",
       "      <td>5.0</td>\n",
       "      <td>5.0</td>\n",
       "      <td>2018.0</td>\n",
       "      <td>www.google.com</td>\n",
       "      <td>www.google.com</td>\n",
       "      <td>University of Limerick</td>\n",
       "      <td>University of Limerick</td>\n",
       "      <td>Positive</td>\n",
       "    </tr>\n",
       "    <tr>\n",
       "      <th>1</th>\n",
       "      <td>NaN</td>\n",
       "      <td>Really amazing and Beautiful Ã°Å¸ËœÂ Feels li...</td>\n",
       "      <td>NaN</td>\n",
       "      <td>NaN</td>\n",
       "      <td>NaN</td>\n",
       "      <td>NaN</td>\n",
       "      <td>NaN</td>\n",
       "      <td>NaN</td>\n",
       "      <td>NaN</td>\n",
       "      <td>NaN</td>\n",
       "    </tr>\n",
       "  </tbody>\n",
       "</table>\n",
       "</div>"
      ],
      "text/plain": [
       "    author                                         reviewBody  reviewRating  \\\n",
       "0  Student  Great team, great people, great campus, good w...           5.0   \n",
       "1      NaN  Really amazing and Beautiful Ã°Å¸ËœÂ Feels li...           NaN   \n",
       "\n",
       "   ratingMaxvalue  dateCreated       reviewUrl    reviewSource  \\\n",
       "0             5.0       2018.0  www.google.com  www.google.com   \n",
       "1             NaN          NaN             NaN             NaN   \n",
       "\n",
       "                     name                 address Sentiment  \n",
       "0  University of Limerick  University of Limerick  Positive  \n",
       "1                     NaN                     NaN       NaN  "
      ]
     },
     "execution_count": 9,
     "metadata": {},
     "output_type": "execute_result"
    }
   ],
   "source": [
    "df.mode()"
   ]
  },
  {
   "cell_type": "markdown",
   "metadata": {},
   "source": [
    "### Median"
   ]
  },
  {
   "cell_type": "code",
   "execution_count": 10,
   "metadata": {},
   "outputs": [
    {
     "name": "stdout",
     "output_type": "stream",
     "text": [
      "Median of OS Review Ratings:  3.8\n"
     ]
    }
   ],
   "source": [
    "print (\"Median of OS Review Ratings: \",statistics.median(df['reviewRating']))"
   ]
  },
  {
   "cell_type": "markdown",
   "metadata": {},
   "source": [
    "### Standard Deviation"
   ]
  },
  {
   "cell_type": "code",
   "execution_count": 11,
   "metadata": {},
   "outputs": [
    {
     "name": "stdout",
     "output_type": "stream",
     "text": [
      "Standard Deviation of Review Ratings:  nan\n"
     ]
    }
   ],
   "source": [
    "print (\"Standard Deviation of Review Ratings: \",statistics.stdev(df['reviewRating']))"
   ]
  },
  {
   "cell_type": "markdown",
   "metadata": {},
   "source": [
    "### Variance"
   ]
  },
  {
   "cell_type": "code",
   "execution_count": 12,
   "metadata": {},
   "outputs": [
    {
     "name": "stdout",
     "output_type": "stream",
     "text": [
      "Variance of OS Review Ratings:  nan\n"
     ]
    }
   ],
   "source": [
    "print (\"Variance of OS Review Ratings: \",statistics.variance(df['reviewRating']))"
   ]
  },
  {
   "cell_type": "markdown",
   "metadata": {},
   "source": [
    "### Skewness"
   ]
  },
  {
   "cell_type": "code",
   "execution_count": 13,
   "metadata": {},
   "outputs": [
    {
     "data": {
      "text/plain": [
       "reviewRating     -0.506594\n",
       "ratingMaxvalue    0.000000\n",
       "dateCreated      -0.965297\n",
       "dtype: float64"
      ]
     },
     "execution_count": 13,
     "metadata": {},
     "output_type": "execute_result"
    }
   ],
   "source": [
    "df.skew()"
   ]
  },
  {
   "cell_type": "markdown",
   "metadata": {},
   "source": [
    "### Visualisation of negative skewness"
   ]
  },
  {
   "cell_type": "code",
   "execution_count": 14,
   "metadata": {},
   "outputs": [
    {
     "data": {
      "text/plain": [
       "<AxesSubplot: ylabel='Density'>"
      ]
     },
     "execution_count": 14,
     "metadata": {},
     "output_type": "execute_result"
    },
    {
     "data": {
      "image/png": "[encoded data removed]",
      "text/plain": [
       "<Figure size 640x480 with 1 Axes>"
      ]
     },
     "metadata": {},
     "output_type": "display_data"
    }
   ],
   "source": [
    "df['reviewRating'].plot(kind = 'density')"
   ]
  },
  {
   "cell_type": "markdown",
   "metadata": {},
   "source": [
    "### As the skewness of each of the numerical columns is very less (almost negligible), the skewness is not shown properly on the graphs"
   ]
  },
  {
   "cell_type": "markdown",
   "metadata": {},
   "source": [
    "### Density plot for all numerical values"
   ]
  },
  {
   "cell_type": "code",
   "execution_count": 15,
   "metadata": {},
   "outputs": [
    {
     "data": {
      "text/plain": [
       "<AxesSubplot: ylabel='Density'>"
      ]
     },
     "execution_count": 15,
     "metadata": {},
     "output_type": "execute_result"
    },
    {
     "data": {
      "image/png": "[encoded data removed]",
      "text/plain": [
       "<Figure size 2500x1000 with 1 Axes>"
      ]
     },
     "metadata": {},
     "output_type": "display_data"
    }
   ],
   "source": [
    "df.plot.density(figsize = (25, 10),linewidth = 3)"
   ]
  },
  {
   "cell_type": "markdown",
   "metadata": {},
   "source": [
    "### Kurtosis"
   ]
  },
  {
   "cell_type": "code",
   "execution_count": 17,
   "metadata": {},
   "outputs": [
    {
     "data": {
      "text/plain": [
       "reviewRating     -1.289290\n",
       "ratingMaxvalue    0.000000\n",
       "dateCreated      -0.069791\n",
       "dtype: float64"
      ]
     },
     "execution_count": 17,
     "metadata": {},
     "output_type": "execute_result"
    }
   ],
   "source": [
    "df.kurt()"
   ]
  },
  {
   "cell_type": "markdown",
   "metadata": {},
   "source": [
    "### InterQuartile Ranges"
   ]
  },
  {
   "cell_type": "code",
   "execution_count": 18,
   "metadata": {},
   "outputs": [
    {
     "name": "stdout",
     "output_type": "stream",
     "text": [
      "IQR of reviewRating : 3\n",
      "IQR of ratingMaxvalue : 0\n",
      "IQR of dateCreated : 3\n"
     ]
    }
   ],
   "source": [
    "for col in numeric_data.columns:\n",
    "    Q1 = df[col].quantile(.25)\n",
    "    Q3 = df[col].quantile(.75)\n",
    "    IQR = Q3 - Q1\n",
    "    print('IQR of %s : %d' %(col,IQR))"
   ]
  },
  {
   "cell_type": "markdown",
   "metadata": {},
   "source": [
    "### Mean Absolute Deviation\n",
    "The mean absolute deviation of a dataset is the average distance between each data point and the mean. It gives us an idea about the variability in a dataset."
   ]
  },
  {
   "cell_type": "code",
   "execution_count": 19,
   "metadata": {},
   "outputs": [
    {
     "data": {
      "text/plain": [
       "reviewRating      1.370877\n",
       "ratingMaxvalue    0.000000\n",
       "dateCreated       1.940048\n",
       "dtype: float64"
      ]
     },
     "execution_count": 19,
     "metadata": {},
     "output_type": "execute_result"
    }
   ],
   "source": [
    "df.mad()"
   ]
  },
  {
   "cell_type": "markdown",
   "metadata": {},
   "source": [
    "### Confidence Interval"
   ]
  },
  {
   "cell_type": "code",
   "execution_count": 20,
   "metadata": {},
   "outputs": [],
   "source": [
    "import numpy as np\n",
    "import scipy.stats\n",
    "\n",
    "\n",
    "def mean_confidence_interval(data, confidence=0.95):\n",
    "    a = 1.0 * np.array(data)\n",
    "    n = len(a)\n",
    "    m, se = np.mean(a), scipy.stats.sem(a)\n",
    "    h = se * scipy.stats.t.ppf((1 + confidence) / 2., n-1)\n",
    "    return m, m-h, m+h"
   ]
  },
  {
   "cell_type": "code",
   "execution_count": 21,
   "metadata": {},
   "outputs": [
    {
     "name": "stdout",
     "output_type": "stream",
     "text": [
      "(nan, nan, nan)\n"
     ]
    }
   ],
   "source": [
    "print(mean_confidence_interval(df['reviewRating'], confidence=0.95))"
   ]
  },
  {
   "cell_type": "markdown",
   "metadata": {},
   "source": [
    "### Z-Scores"
   ]
  },
  {
   "cell_type": "code",
   "execution_count": 22,
   "metadata": {},
   "outputs": [
    {
     "data": {
      "text/html": [
       "<div>\n",
       "<style scoped>\n",
       "    .dataframe tbody tr th:only-of-type {\n",
       "        vertical-align: middle;\n",
       "    }\n",
       "\n",
       "    .dataframe tbody tr th {\n",
       "        vertical-align: top;\n",
       "    }\n",
       "\n",
       "    .dataframe thead th {\n",
       "        text-align: right;\n",
       "    }\n",
       "</style>\n",
       "<table border=\"1\" class=\"dataframe\">\n",
       "  <thead>\n",
       "    <tr style=\"text-align: right;\">\n",
       "      <th></th>\n",
       "      <th>reviewRating</th>\n",
       "      <th>ratingMaxvalue</th>\n",
       "      <th>dateCreated</th>\n",
       "    </tr>\n",
       "  </thead>\n",
       "  <tbody>\n",
       "    <tr>\n",
       "      <th>0</th>\n",
       "      <td>NaN</td>\n",
       "      <td>NaN</td>\n",
       "      <td>-0.912727</td>\n",
       "    </tr>\n",
       "    <tr>\n",
       "      <th>1</th>\n",
       "      <td>NaN</td>\n",
       "      <td>NaN</td>\n",
       "      <td>-0.912727</td>\n",
       "    </tr>\n",
       "    <tr>\n",
       "      <th>2</th>\n",
       "      <td>NaN</td>\n",
       "      <td>NaN</td>\n",
       "      <td>-0.912727</td>\n",
       "    </tr>\n",
       "    <tr>\n",
       "      <th>3</th>\n",
       "      <td>NaN</td>\n",
       "      <td>NaN</td>\n",
       "      <td>-0.912727</td>\n",
       "    </tr>\n",
       "    <tr>\n",
       "      <th>4</th>\n",
       "      <td>NaN</td>\n",
       "      <td>NaN</td>\n",
       "      <td>-0.912727</td>\n",
       "    </tr>\n",
       "    <tr>\n",
       "      <th>...</th>\n",
       "      <td>...</td>\n",
       "      <td>...</td>\n",
       "      <td>...</td>\n",
       "    </tr>\n",
       "    <tr>\n",
       "      <th>328</th>\n",
       "      <td>NaN</td>\n",
       "      <td>NaN</td>\n",
       "      <td>0.339765</td>\n",
       "    </tr>\n",
       "    <tr>\n",
       "      <th>329</th>\n",
       "      <td>NaN</td>\n",
       "      <td>NaN</td>\n",
       "      <td>0.757262</td>\n",
       "    </tr>\n",
       "    <tr>\n",
       "      <th>330</th>\n",
       "      <td>NaN</td>\n",
       "      <td>NaN</td>\n",
       "      <td>0.757262</td>\n",
       "    </tr>\n",
       "    <tr>\n",
       "      <th>331</th>\n",
       "      <td>NaN</td>\n",
       "      <td>NaN</td>\n",
       "      <td>0.339765</td>\n",
       "    </tr>\n",
       "    <tr>\n",
       "      <th>332</th>\n",
       "      <td>NaN</td>\n",
       "      <td>NaN</td>\n",
       "      <td>0.757262</td>\n",
       "    </tr>\n",
       "  </tbody>\n",
       "</table>\n",
       "<p>333 rows × 3 columns</p>\n",
       "</div>"
      ],
      "text/plain": [
       "     reviewRating  ratingMaxvalue  dateCreated\n",
       "0             NaN             NaN    -0.912727\n",
       "1             NaN             NaN    -0.912727\n",
       "2             NaN             NaN    -0.912727\n",
       "3             NaN             NaN    -0.912727\n",
       "4             NaN             NaN    -0.912727\n",
       "..            ...             ...          ...\n",
       "328           NaN             NaN     0.339765\n",
       "329           NaN             NaN     0.757262\n",
       "330           NaN             NaN     0.757262\n",
       "331           NaN             NaN     0.339765\n",
       "332           NaN             NaN     0.757262\n",
       "\n",
       "[333 rows x 3 columns]"
      ]
     },
     "execution_count": 22,
     "metadata": {},
     "output_type": "execute_result"
    }
   ],
   "source": [
    "import scipy.stats as stats\n",
    "z_scores = stats.zscore(numeric_data)\n",
    "z_scores"
   ]
  },
  {
   "cell_type": "code",
   "execution_count": 23,
   "metadata": {},
   "outputs": [
    {
     "data": {
      "text/plain": [
       "<AxesSubplot: >"
      ]
     },
     "execution_count": 23,
     "metadata": {},
     "output_type": "execute_result"
    },
    {
     "data": {
      "image/png": "[encoded data removed]",
      "text/plain": [
       "<Figure size 2000x1000 with 1 Axes>"
      ]
     },
     "metadata": {},
     "output_type": "display_data"
    }
   ],
   "source": [
    "plt.figure(figsize = (20, 10))\n",
    "sns.boxplot(data = df)"
   ]
  },
  {
   "cell_type": "code",
   "execution_count": 24,
   "metadata": {},
   "outputs": [
    {
     "data": {
      "image/png": "[encoded data removed]",
      "text/plain": [
       "<Figure size 640x480 with 1 Axes>"
      ]
     },
     "metadata": {},
     "output_type": "display_data"
    }
   ],
   "source": [
    "sns.boxplot(df['reviewRating'])\n",
    "plt.title('Boxplot before removing Outliers')\n",
    "plt.show()"
   ]
  },
  {
   "cell_type": "code",
   "execution_count": 26,
   "metadata": {},
   "outputs": [
    {
     "data": {
      "image/png": "[encoded data removed]",
      "text/plain": [
       "<Figure size 640x480 with 1 Axes>"
      ]
     },
     "metadata": {},
     "output_type": "display_data"
    }
   ],
   "source": [
    "for i in df['reviewRating']:\n",
    "    q1 = df['reviewRating'].quantile(0.25)\n",
    "    q3 = df['reviewRating'].quantile(0.75)\n",
    "    iqr = q3-q1\n",
    "    lower_tail = q1 - 1.5*iqr\n",
    "    upper_tail = q3 + 1.5*iqr\n",
    "    \n",
    "    if i>upper_tail or i<lower_tail:\n",
    "        df['reviewRating'] = df['reviewRating'].replace(i,0)\n",
    "        \n",
    "sns.boxplot(df['reviewRating'])\n",
    "plt.title('Boxplot after removing Outliers')\n",
    "plt.show()"
   ]
  }
 ],
 "metadata": {
  "kernelspec": {
   "display_name": "Python 3.9.12 64-bit",
   "language": "python",
   "name": "python3"
  },
  "language_info": {
   "codemirror_mode": {
    "name": "ipython",
    "version": 3
   },
   "file_extension": ".py",
   "mimetype": "text/x-python",
   "name": "python",
   "nbconvert_exporter": "python",
   "pygments_lexer": "ipython3",
   "version": "3.9.12"
  },
  "orig_nbformat": 4,
  "vscode": {
   "interpreter": {
    "hash": "74896034db1845be5000ed9314487ee297f444d1b9bf6f172497bb9704b8efa0"
   }
  }
 },
 "nbformat": 4,
 "nbformat_minor": 2
}
