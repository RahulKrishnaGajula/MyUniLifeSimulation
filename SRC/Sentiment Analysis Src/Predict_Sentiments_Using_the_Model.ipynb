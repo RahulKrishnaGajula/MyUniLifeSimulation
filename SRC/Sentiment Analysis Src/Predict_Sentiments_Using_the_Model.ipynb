{
  "cells": [
    {
      "cell_type": "markdown",
      "metadata": {
        "id": "mxW7yuHWHx1g"
      },
      "source": [
        "###Importing libraries"
      ]
    },
    {
      "cell_type": "code",
      "execution_count": 1,
      "metadata": {
        "id": "75gBF0VQLkwq"
      },
      "outputs": [],
      "source": [
        "import numpy as np\n",
        "import pandas as pd"
      ]
    },
    {
      "cell_type": "code",
      "execution_count": 2,
      "metadata": {
        "colab": {
          "base_uri": "https://localhost:8080/",
          "height": 206
        },
        "id": "y_R4RGLWLnGz",
        "outputId": "0d461a70-4fe1-4f66-d277-4c91a174f37f"
      },
      "outputs": [
        {
          "data": {
            "text/html": [
              "<div>\n",
              "<style scoped>\n",
              "    .dataframe tbody tr th:only-of-type {\n",
              "        vertical-align: middle;\n",
              "    }\n",
              "\n",
              "    .dataframe tbody tr th {\n",
              "        vertical-align: top;\n",
              "    }\n",
              "\n",
              "    .dataframe thead th {\n",
              "        text-align: right;\n",
              "    }\n",
              "</style>\n",
              "<table border=\"1\" class=\"dataframe\">\n",
              "  <thead>\n",
              "    <tr style=\"text-align: right;\">\n",
              "      <th></th>\n",
              "      <th>Unnamed: 0.1</th>\n",
              "      <th>Unnamed: 0</th>\n",
              "      <th>author</th>\n",
              "      <th>reviewBody</th>\n",
              "      <th>reviewRating</th>\n",
              "      <th>ratingMaxvalue</th>\n",
              "      <th>dateCreated</th>\n",
              "      <th>reviewUrl</th>\n",
              "      <th>reviewSource</th>\n",
              "      <th>name</th>\n",
              "      <th>address</th>\n",
              "      <th>Sentiment</th>\n",
              "    </tr>\n",
              "  </thead>\n",
              "  <tbody>\n",
              "    <tr>\n",
              "      <th>0</th>\n",
              "      <td>0</td>\n",
              "      <td>0</td>\n",
              "      <td>Dermot Dunne</td>\n",
              "      <td>Stunning new university campus near Dublin cit...</td>\n",
              "      <td>5.0</td>\n",
              "      <td>5.0</td>\n",
              "      <td>2014</td>\n",
              "      <td>https://www.google.com/maps/contrib/1172180627...</td>\n",
              "      <td>www.google.com</td>\n",
              "      <td>TU Dublin, Aungier Street</td>\n",
              "      <td>TU Dublin, Aungier Street</td>\n",
              "      <td>NaN</td>\n",
              "    </tr>\n",
              "    <tr>\n",
              "      <th>1</th>\n",
              "      <td>1</td>\n",
              "      <td>1</td>\n",
              "      <td>jorge garcia rey</td>\n",
              "      <td>Great campus to go for a walk, and with a coup...</td>\n",
              "      <td>5.0</td>\n",
              "      <td>5.0</td>\n",
              "      <td>2014</td>\n",
              "      <td>https://www.google.com/maps/contrib/1018313073...</td>\n",
              "      <td>www.google.com</td>\n",
              "      <td>TU Dublin, Aungier Street</td>\n",
              "      <td>TU Dublin, Aungier Street</td>\n",
              "      <td>NaN</td>\n",
              "    </tr>\n",
              "    <tr>\n",
              "      <th>2</th>\n",
              "      <td>2</td>\n",
              "      <td>2</td>\n",
              "      <td>Omar Nicolai</td>\n",
              "      <td>I know this building has over 200 years of var...</td>\n",
              "      <td>5.0</td>\n",
              "      <td>5.0</td>\n",
              "      <td>2014</td>\n",
              "      <td>https://www.google.com/maps/contrib/1069724274...</td>\n",
              "      <td>www.google.com</td>\n",
              "      <td>TU Dublin, Aungier Street</td>\n",
              "      <td>TU Dublin, Aungier Street</td>\n",
              "      <td>NaN</td>\n",
              "    </tr>\n",
              "    <tr>\n",
              "      <th>3</th>\n",
              "      <td>3</td>\n",
              "      <td>3</td>\n",
              "      <td>ruth connolly</td>\n",
              "      <td>Great place to sit or exercise. Well kept safe...</td>\n",
              "      <td>5.0</td>\n",
              "      <td>5.0</td>\n",
              "      <td>2014</td>\n",
              "      <td>https://www.google.com/maps/contrib/1090465921...</td>\n",
              "      <td>www.google.com</td>\n",
              "      <td>TU Dublin, Aungier Street</td>\n",
              "      <td>TU Dublin, Aungier Street</td>\n",
              "      <td>NaN</td>\n",
              "    </tr>\n",
              "    <tr>\n",
              "      <th>4</th>\n",
              "      <td>4</td>\n",
              "      <td>4</td>\n",
              "      <td>Fintan Moloney</td>\n",
              "      <td>Nice college grounds area for walking, jogging...</td>\n",
              "      <td>5.0</td>\n",
              "      <td>5.0</td>\n",
              "      <td>2014</td>\n",
              "      <td>https://www.google.com/maps/contrib/1052988761...</td>\n",
              "      <td>www.google.com</td>\n",
              "      <td>TU Dublin, Aungier Street</td>\n",
              "      <td>TU Dublin, Aungier Street</td>\n",
              "      <td>NaN</td>\n",
              "    </tr>\n",
              "  </tbody>\n",
              "</table>\n",
              "</div>"
            ],
            "text/plain": [
              "   Unnamed: 0.1  Unnamed: 0            author  \\\n",
              "0             0           0      Dermot Dunne   \n",
              "1             1           1  jorge garcia rey   \n",
              "2             2           2      Omar Nicolai   \n",
              "3             3           3     ruth connolly   \n",
              "4             4           4    Fintan Moloney   \n",
              "\n",
              "                                          reviewBody  reviewRating  \\\n",
              "0  Stunning new university campus near Dublin cit...           5.0   \n",
              "1  Great campus to go for a walk, and with a coup...           5.0   \n",
              "2  I know this building has over 200 years of var...           5.0   \n",
              "3  Great place to sit or exercise. Well kept safe...           5.0   \n",
              "4  Nice college grounds area for walking, jogging...           5.0   \n",
              "\n",
              "  ratingMaxvalue dateCreated  \\\n",
              "0            5.0        2014   \n",
              "1            5.0        2014   \n",
              "2            5.0        2014   \n",
              "3            5.0        2014   \n",
              "4            5.0        2014   \n",
              "\n",
              "                                           reviewUrl    reviewSource  \\\n",
              "0  https://www.google.com/maps/contrib/1172180627...  www.google.com   \n",
              "1  https://www.google.com/maps/contrib/1018313073...  www.google.com   \n",
              "2  https://www.google.com/maps/contrib/1069724274...  www.google.com   \n",
              "3  https://www.google.com/maps/contrib/1090465921...  www.google.com   \n",
              "4  https://www.google.com/maps/contrib/1052988761...  www.google.com   \n",
              "\n",
              "                        name                    address  Sentiment  \n",
              "0  TU Dublin, Aungier Street  TU Dublin, Aungier Street        NaN  \n",
              "1  TU Dublin, Aungier Street  TU Dublin, Aungier Street        NaN  \n",
              "2  TU Dublin, Aungier Street  TU Dublin, Aungier Street        NaN  \n",
              "3  TU Dublin, Aungier Street  TU Dublin, Aungier Street        NaN  \n",
              "4  TU Dublin, Aungier Street  TU Dublin, Aungier Street        NaN  "
            ]
          },
          "execution_count": 2,
          "metadata": {},
          "output_type": "execute_result"
        }
      ],
      "source": [
        "dataset = pd.read_csv('reviewsFinal.csv')\n",
        "dataset.head()"
      ]
    },
    {
      "cell_type": "code",
      "execution_count": 3,
      "metadata": {},
      "outputs": [],
      "source": [
        "dataset=dataset.drop(['Sentiment','Unnamed: 0', 'Unnamed: 0.1'],axis=1)"
      ]
    },
    {
      "cell_type": "markdown",
      "metadata": {
        "id": "uoeOTsSaIeVz"
      },
      "source": [
        "###Data cleaning"
      ]
    },
    {
      "cell_type": "code",
      "execution_count": 4,
      "metadata": {
        "colab": {
          "base_uri": "https://localhost:8080/"
        },
        "id": "oWj2_42IL5r9",
        "outputId": "1f5bebd9-b80e-46aa-ba52-cf57ce73fa91"
      },
      "outputs": [
        {
          "name": "stderr",
          "output_type": "stream",
          "text": [
            "[nltk_data] Downloading package stopwords to\n",
            "[nltk_data]     C:\\Users\\rahul\\AppData\\Roaming\\nltk_data...\n",
            "[nltk_data]   Package stopwords is already up-to-date!\n"
          ]
        }
      ],
      "source": [
        "import re\n",
        "import nltk\n",
        "\n",
        "nltk.download('stopwords')\n",
        "\n",
        "from nltk.corpus import stopwords\n",
        "from nltk.stem.porter import PorterStemmer\n",
        "ps = PorterStemmer()\n",
        "\n",
        "all_stopwords = stopwords.words('english')\n",
        "all_stopwords.remove('not')"
      ]
    },
    {
      "cell_type": "code",
      "execution_count": 5,
      "metadata": {},
      "outputs": [
        {
          "data": {
            "text/plain": [
              "(570, 9)"
            ]
          },
          "execution_count": 5,
          "metadata": {},
          "output_type": "execute_result"
        }
      ],
      "source": [
        "dataset.shape"
      ]
    },
    {
      "cell_type": "code",
      "execution_count": 7,
      "metadata": {},
      "outputs": [],
      "source": [
        "dataset['reviewBody'] = dataset['reviewBody'].astype(str)"
      ]
    },
    {
      "cell_type": "code",
      "execution_count": 8,
      "metadata": {
        "id": "Qm9M5Rl5L8SO"
      },
      "outputs": [],
      "source": [
        "corpus=[]\n",
        "\n",
        "for i in range(0, 570):\n",
        "  review = re.sub('[^a-zA-Z]', ' ', dataset['reviewBody'][i])\n",
        "  review = review.lower()\n",
        "  review = review.split()\n",
        "  review = [ps.stem(word) for word in review if not word in set(all_stopwords)]\n",
        "  review = ' '.join(review)\n",
        "  corpus.append(review)"
      ]
    },
    {
      "cell_type": "markdown",
      "metadata": {
        "id": "ckl4L08VIuSu"
      },
      "source": [
        "###Data transformation"
      ]
    },
    {
      "cell_type": "code",
      "execution_count": 9,
      "metadata": {
        "id": "oLSZj9tyNkvh"
      },
      "outputs": [],
      "source": [
        "# Loading BoW dictionary\n",
        "from sklearn.feature_extraction.text import CountVectorizer\n",
        "import pickle\n",
        "cvFile='c1_BoW_Sentiment_Model.pkl'\n",
        "\n",
        "cv = pickle.load(open(cvFile, \"rb\"))\n"
      ]
    },
    {
      "cell_type": "code",
      "execution_count": 10,
      "metadata": {
        "colab": {
          "base_uri": "https://localhost:8080/"
        },
        "id": "GtND0ALQJiZS",
        "outputId": "13905979-4f15-41f4-e802-c5bbbd7d54d1"
      },
      "outputs": [
        {
          "data": {
            "text/plain": [
              "(570, 1420)"
            ]
          },
          "execution_count": 10,
          "metadata": {},
          "output_type": "execute_result"
        }
      ],
      "source": [
        "X_fresh = cv.transform(corpus).toarray()\n",
        "X_fresh.shape"
      ]
    },
    {
      "cell_type": "markdown",
      "metadata": {
        "id": "IUTUUa2WLwQF"
      },
      "source": [
        "###Predictions (via sentiment classifier)"
      ]
    },
    {
      "cell_type": "code",
      "execution_count": 11,
      "metadata": {
        "id": "HIiFYJBGNky6"
      },
      "outputs": [],
      "source": [
        "import joblib\n",
        "classifier = joblib.load('c2_Classifier_Sentiment_Model')"
      ]
    },
    {
      "cell_type": "code",
      "execution_count": 12,
      "metadata": {
        "colab": {
          "base_uri": "https://localhost:8080/"
        },
        "id": "xBuXLj9fOiLr",
        "outputId": "15d3f013-ba10-4e0e-f7f5-bfb3fa393314"
      },
      "outputs": [
        {
          "name": "stdout",
          "output_type": "stream",
          "text": [
            "[1 1 1 1 1 1 1 1 1 1 1 1 1 0 1 1 1 1 1 1 1 1 1 1 1 1 0 1 1 1 1 1 1 1 1 1 1\n",
            " 1 1 1 0 0 0 0 0 1 0 0 0 0 1 1 1 1 1 1 1 1 1 1 1 1 1 1 1 1 1 1 1 1 1 1 1 1\n",
            " 1 1 1 1 1 1 1 1 1 1 1 1 0 1 0 1 0 0 1 0 1 0 0 1 1 1 0 1 1 0 0 0 1 1 1 1 1\n",
            " 1 1 1 1 1 1 0 1 1 0 1 1 1 1 1 1 1 1 1 1 1 1 1 1 1 1 1 1 1 1 1 1 1 1 1 1 1\n",
            " 1 0 1 1 0 1 1 1 1 1 0 1 0 1 0 1 1 1 1 1 1 1 1 1 1 0 0 0 0 0 0 0 1 1 1 0 1\n",
            " 0 0 0 0 0 0 0 0 0 1 1 0 0 0 0 0 0 0 1 1 1 1 1 1 1 1 1 0 1 1 0 1 1 1 1 1 1\n",
            " 1 1 1 1 1 1 1 1 1 1 1 1 1 1 1 1 0 1 1 1 1 1 0 0 0 0 1 1 1 1 1 0 1 1 1 0 1\n",
            " 1 1 1 1 1 1 1 1 1 1 1 1 1 1 0 0 0 0 0 0 0 1 1 1 1 0 0 0 0 1 0 0 0 1 0 0 0\n",
            " 0 1 0 0 0 1 0 0 0 0 0 0 0 0 0 0 0 1 1 1 0 1 0 0 1 0 1 0 1 1 1 1 0 0 0 0 0\n",
            " 1 1 1 1 1 1 1 1 1 1 1 1 1 1 1 1 1 1 1 1 0 0 0 0 1 0 0 0 1 1 1 0 0 0 1 1 0\n",
            " 0 0 0 1 1 0 1 0 1 1 0 0 1 0 1 1 0 1 1 1 1 0 0 1 1 0 0 1 1 0 1 1 1 1 1 1 1\n",
            " 1 1 1 0 1 1 1 1 0 1 1 1 1 1 1 0 1 0 0 1 1 1 1 1 1 1 1 1 0 1 1 1 0 1 1 1 1\n",
            " 1 1 0 1 1 1 1 0 1 1 1 1 0 0 0 1 1 1 1 1 1 1 0 1 1 1 1 1 1 1 1 1 1 1 1 1 1\n",
            " 1 1 1 0 1 1 1 1 1 1 1 1 1 1 1 1 1 1 1 1 1 1 1 1 1 1 1 1 1 1 1 1 1 1 1 1 1\n",
            " 1 0 1 1 1 1 1 1 1 1 1 1 1 1 1 1 1 1 1 1 1 1 1 0 1 1 1 1 0 1 1 1 1 1 1 1 1\n",
            " 1 1 1 1 1 1 1 1 1 1 1 1 1 1 1]\n"
          ]
        }
      ],
      "source": [
        "y_pred = classifier.predict(X_fresh)\n",
        "print(y_pred)"
      ]
    },
    {
      "cell_type": "code",
      "execution_count": 13,
      "metadata": {
        "colab": {
          "base_uri": "https://localhost:8080/",
          "height": 206
        },
        "id": "ZNYiLBT_Pmtg",
        "outputId": "76ad3dd5-d98b-4124-a60f-b74914049189"
      },
      "outputs": [
        {
          "data": {
            "text/html": [
              "<div>\n",
              "<style scoped>\n",
              "    .dataframe tbody tr th:only-of-type {\n",
              "        vertical-align: middle;\n",
              "    }\n",
              "\n",
              "    .dataframe tbody tr th {\n",
              "        vertical-align: top;\n",
              "    }\n",
              "\n",
              "    .dataframe thead th {\n",
              "        text-align: right;\n",
              "    }\n",
              "</style>\n",
              "<table border=\"1\" class=\"dataframe\">\n",
              "  <thead>\n",
              "    <tr style=\"text-align: right;\">\n",
              "      <th></th>\n",
              "      <th>author</th>\n",
              "      <th>reviewBody</th>\n",
              "      <th>reviewRating</th>\n",
              "      <th>ratingMaxvalue</th>\n",
              "      <th>dateCreated</th>\n",
              "      <th>reviewUrl</th>\n",
              "      <th>reviewSource</th>\n",
              "      <th>name</th>\n",
              "      <th>address</th>\n",
              "      <th>predicted_label</th>\n",
              "    </tr>\n",
              "  </thead>\n",
              "  <tbody>\n",
              "    <tr>\n",
              "      <th>565</th>\n",
              "      <td>Maire</td>\n",
              "      <td>Like Dani I feel the need to defend UCD. yes y...</td>\n",
              "      <td>3.0</td>\n",
              "      <td>Tiffany T.</td>\n",
              "      <td>2013</td>\n",
              "      <td>https://www.yelp.com/biz/ucd-belfield-2?osq=UCD</td>\n",
              "      <td>Yelp</td>\n",
              "      <td>UCD</td>\n",
              "      <td>UCD Belfield</td>\n",
              "      <td>1</td>\n",
              "    </tr>\n",
              "    <tr>\n",
              "      <th>566</th>\n",
              "      <td>Austen</td>\n",
              "      <td>I spent a semester abroad at UCD, and it was t...</td>\n",
              "      <td>5.0</td>\n",
              "      <td>Tiffany T.</td>\n",
              "      <td>2013</td>\n",
              "      <td>https://www.yelp.com/biz/ucd-belfield-2?osq=UCD</td>\n",
              "      <td>Yelp</td>\n",
              "      <td>UCD</td>\n",
              "      <td>UCD Belfield</td>\n",
              "      <td>1</td>\n",
              "    </tr>\n",
              "    <tr>\n",
              "      <th>567</th>\n",
              "      <td>Nathan</td>\n",
              "      <td>The campus is functional, but not pretty. Most...</td>\n",
              "      <td>2.0</td>\n",
              "      <td>Tiffany T.</td>\n",
              "      <td>2013</td>\n",
              "      <td>https://www.yelp.com/biz/ucd-belfield-2?osq=UCD</td>\n",
              "      <td>Yelp</td>\n",
              "      <td>UCD</td>\n",
              "      <td>UCD Belfield</td>\n",
              "      <td>1</td>\n",
              "    </tr>\n",
              "    <tr>\n",
              "      <th>568</th>\n",
              "      <td>Dani</td>\n",
              "      <td>Reading the previous reviews I feel like I hav...</td>\n",
              "      <td>3.0</td>\n",
              "      <td>Tiffany T.</td>\n",
              "      <td>2013</td>\n",
              "      <td>https://www.yelp.com/biz/ucd-belfield-2?osq=UCD</td>\n",
              "      <td>Yelp</td>\n",
              "      <td>UCD</td>\n",
              "      <td>UCD Belfield</td>\n",
              "      <td>1</td>\n",
              "    </tr>\n",
              "    <tr>\n",
              "      <th>569</th>\n",
              "      <td>Laura</td>\n",
              "      <td>I honestly don't understand how in the world p...</td>\n",
              "      <td>3.0</td>\n",
              "      <td>Tiffany T.</td>\n",
              "      <td>2013</td>\n",
              "      <td>https://www.yelp.com/biz/ucd-belfield-2?osq=UCD</td>\n",
              "      <td>Yelp</td>\n",
              "      <td>UCD</td>\n",
              "      <td>UCD Belfield</td>\n",
              "      <td>1</td>\n",
              "    </tr>\n",
              "  </tbody>\n",
              "</table>\n",
              "</div>"
            ],
            "text/plain": [
              "     author                                         reviewBody  reviewRating  \\\n",
              "565   Maire  Like Dani I feel the need to defend UCD. yes y...           3.0   \n",
              "566  Austen  I spent a semester abroad at UCD, and it was t...           5.0   \n",
              "567  Nathan  The campus is functional, but not pretty. Most...           2.0   \n",
              "568    Dani  Reading the previous reviews I feel like I hav...           3.0   \n",
              "569   Laura  I honestly don't understand how in the world p...           3.0   \n",
              "\n",
              "    ratingMaxvalue dateCreated  \\\n",
              "565     Tiffany T.        2013   \n",
              "566     Tiffany T.        2013   \n",
              "567     Tiffany T.        2013   \n",
              "568     Tiffany T.        2013   \n",
              "569     Tiffany T.        2013   \n",
              "\n",
              "                                           reviewUrl reviewSource name  \\\n",
              "565  https://www.yelp.com/biz/ucd-belfield-2?osq=UCD         Yelp  UCD   \n",
              "566  https://www.yelp.com/biz/ucd-belfield-2?osq=UCD         Yelp  UCD   \n",
              "567  https://www.yelp.com/biz/ucd-belfield-2?osq=UCD         Yelp  UCD   \n",
              "568  https://www.yelp.com/biz/ucd-belfield-2?osq=UCD         Yelp  UCD   \n",
              "569  https://www.yelp.com/biz/ucd-belfield-2?osq=UCD         Yelp  UCD   \n",
              "\n",
              "          address  predicted_label  \n",
              "565  UCD Belfield                1  \n",
              "566  UCD Belfield                1  \n",
              "567  UCD Belfield                1  \n",
              "568  UCD Belfield                1  \n",
              "569  UCD Belfield                1  "
            ]
          },
          "execution_count": 13,
          "metadata": {},
          "output_type": "execute_result"
        }
      ],
      "source": [
        "dataset['predicted_label'] = y_pred.tolist()\n",
        "dataset.tail()"
      ]
    },
    {
      "cell_type": "code",
      "execution_count": 11,
      "metadata": {
        "id": "kjqkqbDmW5Ko"
      },
      "outputs": [],
      "source": []
    }
  ],
  "metadata": {
    "colab": {
      "provenance": []
    },
    "kernelspec": {
      "display_name": "Python 3.9.12 64-bit",
      "language": "python",
      "name": "python3"
    },
    "language_info": {
      "codemirror_mode": {
        "name": "ipython",
        "version": 3
      },
      "file_extension": ".py",
      "mimetype": "text/x-python",
      "name": "python",
      "nbconvert_exporter": "python",
      "pygments_lexer": "ipython3",
      "version": "3.9.12"
    },
    "vscode": {
      "interpreter": {
        "hash": "74896034db1845be5000ed9314487ee297f444d1b9bf6f172497bb9704b8efa0"
      }
    }
  },
  "nbformat": 4,
  "nbformat_minor": 0
}
