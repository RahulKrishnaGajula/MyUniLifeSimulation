{
 "cells": [
  {
   "cell_type": "code",
   "execution_count": 1,
   "id": "67cafc96-4c38-45ad-8d22-053af67e70aa",
   "metadata": {},
   "outputs": [],
   "source": [
    "import pandas as pd\n",
    "import numpy as np\n",
    "from sklearn.preprocessing import LabelEncoder\n",
    "from sklearn.svm import SVC\n",
    "import pickle\n",
    "from sklearn.metrics.pairwise import cosine_similarity\n",
    "from flask import Flask\n",
    "import secrets\n",
    "from flask import render_template, request, redirect, flash"
   ]
  },
  {
   "cell_type": "code",
   "execution_count": 2,
   "id": "794bf160-b729-46fb-97f0-f40aa95f3eb6",
   "metadata": {},
   "outputs": [],
   "source": [
    "df = pd.read_excel('Recommender_Dataset.xlsx')\n",
    "#df"
   ]
  },
  {
   "cell_type": "code",
   "execution_count": 3,
   "id": "32d8e570-f18a-4c3a-8c17-a6d2ac0249dd",
   "metadata": {},
   "outputs": [],
   "source": [
    "def finalList(df):\n",
    "    y = df.drop(columns = ['CAO opening rank','CAO closing rank','Budget','City','Interest','Job domain'])\n",
    "    X = df.drop(columns = ['University', 'Course Name'])\n",
    "    cityle = LabelEncoder()\n",
    "    X['City']=cityle.fit_transform(X['City'])\n",
    "    intle =  LabelEncoder()\n",
    "    X['Interest']=intle.fit_transform(X['Interest'])\n",
    "    jdle = LabelEncoder()\n",
    "    X['Job domain']=jdle.fit_transform(X['Job domain'])\n",
    "    ule = LabelEncoder()\n",
    "    cle = LabelEncoder()\n",
    "    y['University'] = ule.fit_transform(y['University'])\n",
    "    y['Course Name'] = cle.fit_transform(y['Course Name'])\n",
    "    return X,y,ule,cle,cityle,intle,jdle"
   ]
  },
  {
   "cell_type": "code",
   "execution_count": 4,
   "id": "e9181ff2-21ff-4c41-ad70-c52a5b1eeb87",
   "metadata": {},
   "outputs": [],
   "source": [
    "def similarCourses(query,X,y,ule,cle):\n",
    "    print(query)\n",
    "    X = X.drop(columns = ['Budget','City','Interest','Job domain'])\n",
    "    dfDense = cosine_similarity(X,query)\n",
    "    sortedCS = np.zeros(len(dfDense), dtype = 'float')\n",
    "    \n",
    "    for i in range(0,len(dfDense)):\n",
    "        sortedCS[i] = dfDense[i][0]\n",
    "    \n",
    "    sortedCS = np.sort(sortedCS)\n",
    "    sortedCS = np.flip(sortedCS)\n",
    "    \n",
    "    topTen = sortedCS[0:10]\n",
    "    \n",
    "    topTenRec = []\n",
    "    \n",
    "\n",
    "    for i in range(0,len(dfDense)):\n",
    "        for j in range(0,len(topTen)):\n",
    "            if topTen[j] == dfDense[i]:\n",
    "                topTenRec.append(j)\n",
    "    \n",
    "    result = pd.DataFrame(columns = ['courses','universities'])\n",
    "    result['courses'] = cle.inverse_transform(y['Course Name'][topTenRec])\n",
    "    result['universities'] = ule.inverse_transform(y['University'][topTenRec])\n",
    "    #result['budget']  = X['Budget'][topTenRec]\n",
    "    return result"
   ]
  },
  {
   "cell_type": "code",
   "execution_count": 5,
   "id": "e9f3bdf5-2b4c-42be-9fbf-531bd77e7091",
   "metadata": {},
   "outputs": [],
   "source": [
    "app = Flask(__name__)\n",
    "@app.route(\"/\", methods=[\"GET\",\"POST\"])\n",
    "def index():\n",
    "\n",
    "    secret_key=secrets.token_hex(16)\n",
    "    app.config[\"SECRET_KEY\"] = secret_key\n",
    "    budget = [2000,4000,8000]\n",
    "    df = pd.read_excel('Recommender_Dataset.xlsx')\n",
    "    X,y,ule,cle,cityle,intle,jdle = finalList(df)\n",
    "    \n",
    "    if(request.method == \"POST\"):\n",
    "        req = request.form\n",
    "\n",
    "        percentile = req[\"percentile\"]\n",
    "        rank = req[\"rank\"]\n",
    "        state = req[\"state\"]\n",
    "        pwd = req[\"pwd\"]\n",
    "        gender = req[\"gender\"]\n",
    "        category = req[\"category\"]\n",
    "        sortby = str(req[\"sortby\"])\n",
    "        print(state)\n",
    "        query = np.array([rank,625]).reshape(1,-1)\n",
    "        result = similarCourses(query,X,y,ule,cle)\n",
    "        \n",
    "        return render_template(\"public/result.html\",tables=[result.to_html(classes='data')], titles=result.columns.values)\n",
    "\n",
    "    return render_template(\"public/index.html\")"
   ]
  },
  {
   "cell_type": "code",
   "execution_count": null,
   "id": "423fb77e-e0bd-498e-b84e-d544006d6a5f",
   "metadata": {},
   "outputs": [
    {
     "name": "stdout",
     "output_type": "stream",
     "text": [
      " * Serving Flask app \"__main__\" (lazy loading)\n",
      " * Environment: production\n",
      "\u001b[31m   WARNING: This is a development server. Do not use it in a production deployment.\u001b[0m\n",
      "\u001b[2m   Use a production WSGI server instead.\u001b[0m\n",
      " * Debug mode: off\n"
     ]
    },
    {
     "name": "stderr",
     "output_type": "stream",
     "text": [
      " * Running on http://127.0.0.1:5000/ (Press CTRL+C to quit)\n",
      "127.0.0.1 - - [10/Nov/2022 13:07:22] \"POST / HTTP/1.1\" 200 -\n"
     ]
    },
    {
     "name": "stdout",
     "output_type": "stream",
     "text": [
      "Dundalk\n",
      "[['601' '625']]\n"
     ]
    }
   ],
   "source": [
    "if __name__ == '__main__':\n",
    "    \n",
    "    app.run()"
   ]
  }
 ],
 "metadata": {
  "kernelspec": {
   "display_name": "Python 3 (ipykernel)",
   "language": "python",
   "name": "python3"
  },
  "language_info": {
   "codemirror_mode": {
    "name": "ipython",
    "version": 3
   },
   "file_extension": ".py",
   "mimetype": "text/x-python",
   "name": "python",
   "nbconvert_exporter": "python",
   "pygments_lexer": "ipython3",
   "version": "3.9.13"
  }
 },
 "nbformat": 4,
 "nbformat_minor": 5
}
