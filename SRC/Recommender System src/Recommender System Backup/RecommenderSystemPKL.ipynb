{
 "cells": [
  {
   "cell_type": "code",
   "execution_count": 42,
   "metadata": {
    "id": "a5xjJOf3PLdW"
   },
   "outputs": [],
   "source": [
    "import pandas as pd\n",
    "import numpy as np\n",
    "import matplotlib.pyplot as plt\n",
    "import seaborn as sns\n",
    "from sklearn.model_selection import train_test_split\n",
    "from sklearn.metrics import confusion_matrix,accuracy_score\n",
    "from sklearn import svm\n",
    "from sklearn.tree import DecisionTreeClassifier\n",
    "from sklearn.ensemble import RandomForestClassifier\n",
    "\n",
    "from sklearn.naive_bayes import GaussianNB\n",
    "import warnings\n",
    "warnings.filterwarnings(\"ignore\")"
   ]
  },
  {
   "cell_type": "code",
   "execution_count": 43,
   "metadata": {},
   "outputs": [
    {
     "data": {
      "text/plain": [
       "'c:\\\\Users\\\\rahul\\\\Desktop\\\\Group Project\\\\Repo\\\\MyUniLifeSimulation\\\\SRC\\\\Recommender System src\\\\Recommender System Backup'"
      ]
     },
     "execution_count": 43,
     "metadata": {},
     "output_type": "execute_result"
    }
   ],
   "source": [
    "pwd"
   ]
  },
  {
   "cell_type": "code",
   "execution_count": 44,
   "metadata": {
    "colab": {
     "base_uri": "https://localhost:8080/",
     "height": 206
    },
    "id": "Ko4PUniFPfpg",
    "outputId": "174af972-a8f3-41f8-a50e-3031d535be8b"
   },
   "outputs": [
    {
     "data": {
      "text/html": [
       "<div>\n",
       "<style scoped>\n",
       "    .dataframe tbody tr th:only-of-type {\n",
       "        vertical-align: middle;\n",
       "    }\n",
       "\n",
       "    .dataframe tbody tr th {\n",
       "        vertical-align: top;\n",
       "    }\n",
       "\n",
       "    .dataframe thead th {\n",
       "        text-align: right;\n",
       "    }\n",
       "</style>\n",
       "<table border=\"1\" class=\"dataframe\">\n",
       "  <thead>\n",
       "    <tr style=\"text-align: right;\">\n",
       "      <th></th>\n",
       "      <th>University</th>\n",
       "      <th>Course_Name</th>\n",
       "      <th>CAO Score</th>\n",
       "      <th>Budget</th>\n",
       "      <th>City</th>\n",
       "      <th>Interest</th>\n",
       "      <th>Job domain</th>\n",
       "    </tr>\n",
       "  </thead>\n",
       "  <tbody>\n",
       "    <tr>\n",
       "      <th>0</th>\n",
       "      <td>University College Dublin</td>\n",
       "      <td>Biomedical Engineering (DN150)</td>\n",
       "      <td>556</td>\n",
       "      <td>6000</td>\n",
       "      <td>Dublin</td>\n",
       "      <td>Cricket</td>\n",
       "      <td>IT</td>\n",
       "    </tr>\n",
       "    <tr>\n",
       "      <th>1</th>\n",
       "      <td>University College Dublin</td>\n",
       "      <td>Chem &amp; Bioprocess Engineering (NQS2)</td>\n",
       "      <td>528</td>\n",
       "      <td>5000</td>\n",
       "      <td>Dublin</td>\n",
       "      <td>Football</td>\n",
       "      <td>HR</td>\n",
       "    </tr>\n",
       "    <tr>\n",
       "      <th>2</th>\n",
       "      <td>University College Dublin</td>\n",
       "      <td>Civil Engineering (DN150)</td>\n",
       "      <td>551</td>\n",
       "      <td>4500</td>\n",
       "      <td>Dublin</td>\n",
       "      <td>Singing</td>\n",
       "      <td>Management</td>\n",
       "    </tr>\n",
       "    <tr>\n",
       "      <th>3</th>\n",
       "      <td>University College Dublin</td>\n",
       "      <td>Computer Science  (DN201)</td>\n",
       "      <td>542</td>\n",
       "      <td>3500</td>\n",
       "      <td>Dublin</td>\n",
       "      <td>Chess</td>\n",
       "      <td>Support</td>\n",
       "    </tr>\n",
       "    <tr>\n",
       "      <th>4</th>\n",
       "      <td>University College Dublin</td>\n",
       "      <td>Electrical/Electronics Engineering (DN150)</td>\n",
       "      <td>555</td>\n",
       "      <td>6500</td>\n",
       "      <td>Dublin</td>\n",
       "      <td>Athletics</td>\n",
       "      <td>Finance</td>\n",
       "    </tr>\n",
       "  </tbody>\n",
       "</table>\n",
       "</div>"
      ],
      "text/plain": [
       "                  University                                 Course_Name  \\\n",
       "0  University College Dublin              Biomedical Engineering (DN150)   \n",
       "1  University College Dublin        Chem & Bioprocess Engineering (NQS2)   \n",
       "2  University College Dublin                   Civil Engineering (DN150)   \n",
       "3  University College Dublin                   Computer Science  (DN201)   \n",
       "4  University College Dublin  Electrical/Electronics Engineering (DN150)   \n",
       "\n",
       "   CAO Score  Budget    City    Interest  Job domain  \n",
       "0        556    6000  Dublin     Cricket          IT  \n",
       "1        528    5000  Dublin    Football          HR  \n",
       "2        551    4500  Dublin     Singing  Management  \n",
       "3        542    3500  Dublin       Chess     Support  \n",
       "4        555    6500  Dublin  Athletics     Finance   "
      ]
     },
     "execution_count": 44,
     "metadata": {},
     "output_type": "execute_result"
    }
   ],
   "source": [
    "df = pd.read_csv('recommender_system_data.csv',encoding='cp1252')\n",
    "df.head()"
   ]
  },
  {
   "cell_type": "code",
   "execution_count": 45,
   "metadata": {
    "id": "4JfTHKTVQCUP"
   },
   "outputs": [],
   "source": [
    "df['University']=df['University'].str.strip()\n",
    "df['Course_Name']=df['Course_Name'].str.strip()\n",
    "df=df.drop(['University'], axis=1)\n",
    "df.rename(columns = {'CAO Score':'CAO_Score'}, inplace = True)\n",
    "df.rename(columns = {'Job domain':'Job_domain'}, inplace = True)"
   ]
  },
  {
   "cell_type": "code",
   "execution_count": 46,
   "metadata": {
    "id": "oDIwTb3DlB6u"
   },
   "outputs": [],
   "source": [
    "def CAO_SCORE(score):\n",
    "    if  (score >= 50)  and (score <250 ) :\n",
    "        return \"Low\"\n",
    "    elif  (score >= 250)  and (score <500 ) :\n",
    "        return \"Medium\"\n",
    "    elif (score >= 500):\n",
    "        return \"High\"\n",
    "    #else: return 'Neutral'\n",
    "\n",
    "df['CAO_Score'] = df['CAO_Score'].apply(CAO_SCORE)"
   ]
  },
  {
   "cell_type": "code",
   "execution_count": 47,
   "metadata": {
    "id": "vCCas75_oCYe"
   },
   "outputs": [],
   "source": [
    "def Budget(Budget):\n",
    "    if  (Budget >= 2000)  and (Budget <5000 ) :\n",
    "        return \"Low\"\n",
    "    elif  (Budget >= 5000)  and (Budget <7000 ) :\n",
    "        return \"Medium\"\n",
    "    elif (Budget >= 7000):\n",
    "        return \"High\"\n",
    "    #else: return 'Neutral'\n",
    "\n",
    "df['Budget'] = df['Budget'].apply(Budget)"
   ]
  },
  {
   "cell_type": "code",
   "execution_count": 48,
   "metadata": {
    "colab": {
     "base_uri": "https://localhost:8080/",
     "height": 206
    },
    "id": "VnHOY_7NQmel",
    "outputId": "6617f143-50d9-4333-cd6d-102975e9a8e1"
   },
   "outputs": [
    {
     "data": {
      "text/html": [
       "<div>\n",
       "<style scoped>\n",
       "    .dataframe tbody tr th:only-of-type {\n",
       "        vertical-align: middle;\n",
       "    }\n",
       "\n",
       "    .dataframe tbody tr th {\n",
       "        vertical-align: top;\n",
       "    }\n",
       "\n",
       "    .dataframe thead th {\n",
       "        text-align: right;\n",
       "    }\n",
       "</style>\n",
       "<table border=\"1\" class=\"dataframe\">\n",
       "  <thead>\n",
       "    <tr style=\"text-align: right;\">\n",
       "      <th></th>\n",
       "      <th>Course_Name</th>\n",
       "      <th>CAO_Score</th>\n",
       "      <th>Budget</th>\n",
       "      <th>City</th>\n",
       "      <th>Interest</th>\n",
       "      <th>Job_domain</th>\n",
       "    </tr>\n",
       "  </thead>\n",
       "  <tbody>\n",
       "    <tr>\n",
       "      <th>4803</th>\n",
       "      <td>Education Mathematics &amp; Business Studies - Thu...</td>\n",
       "      <td>Medium</td>\n",
       "      <td>Low</td>\n",
       "      <td>Tipperary</td>\n",
       "      <td>Cricket</td>\n",
       "      <td>Support</td>\n",
       "    </tr>\n",
       "    <tr>\n",
       "      <th>4804</th>\n",
       "      <td>Education Mathematics &amp; Gaeilge - Thurles Camp...</td>\n",
       "      <td>Medium</td>\n",
       "      <td>Low</td>\n",
       "      <td>Tipperary</td>\n",
       "      <td>Football</td>\n",
       "      <td>Law</td>\n",
       "    </tr>\n",
       "    <tr>\n",
       "      <th>4805</th>\n",
       "      <td>Strength &amp; Conditioning (SC701)</td>\n",
       "      <td>Medium</td>\n",
       "      <td>Medium</td>\n",
       "      <td>Dublin</td>\n",
       "      <td>Singing</td>\n",
       "      <td>IT</td>\n",
       "    </tr>\n",
       "    <tr>\n",
       "      <th>4806</th>\n",
       "      <td>Strength &amp; Conditioning (SC801)</td>\n",
       "      <td>Medium</td>\n",
       "      <td>Medium</td>\n",
       "      <td>Dublin</td>\n",
       "      <td>Chess</td>\n",
       "      <td>Support</td>\n",
       "    </tr>\n",
       "    <tr>\n",
       "      <th>4807</th>\n",
       "      <td>Strength &amp; Conditioning (SC601)</td>\n",
       "      <td>Medium</td>\n",
       "      <td>Low</td>\n",
       "      <td>Dublin</td>\n",
       "      <td>Cricket</td>\n",
       "      <td>IT</td>\n",
       "    </tr>\n",
       "  </tbody>\n",
       "</table>\n",
       "</div>"
      ],
      "text/plain": [
       "                                            Course_Name CAO_Score  Budget  \\\n",
       "4803  Education Mathematics & Business Studies - Thu...    Medium     Low   \n",
       "4804  Education Mathematics & Gaeilge - Thurles Camp...    Medium     Low   \n",
       "4805                    Strength & Conditioning (SC701)    Medium  Medium   \n",
       "4806                    Strength & Conditioning (SC801)    Medium  Medium   \n",
       "4807                    Strength & Conditioning (SC601)    Medium     Low   \n",
       "\n",
       "           City  Interest Job_domain  \n",
       "4803  Tipperary   Cricket    Support  \n",
       "4804  Tipperary  Football        Law  \n",
       "4805     Dublin   Singing         IT  \n",
       "4806     Dublin     Chess    Support  \n",
       "4807     Dublin   Cricket         IT  "
      ]
     },
     "execution_count": 48,
     "metadata": {},
     "output_type": "execute_result"
    }
   ],
   "source": [
    "df.tail()"
   ]
  },
  {
   "cell_type": "code",
   "execution_count": 49,
   "metadata": {
    "id": "UXMWd1s5eTW5"
   },
   "outputs": [],
   "source": [
    "#df.to_csv('Test.csv')"
   ]
  },
  {
   "cell_type": "markdown",
   "metadata": {
    "id": "nkwjKqPPdhKg"
   },
   "source": [
    "# Data Preprocessing"
   ]
  },
  {
   "cell_type": "code",
   "execution_count": 50,
   "metadata": {
    "colab": {
     "base_uri": "https://localhost:8080/"
    },
    "id": "WWqHLAGKqbDp",
    "outputId": "b45042f0-e2c8-4160-fc01-04a8b7c9d936"
   },
   "outputs": [
    {
     "name": "stdout",
     "output_type": "stream",
     "text": [
      "All the columns in the dataset:  Index(['Course_Name', 'CAO_Score', 'Budget', 'City', 'Interest', 'Job_domain'], dtype='object')\n"
     ]
    }
   ],
   "source": [
    "print(\"All the columns in the dataset: \" , df.columns)"
   ]
  },
  {
   "cell_type": "code",
   "execution_count": 51,
   "metadata": {
    "colab": {
     "base_uri": "https://localhost:8080/"
    },
    "id": "Y_WEJXysQoZM",
    "outputId": "e65ba45b-a321-44d0-acb6-855992651d71"
   },
   "outputs": [
    {
     "name": "stdout",
     "output_type": "stream",
     "text": [
      "Shape of data is: 4808 entries and 6 column\n"
     ]
    }
   ],
   "source": [
    "print('Shape of data is: %s entries and %s column'%(df.shape[0],df.shape[1]))"
   ]
  },
  {
   "cell_type": "code",
   "execution_count": 52,
   "metadata": {
    "colab": {
     "base_uri": "https://localhost:8080/"
    },
    "id": "iau_5UqJQ8NU",
    "outputId": "a5047d84-4114-459e-e956-cf667f0c3045"
   },
   "outputs": [
    {
     "name": "stdout",
     "output_type": "stream",
     "text": [
      "Numeric Columns in DF: \n",
      " []\n",
      "\n",
      "\n",
      "Categorical Columns in DF: \n",
      " ['Course_Name', 'CAO_Score', 'Budget', 'City', 'Interest', 'Job_domain']\n"
     ]
    }
   ],
   "source": [
    "print(\"Numeric Columns in DF: \\n\" , df.select_dtypes(include=np.number).columns.tolist())\n",
    "print(\"\\n\\nCategorical Columns in DF: \\n\" , df.select_dtypes(include=['object']).columns.tolist())"
   ]
  },
  {
   "cell_type": "code",
   "execution_count": 53,
   "metadata": {
    "colab": {
     "base_uri": "https://localhost:8080/"
    },
    "id": "KmIB4M5IRBqB",
    "outputId": "a33cc0b5-df76-42e6-80f9-768ef4904fcb"
   },
   "outputs": [
    {
     "data": {
      "text/plain": [
       "Course_Name    0\n",
       "CAO_Score      0\n",
       "Budget         0\n",
       "City           0\n",
       "Interest       0\n",
       "Job_domain     0\n",
       "dtype: int64"
      ]
     },
     "execution_count": 53,
     "metadata": {},
     "output_type": "execute_result"
    }
   ],
   "source": [
    "df.isnull().sum(axis=0)"
   ]
  },
  {
   "cell_type": "code",
   "execution_count": 54,
   "metadata": {
    "colab": {
     "base_uri": "https://localhost:8080/"
    },
    "id": "UMQMfhigRq4R",
    "outputId": "46bd2766-056c-4390-8723-bbfb797e455e"
   },
   "outputs": [
    {
     "name": "stdout",
     "output_type": "stream",
     "text": [
      "Bachelor of Engineering Agricultural Systems Engineering (SE733)                                                                        24\n",
      "Bachelor of Engineering (Honours) Agricultural Systems Engineering (SE732)                                                              24\n",
      "Bachelor of Business (allowing later specialisation in Business or Business with a Language or Business with Information Technology)    24\n",
      "Adult Green Cert - Part-time (5M20454 6S20487)                                                                                          13\n",
      "Education in Teaching & Learning (WD603)                                                                                                12\n",
      "                                                                                                                                        ..\n",
      "Bachelor of Science (Honours) Architectural Technology                                                                                   1\n",
      "Bachelor of Engineering (Honours) BioMedical Engineering                                                                                 1\n",
      "Bachelor of Business (Honours) Business                                                                                                  1\n",
      "Bachelor of Science (Honours) Business Information Systems                                                                               1\n",
      "Veterinary Nursing (DK784)                                                                                                               1\n",
      "Name: Course_Name, Length: 841, dtype: int64\n",
      "\n",
      "Medium    3330\n",
      "High       767\n",
      "Low        711\n",
      "Name: CAO_Score, dtype: int64\n",
      "\n",
      "Low       2524\n",
      "Medium    1487\n",
      "High       797\n",
      "Name: Budget, dtype: int64\n",
      "\n",
      "Athlone        1188\n",
      "Carlow          753\n",
      "Dublin          704\n",
      "Waterford       588\n",
      "Mayo            345\n",
      "Galway          339\n",
      "Cork            311\n",
      "Wexford         180\n",
      "Dundalk         101\n",
      "Tipperary        84\n",
      "Sligo            82\n",
      "Donegal          48\n",
      "Letterkenny      42\n",
      "Limerick         39\n",
      "Galway            4\n",
      "Name: City, dtype: int64\n",
      "\n",
      "Cricket       1233\n",
      "Football       933\n",
      "Chess          930\n",
      "Singing        897\n",
      "Athletics      486\n",
      "Automation     329\n",
      "Name: Interest, dtype: int64\n",
      "\n",
      "Support       966\n",
      "IT            946\n",
      "Law           780\n",
      "HR            738\n",
      "Management    724\n",
      "Finance       654\n",
      "Name: Job_domain, dtype: int64\n",
      "\n"
     ]
    }
   ],
   "source": [
    "cat_col = df[['Course_Name', 'CAO_Score', 'Budget', 'City', 'Interest', 'Job_domain']]\n",
    "for i in cat_col:\n",
    "    print(df[i].value_counts(), end=\"\\n\\n\")"
   ]
  },
  {
   "cell_type": "code",
   "execution_count": 55,
   "metadata": {
    "id": "KxTL-4SXR6Q6"
   },
   "outputs": [],
   "source": [
    "# print(df[\"University\"].value_counts())"
   ]
  },
  {
   "cell_type": "markdown",
   "metadata": {
    "id": "KUNNfpWkSO1v"
   },
   "source": [
    "## Feature Selection & Engineering"
   ]
  },
  {
   "cell_type": "markdown",
   "metadata": {
    "id": "6l__XWUBSSF1"
   },
   "source": [
    "One Hot Encoding For Categorical values"
   ]
  },
  {
   "cell_type": "code",
   "execution_count": 56,
   "metadata": {
    "colab": {
     "base_uri": "https://localhost:8080/"
    },
    "id": "KkbV3TDKSF4z",
    "outputId": "c7f2ce24-1381-4d23-9d65-e31fb348051f"
   },
   "outputs": [
    {
     "name": "stdout",
     "output_type": "stream",
     "text": [
      "\n",
      "\n",
      "List of Categorical values: \n",
      " ['Course_Name']\n"
     ]
    }
   ],
   "source": [
    "mycol = df[['CAO_Score', 'Budget']]\n",
    "for i in mycol:\n",
    "    cleanup_nums = {i: {\"Low\": 0, \"Medium\": 1, \"High\": 2}}\n",
    "    df = df.replace(cleanup_nums)\n",
    "\n",
    "cat_col = df[['City', 'Interest', 'Job_domain']]\n",
    "for i in cat_col:\n",
    "    df[i] = df[i].astype('category')\n",
    "    df[i + \"_code\"] = df[i].cat.codes\n",
    "\n",
    "print(\"\\n\\nList of Categorical values: \\n\" , df.select_dtypes(include=['object']).columns.tolist())"
   ]
  },
  {
   "cell_type": "code",
   "execution_count": 57,
   "metadata": {
    "colab": {
     "base_uri": "https://localhost:8080/",
     "height": 206
    },
    "id": "q52RTW3eSZOU",
    "outputId": "7666e3a0-cc3e-47a3-9598-8bba334fcb4e"
   },
   "outputs": [
    {
     "data": {
      "text/html": [
       "<div>\n",
       "<style scoped>\n",
       "    .dataframe tbody tr th:only-of-type {\n",
       "        vertical-align: middle;\n",
       "    }\n",
       "\n",
       "    .dataframe tbody tr th {\n",
       "        vertical-align: top;\n",
       "    }\n",
       "\n",
       "    .dataframe thead th {\n",
       "        text-align: right;\n",
       "    }\n",
       "</style>\n",
       "<table border=\"1\" class=\"dataframe\">\n",
       "  <thead>\n",
       "    <tr style=\"text-align: right;\">\n",
       "      <th></th>\n",
       "      <th>Course_Name</th>\n",
       "      <th>CAO_Score</th>\n",
       "      <th>Budget</th>\n",
       "      <th>City</th>\n",
       "      <th>Interest</th>\n",
       "      <th>Job_domain</th>\n",
       "      <th>City_code</th>\n",
       "      <th>Interest_code</th>\n",
       "      <th>Job_domain_code</th>\n",
       "    </tr>\n",
       "  </thead>\n",
       "  <tbody>\n",
       "    <tr>\n",
       "      <th>0</th>\n",
       "      <td>Biomedical Engineering (DN150)</td>\n",
       "      <td>2</td>\n",
       "      <td>1</td>\n",
       "      <td>Dublin</td>\n",
       "      <td>Cricket</td>\n",
       "      <td>IT</td>\n",
       "      <td>4</td>\n",
       "      <td>3</td>\n",
       "      <td>2</td>\n",
       "    </tr>\n",
       "    <tr>\n",
       "      <th>1</th>\n",
       "      <td>Chem &amp; Bioprocess Engineering (NQS2)</td>\n",
       "      <td>2</td>\n",
       "      <td>1</td>\n",
       "      <td>Dublin</td>\n",
       "      <td>Football</td>\n",
       "      <td>HR</td>\n",
       "      <td>4</td>\n",
       "      <td>4</td>\n",
       "      <td>1</td>\n",
       "    </tr>\n",
       "    <tr>\n",
       "      <th>2</th>\n",
       "      <td>Civil Engineering (DN150)</td>\n",
       "      <td>2</td>\n",
       "      <td>0</td>\n",
       "      <td>Dublin</td>\n",
       "      <td>Singing</td>\n",
       "      <td>Management</td>\n",
       "      <td>4</td>\n",
       "      <td>5</td>\n",
       "      <td>4</td>\n",
       "    </tr>\n",
       "    <tr>\n",
       "      <th>3</th>\n",
       "      <td>Computer Science  (DN201)</td>\n",
       "      <td>2</td>\n",
       "      <td>0</td>\n",
       "      <td>Dublin</td>\n",
       "      <td>Chess</td>\n",
       "      <td>Support</td>\n",
       "      <td>4</td>\n",
       "      <td>2</td>\n",
       "      <td>5</td>\n",
       "    </tr>\n",
       "    <tr>\n",
       "      <th>4</th>\n",
       "      <td>Electrical/Electronics Engineering (DN150)</td>\n",
       "      <td>2</td>\n",
       "      <td>1</td>\n",
       "      <td>Dublin</td>\n",
       "      <td>Athletics</td>\n",
       "      <td>Finance</td>\n",
       "      <td>4</td>\n",
       "      <td>0</td>\n",
       "      <td>0</td>\n",
       "    </tr>\n",
       "  </tbody>\n",
       "</table>\n",
       "</div>"
      ],
      "text/plain": [
       "                                  Course_Name  CAO_Score  Budget    City  \\\n",
       "0              Biomedical Engineering (DN150)          2       1  Dublin   \n",
       "1        Chem & Bioprocess Engineering (NQS2)          2       1  Dublin   \n",
       "2                   Civil Engineering (DN150)          2       0  Dublin   \n",
       "3                   Computer Science  (DN201)          2       0  Dublin   \n",
       "4  Electrical/Electronics Engineering (DN150)          2       1  Dublin   \n",
       "\n",
       "     Interest  Job_domain  City_code  Interest_code  Job_domain_code  \n",
       "0     Cricket          IT          4              3                2  \n",
       "1    Football          HR          4              4                1  \n",
       "2     Singing  Management          4              5                4  \n",
       "3       Chess     Support          4              2                5  \n",
       "4  Athletics     Finance           4              0                0  "
      ]
     },
     "execution_count": 57,
     "metadata": {},
     "output_type": "execute_result"
    }
   ],
   "source": [
    "df.head(5)"
   ]
  },
  {
   "cell_type": "code",
   "execution_count": 58,
   "metadata": {
    "colab": {
     "base_uri": "https://localhost:8080/"
    },
    "id": "wvX0PoARTeaT",
    "outputId": "b6d84bda-1e50-41ef-ea48-1fe6d99afe1d"
   },
   "outputs": [
    {
     "name": "stdout",
     "output_type": "stream",
     "text": [
      "\n",
      "\n",
      "List of Categorical values: \n",
      " ['Course_Name']\n",
      "List of Numerical values: \n",
      " ['CAO_Score', 'Budget', 'City_code', 'Interest_code', 'Job_domain_code']\n"
     ]
    }
   ],
   "source": [
    "print(\"\\n\\nList of Categorical values: \\n\" , df.select_dtypes(include=['object']).columns.tolist())\n",
    "print(\"List of Numerical values: \\n\" , df.select_dtypes(include=np.number).columns.tolist())"
   ]
  },
  {
   "cell_type": "code",
   "execution_count": 59,
   "metadata": {
    "id": "wy2eG19vT0NL"
   },
   "outputs": [],
   "source": [
    "feed = df[['CAO_Score', 'Budget', 'City_code', 'Interest_code', 'Job_domain_code','Course_Name']]\n",
    "\n",
    "# Choosing independent vars\n",
    "df_train_x = feed.drop('Course_Name',axis = 1)\n",
    "\n",
    "# Choosing all target vars\n",
    "df_train_y = feed['Course_Name']\n",
    "\n",
    "x_train, x_test, y_train, y_test = train_test_split(df_train_x, df_train_y, test_size=0.50, random_state=42)"
   ]
  },
  {
   "cell_type": "code",
   "execution_count": 60,
   "metadata": {
    "colab": {
     "base_uri": "https://localhost:8080/"
    },
    "id": "zsDZeB4XU0gb",
    "outputId": "f88455b4-61a2-462c-bc82-c16ddeb271b5"
   },
   "outputs": [
    {
     "name": "stdout",
     "output_type": "stream",
     "text": [
      "List of Numerical values: \n",
      " ['CAO_Score', 'Budget', 'City_code', 'Interest_code', 'Job_domain_code']\n"
     ]
    }
   ],
   "source": [
    "print(\"List of Numerical values: \\n\" , df.select_dtypes(include=np.number).columns.tolist())"
   ]
  },
  {
   "cell_type": "code",
   "execution_count": 61,
   "metadata": {
    "colab": {
     "base_uri": "https://localhost:8080/",
     "height": 424
    },
    "id": "bwUtavtmVMn5",
    "outputId": "86e7ab3c-ffec-4da3-835d-391ad8539ba8"
   },
   "outputs": [
    {
     "data": {
      "text/html": [
       "<div>\n",
       "<style scoped>\n",
       "    .dataframe tbody tr th:only-of-type {\n",
       "        vertical-align: middle;\n",
       "    }\n",
       "\n",
       "    .dataframe tbody tr th {\n",
       "        vertical-align: top;\n",
       "    }\n",
       "\n",
       "    .dataframe thead th {\n",
       "        text-align: right;\n",
       "    }\n",
       "</style>\n",
       "<table border=\"1\" class=\"dataframe\">\n",
       "  <thead>\n",
       "    <tr style=\"text-align: right;\">\n",
       "      <th></th>\n",
       "      <th>Course_Name</th>\n",
       "    </tr>\n",
       "  </thead>\n",
       "  <tbody>\n",
       "    <tr>\n",
       "      <th>1448</th>\n",
       "      <td>Early Childhood Studies Care &amp; Education (WD592)</td>\n",
       "    </tr>\n",
       "    <tr>\n",
       "      <th>2932</th>\n",
       "      <td>Athletic &amp; Rehabilitation Therapy - Athlone Ca...</td>\n",
       "    </tr>\n",
       "    <tr>\n",
       "      <th>794</th>\n",
       "      <td>Augmented &amp; Virtual Reality (DK722)</td>\n",
       "    </tr>\n",
       "    <tr>\n",
       "      <th>1029</th>\n",
       "      <td>Bachelor of Financial Mathematics and Economic...</td>\n",
       "    </tr>\n",
       "    <tr>\n",
       "      <th>8</th>\n",
       "      <td>Environmental Science and Engineering (TR064)</td>\n",
       "    </tr>\n",
       "    <tr>\n",
       "      <th>...</th>\n",
       "      <td>...</td>\n",
       "    </tr>\n",
       "    <tr>\n",
       "      <th>4587</th>\n",
       "      <td>Computer Engineering\\r\\nBachelor of Engineerin...</td>\n",
       "    </tr>\n",
       "    <tr>\n",
       "      <th>3598</th>\n",
       "      <td>Business - Management Stream (WD510)</td>\n",
       "    </tr>\n",
       "    <tr>\n",
       "      <th>3197</th>\n",
       "      <td>Adult Basic Education (48532)</td>\n",
       "    </tr>\n",
       "    <tr>\n",
       "      <th>2176</th>\n",
       "      <td>Engineering - Innovative Technology Engineerin...</td>\n",
       "    </tr>\n",
       "    <tr>\n",
       "      <th>424</th>\n",
       "      <td>Bachelor of Business (Honours) International T...</td>\n",
       "    </tr>\n",
       "  </tbody>\n",
       "</table>\n",
       "<p>2404 rows × 1 columns</p>\n",
       "</div>"
      ],
      "text/plain": [
       "                                            Course_Name\n",
       "1448   Early Childhood Studies Care & Education (WD592)\n",
       "2932  Athletic & Rehabilitation Therapy - Athlone Ca...\n",
       "794                 Augmented & Virtual Reality (DK722)\n",
       "1029  Bachelor of Financial Mathematics and Economic...\n",
       "8         Environmental Science and Engineering (TR064)\n",
       "...                                                 ...\n",
       "4587  Computer Engineering\\r\\nBachelor of Engineerin...\n",
       "3598               Business - Management Stream (WD510)\n",
       "3197                      Adult Basic Education (48532)\n",
       "2176  Engineering - Innovative Technology Engineerin...\n",
       "424   Bachelor of Business (Honours) International T...\n",
       "\n",
       "[2404 rows x 1 columns]"
      ]
     },
     "execution_count": 61,
     "metadata": {},
     "output_type": "execute_result"
    }
   ],
   "source": [
    "y_train = pd.DataFrame(y_train, columns = [\"Course_Name\"])\n",
    "y_train.head()\n",
    "y_test = pd.DataFrame(y_test, columns = [\"Course_Name\"])\n",
    "y_test"
   ]
  },
  {
   "cell_type": "markdown",
   "metadata": {
    "id": "ggfpVKuoV1aB"
   },
   "source": [
    "#Implementing ML algotithms"
   ]
  },
  {
   "cell_type": "markdown",
   "metadata": {
    "id": "AxVg07iEV5M9"
   },
   "source": [
    "Decision Tree"
   ]
  },
  {
   "cell_type": "code",
   "execution_count": 62,
   "metadata": {
    "colab": {
     "base_uri": "https://localhost:8080/"
    },
    "id": "Z41195V8VSK0",
    "outputId": "88a04127-0c82-4dfe-d8f8-d3fa31ab400a"
   },
   "outputs": [
    {
     "name": "stdout",
     "output_type": "stream",
     "text": [
      "confusion matrics= [[4 0 0 ... 0 0 0]\n",
      " [0 0 0 ... 0 0 0]\n",
      " [0 0 0 ... 0 0 0]\n",
      " ...\n",
      " [0 0 0 ... 5 0 0]\n",
      " [0 0 0 ... 0 9 0]\n",
      " [0 0 0 ... 0 0 0]]\n",
      "  \n",
      "accuracy= 0.5956738768718802\n"
     ]
    }
   ],
   "source": [
    "dtree = DecisionTreeClassifier(random_state=1)\n",
    "dtree = dtree.fit(x_train, y_train)\n",
    "y_pred = dtree.predict(x_test)\n",
    "cm = confusion_matrix(y_test,y_pred)\n",
    "accuracy = accuracy_score(y_test,y_pred)\n",
    "print(\"confusion matrics=\",cm)\n",
    "print(\"  \")\n",
    "print(\"accuracy=\",accuracy)"
   ]
  },
  {
   "cell_type": "code",
   "execution_count": 63,
   "metadata": {
    "colab": {
     "base_uri": "https://localhost:8080/"
    },
    "id": "3UC9vb9OWuMy",
    "outputId": "1303e84d-8463-42d4-e747-582a39d35233"
   },
   "outputs": [
    {
     "name": "stdout",
     "output_type": "stream",
     "text": [
      "['BA (Hons) in Audio and Music Technology']\n",
      "Probabilities of all classes:  [[0.         0.         0.         0.         0.         0.\n",
      "  0.         0.         0.         0.         0.         0.\n",
      "  0.         0.         0.         0.         0.         0.\n",
      "  0.         0.         0.         0.         0.         0.\n",
      "  0.         0.         0.         0.         0.         0.\n",
      "  0.         0.         0.         0.         0.         0.\n",
      "  0.         0.         0.         0.         0.         0.\n",
      "  0.         0.         0.         0.         0.         0.\n",
      "  0.         0.         0.         0.         0.         0.\n",
      "  0.         0.         0.         0.         0.         0.\n",
      "  0.         0.         0.         0.         0.         0.\n",
      "  0.         0.         0.         0.         0.         0.\n",
      "  0.         0.         0.         0.         0.         0.\n",
      "  0.         0.         0.         0.         0.         0.\n",
      "  0.         0.         0.16666667 0.         0.         0.\n",
      "  0.         0.         0.         0.38888889 0.         0.\n",
      "  0.         0.         0.         0.         0.         0.\n",
      "  0.         0.         0.         0.         0.         0.\n",
      "  0.         0.         0.         0.         0.         0.\n",
      "  0.         0.         0.         0.         0.         0.\n",
      "  0.         0.         0.         0.         0.         0.\n",
      "  0.         0.         0.         0.         0.         0.\n",
      "  0.         0.         0.         0.         0.         0.\n",
      "  0.         0.         0.         0.         0.         0.\n",
      "  0.         0.         0.         0.         0.         0.\n",
      "  0.         0.         0.         0.         0.         0.\n",
      "  0.         0.         0.         0.         0.         0.\n",
      "  0.         0.         0.         0.         0.         0.\n",
      "  0.         0.         0.         0.         0.         0.\n",
      "  0.         0.         0.         0.         0.         0.\n",
      "  0.         0.         0.         0.         0.         0.\n",
      "  0.         0.         0.         0.         0.         0.\n",
      "  0.         0.         0.         0.         0.         0.\n",
      "  0.         0.         0.         0.         0.         0.\n",
      "  0.         0.         0.         0.22222222 0.         0.\n",
      "  0.         0.         0.         0.         0.         0.\n",
      "  0.         0.         0.         0.         0.         0.\n",
      "  0.         0.         0.         0.         0.         0.\n",
      "  0.         0.         0.22222222 0.         0.         0.\n",
      "  0.         0.         0.         0.         0.         0.\n",
      "  0.         0.         0.         0.         0.         0.\n",
      "  0.         0.         0.         0.         0.         0.\n",
      "  0.         0.         0.         0.         0.         0.\n",
      "  0.         0.         0.         0.         0.         0.\n",
      "  0.         0.         0.         0.         0.         0.\n",
      "  0.         0.         0.         0.         0.         0.\n",
      "  0.         0.         0.         0.         0.         0.\n",
      "  0.         0.         0.         0.         0.         0.\n",
      "  0.         0.         0.         0.         0.         0.\n",
      "  0.         0.         0.         0.         0.         0.\n",
      "  0.         0.         0.         0.         0.         0.\n",
      "  0.         0.         0.         0.         0.         0.\n",
      "  0.         0.         0.         0.         0.         0.\n",
      "  0.         0.         0.         0.         0.         0.\n",
      "  0.         0.         0.         0.         0.         0.\n",
      "  0.         0.         0.         0.         0.         0.\n",
      "  0.         0.         0.         0.         0.         0.\n",
      "  0.         0.         0.         0.         0.         0.\n",
      "  0.         0.         0.         0.         0.         0.\n",
      "  0.         0.         0.         0.         0.         0.\n",
      "  0.         0.         0.         0.         0.         0.\n",
      "  0.         0.         0.         0.         0.         0.\n",
      "  0.         0.         0.         0.         0.         0.\n",
      "  0.         0.         0.         0.         0.         0.\n",
      "  0.         0.         0.         0.         0.         0.\n",
      "  0.         0.         0.         0.         0.         0.\n",
      "  0.         0.         0.         0.         0.         0.\n",
      "  0.         0.         0.         0.         0.         0.\n",
      "  0.         0.         0.         0.         0.         0.\n",
      "  0.         0.         0.         0.         0.         0.\n",
      "  0.         0.         0.         0.         0.         0.\n",
      "  0.         0.         0.         0.         0.         0.\n",
      "  0.         0.         0.         0.         0.         0.\n",
      "  0.         0.         0.         0.         0.         0.\n",
      "  0.         0.         0.         0.         0.         0.\n",
      "  0.         0.         0.         0.         0.         0.\n",
      "  0.         0.         0.         0.         0.         0.\n",
      "  0.         0.         0.         0.         0.         0.\n",
      "  0.         0.         0.         0.         0.         0.\n",
      "  0.         0.         0.         0.         0.         0.\n",
      "  0.         0.         0.         0.         0.         0.\n",
      "  0.         0.         0.         0.         0.         0.\n",
      "  0.         0.         0.         0.         0.         0.\n",
      "  0.         0.         0.         0.         0.         0.\n",
      "  0.         0.         0.         0.         0.         0.\n",
      "  0.         0.         0.         0.         0.         0.\n",
      "  0.         0.         0.         0.         0.         0.\n",
      "  0.         0.         0.         0.         0.         0.\n",
      "  0.         0.         0.         0.         0.         0.\n",
      "  0.         0.         0.         0.         0.         0.\n",
      "  0.         0.         0.         0.         0.         0.\n",
      "  0.         0.         0.         0.         0.         0.\n",
      "  0.         0.         0.         0.         0.         0.\n",
      "  0.         0.         0.         0.         0.         0.\n",
      "  0.         0.         0.         0.         0.         0.\n",
      "  0.         0.         0.         0.         0.         0.\n",
      "  0.         0.         0.         0.         0.         0.\n",
      "  0.         0.         0.         0.         0.         0.        ]]\n",
      "Probability of Predicted class :  0.3888888888888889\n"
     ]
    }
   ],
   "source": [
    "userdata = [[1,0,4,4,1]]\n",
    "ynewclass = dtree.predict(userdata)\n",
    "ynew = dtree.predict_proba(userdata)\n",
    "print(ynewclass)\n",
    "print(\"Probabilities of all classes: \", ynew)\n",
    "print(\"Probability of Predicted class : \", np.max(ynew))"
   ]
  },
  {
   "cell_type": "markdown",
   "metadata": {
    "id": "QbmBu37aYYmO"
   },
   "source": [
    "## RANDOM FOREST"
   ]
  },
  {
   "cell_type": "code",
   "execution_count": 64,
   "metadata": {
    "colab": {
     "base_uri": "https://localhost:8080/"
    },
    "id": "91B0g43gV78r",
    "outputId": "15bce601-1496-409c-df8c-de67ac217930"
   },
   "outputs": [
    {
     "name": "stdout",
     "output_type": "stream",
     "text": [
      "confusion matrics= [[4 0 0 ... 0 0 0]\n",
      " [0 0 0 ... 0 0 0]\n",
      " [0 0 0 ... 0 0 0]\n",
      " ...\n",
      " [0 0 0 ... 5 0 0]\n",
      " [0 0 0 ... 0 9 0]\n",
      " [0 0 0 ... 0 0 0]]\n",
      "  \n",
      "accuracy= 0.5956738768718802\n"
     ]
    }
   ],
   "source": [
    "rf = RandomForestClassifier(random_state = 10)\n",
    "rf.fit(x_train, y_train)\n",
    "rfc_y_pred = rf.predict(x_test)\n",
    "rfc_cm = confusion_matrix(y_test,rfc_y_pred)\n",
    "rfc_accuracy = accuracy_score(y_test,rfc_y_pred)\n",
    "print(\"confusion matrics=\",rfc_cm)\n",
    "print(\"  \")\n",
    "print(\"accuracy=\",rfc_accuracy)"
   ]
  },
  {
   "cell_type": "code",
   "execution_count": 65,
   "metadata": {
    "colab": {
     "base_uri": "https://localhost:8080/"
    },
    "id": "d4eeLcjBWpqt",
    "outputId": "15dd0f26-aed1-4e6b-a810-52b846681104"
   },
   "outputs": [
    {
     "name": "stdout",
     "output_type": "stream",
     "text": [
      "['Bachelor of Science (Honours) in Biomedical & Molecular Diagnostics']\n",
      "Probabilities of all classes:  [[0.        0.        0.        0.        0.        0.        0.\n",
      "  0.        0.        0.        0.        0.        0.        0.\n",
      "  0.        0.        0.        0.        0.        0.        0.\n",
      "  0.        0.        0.        0.        0.        0.        0.\n",
      "  0.        0.        0.        0.        0.        0.        0.\n",
      "  0.        0.        0.        0.        0.        0.        0.\n",
      "  0.        0.        0.        0.        0.        0.        0.\n",
      "  0.        0.        0.        0.        0.        0.        0.\n",
      "  0.        0.        0.        0.        0.        0.        0.\n",
      "  0.        0.        0.        0.        0.        0.        0.\n",
      "  0.        0.        0.        0.        0.        0.        0.\n",
      "  0.        0.        0.        0.        0.        0.        0.\n",
      "  0.        0.        0.        0.        0.        0.        0.\n",
      "  0.        0.        0.        0.        0.        0.        0.\n",
      "  0.        0.        0.        0.        0.        0.        0.\n",
      "  0.        0.        0.        0.        0.        0.        0.\n",
      "  0.        0.        0.        0.        0.        0.        0.\n",
      "  0.        0.        0.        0.        0.        0.        0.\n",
      "  0.        0.        0.        0.        0.        0.        0.\n",
      "  0.        0.        0.        0.        0.        0.        0.\n",
      "  0.        0.        0.        0.        0.        0.        0.\n",
      "  0.        0.        0.        0.        0.        0.        0.\n",
      "  0.        0.        0.        0.        0.        0.        0.\n",
      "  0.        0.        0.        0.        0.        0.        0.\n",
      "  0.        0.        0.        0.        0.        0.        0.\n",
      "  0.        0.        0.        0.        0.        0.        0.\n",
      "  0.        0.        0.        0.        0.        0.        0.\n",
      "  0.        0.        0.        0.        0.        0.        0.\n",
      "  0.        0.        0.        0.        0.        0.        0.\n",
      "  0.        0.        0.        0.        0.        0.        0.\n",
      "  0.        0.        0.        0.        0.        0.        0.\n",
      "  0.        0.        0.        0.        0.        0.        0.\n",
      "  0.        0.        0.        0.        0.        0.        0.\n",
      "  0.        0.8814934 0.        0.        0.        0.        0.\n",
      "  0.        0.        0.        0.        0.        0.        0.\n",
      "  0.        0.        0.        0.        0.        0.        0.\n",
      "  0.        0.        0.        0.        0.        0.        0.\n",
      "  0.        0.        0.        0.        0.        0.        0.\n",
      "  0.        0.        0.        0.        0.        0.        0.\n",
      "  0.        0.        0.        0.        0.        0.        0.\n",
      "  0.        0.        0.        0.        0.        0.        0.\n",
      "  0.        0.        0.        0.        0.        0.        0.\n",
      "  0.        0.        0.        0.        0.        0.        0.\n",
      "  0.        0.        0.        0.        0.        0.        0.\n",
      "  0.        0.        0.        0.        0.        0.        0.\n",
      "  0.        0.        0.        0.        0.        0.        0.\n",
      "  0.        0.        0.        0.        0.        0.        0.\n",
      "  0.        0.        0.        0.        0.        0.        0.\n",
      "  0.        0.        0.        0.        0.        0.        0.\n",
      "  0.        0.        0.        0.        0.        0.        0.\n",
      "  0.        0.        0.        0.        0.        0.        0.\n",
      "  0.        0.        0.        0.        0.        0.        0.\n",
      "  0.1185066 0.        0.        0.        0.        0.        0.\n",
      "  0.        0.        0.        0.        0.        0.        0.\n",
      "  0.        0.        0.        0.        0.        0.        0.\n",
      "  0.        0.        0.        0.        0.        0.        0.\n",
      "  0.        0.        0.        0.        0.        0.        0.\n",
      "  0.        0.        0.        0.        0.        0.        0.\n",
      "  0.        0.        0.        0.        0.        0.        0.\n",
      "  0.        0.        0.        0.        0.        0.        0.\n",
      "  0.        0.        0.        0.        0.        0.        0.\n",
      "  0.        0.        0.        0.        0.        0.        0.\n",
      "  0.        0.        0.        0.        0.        0.        0.\n",
      "  0.        0.        0.        0.        0.        0.        0.\n",
      "  0.        0.        0.        0.        0.        0.        0.\n",
      "  0.        0.        0.        0.        0.        0.        0.\n",
      "  0.        0.        0.        0.        0.        0.        0.\n",
      "  0.        0.        0.        0.        0.        0.        0.\n",
      "  0.        0.        0.        0.        0.        0.        0.\n",
      "  0.        0.        0.        0.        0.        0.        0.\n",
      "  0.        0.        0.        0.        0.        0.        0.\n",
      "  0.        0.        0.        0.        0.        0.        0.\n",
      "  0.        0.        0.        0.        0.        0.        0.\n",
      "  0.        0.        0.        0.        0.        0.        0.\n",
      "  0.        0.        0.        0.        0.        0.        0.\n",
      "  0.        0.        0.        0.        0.        0.        0.\n",
      "  0.        0.        0.        0.        0.        0.        0.\n",
      "  0.        0.        0.        0.        0.        0.        0.\n",
      "  0.        0.        0.        0.        0.        0.        0.\n",
      "  0.        0.        0.        0.        0.        0.        0.\n",
      "  0.        0.        0.        0.        0.        0.        0.\n",
      "  0.        0.        0.        0.        0.        0.        0.\n",
      "  0.        0.        0.        0.        0.        0.        0.\n",
      "  0.        0.        0.        0.        0.        0.        0.       ]]\n",
      "Probability of Predicted class :  0.8814933954933951\n"
     ]
    }
   ],
   "source": [
    "userdata = [[2,0,4,2,5]]\n",
    "ynewclass = rf.predict(userdata)\n",
    "ynew = rf.predict_proba(userdata)\n",
    "print(ynewclass)\n",
    "print(\"Probabilities of all classes: \", ynew)\n",
    "print(\"Probability of Predicted class : \", np.max(ynew))"
   ]
  },
  {
   "cell_type": "code",
   "execution_count": 66,
   "metadata": {
    "id": "3HTjspAFZ1fh"
   },
   "outputs": [],
   "source": [
    "import pickle \n",
    "pickle.dump(dtree,open('predict.pkl','wb'))"
   ]
  },
  {
   "cell_type": "code",
   "execution_count": 67,
   "metadata": {
    "id": "0fONSNZTjsET"
   },
   "outputs": [],
   "source": [
    "pickleFile=open(\"predict.pkl\",\"rb\")\n",
    "#importing the model which we created using dt in ml code\n",
    "regressor=pickle.load(pickleFile) "
   ]
  },
  {
   "cell_type": "code",
   "execution_count": 68,
   "metadata": {},
   "outputs": [
    {
     "name": "stdout",
     "output_type": "stream",
     "text": [
      "Collecting Flask-Cors\n",
      "  Downloading Flask_Cors-3.0.10-py2.py3-none-any.whl (14 kB)\n",
      "Requirement already satisfied: Flask>=0.9 in c:\\users\\rahul\\appdata\\local\\programs\\python\\python39\\lib\\site-packages (from Flask-Cors) (2.2.2)\n",
      "Requirement already satisfied: Six in c:\\users\\rahul\\appdata\\local\\programs\\python\\python39\\lib\\site-packages (from Flask-Cors) (1.16.0)\n",
      "Requirement already satisfied: importlib-metadata>=3.6.0 in c:\\users\\rahul\\appdata\\local\\programs\\python\\python39\\lib\\site-packages (from Flask>=0.9->Flask-Cors) (5.0.0)\n",
      "Requirement already satisfied: Werkzeug>=2.2.2 in c:\\users\\rahul\\appdata\\local\\programs\\python\\python39\\lib\\site-packages (from Flask>=0.9->Flask-Cors) (2.2.2)\n",
      "Requirement already satisfied: click>=8.0 in c:\\users\\rahul\\appdata\\local\\programs\\python\\python39\\lib\\site-packages (from Flask>=0.9->Flask-Cors) (8.1.3)\n",
      "Requirement already satisfied: itsdangerous>=2.0 in c:\\users\\rahul\\appdata\\local\\programs\\python\\python39\\lib\\site-packages (from Flask>=0.9->Flask-Cors) (2.1.2)\n",
      "Requirement already satisfied: Jinja2>=3.0 in c:\\users\\rahul\\appdata\\local\\programs\\python\\python39\\lib\\site-packages (from Flask>=0.9->Flask-Cors) (3.1.2)\n",
      "Requirement already satisfied: colorama in c:\\users\\rahul\\appdata\\local\\programs\\python\\python39\\lib\\site-packages (from click>=8.0->Flask>=0.9->Flask-Cors) (0.4.6)\n",
      "Requirement already satisfied: zipp>=0.5 in c:\\users\\rahul\\appdata\\local\\programs\\python\\python39\\lib\\site-packages (from importlib-metadata>=3.6.0->Flask>=0.9->Flask-Cors) (3.10.0)\n",
      "Requirement already satisfied: MarkupSafe>=2.0 in c:\\users\\rahul\\appdata\\local\\programs\\python\\python39\\lib\\site-packages (from Jinja2>=3.0->Flask>=0.9->Flask-Cors) (2.1.1)\n",
      "Installing collected packages: Flask-Cors\n",
      "Successfully installed Flask-Cors-3.0.10\n"
     ]
    }
   ],
   "source": [
    "!pip install Flask-Cors"
   ]
  },
  {
   "cell_type": "code",
   "execution_count": 69,
   "metadata": {
    "id": "0hz5wkW2k1rp"
   },
   "outputs": [
    {
     "name": "stdout",
     "output_type": "stream",
     "text": [
      " * Serving Flask app '__main__'\n",
      " * Debug mode: on\n"
     ]
    },
    {
     "name": "stderr",
     "output_type": "stream",
     "text": [
      "WARNING: This is a development server. Do not use it in a production deployment. Use a production WSGI server instead.\n",
      " * Running on http://127.0.0.1:5000\n",
      "Press CTRL+C to quit\n"
     ]
    }
   ],
   "source": [
    "from flask import Flask, request, render_template\n",
    "from flask_cors import cross_origin\n",
    "import sklearn\n",
    "import pickle\n",
    "import pandas as pd\n",
    "\n",
    "\n",
    "app = Flask(__name__)\n",
    "model = pickle.load(open(\"predict.pkl\", \"rb\"))\n",
    "\n",
    "\n",
    "@app.route(\"/\")\n",
    "@cross_origin()\n",
    "def home():\n",
    "    return render_template(\"home.html\")\n",
    "\n",
    "@app.route(\"/predict\", methods = [\"GET\", \"POST\"])\n",
    "@cross_origin()\n",
    "def predict():\n",
    "    if request.method == \"POST\":       \n",
    "\n",
    "\n",
    "        City = request.form[\"City\"]\n",
    "        if (City == 'Dublin'):\n",
    "            City_code = 4\n",
    "\n",
    "        \n",
    "        elif (City == 'Carlow'):\n",
    "            City_code = 1\n",
    "\n",
    "\n",
    "        elif (City == 'Letterkenny'):\n",
    "            City_code = 8 \n",
    "\n",
    "\n",
    "        elif (City == 'Limerick'):\n",
    "            City_code = 9\n",
    "\n",
    "        elif (City == 'Athlone'):\n",
    "            City_code = 0\n",
    "\n",
    "        elif (City == 'Dundalk'):\n",
    "            City_code = 5\n",
    "\n",
    "        elif (City == 'Cork'):\n",
    "            City_code = 2\n",
    "\n",
    "        elif (City == 'Mayo'):\n",
    "            City_code = 10\n",
    "            \n",
    "        elif (City == 'Donegal'):\n",
    "            City_code = 3\n",
    "\n",
    "        elif (City == 'Waterford'):\n",
    "            City_code = 13\n",
    "\n",
    "        elif (City == 'Wexford'):\n",
    "            City_code = 14\n",
    "\n",
    "        elif (City == 'Tipperary'):\n",
    "            City_code = 12\n",
    "            \n",
    "        elif (City == 'Sligo'):\n",
    "            City_code = 11\n",
    "\n",
    "        elif (City == 'Galway'):\n",
    "            City_code = 6\n",
    "\n",
    "\n",
    "        else:\n",
    "            City_code = 0\n",
    "\n",
    "            \n",
    "        Interest = request.form[\"Interest\"]\n",
    "        if (Interest == 'Cricket'):\n",
    "            Interest_code = 4\n",
    "\n",
    "        \n",
    "        elif (Interest == 'Football'):\n",
    "            Interest_code = 1\n",
    "\n",
    "\n",
    "        elif (Interest == 'Singing'):\n",
    "            Interest_code = 8 \n",
    "\n",
    "\n",
    "        elif (Interest == 'Chess'):\n",
    "            Interest_code = 9\n",
    "\n",
    "        elif (Interest == 'Athletics'):\n",
    "            Interest_code = 0\n",
    "\n",
    "        elif (Interest == 'Automation'):\n",
    "            Interest_code = 5\n",
    "\n",
    "        else:\n",
    "            Interest_code = 0\n",
    "\n",
    "        Job_domain = request.form[\"Job_domain\"]\n",
    "        \n",
    "        if (Job_domain == 'IT'):\n",
    "            Job_domain_code = 2\n",
    "\n",
    "        \n",
    "        elif (Job_domain == 'HR'):\n",
    "            Job_domain_code = 1\n",
    "\n",
    "\n",
    "        elif (Job_domain == 'Management'):\n",
    "            Job_domain_code = 4 \n",
    "\n",
    "\n",
    "        elif (Job_domain == 'Support'):\n",
    "            Job_domain_code = 5\n",
    "\n",
    "        elif (Interest == 'Finance'):\n",
    "            Job_domain_code = 0\n",
    "\n",
    "        elif (Job_domain == 'Law'):\n",
    "            Job_domain_code = 3\n",
    "\n",
    "        else:\n",
    "            Job_domain_code = 0\n",
    "            \n",
    "\n",
    "\n",
    "        Budget = request.form[\"Budget\"]\n",
    "        if (Budget == 'Low'):\n",
    "            Budget = 1\n",
    "\n",
    "        \n",
    "        elif (Budget == 'Medium'):\n",
    "            Budget = 2\n",
    "\n",
    "\n",
    "        elif (Budget == 'High'):\n",
    "            Budget = 3 \n",
    "\n",
    "\n",
    "        else:\n",
    "            Budget = 1\n",
    "            \n",
    "\n",
    "        CAO_Score = request.form[\"CAO_Score\"]\n",
    "        if (CAO_Score == 'Low'):\n",
    "            CAO_Score = 1\n",
    "\n",
    "        \n",
    "        elif (CAO_Score == 'Medium'):\n",
    "            CAO_Score = 2\n",
    "\n",
    "\n",
    "        elif (CAO_Score == 'High'):\n",
    "            CAO_Score = 3 \n",
    "\n",
    "\n",
    "        else:\n",
    "            CAO_Score = 1\n",
    "            \n",
    "\n",
    "        prediction=model.predict([[\n",
    "            2,\n",
    "            Budget,\n",
    "            City_code,\n",
    "            Interest_code,\n",
    "            4\n",
    "            #Job_domain_code\n",
    "            \n",
    "        ]])\n",
    "\n",
    "        output=(prediction[0],2)\n",
    "\n",
    "        return render_template('home.html',prediction_text=\"The College recommended is. {}\".format(output))\n",
    "\n",
    "\n",
    "        return render_template(\"home.html\")\n",
    "\n",
    "\n",
    "\n",
    "\n",
    "if __name__ == \"__main__\":\n",
    "    app.run(debug=True,use_reloader=False)"
   ]
  },
  {
   "cell_type": "code",
   "execution_count": null,
   "metadata": {},
   "outputs": [
    {
     "name": "stdout",
     "output_type": "stream",
     "text": [
      "('Bachelor of Genetics and Genomics (GY321)', 2)\n"
     ]
    }
   ],
   "source": [
    "from flask import Flask, request, render_template\n",
    "from flask_cors import cross_origin\n",
    "import sklearn\n",
    "import pickle\n",
    "import pandas as pd\n",
    "\n",
    "\n",
    "app = Flask(__name__)\n",
    "model = pickle.load(open(\"predict.pkl\", \"rb\"))\n",
    "\n",
    "prediction=model.predict([[\n",
    "            2,\n",
    "            3,\n",
    "            4,\n",
    "            2,\n",
    "            4\n",
    "            #Job_domain_code\n",
    "            \n",
    "        ]])\n",
    "output=(prediction[0],2)\n",
    "print(output)"
   ]
  },
  {
   "cell_type": "code",
   "execution_count": null,
   "metadata": {},
   "outputs": [],
   "source": []
  },
  {
   "cell_type": "code",
   "execution_count": null,
   "metadata": {},
   "outputs": [],
   "source": []
  }
 ],
 "metadata": {
  "colab": {
   "provenance": []
  },
  "kernelspec": {
   "display_name": "Python 3.9.12 64-bit",
   "language": "python",
   "name": "python3"
  },
  "language_info": {
   "codemirror_mode": {
    "name": "ipython",
    "version": 3
   },
   "file_extension": ".py",
   "mimetype": "text/x-python",
   "name": "python",
   "nbconvert_exporter": "python",
   "pygments_lexer": "ipython3",
   "version": "3.9.12"
  },
  "vscode": {
   "interpreter": {
    "hash": "74896034db1845be5000ed9314487ee297f444d1b9bf6f172497bb9704b8efa0"
   }
  }
 },
 "nbformat": 4,
 "nbformat_minor": 1
}
