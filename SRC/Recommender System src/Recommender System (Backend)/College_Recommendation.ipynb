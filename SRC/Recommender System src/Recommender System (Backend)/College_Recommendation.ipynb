{
  "cells": [
    {
      "cell_type": "code",
      "execution_count": 2,
      "metadata": {
        "id": "_SIbniTuLoK2"
      },
      "outputs": [],
      "source": [
        "import pandas as pd\n",
        "import numpy as np\n",
        "import math\n",
        "from numpy.linalg import norm\n",
        "from sklearn.preprocessing import OneHotEncoder\n",
        "from sklearn import preprocessing\n",
        "\n",
        "import warnings\n",
        "warnings.filterwarnings(\"ignore\")"
      ]
    },
    {
      "cell_type": "code",
      "execution_count": 3,
      "metadata": {
        "id": "MykQ47R9KI9S"
      },
      "outputs": [],
      "source": [
        "## Calling the dataframe\n",
        "data = pd.read_excel(\"Recommender_Dataset.xlsx\")"
      ]
    },
    {
      "cell_type": "code",
      "execution_count": 4,
      "metadata": {
        "id": "PO04LwlLMMOB"
      },
      "outputs": [],
      "source": [
        "## making the buckets for the Budget\n",
        "## 1: € 2000- € 4000 2: € 4000 - € 8000 3: € 8000 - € 10000 4: € 10000 - € 20000 Making in the Increasing Order\n",
        "def budget(num):\n",
        "  if num>=2000 and num<4000:\n",
        "    return 1\n",
        "  elif num>=4000 and num<8000:\n",
        "    return 2\n",
        "  elif num>=8000 and num<10000:\n",
        "    return 3\n",
        "  else:\n",
        "    return 4\n",
        "\n",
        "bud_value = data['Budget'].values\n",
        "bucket_bud = []\n",
        "for num in bud_value:\n",
        "  bucket_bud.append(budget(num))\n",
        "\n",
        "data['Budget_Bucket'] = bucket_bud\n"
      ]
    },
    {
      "cell_type": "markdown",
      "metadata": {
        "id": "JcZpBLFBO_ET"
      },
      "source": [
        "#Case 1: Simple Recommendar Model\n",
        "Steps:\n",
        "1. Taking all the data and converting them to Label Encoding\n",
        "2. Applying the collaborative filtering on the top of it to get the results"
      ]
    },
    {
      "cell_type": "code",
      "execution_count": 5,
      "metadata": {
        "id": "nHTbJnReOe9r"
      },
      "outputs": [],
      "source": [
        "cols = list(data.columns.values)\n",
        "cat_cols = [\"University\",\"Course Name\",\"City\",\"Interest\",\"Job domain\"]\n",
        "num_cols = [\"CAO opening rank\",\"CAO closing rank\"]\n",
        "data1 = data.copy()\n",
        "\n",
        "le_c = preprocessing.LabelEncoder()\n",
        "le_i = preprocessing.LabelEncoder()\n",
        "le_jd = preprocessing.LabelEncoder()\n",
        "le_bd = preprocessing.LabelEncoder()\n",
        "\n",
        "data1['Budget_Bucket'] = data1['Budget_Bucket'].astype('str')\n",
        "data1[\"City\"] = le_c.fit_transform(data1[\"City\"])\n",
        "for elem in data1['City'].unique():\n",
        "    data1['City'+str(elem)] = data1['City'] == elem\n",
        "\n",
        "data1[\"Interest\"] = le_i.fit_transform(data1[\"Interest\"])\n",
        "for elem in data1['Interest'].unique():\n",
        "    data1['Interest'+str(elem)] = data1['Interest'] == elem\n",
        "\n",
        "data1[\"Job domain\"] = le_jd.fit_transform(data1[\"Job domain\"])\n",
        "for elem in data1['Job domain'].unique():\n",
        "    data1['Job domain'+str(elem)] = data1['Job domain'] == elem\n",
        "\n",
        "#data1[\"Budget_Bucket\"] = data1[\"Budget_Bucket\"])\n",
        "for elem in data1['Budget_Bucket'].unique():\n",
        "    data1['budget'+str(elem)] = data1['Budget_Bucket'] == elem\n",
        "\n",
        "for num in num_cols:\n",
        "  data1[num] = data1[num].astype('int')\n",
        "\n",
        "rank_nor = []\n",
        "maxi = 625.0\n",
        "mini = 0.0\n",
        "for num in data1['CAO opening rank'].values:\n",
        "  rank_nor.append(float((num - mini)/(maxi - mini)))\n",
        "\n",
        "data1['CAO opening rank'] = rank_nor\n"
      ]
    },
    {
      "cell_type": "code",
      "execution_count": 7,
      "metadata": {
        "colab": {
          "base_uri": "https://localhost:8080/"
        },
        "id": "wN7i2VcEQyCk",
        "outputId": "24aba8ef-d40f-474d-ac6e-7a38d8eff9de"
      },
      "outputs": [
        {
          "name": "stdout",
          "output_type": "stream",
          "text": [
            "Enter the CAO Points: [Note: Max 625 and min 0 is acceptable] - 500\n",
            "Enter the City Name from the Drop Down: Dublin\n",
            "Enter the filed of interest from the choice: IT\n",
            "Enter your hobby: Cricket\n",
            "Enter the budget: 5000\n"
          ]
        }
      ],
      "source": [
        "data_input = pd.DataFrame()\n",
        "cao_points = input(\"Enter the CAO Points: [Note: Max 625 and min 0 is acceptable] - \")\n",
        "city_name = input(\"Enter the City Name from the Drop Down: \")\n",
        "field_interest = input(\"Enter the filed of interest from the choice: \")\n",
        "hobbies = input(\"Enter your hobby: \")\n",
        "spending_limit = input(\"Enter the budget: \")\n",
        "\n",
        "data_sim = data1.copy()\n",
        "\n",
        "data_input['CAO opening rank'] = [float((int(cao_points)-mini)/(maxi-mini))]\n",
        "data_input['Budget_Bucket'] = [budget(int(spending_limit))]\n",
        "data_input['City'] = [city_name]\n",
        "data_input['Interest'] = [hobbies]\n",
        "data_input['Job domain'] = [field_interest]\n",
        "\n",
        "data_input['City'] = le_c.transform(data_input['City'])\n",
        "for elem in data1['City'].unique():\n",
        "    data_input['City'+str(elem)] = data_input['City'] == elem\n",
        "data_input['Interest'] = le_i.transform(data_input['Interest'])\n",
        "for elem in data1['Interest'].unique():\n",
        "    data_input['Interest'+str(elem)] = data_input['Interest'] == elem\n",
        "data_input['Job domain'] = le_jd.transform(data_input['Job domain'])\n",
        "for elem in data1['Job domain'].unique():\n",
        "    data_input['Job domain'+str(elem)] = data_input['Job domain'] == elem\n",
        "\n",
        "data_input['Budget_Bucket'] = data_input['Budget_Bucket'].astype('str')\n",
        "for elem in data1['Budget_Bucket'].unique():\n",
        "    data_input['budget'+str(elem)] = data_input['Budget_Bucket'] == elem\n",
        "\n",
        "for num in ['University',  'Course Name', 'CAO closing rank', 'Budget', 'City', 'Interest', 'Job domain', 'Budget_Bucket']:\n",
        "  data_sim.pop(num)\n",
        "  try:\n",
        "    data_input.pop(num)\n",
        "  except:\n",
        "    continue\n",
        "\n",
        "\n",
        "pairwise_similarities=np.dot(data_sim.values,data_input.T)/(norm(data_sim.values)*norm(data_input.values))"
      ]
    },
    {
      "cell_type": "code",
      "execution_count": 8,
      "metadata": {
        "id": "FpOK4LzwXXuE"
      },
      "outputs": [],
      "source": [
        "data[\"similarities\"] = pairwise_similarities\n",
        "data_final = data[['University', 'Course Name', 'Budget', 'similarities']]\n",
        "final_df = data_final.sort_values(by=['similarities'], ascending=False)"
      ]
    },
    {
      "cell_type": "code",
      "execution_count": 9,
      "metadata": {
        "colab": {
          "base_uri": "https://localhost:8080/"
        },
        "id": "7gEhB-KEXoyl",
        "outputId": "f285af7d-bab7-4b7c-da34-95a93a314fd2"
      },
      "outputs": [
        {
          "name": "stdout",
          "output_type": "stream",
          "text": [
            "--------------------------------------------------------------------------------------------------\n",
            "------------------------------- Recommendation 1 -------------------------------------------------\n",
            "College Name :  University College Dublin\n",
            "Course Name  :  Structural Engineering with Architecture (DN150)\n",
            "Budget       :  7000\n",
            "--------------------------------------------------------------------------------------------------\n",
            "------------------------------- Recommendation 2 -------------------------------------------------\n",
            "College Name :  University College Dublin\n",
            "Course Name  :  Biomedical Engineering (DN150)\n",
            "Budget       :  6000\n",
            "--------------------------------------------------------------------------------------------------\n",
            "------------------------------- Recommendation 3 -------------------------------------------------\n",
            "College Name :  Dublin City University\n",
            "Course Name  :  Common Entry into Engineering (DC200)\n",
            "Budget       :  6750\n",
            "--------------------------------------------------------------------------------------------------\n",
            "------------------------------- Recommendation 4 -------------------------------------------------\n",
            "College Name :  Dublin City University\n",
            "Course Name  :  Electronic and Computer Engineering (DC190)\n",
            "Budget       :  7500\n",
            "--------------------------------------------------------------------------------------------------\n",
            "------------------------------- Recommendation 5 -------------------------------------------------\n",
            "College Name :  Technological University Dublin (Blanchardstown)\n",
            "Course Name  :  Higher Certificate in Science in Computing in Networking Technologies\n",
            "Budget       :  7000\n",
            "--------------------------------------------------------------------------------------------------\n"
          ]
        }
      ],
      "source": [
        "print(\"--------------------------------------------------------------------------------------------------\")\n",
        "print(\"------------------------------- Recommendation 1 -------------------------------------------------\")\n",
        "print(\"College Name : \", np.asscalar(final_df.head(1)[\"University\"].values))\n",
        "print(\"Course Name  : \", np.asscalar(final_df.head(1)[\"Course Name\"].values))\n",
        "print(\"Budget       : \", np.asscalar(final_df.head(1)[\"Budget\"].values))\n",
        "print(\"--------------------------------------------------------------------------------------------------\")\n",
        "print(\"------------------------------- Recommendation 2 -------------------------------------------------\")\n",
        "print(\"College Name : \", np.asscalar(final_df.head(2).tail(1)[\"University\"].values))\n",
        "print(\"Course Name  : \", np.asscalar(final_df.head(2).tail(1)[\"Course Name\"].values))\n",
        "print(\"Budget       : \", np.asscalar(final_df.head(2).tail(1)[\"Budget\"].values))\n",
        "print(\"--------------------------------------------------------------------------------------------------\")\n",
        "print(\"------------------------------- Recommendation 3 -------------------------------------------------\")\n",
        "print(\"College Name : \", np.asscalar(final_df.head(3).tail(1)[\"University\"].values))\n",
        "print(\"Course Name  : \", np.asscalar(final_df.head(3).tail(1)[\"Course Name\"].values))\n",
        "print(\"Budget       : \", np.asscalar(final_df.head(3).tail(1)[\"Budget\"].values))\n",
        "print(\"--------------------------------------------------------------------------------------------------\")\n",
        "print(\"------------------------------- Recommendation 4 -------------------------------------------------\")\n",
        "print(\"College Name : \", np.asscalar(final_df.head(4).tail(1)[\"University\"].values))\n",
        "print(\"Course Name  : \", np.asscalar(final_df.head(4).tail(1)[\"Course Name\"].values))\n",
        "print(\"Budget       : \", np.asscalar(final_df.head(4).tail(1)[\"Budget\"].values))\n",
        "print(\"--------------------------------------------------------------------------------------------------\")\n",
        "print(\"------------------------------- Recommendation 5 -------------------------------------------------\")\n",
        "print(\"College Name : \", np.asscalar(final_df.head(5).tail(1)[\"University\"].values))\n",
        "print(\"Course Name  : \", np.asscalar(final_df.head(5).tail(1)[\"Course Name\"].values))\n",
        "print(\"Budget       : \", np.asscalar(final_df.head(5).tail(1)[\"Budget\"].values))\n",
        "print(\"--------------------------------------------------------------------------------------------------\")"
      ]
    },
    {
      "cell_type": "markdown",
      "metadata": {
        "id": "8xKo_RfbvW2p"
      },
      "source": [
        "#Case 2: Sampling Recommendar Model\n",
        "Steps:\n",
        "1. Taking all the data and converting them to Label Encoding\n",
        "2. Getting the sample of the dataset to make a final sample\n",
        "3. Applying the collaborative filtering on the top of it to get the results"
      ]
    },
    {
      "cell_type": "code",
      "execution_count": 10,
      "metadata": {
        "id": "n4eogFl8Ze0A"
      },
      "outputs": [],
      "source": [
        "## Calling the dataframe\n",
        "data = pd.read_excel(\"Recommender_Dataset.xlsx\")"
      ]
    },
    {
      "cell_type": "code",
      "execution_count": 11,
      "metadata": {
        "id": "c60BZVOkVEah"
      },
      "outputs": [],
      "source": [
        "## making the buckets for the Budget\n",
        "## 1: € 2000- € 4000 2: € 4000 - € 8000 3: € 8000 - € 10000 4: € 10000 - € 20000 Making in the Increasing Order\n",
        "def budget(num):\n",
        "  if num>=2000 and num<4000:\n",
        "    return 1\n",
        "  elif num>=4000 and num<8000:\n",
        "    return 2\n",
        "  elif num>=8000 and num<10000:\n",
        "    return 3\n",
        "  else:\n",
        "    return 4\n",
        "\n",
        "bud_value = data['Budget'].values\n",
        "bucket_bud = []\n",
        "for num in bud_value:\n",
        "  bucket_bud.append(budget(num))\n",
        "\n",
        "data['Budget_Bucket'] = bucket_bud"
      ]
    },
    {
      "cell_type": "code",
      "execution_count": 12,
      "metadata": {
        "id": "lJrGDh4sVKiz"
      },
      "outputs": [],
      "source": [
        "cols = list(data.columns.values)\n",
        "cat_cols = [\"University\",\"Course Name\",\"City\",\"Interest\",\"Job domain\"]\n",
        "num_cols = [\"CAO opening rank\",\"CAO closing rank\"]\n",
        "data1 = data.copy()\n",
        "\n",
        "le_c = preprocessing.LabelEncoder()\n",
        "le_i = preprocessing.LabelEncoder()\n",
        "le_jd = preprocessing.LabelEncoder()\n",
        "le_bd = preprocessing.LabelEncoder()\n",
        "\n",
        "data1['Budget_Bucket'] = data1['Budget_Bucket'].astype('str')\n",
        "data1[\"City\"] = le_c.fit_transform(data1[\"City\"])\n",
        "for elem in data1['City'].unique():\n",
        "    data1['City'+str(elem)] = data1['City'] == elem\n",
        "\n",
        "data1[\"Interest\"] = le_i.fit_transform(data1[\"Interest\"])\n",
        "for elem in data1['Interest'].unique():\n",
        "    data1['Interest'+str(elem)] = data1['Interest'] == elem\n",
        "\n",
        "data1[\"Job domain\"] = le_jd.fit_transform(data1[\"Job domain\"])\n",
        "for elem in data1['Job domain'].unique():\n",
        "    data1['Job domain'+str(elem)] = data1['Job domain'] == elem\n",
        "\n",
        "#data1[\"Budget_Bucket\"] = data1[\"Budget_Bucket\"])\n",
        "for elem in data1['Budget_Bucket'].unique():\n",
        "    data1['budget'+str(elem)] = data1['Budget_Bucket'] == elem\n",
        "\n",
        "for num in num_cols:\n",
        "  data1[num] = data1[num].astype('int')\n",
        "\n",
        "rank_nor = []\n",
        "maxi = 625.0\n",
        "mini = 0.0\n",
        "for num in data1['CAO opening rank'].values:\n",
        "  rank_nor.append(float((num - mini)/(maxi - mini)))\n",
        "\n",
        "data1['CAO opening rank'] = rank_nor"
      ]
    },
    {
      "cell_type": "code",
      "execution_count": 13,
      "metadata": {
        "colab": {
          "base_uri": "https://localhost:8080/"
        },
        "id": "7Ch1Ry-1VUzJ",
        "outputId": "980271ea-dc66-4b9c-f100-90162d94fc2e"
      },
      "outputs": [
        {
          "name": "stdout",
          "output_type": "stream",
          "text": [
            "Enter the CAO Points: [Note: Max 625 and min 0 is acceptable] - 500\n",
            "Enter the City Name from the Drop Down: Dublin\n",
            "Enter the filed of interest from the choice: IT\n",
            "Enter your hobby: Cricket\n",
            "Enter the budget: 5000\n"
          ]
        }
      ],
      "source": [
        "data_input = pd.DataFrame()\n",
        "cao_points = input(\"Enter the CAO Points: [Note: Max 625 and min 0 is acceptable] - \")\n",
        "city_name = input(\"Enter the City Name from the Drop Down: \")\n",
        "field_interest = input(\"Enter the filed of interest from the choice: \")\n",
        "hobbies = input(\"Enter your hobby: \")\n",
        "spending_limit = input(\"Enter the budget: \")\n",
        "\n",
        "def best_datasample(data, city_name, field_interest):\n",
        "  data1 = data[data['City']==city_name]\n",
        "  if data1.shape[0] == 0:\n",
        "    data1 = data\n",
        "\n",
        "  data2 = data1[data1['Job domain']==field_interest]\n",
        "  if data2.shape[0] == 0:\n",
        "    data2 = data1\n",
        "  return data2\n",
        "\n",
        "data_sim = best_datasample(data1, city_name, field_interest)\n",
        "\n",
        "data_input['CAO opening rank'] = [float((int(cao_points)-mini)/(maxi-mini))]\n",
        "data_input['Budget_Bucket'] = [budget(int(spending_limit))]\n",
        "data_input['City'] = [city_name]\n",
        "data_input['Interest'] = [hobbies]\n",
        "data_input['Job domain'] = [field_interest]\n",
        "\n",
        "data_input['City'] = le_c.transform(data_input['City'])\n",
        "for elem in data1['City'].unique():\n",
        "    data_input['City'+str(elem)] = data_input['City'] == elem\n",
        "data_input['Interest'] = le_i.transform(data_input['Interest'])\n",
        "for elem in data1['Interest'].unique():\n",
        "    data_input['Interest'+str(elem)] = data_input['Interest'] == elem\n",
        "data_input['Job domain'] = le_jd.transform(data_input['Job domain'])\n",
        "for elem in data1['Job domain'].unique():\n",
        "    data_input['Job domain'+str(elem)] = data_input['Job domain'] == elem\n",
        "\n",
        "data_input['Budget_Bucket'] = data_input['Budget_Bucket'].astype('str')\n",
        "for elem in data1['Budget_Bucket'].unique():\n",
        "    data_input['budget'+str(elem)] = data_input['Budget_Bucket'] == elem\n",
        "\n",
        "for num in ['University',  'Course Name', 'CAO closing rank', 'Budget', 'City', 'Interest', 'Job domain', 'Budget_Bucket']:\n",
        "  data_sim.pop(num)\n",
        "  try:\n",
        "    data_input.pop(num)\n",
        "  except:\n",
        "    continue\n",
        "\n",
        "\n",
        "pairwise_similarities=np.dot(data_sim.values,data_input.T)/(norm(data_sim.values)*norm(data_input.values))"
      ]
    },
    {
      "cell_type": "code",
      "execution_count": 14,
      "metadata": {
        "id": "YRQHDnEsWgI9"
      },
      "outputs": [],
      "source": [
        "data[\"similarities\"] = pairwise_similarities\n",
        "data_final = data[['University', 'Course Name', 'Budget', 'similarities']]\n",
        "final_df = data_final.sort_values(by=['similarities'], ascending=False)"
      ]
    },
    {
      "cell_type": "code",
      "execution_count": 15,
      "metadata": {
        "colab": {
          "base_uri": "https://localhost:8080/"
        },
        "id": "nyE0OBp_WnwO",
        "outputId": "eb0d964a-9012-4592-d133-27560a3f916e"
      },
      "outputs": [
        {
          "name": "stdout",
          "output_type": "stream",
          "text": [
            "--------------------------------------------------------------------------------------------------\n",
            "------------------------------- Recommendation 1 -------------------------------------------------\n",
            "College Name :  University College Dublin\n",
            "Course Name  :  Structural Engineering with Architecture (DN150)\n",
            "Budget       :  7000\n",
            "--------------------------------------------------------------------------------------------------\n",
            "------------------------------- Recommendation 2 -------------------------------------------------\n",
            "College Name :  University College Dublin\n",
            "Course Name  :  Biomedical Engineering (DN150)\n",
            "Budget       :  6000\n",
            "--------------------------------------------------------------------------------------------------\n",
            "------------------------------- Recommendation 3 -------------------------------------------------\n",
            "College Name :  Dublin City University\n",
            "Course Name  :  Common Entry into Engineering (DC200)\n",
            "Budget       :  6750\n",
            "--------------------------------------------------------------------------------------------------\n",
            "------------------------------- Recommendation 4 -------------------------------------------------\n",
            "College Name :  Dublin City University\n",
            "Course Name  :  Electronic and Computer Engineering (DC190)\n",
            "Budget       :  7500\n",
            "--------------------------------------------------------------------------------------------------\n",
            "------------------------------- Recommendation 5 -------------------------------------------------\n",
            "College Name :  Technological University Dublin (Blanchardstown)\n",
            "Course Name  :  Higher Certificate in Science in Computing in Networking Technologies\n",
            "Budget       :  7000\n",
            "--------------------------------------------------------------------------------------------------\n"
          ]
        }
      ],
      "source": [
        "print(\"--------------------------------------------------------------------------------------------------\")\n",
        "print(\"------------------------------- Recommendation 1 -------------------------------------------------\")\n",
        "print(\"College Name : \", np.asscalar(final_df.head(1)[\"University\"].values))\n",
        "print(\"Course Name  : \", np.asscalar(final_df.head(1)[\"Course Name\"].values))\n",
        "print(\"Budget       : \", np.asscalar(final_df.head(1)[\"Budget\"].values))\n",
        "print(\"--------------------------------------------------------------------------------------------------\")\n",
        "print(\"------------------------------- Recommendation 2 -------------------------------------------------\")\n",
        "print(\"College Name : \", np.asscalar(final_df.head(2).tail(1)[\"University\"].values))\n",
        "print(\"Course Name  : \", np.asscalar(final_df.head(2).tail(1)[\"Course Name\"].values))\n",
        "print(\"Budget       : \", np.asscalar(final_df.head(2).tail(1)[\"Budget\"].values))\n",
        "print(\"--------------------------------------------------------------------------------------------------\")\n",
        "print(\"------------------------------- Recommendation 3 -------------------------------------------------\")\n",
        "print(\"College Name : \", np.asscalar(final_df.head(3).tail(1)[\"University\"].values))\n",
        "print(\"Course Name  : \", np.asscalar(final_df.head(3).tail(1)[\"Course Name\"].values))\n",
        "print(\"Budget       : \", np.asscalar(final_df.head(3).tail(1)[\"Budget\"].values))\n",
        "print(\"--------------------------------------------------------------------------------------------------\")\n",
        "print(\"------------------------------- Recommendation 4 -------------------------------------------------\")\n",
        "print(\"College Name : \", np.asscalar(final_df.head(4).tail(1)[\"University\"].values))\n",
        "print(\"Course Name  : \", np.asscalar(final_df.head(4).tail(1)[\"Course Name\"].values))\n",
        "print(\"Budget       : \", np.asscalar(final_df.head(4).tail(1)[\"Budget\"].values))\n",
        "print(\"--------------------------------------------------------------------------------------------------\")\n",
        "print(\"------------------------------- Recommendation 5 -------------------------------------------------\")\n",
        "print(\"College Name : \", np.asscalar(final_df.head(5).tail(1)[\"University\"].values))\n",
        "print(\"Course Name  : \", np.asscalar(final_df.head(5).tail(1)[\"Course Name\"].values))\n",
        "print(\"Budget       : \", np.asscalar(final_df.head(5).tail(1)[\"Budget\"].values))\n",
        "print(\"--------------------------------------------------------------------------------------------------\")"
      ]
    },
    {
      "cell_type": "code",
      "execution_count": null,
      "metadata": {
        "id": "luBswvyOX-Kf"
      },
      "outputs": [],
      "source": []
    }
  ],
  "metadata": {
    "colab": {
      "provenance": []
    },
    "kernelspec": {
      "display_name": "Python 3",
      "name": "python3"
    },
    "language_info": {
      "name": "python"
    }
  },
  "nbformat": 4,
  "nbformat_minor": 0
}
