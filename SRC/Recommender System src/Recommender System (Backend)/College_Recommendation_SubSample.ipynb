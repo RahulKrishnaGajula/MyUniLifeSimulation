{
  "cells": [
    {
      "cell_type": "code",
      "execution_count": 1,
      "metadata": {
        "id": "_SIbniTuLoK2"
      },
      "outputs": [],
      "source": [
        "import pandas as pd\n",
        "import numpy as np\n",
        "import math\n",
        "from numpy.linalg import norm\n",
        "from sklearn.preprocessing import OneHotEncoder\n",
        "from sklearn import preprocessing\n",
        "\n",
        "import warnings\n",
        "warnings.filterwarnings(\"ignore\")"
      ]
    },
    {
      "cell_type": "code",
      "execution_count": 2,
      "metadata": {
        "id": "MykQ47R9KI9S"
      },
      "outputs": [],
      "source": [
        "## Calling the dataframe\n",
        "data = pd.read_excel(\"Recommender_Dataset (1).xlsx\")"
      ]
    },
    {
      "cell_type": "code",
      "execution_count": 3,
      "metadata": {
        "id": "PO04LwlLMMOB"
      },
      "outputs": [],
      "source": [
        "## making the buckets for the Budget\n",
        "## 1: € 2000- € 4000 2: € 4000 - € 8000 3: € 8000 - € 10000 4: € 10000 - € 20000 Making in the Increasing Order\n",
        "def budget(num):\n",
        "  if num>=2000 and num<4000:\n",
        "    return 1\n",
        "  elif num>=4000 and num<8000:\n",
        "    return 2\n",
        "  elif num>=8000 and num<10000:\n",
        "    return 3\n",
        "  else:\n",
        "    return 4\n",
        "\n",
        "bud_value = data['Budget'].values\n",
        "bucket_bud = []\n",
        "for num in bud_value:\n",
        "  bucket_bud.append(budget(num))\n",
        "\n",
        "data['Budget_Bucket'] = bucket_bud\n"
      ]
    },
    {
      "cell_type": "markdown",
      "metadata": {
        "id": "JcZpBLFBO_ET"
      },
      "source": [
        "#Case 1: Simple Recommendar Model\n",
        "Steps:\n",
        "1. Taking all the data and converting them to Label Encoding\n",
        "2. Applying the collaborative filtering on the top of it to get the results"
      ]
    },
    {
      "cell_type": "code",
      "execution_count": 4,
      "metadata": {
        "id": "nHTbJnReOe9r"
      },
      "outputs": [],
      "source": [
        "cols = list(data.columns.values)\n",
        "cat_cols = [\"University\",\"Course Name\",\"City\",\"Interest\",\"Job domain\"]\n",
        "num_cols = [\"CAO opening rank\",\"CAO closing rank\"]\n",
        "data1 = data.copy()\n",
        "\n",
        "le_c = preprocessing.LabelEncoder()\n",
        "le_i = preprocessing.LabelEncoder()\n",
        "le_jd = preprocessing.LabelEncoder()\n",
        "le_bd = preprocessing.LabelEncoder()\n",
        "\n",
        "data1['Budget_Bucket'] = data1['Budget_Bucket'].astype('str')\n",
        "data1[\"City\"] = le_c.fit_transform(data1[\"City\"])\n",
        "for elem in data1['City'].unique():\n",
        "    data1['City'+str(elem)] = data1['City'] == elem\n",
        "\n",
        "data1[\"Interest\"] = le_i.fit_transform(data1[\"Interest\"])\n",
        "for elem in data1['Interest'].unique():\n",
        "    data1['Interest'+str(elem)] = data1['Interest'] == elem\n",
        "\n",
        "data1[\"Job domain\"] = le_jd.fit_transform(data1[\"Job domain\"])\n",
        "for elem in data1['Job domain'].unique():\n",
        "    data1['Job domain'+str(elem)] = data1['Job domain'] == elem\n",
        "\n",
        "#data1[\"Budget_Bucket\"] = data1[\"Budget_Bucket\"])\n",
        "for elem in data1['Budget_Bucket'].unique():\n",
        "    data1['budget'+str(elem)] = data1['Budget_Bucket'] == elem\n",
        "\n",
        "for num in num_cols:\n",
        "  data1[num] = data1[num].astype('int')\n",
        "\n",
        "rank_nor = []\n",
        "maxi = 625.0\n",
        "mini = 0.0\n",
        "for num in data1['CAO opening rank'].values:\n",
        "  rank_nor.append(float((num - mini)/(maxi - mini)))\n",
        "\n",
        "data1['CAO opening rank'] = rank_nor\n"
      ]
    },
    {
      "cell_type": "code",
      "execution_count": 5,
      "metadata": {},
      "outputs": [],
      "source": [
        "from flask import Flask, request, render_template\n",
        "from flask_cors import cross_origin\n",
        "import sklearn\n",
        "import pickle\n",
        "import pandas as pd\n",
        "\n",
        "app = Flask(__name__)\n",
        "@app.route(\"/\")\n",
        "@cross_origin()\n",
        "def home():\n",
        "    return render_template(\"home.html\")\n",
        "\n",
        "@app.route(\"/recommend\", methods = [\"GET\", \"POST\"])\n",
        "@cross_origin()\n",
        "def recommend():\n",
        "    if request.method == \"POST\":       \n",
        "\n",
        "\n",
        "        #   Receive inputs from Post req\n",
        "        print('made inside post req')\n",
        "        content = request.json\n",
        "        print(content)"
      ]
    },
    {
      "cell_type": "code",
      "execution_count": 6,
      "metadata": {
        "colab": {
          "base_uri": "https://localhost:8080/"
        },
        "id": "wN7i2VcEQyCk",
        "outputId": "24aba8ef-d40f-474d-ac6e-7a38d8eff9de"
      },
      "outputs": [
        {
          "name": "stdout",
          "output_type": "stream",
          "text": [
            " * Serving Flask app '__main__'\n",
            " * Debug mode: on\n"
          ]
        },
        {
          "name": "stderr",
          "output_type": "stream",
          "text": [
            "WARNING: This is a development server. Do not use it in a production deployment. Use a production WSGI server instead.\n",
            " * Running on http://127.0.0.1:5000\n",
            "Press CTRL+C to quit\n",
            "127.0.0.1 - - [21/Nov/2022 18:51:20] \"GET / HTTP/1.1\" 200 -\n",
            "127.0.0.1 - - [21/Nov/2022 18:51:20] \"GET /static/css/styles.css HTTP/1.1\" 304 -\n",
            "127.0.0.1 - - [21/Nov/2022 18:51:21] \"POST /predict HTTP/1.1\" 500 -\n",
            "Traceback (most recent call last):\n",
            "  File \"c:\\Users\\rgons\\AppData\\Local\\Programs\\Python\\Python310\\lib\\site-packages\\flask\\app.py\", line 2548, in __call__\n",
            "    return self.wsgi_app(environ, start_response)\n",
            "  File \"c:\\Users\\rgons\\AppData\\Local\\Programs\\Python\\Python310\\lib\\site-packages\\flask\\app.py\", line 2528, in wsgi_app\n",
            "    response = self.handle_exception(e)\n",
            "  File \"c:\\Users\\rgons\\AppData\\Local\\Programs\\Python\\Python310\\lib\\site-packages\\flask\\app.py\", line 2525, in wsgi_app\n",
            "    response = self.full_dispatch_request()\n",
            "  File \"c:\\Users\\rgons\\AppData\\Local\\Programs\\Python\\Python310\\lib\\site-packages\\flask\\app.py\", line 1822, in full_dispatch_request\n",
            "    rv = self.handle_user_exception(e)\n",
            "  File \"c:\\Users\\rgons\\AppData\\Local\\Programs\\Python\\Python310\\lib\\site-packages\\flask\\app.py\", line 1820, in full_dispatch_request\n",
            "    rv = self.dispatch_request()\n",
            "  File \"c:\\Users\\rgons\\AppData\\Local\\Programs\\Python\\Python310\\lib\\site-packages\\flask\\app.py\", line 1796, in dispatch_request\n",
            "    return self.ensure_sync(self.view_functions[rule.endpoint])(**view_args)\n",
            "  File \"c:\\Users\\rgons\\AppData\\Local\\Programs\\Python\\Python310\\lib\\site-packages\\flask_cors\\decorator.py\", line 128, in wrapped_function\n",
            "    resp = make_response(f(*args, **kwargs))\n",
            "  File \"C:\\Users\\rgons\\AppData\\Local\\Temp/ipykernel_62772/1765742246.py\", line 56, in predict\n",
            "    pairwise_similarities=np.dot(data_sim.values,data_input.T)/(norm(data_sim.values)*norm(data_input.values))\n",
            "  File \"<__array_function__ internals>\", line 5, in dot\n",
            "TypeError: unsupported operand type(s) for +: 'float' and 'str'\n",
            "127.0.0.1 - - [21/Nov/2022 18:51:21] \"GET /predict?__debugger__=yes&cmd=resource&f=style.css HTTP/1.1\" 304 -\n",
            "127.0.0.1 - - [21/Nov/2022 18:51:21] \"GET /predict?__debugger__=yes&cmd=resource&f=debugger.js HTTP/1.1\" 304 -\n",
            "127.0.0.1 - - [21/Nov/2022 18:51:21] \"GET /predict?__debugger__=yes&cmd=resource&f=console.png HTTP/1.1\" 304 -\n"
          ]
        }
      ],
      "source": [
        "from flask import Flask, request, render_template\n",
        "from flask_cors import cross_origin\n",
        "import sklearn\n",
        "import pickle\n",
        "import pandas as pd\n",
        "\n",
        "app = Flask(__name__)\n",
        "@app.route(\"/\")\n",
        "@cross_origin()\n",
        "def home():\n",
        "    return render_template(\"home.html\")\n",
        "\n",
        "@app.route(\"/predict\", methods = [\"GET\", \"POST\"])\n",
        "@cross_origin()\n",
        "def predict():\n",
        "    if request.method == \"POST\":       \n",
        "\n",
        "        \n",
        "        data_input = pd.DataFrame()\n",
        "        cao_points = 500 #request.args.get('reading_and_writing_skills')#input(\"Enter the CAO Points: [Note: Max 625 and min 0 is acceptable] - \")\n",
        "        city_name = request.form[\"city_name\"]\n",
        "        field_interest = request.form[\"field_interest\"]\n",
        "        hobbies = request.form[\"hobbies\"]\n",
        "        spending_limit = 5000 #request.args.get[\"reading_and_writing_skills\"]#input(\"Enter the budget: \")\n",
        "\n",
        "        data_sim = data1.copy()\n",
        "\n",
        "        data_input['CAO opening rank'] = [float((int(cao_points)-mini)/(maxi-mini))]\n",
        "        data_input['Budget_Bucket'] = [budget(int(spending_limit))]\n",
        "        data_input['City'] = [city_name]\n",
        "        data_input['Interest'] = [hobbies]\n",
        "        data_input['Job domain'] = [field_interest]\n",
        "\n",
        "        data_input['City'] = le_c.transform(data_input['City'])\n",
        "        for elem in data1['City'].unique():\n",
        "            data_input['City'+str(elem)] = data_input['City'] == elem\n",
        "        data_input['Interest'] = le_i.transform(data_input['Interest'])\n",
        "        for elem in data1['Interest'].unique():\n",
        "            data_input['Interest'+str(elem)] = data_input['Interest'] == elem\n",
        "        data_input['Job domain'] = le_jd.transform(data_input['Job domain'])\n",
        "        for elem in data1['Job domain'].unique():\n",
        "            data_input['Job domain'+str(elem)] = data_input['Job domain'] == elem\n",
        "\n",
        "        data_input['Budget_Bucket'] = data_input['Budget_Bucket'].astype('str')\n",
        "        for elem in data1['Budget_Bucket'].unique():\n",
        "            data_input['budget'+str(elem)] = data_input['Budget_Bucket'] == elem\n",
        "\n",
        "    for num in ['University',  'Course Name', 'CAO closing rank', 'Budget', 'City', 'Interest', 'Job domain', 'Budget_Bucket']:\n",
        "        data_sim.pop(num)\n",
        "        try:\n",
        "            data_input.pop(num)\n",
        "        except:\n",
        "                 continue\n",
        "\n",
        "           \n",
        "\n",
        "\n",
        "    pairwise_similarities=np.dot(data_sim.values,data_input.T)/(norm(data_sim.values)*norm(data_input.values))\n",
        "\n",
        "    data[\"similarities\"] = pairwise_similarities\n",
        "    data_final = data[['University', 'Course Name', 'Budget', 'similarities']]\n",
        "    final_df = data_final.sort_values(by=['similarities'], ascending=False)\n",
        "\n",
        "\n",
        "    print(\"Course Name  : \", np.asscalar(final_df.head(1)[\"Course Name\"].values))\n",
        "\n",
        "    output=(np.asscalar(final_df.head(1)[\"Course Name\"].values))\n",
        "        \n",
        "    print(output)\n",
        "\n",
        "    return render_template('home.html',prediction_text=\"The Course for you is. {}\".format(output))\n",
        "\n",
        "    return render_template(\"home.html\")\n",
        "\n",
        "\n",
        "\n",
        "if __name__ == \"__main__\":\n",
        "     app.run(debug=True,use_reloader=False)\n"
      ]
    },
    {
      "cell_type": "code",
      "execution_count": null,
      "metadata": {
        "id": "FpOK4LzwXXuE"
      },
      "outputs": [
        {
          "ename": "NameError",
          "evalue": "name 'pairwise_similarities' is not defined",
          "output_type": "error",
          "traceback": [
            "\u001b[1;31m---------------------------------------------------------------------------\u001b[0m",
            "\u001b[1;31mNameError\u001b[0m                                 Traceback (most recent call last)",
            "\u001b[1;32m~\\AppData\\Local\\Temp/ipykernel_105732/1952391315.py\u001b[0m in \u001b[0;36m<module>\u001b[1;34m\u001b[0m\n\u001b[1;32m----> 1\u001b[1;33m \u001b[0mdata\u001b[0m\u001b[1;33m[\u001b[0m\u001b[1;34m\"similarities\"\u001b[0m\u001b[1;33m]\u001b[0m \u001b[1;33m=\u001b[0m \u001b[0mpairwise_similarities\u001b[0m\u001b[1;33m\u001b[0m\u001b[1;33m\u001b[0m\u001b[0m\n\u001b[0m\u001b[0;32m      2\u001b[0m \u001b[0mdata_final\u001b[0m \u001b[1;33m=\u001b[0m \u001b[0mdata\u001b[0m\u001b[1;33m[\u001b[0m\u001b[1;33m[\u001b[0m\u001b[1;34m'University'\u001b[0m\u001b[1;33m,\u001b[0m \u001b[1;34m'Course Name'\u001b[0m\u001b[1;33m,\u001b[0m \u001b[1;34m'Budget'\u001b[0m\u001b[1;33m,\u001b[0m \u001b[1;34m'similarities'\u001b[0m\u001b[1;33m]\u001b[0m\u001b[1;33m]\u001b[0m\u001b[1;33m\u001b[0m\u001b[1;33m\u001b[0m\u001b[0m\n\u001b[0;32m      3\u001b[0m \u001b[0mfinal_df\u001b[0m \u001b[1;33m=\u001b[0m \u001b[0mdata_final\u001b[0m\u001b[1;33m.\u001b[0m\u001b[0msort_values\u001b[0m\u001b[1;33m(\u001b[0m\u001b[0mby\u001b[0m\u001b[1;33m=\u001b[0m\u001b[1;33m[\u001b[0m\u001b[1;34m'similarities'\u001b[0m\u001b[1;33m]\u001b[0m\u001b[1;33m,\u001b[0m \u001b[0mascending\u001b[0m\u001b[1;33m=\u001b[0m\u001b[1;32mFalse\u001b[0m\u001b[1;33m)\u001b[0m\u001b[1;33m\u001b[0m\u001b[1;33m\u001b[0m\u001b[0m\n",
            "\u001b[1;31mNameError\u001b[0m: name 'pairwise_similarities' is not defined"
          ]
        }
      ],
      "source": [
        "data[\"similarities\"] = pairwise_similarities\n",
        "data_final = data[['University', 'Course Name', 'Budget', 'similarities']]\n",
        "final_df = data_final.sort_values(by=['similarities'], ascending=False)"
      ]
    },
    {
      "cell_type": "code",
      "execution_count": 12,
      "metadata": {
        "colab": {
          "base_uri": "https://localhost:8080/"
        },
        "id": "7gEhB-KEXoyl",
        "outputId": "f285af7d-bab7-4b7c-da34-95a93a314fd2"
      },
      "outputs": [
        {
          "name": "stdout",
          "output_type": "stream",
          "text": [
            "--------------------------------------------------------------------------------------------------\n",
            "------------------------------- Recommendation 1 -------------------------------------------------\n",
            "College Name :  University College Dublin\n",
            "Course Name  :  Structural Engineering with Architecture (DN150)\n",
            "Budget       :  7000\n",
            "--------------------------------------------------------------------------------------------------\n",
            "------------------------------- Recommendation 2 -------------------------------------------------\n",
            "College Name :  University College Dublin\n",
            "Course Name  :  Biomedical Engineering (DN150)\n",
            "Budget       :  6000\n",
            "--------------------------------------------------------------------------------------------------\n",
            "------------------------------- Recommendation 3 -------------------------------------------------\n",
            "College Name :  Dublin City University\n",
            "Course Name  :  Common Entry into Engineering (DC200)\n",
            "Budget       :  6750\n",
            "--------------------------------------------------------------------------------------------------\n",
            "------------------------------- Recommendation 4 -------------------------------------------------\n",
            "College Name :  Dublin City University\n",
            "Course Name  :  Electronic and Computer Engineering (DC190)\n",
            "Budget       :  7500\n",
            "--------------------------------------------------------------------------------------------------\n",
            "------------------------------- Recommendation 5 -------------------------------------------------\n",
            "College Name :  Technological University Dublin (Blanchardstown)\n",
            "Course Name  :  Higher Certificate in Science in Computing in Networking Technologies\n",
            "Budget       :  7000\n",
            "--------------------------------------------------------------------------------------------------\n"
          ]
        }
      ],
      "source": [
        "print(\"--------------------------------------------------------------------------------------------------\")\n",
        "print(\"------------------------------- Recommendation 1 -------------------------------------------------\")\n",
        "print(\"College Name : \", np.asscalar(final_df.head(1)[\"University\"].values))\n",
        "print(\"Course Name  : \", np.asscalar(final_df.head(1)[\"Course Name\"].values))\n",
        "print(\"Budget       : \", np.asscalar(final_df.head(1)[\"Budget\"].values))\n",
        "print(\"--------------------------------------------------------------------------------------------------\")\n",
        "print(\"------------------------------- Recommendation 2 -------------------------------------------------\")\n",
        "print(\"College Name : \", np.asscalar(final_df.head(2).tail(1)[\"University\"].values))\n",
        "print(\"Course Name  : \", np.asscalar(final_df.head(2).tail(1)[\"Course Name\"].values))\n",
        "print(\"Budget       : \", np.asscalar(final_df.head(2).tail(1)[\"Budget\"].values))\n",
        "print(\"--------------------------------------------------------------------------------------------------\")\n",
        "print(\"------------------------------- Recommendation 3 -------------------------------------------------\")\n",
        "print(\"College Name : \", np.asscalar(final_df.head(3).tail(1)[\"University\"].values))\n",
        "print(\"Course Name  : \", np.asscalar(final_df.head(3).tail(1)[\"Course Name\"].values))\n",
        "print(\"Budget       : \", np.asscalar(final_df.head(3).tail(1)[\"Budget\"].values))\n",
        "print(\"--------------------------------------------------------------------------------------------------\")\n",
        "print(\"------------------------------- Recommendation 4 -------------------------------------------------\")\n",
        "print(\"College Name : \", np.asscalar(final_df.head(4).tail(1)[\"University\"].values))\n",
        "print(\"Course Name  : \", np.asscalar(final_df.head(4).tail(1)[\"Course Name\"].values))\n",
        "print(\"Budget       : \", np.asscalar(final_df.head(4).tail(1)[\"Budget\"].values))\n",
        "print(\"--------------------------------------------------------------------------------------------------\")\n",
        "print(\"------------------------------- Recommendation 5 -------------------------------------------------\")\n",
        "print(\"College Name : \", np.asscalar(final_df.head(5).tail(1)[\"University\"].values))\n",
        "print(\"Course Name  : \", np.asscalar(final_df.head(5).tail(1)[\"Course Name\"].values))\n",
        "print(\"Budget       : \", np.asscalar(final_df.head(5).tail(1)[\"Budget\"].values))\n",
        "print(\"--------------------------------------------------------------------------------------------------\")"
      ]
    },
    {
      "cell_type": "code",
      "execution_count": 29,
      "metadata": {},
      "outputs": [],
      "source": [
        "# from flask import Flask, request, render_template\n",
        "# from flask_cors import cross_origin\n",
        "# import sklearn\n",
        "# import pickle\n",
        "# import pandas as pd\n"
      ]
    },
    {
      "cell_type": "code",
      "execution_count": null,
      "metadata": {},
      "outputs": [],
      "source": []
    }
  ],
  "metadata": {
    "colab": {
      "provenance": []
    },
    "kernelspec": {
      "display_name": "Python 3.10.7 64-bit",
      "language": "python",
      "name": "python3"
    },
    "language_info": {
      "codemirror_mode": {
        "name": "ipython",
        "version": 3
      },
      "file_extension": ".py",
      "mimetype": "text/x-python",
      "name": "python",
      "nbconvert_exporter": "python",
      "pygments_lexer": "ipython3",
      "version": "3.10.7"
    },
    "vscode": {
      "interpreter": {
        "hash": "e04e848db81a18378cdd68d7006b9d63f468d3f756306ff2131a423ec92f1452"
      }
    }
  },
  "nbformat": 4,
  "nbformat_minor": 0
}
