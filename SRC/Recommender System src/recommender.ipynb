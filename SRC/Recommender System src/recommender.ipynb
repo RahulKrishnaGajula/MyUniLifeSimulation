{
 "cells": [
  {
   "cell_type": "code",
   "execution_count": 1,
   "id": "67cafc96-4c38-45ad-8d22-053af67e70aa",
   "metadata": {},
   "outputs": [],
   "source": [
    "import pandas as pd\n",
    "import numpy as np\n",
    "from sklearn.preprocessing import LabelEncoder\n",
    "from sklearn.svm import SVC\n",
    "import pickle\n",
    "from sklearn.metrics.pairwise import euclidean_distances\n",
    "from flask import Flask\n",
    "import secrets\n",
    "from flask import render_template, request, redirect, flash\n",
    "from IPython.display import HTML\n",
    "from sklearn.neighbors import NearestNeighbors\n",
    "from sklearn.neighbors import KNeighborsClassifier\n",
    "from sklearn.tree import DecisionTreeClassifier\n",
    "from sklearn.model_selection import train_test_split\n",
    "from sklearn.preprocessing import StandardScaler\n",
    "from sklearn.model_selection import GridSearchCV\n",
    "from sklearn.ensemble import RandomForestClassifier"
   ]
  },
  {
   "cell_type": "code",
   "execution_count": 2,
   "id": "794bf160-b729-46fb-97f0-f40aa95f3eb6",
   "metadata": {},
   "outputs": [],
   "source": [
    "df = pd.read_excel('Recommender_Dataset.xlsx')\n",
    "\n",
    "#df\n"
   ]
  },
  {
   "cell_type": "code",
   "execution_count": 3,
   "id": "32d8e570-f18a-4c3a-8c17-a6d2ac0249dd",
   "metadata": {},
   "outputs": [],
   "source": [
    "def finalList(df):\n",
    "    y = df.drop(columns = ['CAO opening rank','CAO closing rank','Budget','City','Interest','Job domain'])\n",
    "    X = df.drop(columns = ['University', 'Course Name','CAO closing rank','Interest','Job domain'])\n",
    "    cityle = LabelEncoder()\n",
    "    X['City']=cityle.fit_transform(X['City'])\n",
    "    intle =  LabelEncoder()\n",
    "    jdle = LabelEncoder()\n",
    "    #X['Interest']=intle.fit_transform(X['Interest'])\n",
    "    \n",
    "    #X['Job domain']=jdle.fit_transform(X['Job domain'])\n",
    "    ule = LabelEncoder()\n",
    "    cle = LabelEncoder()\n",
    "    y['University'] = ule.fit_transform(y['University'])\n",
    "    y['Course Name'] = cle.fit_transform(y['Course Name'])\n",
    "    X['Budget'] = X['Budget'].astype('int')\n",
    "    \n",
    "    return X,y,ule,cle,cityle,intle,jdle"
   ]
  },
  {
   "cell_type": "code",
   "execution_count": 4,
   "id": "e9181ff2-21ff-4c41-ad70-c52a5b1eeb87",
   "metadata": {},
   "outputs": [],
   "source": [
    "def similarCourses(query,X,y,ule,cle,sc,predict):\n",
    "    \n",
    "    k=20\n",
    "    course_ids = []\n",
    "    course_ids.append(predict)\n",
    "    university_ids =[]\n",
    "    \n",
    "    kNN = NearestNeighbors(n_neighbors=k, algorithm=\"ball_tree\")\n",
    "    kNN.fit(sc.transform(X.values))\n",
    "    M = len(y['Course Name'])\n",
    "    N = len(y['University'])\n",
    "    \n",
    "    \n",
    "    if query.shape[0]==2:\n",
    "        query = np.array(query[1])\n",
    "    elif query.shape[0]==1:\n",
    "        query = np.array(query[0])\n",
    "    query = query.reshape(1,-1)\n",
    "    \n",
    "    neighbour = kNN.kneighbors(query, return_distance=False)\n",
    "    \n",
    "    courseMapper = dict(zip(list(range(M)), y[\"Course Name\"]))\n",
    "    universityMapper = dict(zip(list(range(N)), y[\"University\"]))\n",
    "    \n",
    "    for i in range(0,k):\n",
    "        n = neighbour[0][i]\n",
    "        course_ids.append(courseMapper[n])\n",
    "        \n",
    "        \n",
    "    print(course_ids)\n",
    "    return course_ids\n"
   ]
  },
  {
   "cell_type": "code",
   "execution_count": 5,
   "id": "c95b93c8-4ced-4a79-8aba-56db7a1cabef",
   "metadata": {},
   "outputs": [],
   "source": [
    "X,y,ule,cle,cityle,intle,jdle = finalList(df)\n",
    "encoders = {'uni':ule,'cou':cle,'city':cityle,'ints':intle,'jobs':jdle}\n",
    "pickle.dump(encoders,open('encoders.pkl','wb'))"
   ]
  },
  {
   "cell_type": "code",
   "execution_count": 6,
   "id": "6021def2-cc6d-482e-b0e3-6be1541a5bdd",
   "metadata": {},
   "outputs": [],
   "source": [
    "app = Flask(__name__)\n",
    "@app.route(\"/\", methods=[\"GET\",\"POST\"])\n",
    "def index():\n",
    "    df = pd.read_excel('Recommender_Dataset.xlsx')\n",
    "    #df =  pickle.load(open('data.pkl','rb'))\n",
    "    secret_key=secrets.token_hex(16)\n",
    "    app.config[\"SECRET_KEY\"] = secret_key\n",
    "    \n",
    "    \n",
    "    X,y,ule,cle,cityle,intle,jdle = finalList(df)\n",
    "    \n",
    "    Y = y['Course Name'].values\n",
    "    sc = StandardScaler()\n",
    "    x = sc.fit_transform(X.values)\n",
    "    \n",
    "    \n",
    "    X_train,X_test,y_train,y_test = train_test_split(x,Y,test_size = 0.05,random_state = 42)\n",
    "    \n",
    "    \n",
    "   \n",
    "    #Start of code for SVM\n",
    "    \n",
    "  \n",
    "    # defining parameter range\n",
    "    model = SVC() \n",
    "    model.fit(X_train,y_train)\n",
    "    predicts = model.predict(X_test)\n",
    "    k=0\n",
    "    for i in range(0,len(y_test)):\n",
    "        \n",
    "        if predicts[i] == y_test[i]:\n",
    "            k+=1\n",
    "    accu_svm = k/len(predicts)\n",
    "    #End of Code for SVM\n",
    "    \n",
    "    \n",
    "    #Start of Code for KNN\n",
    "    model1 = RandomForestClassifier(n_estimators = 100)\n",
    "    model1.fit(X_train,y_train)\n",
    "    predicts = model1.predict(X_test)\n",
    "    \n",
    "    k=0\n",
    "    for i in range(0,len(y_test)):\n",
    "        \n",
    "        if predicts[i] == y_test[i]:\n",
    "            k+=1\n",
    "    accu_knn = k/len(predicts)\n",
    "    #End of code for KNN\n",
    "    \n",
    "    \n",
    "    #Start of Code for Decision Tree Classifier\n",
    "    model2 = DecisionTreeClassifier()\n",
    "    model2.fit(X_train,y_train)\n",
    "    predicts = model2.predict(X_test)\n",
    "\n",
    "    k=0\n",
    "    for i in range(0,len(y_test)):\n",
    "        \n",
    "        if predicts[i] == y_test[i]:\n",
    "            k+=1\n",
    "    accu_dtree = k/len(predicts)\n",
    "    #End of Code for Decision Tree Classifier\n",
    "    \n",
    "    \n",
    "    accuracies = {'svm': accu_svm, 'knn':accu_knn, 'dtree':accu_dtree}\n",
    "    max_accu = max(accuracies,key = accuracies.get)\n",
    "    print(accuracies)\n",
    "    if max_accu == 'svm':\n",
    "        model = model\n",
    "        model.fit(x,Y)\n",
    "    elif max_accu == 'knn':\n",
    "        model = model1\n",
    "        model.fit(x,Y)\n",
    "    elif max_accu == 'dtree':\n",
    "        model = model2\n",
    "        model.fit(x,Y)\n",
    "    \n",
    "    data1 = {'data': df, 'model': model, 'cityle': cityle,'intle':intle,'jdle':jdle,'X':X,'y':y}\n",
    "    pickle.dump(data1,open('data.pkl','wb'))\n",
    "    \n",
    "    data2 =  pickle.load(open('data.pkl','rb'))\n",
    "    \n",
    "    model = data2['model']\n",
    "    cityle = data2['cityle']\n",
    "    \n",
    "    \n",
    "    if(request.method == \"POST\"):\n",
    "        \n",
    "        req = request.form\n",
    "        \n",
    "        cao = req[\"cao\"]\n",
    "        city = req[\"city\"]\n",
    "        budget = req[\"budget\"]\n",
    "        jobs = req[\"jobs\"]\n",
    "        interests = req[\"interests\"]\n",
    "        \n",
    "        print([cao,city,budget,jobs,interests])\n",
    "        #,intle.transform([interests])[0],jdle.transform([jobs])[0]\n",
    "        query = np.array([cao,int(budget),cityle.transform([city])[0]],dtype = \"int\").reshape(1,-1)\n",
    "        \n",
    "        \n",
    "            \n",
    "        predict = model.predict(sc.transform(query))\n",
    "        \n",
    "        query1 = sc.transform(X.loc[y['Course Name'].isin(predict)])\n",
    "        \n",
    "        \n",
    "        result = similarCourses(query1,X,y,ule,cle,sc,predict[0])\n",
    "        \n",
    "        output = pd.DataFrame(columns = ['University','Course Name','City','Budget'])\n",
    "                \n",
    "        universities = y['University'].loc[y['Course Name'].isin(result)]\n",
    "        courses = y['Course Name'].loc[y['Course Name'].isin(result)]\n",
    "        budgets = X['Budget'].loc[y['Course Name'].isin(result)]\n",
    "        cities = X['City'].loc[y['Course Name'].isin(result)]\n",
    "        \n",
    "                       \n",
    "        output['University'] = ule.inverse_transform(np.ravel(universities))\n",
    "        \n",
    "        output['Course Name'] = cle.inverse_transform(np.ravel(courses))\n",
    "        \n",
    "        output['City'] = cityle.inverse_transform(np.ravel(cities))\n",
    "        \n",
    "        output['Budget'] = budgets.values\n",
    "        \n",
    "        \n",
    "        \n",
    "        html = output.to_html()\n",
    "        \n",
    "        \n",
    "        with open(\"templates/public/output.html\", \"w\", encoding=\"utf-8\") as file:\n",
    "            file.writelines('<meta charset=\"UTF-8\">\\n')\n",
    "            file.write(html)\n",
    "        \n",
    "        \n",
    "        return render_template(\"public/output.html\")\n",
    "\n",
    "    return render_template(\"public/index.html\")"
   ]
  },
  {
   "cell_type": "code",
   "execution_count": null,
   "id": "423fb77e-e0bd-498e-b84e-d544006d6a5f",
   "metadata": {},
   "outputs": [
    {
     "name": "stdout",
     "output_type": "stream",
     "text": [
      " * Serving Flask app '__main__'\n",
      " * Debug mode: off\n"
     ]
    },
    {
     "name": "stderr",
     "output_type": "stream",
     "text": [
      "WARNING: This is a development server. Do not use it in a production deployment. Use a production WSGI server instead.\n",
      " * Running on http://127.0.0.1:5000\n",
      "Press CTRL+C to quit\n"
     ]
    },
    {
     "name": "stdout",
     "output_type": "stream",
     "text": [
      "{'svm': 0.0, 'knn': 0.0, 'dtree': 0.0}\n"
     ]
    },
    {
     "name": "stderr",
     "output_type": "stream",
     "text": [
      "127.0.0.1 - - [14/Nov/2022 14:12:09] \"GET / HTTP/1.1\" 200 -\n"
     ]
    },
    {
     "name": "stdout",
     "output_type": "stream",
     "text": [
      "{'svm': 0.0, 'knn': 0.0, 'dtree': 0.0}\n"
     ]
    },
    {
     "name": "stderr",
     "output_type": "stream",
     "text": [
      "127.0.0.1 - - [14/Nov/2022 14:12:13] \"GET / HTTP/1.1\" 200 -\n"
     ]
    },
    {
     "name": "stdout",
     "output_type": "stream",
     "text": [
      "{'svm': 0.0, 'knn': 0.0, 'dtree': 0.0}\n"
     ]
    },
    {
     "name": "stderr",
     "output_type": "stream",
     "text": [
      "C:\\Users\\ROG\\AppData\\Local\\Programs\\Python\\Python39\\lib\\site-packages\\sklearn\\base.py:438: UserWarning: X has feature names, but StandardScaler was fitted without feature names\n",
      "  warnings.warn(\n",
      "127.0.0.1 - - [14/Nov/2022 14:12:20] \"POST / HTTP/1.1\" 200 -\n"
     ]
    },
    {
     "name": "stdout",
     "output_type": "stream",
     "text": [
      "['2', 'Athlone', '3000', 'Management', 'Cricket']\n",
      "[245, 245, 355, 217, 290, 158, 144, 389, 157, 76, 474, 469, 230, 217, 479, 75, 470, 408, 362, 143, 477]\n",
      "{'svm': 0.0, 'knn': 0.0, 'dtree': 0.0}\n"
     ]
    },
    {
     "name": "stderr",
     "output_type": "stream",
     "text": [
      "127.0.0.1 - - [14/Nov/2022 14:12:26] \"GET / HTTP/1.1\" 200 -\n"
     ]
    },
    {
     "name": "stdout",
     "output_type": "stream",
     "text": [
      "{'svm': 0.0, 'knn': 0.0, 'dtree': 0.0}\n"
     ]
    },
    {
     "name": "stderr",
     "output_type": "stream",
     "text": [
      "C:\\Users\\ROG\\AppData\\Local\\Programs\\Python\\Python39\\lib\\site-packages\\sklearn\\base.py:438: UserWarning: X has feature names, but StandardScaler was fitted without feature names\n",
      "  warnings.warn(\n",
      "127.0.0.1 - - [14/Nov/2022 14:12:33] \"POST / HTTP/1.1\" 200 -\n"
     ]
    },
    {
     "name": "stdout",
     "output_type": "stream",
     "text": [
      "['2', 'Dublin', '3000', 'Management', 'Cricket']\n",
      "[245, 245, 355, 217, 290, 158, 144, 389, 157, 76, 474, 469, 230, 217, 479, 75, 470, 408, 362, 143, 477]\n",
      "{'svm': 0.0, 'knn': 0.0, 'dtree': 0.0}\n"
     ]
    },
    {
     "name": "stderr",
     "output_type": "stream",
     "text": [
      "127.0.0.1 - - [14/Nov/2022 14:12:37] \"GET / HTTP/1.1\" 200 -\n"
     ]
    },
    {
     "name": "stdout",
     "output_type": "stream",
     "text": [
      "{'svm': 0.0, 'knn': 0.0, 'dtree': 0.0}\n"
     ]
    },
    {
     "name": "stderr",
     "output_type": "stream",
     "text": [
      "127.0.0.1 - - [14/Nov/2022 14:13:14] \"GET / HTTP/1.1\" 200 -\n"
     ]
    },
    {
     "name": "stdout",
     "output_type": "stream",
     "text": [
      "{'svm': 0.0, 'knn': 0.0, 'dtree': 0.0}\n"
     ]
    },
    {
     "name": "stderr",
     "output_type": "stream",
     "text": [
      "C:\\Users\\ROG\\AppData\\Local\\Programs\\Python\\Python39\\lib\\site-packages\\sklearn\\base.py:438: UserWarning: X has feature names, but StandardScaler was fitted without feature names\n",
      "  warnings.warn(\n",
      "127.0.0.1 - - [14/Nov/2022 14:13:26] \"POST / HTTP/1.1\" 200 -\n"
     ]
    },
    {
     "name": "stdout",
     "output_type": "stream",
     "text": [
      "['200', 'Dublin', '3000', 'Management', 'Cricket']\n",
      "[57, 35, 9, 57, 40, 71, 56, 81, 477, 21, 230, 159, 314, 39, 317, 282, 3, 76, 64, 470, 118]\n"
     ]
    }
   ],
   "source": [
    "if __name__ == '__main__':\n",
    "    \n",
    "    app.run(debug = False)"
   ]
  },
  {
   "cell_type": "code",
   "execution_count": null,
   "id": "0d3e527b",
   "metadata": {},
   "outputs": [],
   "source": []
  }
 ],
 "metadata": {
  "kernelspec": {
   "display_name": "Python 3 (ipykernel)",
   "language": "python",
   "name": "python3"
  },
  "language_info": {
   "codemirror_mode": {
    "name": "ipython",
    "version": 3
   },
   "file_extension": ".py",
   "mimetype": "text/x-python",
   "name": "python",
   "nbconvert_exporter": "python",
   "pygments_lexer": "ipython3",
   "version": "3.9.7"
  }
 },
 "nbformat": 4,
 "nbformat_minor": 5
}
