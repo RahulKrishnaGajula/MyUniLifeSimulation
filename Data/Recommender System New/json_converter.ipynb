{
 "cells": [
  {
   "cell_type": "code",
   "execution_count": 1,
   "metadata": {},
   "outputs": [],
   "source": [
    "import pandas as pd"
   ]
  },
  {
   "cell_type": "code",
   "execution_count": 2,
   "metadata": {},
   "outputs": [
    {
     "data": {
      "text/html": [
       "<div>\n",
       "<style scoped>\n",
       "    .dataframe tbody tr th:only-of-type {\n",
       "        vertical-align: middle;\n",
       "    }\n",
       "\n",
       "    .dataframe tbody tr th {\n",
       "        vertical-align: top;\n",
       "    }\n",
       "\n",
       "    .dataframe thead th {\n",
       "        text-align: right;\n",
       "    }\n",
       "</style>\n",
       "<table border=\"1\" class=\"dataframe\">\n",
       "  <thead>\n",
       "    <tr style=\"text-align: right;\">\n",
       "      <th></th>\n",
       "      <th>professor_name</th>\n",
       "      <th>designation</th>\n",
       "      <th>email</th>\n",
       "      <th>phone</th>\n",
       "      <th>professor_thumbnail_url</th>\n",
       "      <th>see_all_professors</th>\n",
       "      <th>college</th>\n",
       "    </tr>\n",
       "  </thead>\n",
       "  <tbody>\n",
       "    <tr>\n",
       "      <th>0</th>\n",
       "      <td>Deepak Ajwani</td>\n",
       "      <td>Lecturer/Assistant Professor</td>\n",
       "      <td>deepak.ajwani@ucd.ie</td>\n",
       "      <td>+353 1 716 2911</td>\n",
       "      <td>https://www.ucd.ie/cs/t4media/d-ajwani96x134.jpeg</td>\n",
       "      <td>NaN</td>\n",
       "      <td>University College Dublin</td>\n",
       "    </tr>\n",
       "    <tr>\n",
       "      <th>1</th>\n",
       "      <td>Dr Brett Becker</td>\n",
       "      <td>Lecturer/Assistant Professor</td>\n",
       "      <td>brett.becker@ucd.ie</td>\n",
       "      <td>+353 1 716 2933</td>\n",
       "      <td>https://www.ucd.ie/cs/t4media/becker-96x134.png</td>\n",
       "      <td>NaN</td>\n",
       "      <td>University College Dublin</td>\n",
       "    </tr>\n",
       "    <tr>\n",
       "      <th>2</th>\n",
       "      <td>Dr Rem Collier</td>\n",
       "      <td>Associate Professor</td>\n",
       "      <td>rem.collier@ucd.ie</td>\n",
       "      <td>+353 1 716 2465</td>\n",
       "      <td>https://www.ucd.ie/cs/t4media/Collier.jpeg</td>\n",
       "      <td>NaN</td>\n",
       "      <td>University College Dublin</td>\n",
       "    </tr>\n",
       "    <tr>\n",
       "      <th>3</th>\n",
       "      <td>Anant Aaloka</td>\n",
       "      <td>Associate Lecturer in Data Analytics</td>\n",
       "      <td>aaloka.anant@ncirl.ie</td>\n",
       "      <td>+353 1 716 2911</td>\n",
       "      <td>NaN</td>\n",
       "      <td>NaN</td>\n",
       "      <td>National College of Ireland</td>\n",
       "    </tr>\n",
       "    <tr>\n",
       "      <th>4</th>\n",
       "      <td>Dr Vanessa Ayala Rivera</td>\n",
       "      <td>Assistant Professor in Computing</td>\n",
       "      <td>Vanessa.Ayala-Rivera@ncirl.ie</td>\n",
       "      <td>+353 1 716 2933</td>\n",
       "      <td>NaN</td>\n",
       "      <td>NaN</td>\n",
       "      <td>National College of Ireland</td>\n",
       "    </tr>\n",
       "  </tbody>\n",
       "</table>\n",
       "</div>"
      ],
      "text/plain": [
       "            professor_name                           designation  \\\n",
       "0            Deepak Ajwani          Lecturer/Assistant Professor   \n",
       "1          Dr Brett Becker          Lecturer/Assistant Professor   \n",
       "2           Dr Rem Collier                   Associate Professor   \n",
       "3             Anant Aaloka  Associate Lecturer in Data Analytics   \n",
       "4  Dr Vanessa Ayala Rivera      Assistant Professor in Computing   \n",
       "\n",
       "                           email            phone  \\\n",
       "0           deepak.ajwani@ucd.ie  +353 1 716 2911   \n",
       "1            brett.becker@ucd.ie  +353 1 716 2933   \n",
       "2             rem.collier@ucd.ie  +353 1 716 2465   \n",
       "3          aaloka.anant@ncirl.ie  +353 1 716 2911   \n",
       "4  Vanessa.Ayala-Rivera@ncirl.ie  +353 1 716 2933   \n",
       "\n",
       "                             professor_thumbnail_url see_all_professors  \\\n",
       "0  https://www.ucd.ie/cs/t4media/d-ajwani96x134.jpeg                NaN   \n",
       "1    https://www.ucd.ie/cs/t4media/becker-96x134.png                NaN   \n",
       "2         https://www.ucd.ie/cs/t4media/Collier.jpeg                NaN   \n",
       "3                                                NaN                NaN   \n",
       "4                                                NaN                NaN   \n",
       "\n",
       "                       college  \n",
       "0    University College Dublin  \n",
       "1    University College Dublin  \n",
       "2    University College Dublin  \n",
       "3  National College of Ireland  \n",
       "4  National College of Ireland  "
      ]
     },
     "execution_count": 2,
     "metadata": {},
     "output_type": "execute_result"
    }
   ],
   "source": [
    "df = pd.read_csv(\"professors.csv\")\n",
    "df.head()"
   ]
  },
  {
   "cell_type": "code",
   "execution_count": 4,
   "metadata": {},
   "outputs": [],
   "source": [
    "prof_json = df.to_json(\"professors.json\")"
   ]
  }
 ],
 "metadata": {
  "kernelspec": {
   "display_name": "Python 3.9.12 64-bit",
   "language": "python",
   "name": "python3"
  },
  "language_info": {
   "codemirror_mode": {
    "name": "ipython",
    "version": 3
   },
   "file_extension": ".py",
   "mimetype": "text/x-python",
   "name": "python",
   "nbconvert_exporter": "python",
   "pygments_lexer": "ipython3",
   "version": "3.9.12"
  },
  "orig_nbformat": 4,
  "vscode": {
   "interpreter": {
    "hash": "74896034db1845be5000ed9314487ee297f444d1b9bf6f172497bb9704b8efa0"
   }
  }
 },
 "nbformat": 4,
 "nbformat_minor": 2
}
