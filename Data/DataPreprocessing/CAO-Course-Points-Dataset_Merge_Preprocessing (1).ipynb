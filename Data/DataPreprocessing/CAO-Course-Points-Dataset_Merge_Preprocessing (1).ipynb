{
 "cells": [
  {
   "cell_type": "code",
   "execution_count": 1,
   "id": "3456b5d0",
   "metadata": {},
   "outputs": [
    {
     "name": "stdout",
     "output_type": "stream",
     "text": [
      "['C:\\\\Users\\\\rgons\\\\OneDrive\\\\Desktop\\\\Msc Project- My Uni Life\\\\CAO-Course-Points-Dataset-master\\\\Lvl8\\\\lvl8_1.csv', 'C:\\\\Users\\\\rgons\\\\OneDrive\\\\Desktop\\\\Msc Project- My Uni Life\\\\CAO-Course-Points-Dataset-master\\\\Lvl8\\\\lvl8_10.csv', 'C:\\\\Users\\\\rgons\\\\OneDrive\\\\Desktop\\\\Msc Project- My Uni Life\\\\CAO-Course-Points-Dataset-master\\\\Lvl8\\\\lvl8_11.csv', 'C:\\\\Users\\\\rgons\\\\OneDrive\\\\Desktop\\\\Msc Project- My Uni Life\\\\CAO-Course-Points-Dataset-master\\\\Lvl8\\\\lvl8_12.csv', 'C:\\\\Users\\\\rgons\\\\OneDrive\\\\Desktop\\\\Msc Project- My Uni Life\\\\CAO-Course-Points-Dataset-master\\\\Lvl8\\\\lvl8_13.csv', 'C:\\\\Users\\\\rgons\\\\OneDrive\\\\Desktop\\\\Msc Project- My Uni Life\\\\CAO-Course-Points-Dataset-master\\\\Lvl8\\\\lvl8_14.csv', 'C:\\\\Users\\\\rgons\\\\OneDrive\\\\Desktop\\\\Msc Project- My Uni Life\\\\CAO-Course-Points-Dataset-master\\\\Lvl8\\\\lvl8_15.csv', 'C:\\\\Users\\\\rgons\\\\OneDrive\\\\Desktop\\\\Msc Project- My Uni Life\\\\CAO-Course-Points-Dataset-master\\\\Lvl8\\\\lvl8_2.csv', 'C:\\\\Users\\\\rgons\\\\OneDrive\\\\Desktop\\\\Msc Project- My Uni Life\\\\CAO-Course-Points-Dataset-master\\\\Lvl8\\\\lvl8_3.csv', 'C:\\\\Users\\\\rgons\\\\OneDrive\\\\Desktop\\\\Msc Project- My Uni Life\\\\CAO-Course-Points-Dataset-master\\\\Lvl8\\\\lvl8_4.csv', 'C:\\\\Users\\\\rgons\\\\OneDrive\\\\Desktop\\\\Msc Project- My Uni Life\\\\CAO-Course-Points-Dataset-master\\\\Lvl8\\\\lvl8_5.csv', 'C:\\\\Users\\\\rgons\\\\OneDrive\\\\Desktop\\\\Msc Project- My Uni Life\\\\CAO-Course-Points-Dataset-master\\\\Lvl8\\\\lvl8_6.csv', 'C:\\\\Users\\\\rgons\\\\OneDrive\\\\Desktop\\\\Msc Project- My Uni Life\\\\CAO-Course-Points-Dataset-master\\\\Lvl8\\\\lvl8_7.csv', 'C:\\\\Users\\\\rgons\\\\OneDrive\\\\Desktop\\\\Msc Project- My Uni Life\\\\CAO-Course-Points-Dataset-master\\\\Lvl8\\\\lvl8_8.csv', 'C:\\\\Users\\\\rgons\\\\OneDrive\\\\Desktop\\\\Msc Project- My Uni Life\\\\CAO-Course-Points-Dataset-master\\\\Lvl8\\\\lvl8_9.csv']\n"
     ]
    }
   ],
   "source": [
    "\n",
    "# importing libraries\n",
    "import pandas as pd\n",
    "import glob\n",
    "import os\n",
    "  \n",
    "# merging the files\n",
    "joined_files = os.path.join(\"C:\\\\Users\\\\rgons\\\\OneDrive\\\\Desktop\\\\Msc Project- My Uni Life\\\\CAO-Course-Points-Dataset-master\\\\Lvl8\", \"lvl8*.csv\")\n",
    "  \n",
    "# A list of all joined files is returned\n",
    "joined_list = glob.glob(joined_files)\n",
    "\n",
    "print(joined_list)\n",
    "  \n"
   ]
  },
  {
   "cell_type": "code",
   "execution_count": 2,
   "id": "c0004120",
   "metadata": {},
   "outputs": [
    {
     "name": "stdout",
     "output_type": "stream",
     "text": [
      "      CourseID                                        Course_name Score1  \\\n",
      "0        AL031                 Computer and Software Engineering     N/A   \n",
      "1        AL032                                Polymer Technology     NaN   \n",
      "2        AL033                                        Toxicology     NaN   \n",
      "3        PC410                                        Humanities     NaN   \n",
      "4        CW046                               Computer Networking     NaN   \n",
      "...        ...                                                ...    ...   \n",
      "10708    WD168                             Entertainments Systems    280   \n",
      "10709    WD200                                               Arts    300   \n",
      "10710    WD816                  Mature Applicants General Nursing  #175*   \n",
      "10711    WD817              Mature Applicants Psychiatric Nursing  #158*   \n",
      "10712    WD820  Mature Applicants Intellectual Disability Nursing   #160   \n",
      "\n",
      "      Score2  \n",
      "0      270.0  \n",
      "1      240.0  \n",
      "2      245.0  \n",
      "3      300.0  \n",
      "4      270.0  \n",
      "...      ...  \n",
      "10708    375  \n",
      "10709    330  \n",
      "10710   #178  \n",
      "10711   #167  \n",
      "10712   #164  \n",
      "\n",
      "[10713 rows x 4 columns]\n"
     ]
    }
   ],
   "source": [
    "# Finally, the files are joined\n",
    "df = pd.concat(map(pd.read_csv, joined_list), ignore_index=True)\n",
    "print(df)"
   ]
  },
  {
   "cell_type": "code",
   "execution_count": 3,
   "id": "30bc6f5f",
   "metadata": {},
   "outputs": [],
   "source": [
    "from pathlib import Path  \n",
    "filepath = Path(\"C:\\\\Users\\\\rgons\\\\OneDrive\\\\Desktop\\\\Msc Project- My Uni Life\\\\CAO-Course-Points-Dataset-master\\\\Lvl8\", \"Level8.csv\")  \n",
    "filepath.parent.mkdir(parents=True, exist_ok=True)  \n",
    "df.to_csv(filepath)"
   ]
  },
  {
   "cell_type": "code",
   "execution_count": null,
   "id": "7366d7e2",
   "metadata": {},
   "outputs": [],
   "source": []
  }
 ],
 "metadata": {
  "kernelspec": {
   "display_name": "Python 3",
   "language": "python",
   "name": "python3"
  },
  "language_info": {
   "codemirror_mode": {
    "name": "ipython",
    "version": 3
   },
   "file_extension": ".py",
   "mimetype": "text/x-python",
   "name": "python",
   "nbconvert_exporter": "python",
   "pygments_lexer": "ipython3",
   "version": "3.8.8"
  }
 },
 "nbformat": 4,
 "nbformat_minor": 5
}
