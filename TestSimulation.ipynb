{
 "cells": [
  {
   "cell_type": "code",
   "execution_count": 17,
   "id": "00ed0687",
   "metadata": {},
   "outputs": [],
   "source": [
    "import simpy\n",
    "import numpy as np\n",
    "import random"
   ]
  },
  {
   "cell_type": "code",
   "execution_count": 18,
   "id": "68641a84",
   "metadata": {},
   "outputs": [],
   "source": [
    "def car(env):\n",
    "     while True:\n",
    "         print('Start parking at %d' % env.now)\n",
    "         parking_duration = 5\n",
    "         yield env.timeout(parking_duration)\n",
    "\n",
    "         print('Start driving at %d' % env.now)\n",
    "         trip_duration = 2\n",
    "         yield env.timeout(trip_duration)"
   ]
  },
  {
   "cell_type": "code",
   "execution_count": 19,
   "id": "b3a4d65a",
   "metadata": {},
   "outputs": [
    {
     "name": "stdout",
     "output_type": "stream",
     "text": [
      "Start parking at 0\n",
      "Start driving at 5\n",
      "Start parking at 7\n",
      "Start driving at 12\n",
      "Start parking at 14\n"
     ]
    }
   ],
   "source": [
    "env = simpy.Environment()\n",
    "env.process(car(env))\n",
    "env.run(until = 15)\n"
   ]
  },
  {
   "cell_type": "code",
   "execution_count": 20,
   "id": "aa4c05f6",
   "metadata": {},
   "outputs": [],
   "source": [
    "class Car(object):\n",
    "     def __init__(self, env):\n",
    "         self.env = env\n",
    "         # Start the run process everytime an instance is created.\n",
    "         self.action = env.process(self.run())\n",
    "\n",
    "     def run(self):\n",
    "         while True:\n",
    "             print('Start parking and charging at %d' % self.env.now)\n",
    "             charge_duration = 5\n",
    "             # We yield the process that process() returns\n",
    "             # to wait for it to finish\n",
    "             yield self.env.process(self.charge(charge_duration))\n",
    "\n",
    "             # The charge process has finished and\n",
    "             # we can start driving again.\n",
    "             print('Start driving at %d' % self.env.now)\n",
    "             trip_duration = 2\n",
    "             yield self.env.timeout(trip_duration)\n",
    "\n",
    "     def charge(self, duration):\n",
    "        yield self.env.timeout(duration)"
   ]
  },
  {
   "cell_type": "code",
   "execution_count": 21,
   "id": "0ce4e261",
   "metadata": {},
   "outputs": [
    {
     "name": "stdout",
     "output_type": "stream",
     "text": [
      "Start parking and charging at 0\n",
      "Start driving at 5\n",
      "Start parking and charging at 7\n",
      "Start driving at 12\n",
      "Start parking and charging at 14\n"
     ]
    }
   ],
   "source": [
    "env = simpy.Environment()\n",
    "car = Car(env)\n",
    "env.run(until = 15)"
   ]
  },
  {
   "cell_type": "code",
   "execution_count": 22,
   "id": "b1672aff",
   "metadata": {},
   "outputs": [],
   "source": [
    "def driver(env, car):\n",
    "     yield env.timeout(3)\n",
    "     car.action.interrupt()"
   ]
  },
  {
   "cell_type": "code",
   "execution_count": 23,
   "id": "edb115cc",
   "metadata": {},
   "outputs": [],
   "source": [
    "class Car(object):\n",
    "     def __init__(self, env):\n",
    "         self.env = env\n",
    "         self.action = env.process(self.run())\n",
    "\n",
    "     def run(self):\n",
    "         while True:\n",
    "             print('Start parking and charging at %d' % self.env.now)\n",
    "             charge_duration = 5\n",
    "             # We may get interrupted while charging the battery\n",
    "             try:\n",
    "                 yield self.env.process(self.charge(charge_duration))\n",
    "             except simpy.Interrupt:\n",
    "                 # When we received an interrupt, we stop charging and\n",
    "                 # switch to the \"driving\" state\n",
    "                 print('Was interrupted. Hope, the battery is full enough ...')\n",
    "\n",
    "             print('Start driving at %d' % self.env.now)\n",
    "             trip_duration = 2\n",
    "             yield self.env.timeout(trip_duration)\n",
    "     def charge(self, duration):\n",
    "         yield self.env.timeout(duration)"
   ]
  },
  {
   "cell_type": "code",
   "execution_count": 24,
   "id": "ffbc499b",
   "metadata": {},
   "outputs": [
    {
     "name": "stdout",
     "output_type": "stream",
     "text": [
      "Start parking and charging at 0\n",
      "Was interrupted. Hope, the battery is full enough ...\n",
      "Start driving at 3\n",
      "Start parking and charging at 5\n",
      "Start driving at 10\n",
      "Start parking and charging at 12\n"
     ]
    }
   ],
   "source": [
    "env = simpy.Environment()\n",
    "car = Car(env)\n",
    "env.process(driver(env, car))\n",
    "env.run(until=15)\n"
   ]
  },
  {
   "cell_type": "code",
   "execution_count": 25,
   "id": "9587d977",
   "metadata": {},
   "outputs": [],
   "source": [
    "def car(env, name, bcs, driving_time, charge_duration):\n",
    "     # Simulate driving to the BCS\n",
    "     yield env.timeout(driving_time)\n",
    "\n",
    "     # Request one of its charging spots\n",
    "     print('%s arriving at %d' % (name, env.now))\n",
    "     with bcs.request() as req:\n",
    "         yield req\n",
    "\n",
    "         # Charge the battery\n",
    "         print('%s starting to charge at %s' % (name, env.now))\n",
    "         yield env.timeout(charge_duration)\n",
    "         print('%s leaving the bcs at %s' % (name, env.now))"
   ]
  },
  {
   "cell_type": "code",
   "execution_count": 26,
   "id": "7f374370",
   "metadata": {},
   "outputs": [],
   "source": [
    "env = simpy.Environment()\n",
    "bcs = simpy.Resource(env, capacity=2)"
   ]
  },
  {
   "cell_type": "code",
   "execution_count": 27,
   "id": "0aec5f24",
   "metadata": {},
   "outputs": [],
   "source": [
    "for i in range(4):\n",
    "     env.process(car(env, 'Car %d' % i, bcs, i*2, 5))"
   ]
  },
  {
   "cell_type": "code",
   "execution_count": 28,
   "id": "f2e62ec8",
   "metadata": {},
   "outputs": [
    {
     "name": "stdout",
     "output_type": "stream",
     "text": [
      "Car 0 arriving at 0\n",
      "Car 0 starting to charge at 0\n",
      "Car 1 arriving at 2\n",
      "Car 1 starting to charge at 2\n",
      "Car 2 arriving at 4\n",
      "Car 0 leaving the bcs at 5\n",
      "Car 2 starting to charge at 5\n",
      "Car 3 arriving at 6\n",
      "Car 1 leaving the bcs at 7\n",
      "Car 3 starting to charge at 7\n",
      "Car 2 leaving the bcs at 10\n",
      "Car 3 leaving the bcs at 12\n"
     ]
    }
   ],
   "source": [
    "env.run()"
   ]
  }
 ],
 "metadata": {
  "kernelspec": {
   "display_name": "Python 3.10.0 64-bit",
   "language": "python",
   "name": "python3"
  },
  "language_info": {
   "codemirror_mode": {
    "name": "ipython",
    "version": 3
   },
   "file_extension": ".py",
   "mimetype": "text/x-python",
   "name": "python",
   "nbconvert_exporter": "python",
   "pygments_lexer": "ipython3",
   "version": "3.10.0"
  },
  "vscode": {
   "interpreter": {
    "hash": "6eb1ca0e59ab85dc9eb8be3744d92e9e4e7eb514696998a8a0ffac57ba5d31d3"
   }
  }
 },
 "nbformat": 4,
 "nbformat_minor": 5
}
